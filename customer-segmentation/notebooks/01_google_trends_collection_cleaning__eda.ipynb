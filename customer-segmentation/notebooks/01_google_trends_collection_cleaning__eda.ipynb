{
  "cells": [
    {
      "cell_type": "markdown",
      "metadata": {
        "id": "view-in-github",
        "colab_type": "text"
      },
      "source": [
        "<a href=\"https://colab.research.google.com/github/alexhosp/startup-viability-analysis/blob/main/customer-segmentation/notebooks/01_google_trends_collection_cleaning__eda.ipynb\" target=\"_parent\"><img src=\"https://colab.research.google.com/assets/colab-badge.svg\" alt=\"Open In Colab\"/></a>"
      ]
    },
    {
      "cell_type": "markdown",
      "metadata": {
        "id": "UtjStLqxuEAP"
      },
      "source": [
        "# Google Trends: Data Collection & Cleanining & EDA\n",
        "## Introduction\n",
        "This notebook focuses on collecting data to identify and segment potential customers for a proposed AI-driven gardening robot startup. We will use the Pytrends API to gather data from Google Trends. Data will be cleaned and then stored in Google Cloud Storage (GCS).\n",
        "## Steps\n",
        "1. [Setup and GCS Configuration](#setup-gcs-configuration)\n",
        "2. [Definition of Initial Keywords](#initial-keywords-definition)\n",
        "3. [Data Collection](#data-collection)\n",
        "    1. [API Authentication and Configuration](#api-authentication-configuration)\n",
        "    2. [Defining Data Collection Functions](#defining-data-collection-functions)\n",
        "    3. [Collect Relevant Data](#collect-relevant-data)\n",
        "        1. [Collect Interest Over Time in Proposed Features](#collect-interest-features)\n",
        "        2. [Collect Interest Over Time in Problems Addressed (Relevance)](#collect-interest-problems)\n",
        "        3. [Collect Interest Over Time in Needs Adressed (Relevance)](#collect-interest-needs)\n",
        "4. [Data Cleaning and Transformation](#clean-and-transform-data)\n",
        "      1. [Clean and Transform Interest Over Time in Features Data](#clean-transform-features)\n",
        "      2. [Clean and Transform Relevance of Problems Data](#clean-transform-problems)\n",
        "      3. [Clean and Transform Relevance of Needs Data](#clean-transform-needs)\n",
        "    5. [Explore the Data](#explore-the-data)\n",
        "        1. [Explore Interest Over Time in Proposed Features](#explore-features)\n",
        "            1. [Identify Features with Highest Interest](#highest-interest-features)\n",
        "            2. [Determine Weekly Average Interest per Keyword](#weekly-average-features)\n",
        "            3. [Visualize Change in Interest Over Time](#change-in-interest-features)\n",
        "            4. [Visualize Most Relevant Features](#relevant-features)\n",
        "        2. [Explore Relevance of Problems](#explore-problems)\n",
        "            1. [Identify Problems with Highest Relevance](#highest-interest-problems)\n",
        "        3. [Explore Relevance of Needs](#explore-needs)\n",
        "6. [Data Storage](#evaluate-and-select-relevant-data)\n",
        "    1. [Store Data in GCS](#store-data-in-gcs)\n"
      ]
    },
    {
      "cell_type": "markdown",
      "metadata": {
        "id": "HVCo6X0txFoR"
      },
      "source": [
        "<a name=\"setup-gcs-configuration\"></a>\n",
        "## Setup and GCS Configuration\n",
        "* Install necessary libraries\n",
        "* Authenticate and access GCS\n",
        "* Set up a GCS bucket for storage"
      ]
    },
    {
      "cell_type": "code",
      "execution_count": null,
      "metadata": {
        "collapsed": true,
        "id": "UYICLjpbyj2v"
      },
      "outputs": [],
      "source": [
        "# Install necessary libraries\n",
        "!pip install google-cloud-storage"
      ]
    },
    {
      "cell_type": "code",
      "execution_count": null,
      "metadata": {
        "id": "J3p9kEi8cqKy"
      },
      "outputs": [],
      "source": [
        "# Import necessary libraries\n",
        "from google.cloud import storage\n",
        "import pandas as pd\n",
        "from google.colab import auth"
      ]
    },
    {
      "cell_type": "code",
      "execution_count": null,
      "metadata": {
        "id": "s4-GJDYe9tEQ"
      },
      "outputs": [],
      "source": [
        "# Authenticate with GCP\n",
        "auth.authenticate_user()"
      ]
    },
    {
      "cell_type": "code",
      "source": [
        "# Set up GCS client\n",
        "project_id = 'idyllic-gear-422709-g4'\n",
        "storage_client = storage.Client(project=project_id)"
      ],
      "metadata": {
        "id": "umZj_MxmFhT1"
      },
      "execution_count": null,
      "outputs": []
    },
    {
      "cell_type": "code",
      "execution_count": null,
      "metadata": {
        "id": "QO5m8Cg8CNhH",
        "collapsed": true
      },
      "outputs": [],
      "source": [
        "# Create a new bucket to store all data in\n",
        "\n",
        "# Define the bucket name\n",
        "bucket_name = 'startup-viability-analysis'\n",
        "\n",
        "# Check if the bucket already exists\n",
        "bucket = storage_client.bucket(bucket_name)\n",
        "\n",
        "# Create the bucket if it does not exist\n",
        "\n",
        "bucket = storage_client.bucket(bucket_name)\n",
        "if not bucket.exists():\n",
        "  bucket.storage_class = 'STANDARD'\n",
        "  bucket = storage_client.create_bucket(bucket, location='us-east1')\n",
        "  print(\n",
        "        \"Created bucket {} in {} with storage class {}\".format(\n",
        "            bucket.name, bucket.location, bucket.storage_class\n",
        "        )\n",
        "    )\n",
        "else:\n",
        "  print(f\"Bucket {bucket_name} already exists\")\n",
        "\n",
        "\n"
      ]
    },
    {
      "cell_type": "code",
      "execution_count": null,
      "metadata": {
        "id": "F1OF7B-xR6EL"
      },
      "outputs": [],
      "source": [
        "# Mount Google Drive\n",
        "from google.colab import drive\n",
        "drive.mount('/content/drive')"
      ]
    },
    {
      "cell_type": "markdown",
      "metadata": {
        "id": "kcF3-9DIErMS"
      },
      "source": [
        "<a name=\"initial-keywords-definition\"></a>\n",
        "# Definition of Initial Keywords\n",
        "The initial keywords are selected to gather data on interest in the prototype's features and the relevance of the problems and needs it aims addresses."
      ]
    },
    {
      "cell_type": "markdown",
      "metadata": {
        "id": "ZBuaO-5lf8yV"
      },
      "source": [
        "## Read in the keyword lists from GitHub"
      ]
    },
    {
      "cell_type": "code",
      "execution_count": null,
      "metadata": {
        "collapsed": true,
        "id": "-UiuF5asB-qE"
      },
      "outputs": [],
      "source": [
        "# Install necessary libraries\n",
        "!pip install requests"
      ]
    },
    {
      "cell_type": "code",
      "execution_count": null,
      "metadata": {
        "id": "w_ZWR4LmYyzU"
      },
      "outputs": [],
      "source": [
        "# Import necessary libraries\n",
        "import requests"
      ]
    },
    {
      "cell_type": "code",
      "execution_count": null,
      "metadata": {
        "collapsed": true,
        "id": "0fsK-iiWfdLt"
      },
      "outputs": [],
      "source": [
        "# Define file paths\n",
        "base_url = 'https://raw.githubusercontent.com/alexhosp/startup-viability-analysis/main/customer-segmentation/data/raw/'\n",
        "files = ['features.txt', 'problems.txt', 'needs.txt']\n",
        "\n",
        "# Retrieve text files and convert them to Python lists\n",
        "features = requests.get(base_url + files[0]).text.splitlines()\n",
        "problems = requests.get(base_url + files[1]).text.splitlines()\n",
        "needs = requests.get(base_url + files[2]).text.splitlines()\n",
        "print(\"Number of features:\", len(features))\n",
        "print(\"Number of problems:\", len(problems))\n",
        "print(\"Number of needs:\", len(needs))"
      ]
    },
    {
      "cell_type": "markdown",
      "source": [
        "### ⚠️ Google Trends Data Collection Issues ⚠️\n",
        "\n",
        "\n",
        "Due to recent changes on the Google Trend page, the data collection of `trends_over_time `, using the `Pytrends` library is currently facing issues. The specific problem is a 429 error, causing all requests to fail.\n",
        "\n",
        "I have attempted various solutions such as:\n",
        "- Adding randomized sleep times between requests\n",
        "- Mimicking browser headers\n",
        "- Updating the Pytrends library\n",
        "\n",
        "Despite these efforts, the issue persists. Therefore, I'm using data collected on July 1st 2024 (when this code still worked) for the purposes of this demonstration. I'm monitoring the situation and will update the code once a solution is found.\n",
        "\n",
        "For more details and to track progress on this issue, please visit the [GitHub Issue](https://github.com/GeneralMills/pytrends/issues/625).\n",
        "\n",
        "---\n",
        "\n",
        "** ⚠️ Important**: If you are viewing this notebook and would like to attempt to run the code, please be aware that it may not function as intended due to these external limitations."
      ],
      "metadata": {
        "id": "NAdUpVHWQPaq"
      }
    },
    {
      "cell_type": "markdown",
      "metadata": {
        "id": "DGLQyQP6Q69k"
      },
      "source": [
        "<a name='data-collection'></a>\n",
        "# Data Collection\n",
        "Collect data from Google Trends using the defined keywords."
      ]
    },
    {
      "cell_type": "markdown",
      "metadata": {
        "id": "D3UJ-p6yEuzp"
      },
      "source": [
        "<a name='api-authentication-configuration'></a>\n",
        "# Pytrends API Authentication & Configuration"
      ]
    },
    {
      "cell_type": "code",
      "execution_count": null,
      "metadata": {
        "collapsed": true,
        "id": "WhfR-AZSgdhf"
      },
      "outputs": [],
      "source": [
        "# Install necessary libraries\n",
        "!pip install pytrends\n",
        "!pip install urllib3==1.25.11"
      ]
    },
    {
      "cell_type": "code",
      "source": [
        "# Import pytrends\n",
        "from pytrends.request import TrendReq"
      ],
      "metadata": {
        "id": "y0cnBvZGuMIl"
      },
      "execution_count": null,
      "outputs": []
    },
    {
      "cell_type": "code",
      "source": [
        "# Define custom headers to mimic a real browser\n",
        "headers = {\n",
        "    'User-Agent': 'Mozilla/5.0 (Windows NT 10.0; Win64; x64) AppleWebKit/537.36 (KHTML, like Gecko) Chrome/91.0.4472.124 Safari/537.36',\n",
        "    'Accept': 'text/html,application/xhtml+xml,application/xml;q=0.9,image/webp,*/*;q=0.8',\n",
        "    'Accept-Language': 'en-US,en;q=0.5',\n",
        "    'Connection': 'keep-alive',\n",
        "    'Referer': 'https://www.google.com'\n",
        "}\n"
      ],
      "metadata": {
        "id": "KJjd66JuJX_D"
      },
      "execution_count": null,
      "outputs": []
    },
    {
      "cell_type": "code",
      "execution_count": null,
      "metadata": {
        "id": "NDT9ytAZjfTK"
      },
      "outputs": [],
      "source": [
        "# Initialize Pytrends\n",
        "pytrends = TrendReq(hl='en-US', tz=360, retries=3, requests_args={'headers': headers})\n"
      ]
    },
    {
      "cell_type": "code",
      "execution_count": null,
      "metadata": {
        "id": "B4haPykulg1H"
      },
      "outputs": [],
      "source": [
        "# Import datetime\n",
        "from datetime import datetime, timedelta"
      ]
    },
    {
      "cell_type": "code",
      "execution_count": null,
      "metadata": {
        "collapsed": true,
        "id": "pW0NWdxny7h-"
      },
      "outputs": [],
      "source": [
        "# Define timeframe for the analysis as 3 years\n",
        "end_date = datetime.now()\n",
        "start_date = end_date - timedelta(days=3*365)\n",
        "end_date\n",
        "start_date_str = start_date.strftime('%Y-%m-%d')\n",
        "end_date_str = end_date.strftime('%Y-%m-%d')\n",
        "timeframe = f'{start_date_str} {end_date_str}'\n",
        "timeframe"
      ]
    },
    {
      "cell_type": "markdown",
      "metadata": {
        "id": "fwh69s7_RiLM"
      },
      "source": [
        "<a name='defining-data-collection-functions'></a>\n",
        "# Defining Data Collection Functions\n",
        "* Define functions to collect data from Google Trends\n",
        "* Fetch interest over time in features, problems and needs\n"
      ]
    },
    {
      "cell_type": "markdown",
      "metadata": {
        "id": "zkYtk1GJLqnd"
      },
      "source": [
        "## Collect interest over time\n",
        "* Find out about interest in proposed features\n",
        "* Find out about interest in problems (relevance)\n",
        "* Find out about interest in needs (relevance)"
      ]
    },
    {
      "cell_type": "code",
      "execution_count": null,
      "metadata": {
        "id": "Qyeud5NeWeSg"
      },
      "outputs": [],
      "source": [
        "# Define the batch size\n",
        "batch_size = 5\n",
        "\n",
        "\n",
        "# Define a function to split lists into batches\n",
        "def split_into_batches(lst, batch_size):\n",
        "   return [lst[i:i+batch_size] for i in range(0, len(lst), batch_size)]\n"
      ]
    },
    {
      "cell_type": "code",
      "execution_count": null,
      "metadata": {
        "id": "UC-mP_WuZq5x"
      },
      "outputs": [],
      "source": [
        "# Split features list into 5 keyword batches\n",
        "features_chunks = split_into_batches(features, batch_size)\n",
        "print(\"Number of chunks:\", len(features_chunks))"
      ]
    },
    {
      "cell_type": "code",
      "execution_count": null,
      "metadata": {
        "id": "vruc9Sk3Z14A"
      },
      "outputs": [],
      "source": [
        "# Split problems list into 5 keyword batches\n",
        "problems_chunks = split_into_batches(problems, batch_size)\n",
        "print(\"Number of chunks:\", len(problems_chunks))"
      ]
    },
    {
      "cell_type": "code",
      "execution_count": null,
      "metadata": {
        "id": "-hbPD6ZVaG_6"
      },
      "outputs": [],
      "source": [
        "# Split needs list into 5 keyword batches\n",
        "needs_chunks = split_into_batches(needs, batch_size)\n",
        "print(\"Number of chunks:\", len(needs_chunks))"
      ]
    },
    {
      "cell_type": "code",
      "execution_count": null,
      "metadata": {
        "id": "z_-sAm3r8_AW"
      },
      "outputs": [],
      "source": [
        "import traceback\n",
        "# Define a function to fetch interest over time for a list of keyword chunks\n",
        "def fetch_interest_over_time(pytrends, chunks, timeframe='today 5-y'):\n",
        "    \"\"\"\n",
        "    Fetch interest over time data from Google Trends for given chunks of keywords.\n",
        "\n",
        "    Args:\n",
        "    pytrends (TrendReq): An authenticated Google Trends API client.\n",
        "    features_chunks (list of list of str): A list where each element is a list of keywords.\n",
        "    timeframe (str): The timeframe for the Google Trends data (default: 'today 5-y').\n",
        "\n",
        "    Returns:\n",
        "    list of pd.DataFrame: A list of DataFrames with the interest over time data for each chunk of keywords.\n",
        "    \"\"\"\n",
        "    dataframes = []\n",
        "\n",
        "    for i, chunk in enumerate(chunks):\n",
        "        print(f\"Processing chunk {i+1}/{len(chunks)}: {chunk}\")\n",
        "        try:\n",
        "          pytrends.build_payload(kw_list=chunk, timeframe=timeframe)\n",
        "          df = pytrends.interest_over_time()\n",
        "          df = df.iloc[:-1]  # Remove the last row (most recent, partial week)\n",
        "          if 'isPartial' in df.columns:\n",
        "            df = df.drop(columns=['isPartial'])\n",
        "          # Check dataframe shape\n",
        "          print(f\"DataFrame shape: {df.shape}\")\n",
        "          dataframes.append(df)\n",
        "          print(f\"Processed chunk {i+1}/{len(chunks)}\")\n",
        "        except Exception as e:\n",
        "          print(f\"Error processing chunk {i+1}/{len(chunks)}: {e}\")\n",
        "          # traceback.print_exc()\n",
        "          continue\n",
        "    # Check the lenght of the list of dataframes\n",
        "    print(f\"Number of dataframes: {len(dataframes)}\")\n",
        "    # Combine dataframes into one if the list is not empty\n",
        "    if dataframes:\n",
        "      dataframe = pd.concat(dataframes, axis=1)\n",
        "      print(f\"Combined dataframe shape: {dataframe.shape}\")\n",
        "      return dataframe\n",
        "      # Return an empty dataframe in the case of an error\n",
        "    else:\n",
        "      print(\"No dataframes to combine, returning an empty dataframe.\")\n",
        "      return pd.DataFrame()  # Return an empty DataFrame if no DataFrames were created\n"
      ]
    },
    {
      "cell_type": "markdown",
      "metadata": {
        "id": "iiTYmvbDAg9s"
      },
      "source": [
        "<a name='collect-relevant-data'></a>\n",
        "# Collect relevant data\n",
        "* Use data collection functions to collect data from Google Trends"
      ]
    },
    {
      "cell_type": "markdown",
      "metadata": {
        "id": "OUadEsb_BAYJ"
      },
      "source": [
        "<a name='collect-interest-features'></a>\n",
        "## Collect Interest Over Time in Proposed Features"
      ]
    },
    {
      "cell_type": "code",
      "execution_count": null,
      "metadata": {
        "collapsed": true,
        "id": "dq2Ofz3Kbi_P"
      },
      "outputs": [],
      "source": [
        "# Get a dataframe with interest over time in all features\n",
        "features_interest_over_time_df = fetch_interest_over_time(pytrends=pytrends, chunks=features_chunks, timeframe=timeframe)\n",
        "features_interest_over_time_df.tail()"
      ]
    },
    {
      "cell_type": "markdown",
      "metadata": {
        "id": "pZZnU9d8ayCa"
      },
      "source": [
        "<a name='collect-interest-problems'></a>\n",
        "## Collect Interest Over Time in Problems Addressed by the Prototype"
      ]
    },
    {
      "cell_type": "code",
      "execution_count": null,
      "metadata": {
        "collapsed": true,
        "id": "iBq0_hZCdvhC"
      },
      "outputs": [],
      "source": [
        "# Get a dataframe with interest over time in all problems (relevance)\n",
        "problems_interest_over_time = fetch_interest_over_time(pytrends=pytrends, chunks=problems_chunks, timeframe=timeframe)\n",
        "problems_interest_over_time.tail()"
      ]
    },
    {
      "cell_type": "markdown",
      "metadata": {
        "id": "FxILW72ceMzW"
      },
      "source": [
        "<a name='collect-interest-needs'></a>\n",
        "## Collect Interest Over Time in Needs Addressed by the Prototype"
      ]
    },
    {
      "cell_type": "code",
      "execution_count": null,
      "metadata": {
        "id": "A3ourPhzeUsN",
        "collapsed": true
      },
      "outputs": [],
      "source": [
        "# Get a dataframe with interest in time in all needs (relevance of needs)\n",
        "needs_interest_over_time = fetch_interest_over_time(pytrends=pytrends, chunks=needs_chunks, timeframe=timeframe)\n",
        "needs_interest_over_time.tail(3)"
      ]
    },
    {
      "cell_type": "markdown",
      "metadata": {
        "id": "mZWTQCGtBUCH"
      },
      "source": [
        "<a name='clean-and-transform-data'></a>\n",
        "# Clean and Transform Data\n",
        "* Clean and transform all collected data for analysis\n",
        "* Remove duplicate and irrelevant entries\n",
        "* Sort data and create new relevant features\n"
      ]
    },
    {
      "cell_type": "markdown",
      "metadata": {
        "id": "f4Jv6xUsDVz1"
      },
      "source": [
        "<a name='clean-transform-features'></a>\n",
        "## Clean and Transform Interest Over Time in Proposed Features Data\n",
        "* Ensure the data does not contain duplicate or irrelevant entries.\n",
        "* Remove empty columns and store them in a dataframe for further analysis"
      ]
    },
    {
      "cell_type": "code",
      "source": [
        "features_interest_over_time_df.info()"
      ],
      "metadata": {
        "collapsed": true,
        "id": "GCYbEdDN__rB"
      },
      "execution_count": null,
      "outputs": []
    },
    {
      "cell_type": "code",
      "source": [
        "# Check if there are any duplicated rows\n",
        "duplicate_rows = features_interest_over_time_df.duplicated().sum()\n",
        "duplicate_rows"
      ],
      "metadata": {
        "id": "u6V_HLiWA7UT"
      },
      "execution_count": null,
      "outputs": []
    },
    {
      "cell_type": "code",
      "source": [
        "# Check for empty columns\n",
        "empty_columns = (features_interest_over_time_df == 0).all().sum()\n",
        "empty_columns"
      ],
      "metadata": {
        "id": "RZsOqY4WBHGG"
      },
      "execution_count": null,
      "outputs": []
    },
    {
      "cell_type": "markdown",
      "source": [
        "### Identify and store keywords with no interest\n",
        "* Either these keywords need to be improved, or the features are of minimal value to consumers\n",
        "* Store features with zero interest in a separate DataFrame for further analysis"
      ],
      "metadata": {
        "id": "YCTUxVUrBecS"
      }
    },
    {
      "cell_type": "code",
      "source": [
        "# Calculate the sum of values in each column and sort in descending order\n",
        "column_sums = features_interest_over_time_df.sum()\n",
        "\n",
        "# Determine keywords with no interest\n",
        "zero_interest_keywords = column_sums[column_sums == 0].index.tolist()\n",
        "zero_interest_keywords\n",
        "\n",
        "# Create a dataframe with zero interet keywords\n",
        "zero_interest_features = pd.DataFrame(zero_interest_keywords, columns=['zero_interest_keywords'])\n",
        "zero_interest_features.head()"
      ],
      "metadata": {
        "id": "Bk8EqXT7CN6I"
      },
      "execution_count": null,
      "outputs": []
    },
    {
      "cell_type": "markdown",
      "source": [
        "### Remove Zero Interest Columns\n"
      ],
      "metadata": {
        "id": "XLMH-w3Xbj9h"
      }
    },
    {
      "cell_type": "code",
      "source": [
        "# Identify and Remove Columns with Zero Sum\n",
        "features_interest_over_time = features_interest_over_time_df.loc[:, features_interest_over_time_df.sum() != 0]\n",
        "features_interest_over_time.sum().sort_values(ascending=False).tail()"
      ],
      "metadata": {
        "id": "02VdB3Z7btJC"
      },
      "execution_count": null,
      "outputs": []
    },
    {
      "cell_type": "markdown",
      "metadata": {
        "id": "y_0gtSqNd1sr"
      },
      "source": [
        "<a name='clean-transform-problems'></a>\n",
        "## Clean and Transform Relevance of Problems Data\n",
        "* Ensure the data does not contain duplicate or irrelevant entries.\n",
        "* Remove empty columns and store them in a dataframe for further analysis"
      ]
    },
    {
      "cell_type": "code",
      "source": [
        "problems_interest_over_time.info()"
      ],
      "metadata": {
        "collapsed": true,
        "id": "Y_a9xzryOAuL"
      },
      "execution_count": null,
      "outputs": []
    },
    {
      "cell_type": "code",
      "source": [
        "problems_interest_over_time.shape[0]"
      ],
      "metadata": {
        "id": "EYMcTbcuOH-I"
      },
      "execution_count": null,
      "outputs": []
    },
    {
      "cell_type": "code",
      "source": [
        "# Reset the index to include the date in the duplication check\n",
        "temp_df = problems_interest_over_time.reset_index()\n",
        "temp_df.head()"
      ],
      "metadata": {
        "collapsed": true,
        "id": "aabpo-LoNfNT"
      },
      "execution_count": null,
      "outputs": []
    },
    {
      "cell_type": "code",
      "source": [
        "# Check for duplicates where both the date and all field values are duplicated\n",
        "duplicate_rows = temp_df.duplicated().sum()\n",
        "duplicate_rows"
      ],
      "metadata": {
        "id": "9DmsAr7WY5Yw"
      },
      "execution_count": null,
      "outputs": []
    },
    {
      "cell_type": "code",
      "source": [
        "# Check for empty columns\n",
        "empty_columns = (features_interest_over_time_df == 0).all().sum()\n",
        "empty_columns"
      ],
      "metadata": {
        "id": "GoT7YMH9Ngj4"
      },
      "execution_count": null,
      "outputs": []
    },
    {
      "cell_type": "markdown",
      "source": [
        "### Identify and store keywords with no interest\n",
        "* Either these keywords need to be improved, or the problems are of minimal interest to consumers\n",
        "* Store problems with zero interest in a separate DataFrame for further analysis"
      ],
      "metadata": {
        "id": "NsWAYLJSZpFx"
      }
    },
    {
      "cell_type": "code",
      "execution_count": null,
      "metadata": {
        "id": "ZEkYL0Bod685"
      },
      "outputs": [],
      "source": [
        "# Sum values to determine relevance\n",
        "relevance_problems_interest_over_time = problems_interest_over_time.sum()\n",
        "\n",
        "# Identify problems with zero relevance\n",
        "zero_relevance_problems = relevance_problems_interest_over_time[relevance_problems_interest_over_time == 0]\n",
        "\n",
        "# Create a new datafame containing zero interest keywords\n",
        "zero_relevance_problems_df = pd.DataFrame(zero_relevance_problems.index, columns=['zero_interest_keywords'])\n",
        "zero_relevance_problems_df.head()\n"
      ]
    },
    {
      "cell_type": "markdown",
      "source": [
        "### Remove Zero Interest Columns\n"
      ],
      "metadata": {
        "id": "h3AUE41cdWlx"
      }
    },
    {
      "cell_type": "code",
      "source": [
        "# Remove zero relevance problems from dataframe\n",
        "problems_interest_over_time = problems_interest_over_time.loc[:, problems_interest_over_time.sum() != 0]\n",
        "problems_interest_over_time.sum().sort_values(ascending=False).tail()\n"
      ],
      "metadata": {
        "id": "liWvAjPTO5MW"
      },
      "execution_count": null,
      "outputs": []
    },
    {
      "cell_type": "markdown",
      "metadata": {
        "id": "BBE3BAl0e082"
      },
      "source": [
        "<a name='clean-transform-needs'></a>\n",
        "## Clean and Transform Relevance of Needs Data\n",
        "* Ensure the data does not contain duplicate or irrelevant entries.\n",
        "* Remove empty columns and store them in a dataframe for further analysis"
      ]
    },
    {
      "cell_type": "code",
      "source": [
        "needs_interest_over_time.info()"
      ],
      "metadata": {
        "collapsed": true,
        "id": "g-w4wEPDgpBN"
      },
      "execution_count": null,
      "outputs": []
    },
    {
      "cell_type": "code",
      "source": [
        "# Check for duplicate rows\n",
        "\n",
        "# Create a temporary dataframe with the date index as a column\n",
        "temp_df = needs_interest_over_time.reset_index()\n",
        "\n",
        "# Check for duplicates where both the date and all field values are duplicated\n",
        "duplicate_rows = temp_df.duplicated().sum()\n",
        "duplicate_rows"
      ],
      "metadata": {
        "id": "5vVE8CwDgwMH"
      },
      "execution_count": null,
      "outputs": []
    },
    {
      "cell_type": "code",
      "source": [
        "# Check for columns where all values are zero\n",
        "empty_columns = (needs_interest_over_time == 0).all().sum()\n",
        "empty_columns"
      ],
      "metadata": {
        "id": "2S0sNZUUhF4G"
      },
      "execution_count": null,
      "outputs": []
    },
    {
      "cell_type": "markdown",
      "source": [
        "### Identify and store keywords with no interest\n",
        "* Either these keywords need to be improved, or the needs are of minimal relevance to consumers\n",
        "* Store needs with zero interest in a separate DataFrame for further analysis"
      ],
      "metadata": {
        "id": "HFMEydsKh_Z-"
      }
    },
    {
      "cell_type": "code",
      "execution_count": null,
      "metadata": {
        "id": "kflf6ZZPe9Y5",
        "collapsed": true
      },
      "outputs": [],
      "source": [
        "# Sum values to determine relevance of each need\n",
        "relevance_needs_interest_over_time = needs_interest_over_time.sum()\n",
        "relevance_needs_interest_over_time.head()"
      ]
    },
    {
      "cell_type": "markdown",
      "source": [
        "### Identify and store keywords with no interest\n",
        "* Either these keywords need to be improved, or the needs are of minimal concern to consumers\n",
        "* Store needs with zero interest in a separate DataFrame for further analysis"
      ],
      "metadata": {
        "id": "TkRUQXQvjZXF"
      }
    },
    {
      "cell_type": "code",
      "execution_count": null,
      "metadata": {
        "id": "YCZSo5s4fZT4",
        "collapsed": true
      },
      "outputs": [],
      "source": [
        "# Remove needs with zero relevance and store in a new dataframe\n",
        "zero_relevance_needs = relevance_needs_interest_over_time[relevance_needs_interest_over_time == 0]\n",
        "zero_relevance_needs = pd.DataFrame(zero_relevance_needs.index, columns=['zero_interest_keywords'])\n",
        "zero_relevance_needs.head()"
      ]
    },
    {
      "cell_type": "markdown",
      "source": [
        "### Remove Zero Interest Columns\n"
      ],
      "metadata": {
        "id": "islrClrBjqZ-"
      }
    },
    {
      "cell_type": "code",
      "execution_count": null,
      "metadata": {
        "id": "RrZsJwy4ft_d",
        "collapsed": true
      },
      "outputs": [],
      "source": [
        "# Create a new series of needs by relevance without zero interest needs\n",
        "needs_by_relevance = relevance_needs_interest_over_time[relevance_needs_interest_over_time != 0]\n",
        "needs_by_relevance.tail()"
      ]
    },
    {
      "cell_type": "code",
      "source": [
        "# Create a new dataframe with zero relevance needs removed\n",
        "needs_interest_over_time = needs_interest_over_time.loc[:, (needs_interest_over_time != 0).any(axis=0)]\n",
        "needs_interest_over_time.sum().sort_values(ascending=False).tail()\n",
        "needs_interest_over_time.head(3)"
      ],
      "metadata": {
        "id": "buyflib9f_sC"
      },
      "execution_count": null,
      "outputs": []
    },
    {
      "cell_type": "markdown",
      "metadata": {
        "id": "sOCHqFkEDsWK"
      },
      "source": [
        "<a name='explore-the-data'></a>\n",
        "# Explore the Data\n",
        "* Conduct initial exploration to understand the data collected\n",
        "* Generate summary statistics and visualizations  \n",
        "* Identify patterns in data"
      ]
    },
    {
      "cell_type": "markdown",
      "metadata": {
        "id": "Vz3PRT0vEABE"
      },
      "source": [
        "<a name='explore-features'></a>\n",
        "## Explore Interest Over Time in Proposed Features\n",
        "* Identify features with the highest interest\n",
        "* Calculate and visualize weekly average interest\n",
        "* Generate summary statistics and visualizations"
      ]
    },
    {
      "cell_type": "markdown",
      "source": [
        "<a name='highest-interest-features'></a>\n",
        "### Identify Features with Highest Interest\n",
        "* Calculate the sum of interest values for each feature.\n",
        "* Create a table sorted by relevance (highest interest)."
      ],
      "metadata": {
        "id": "GkMbxm3dILra"
      }
    },
    {
      "cell_type": "code",
      "source": [
        "# Calculate the sum of values in each column and sort in descending order\n",
        "sorted_by_interest = features_interest_over_time.sum().sort_values(ascending=False)\n",
        "\n",
        "# Format keywords into a table\n",
        "features_by_interest = pd.DataFrame(data=sorted_by_interest, columns=['interest'])\n",
        "features_by_interest.head()"
      ],
      "metadata": {
        "id": "FkaGifM9I07n"
      },
      "execution_count": null,
      "outputs": []
    },
    {
      "cell_type": "markdown",
      "source": [
        "<a name='weekly-average-features'></a>\n",
        "### Determine Weekly Average Interest per Keyword\n",
        "* Data has been collected over a period of 3 years or 156 weeks.\n",
        "* Google Trends determines the popularity of a keyword per week on a scale from 0 to 100.\n",
        "* Calculate the average weekly interest to get values in a range from 0 to 100 for all features with more than zero interest.\n",
        "* Add the output as a new column `weekly_average_interest` in the `features_by_interest `DataFrame."
      ],
      "metadata": {
        "id": "-_GqXuFVJrBX"
      }
    },
    {
      "cell_type": "code",
      "source": [
        "# Determine the average weekly interest to get values in a range from 0 to 100 for all features with more than zero interest\n",
        "features_by_interest['weekly_average_interest'] = round(features_by_interest['interest'] / 156.42, 3)\n",
        "features_by_interest.head()"
      ],
      "metadata": {
        "id": "4JijOUgzJ8xv"
      },
      "execution_count": null,
      "outputs": []
    },
    {
      "cell_type": "markdown",
      "metadata": {
        "id": "3ZCciWnPoN_2"
      },
      "source": [
        "<a name='change-in-interest-features'></a>\n",
        "### Visualize How Interest in Proposed Features Changed Over Time"
      ]
    },
    {
      "cell_type": "code",
      "execution_count": null,
      "metadata": {
        "id": "tXon1rB4oxKT"
      },
      "outputs": [],
      "source": [
        "# Import necessary libraries\n",
        "import seaborn as sns\n",
        "import matplotlib.pyplot as plt"
      ]
    },
    {
      "cell_type": "code",
      "execution_count": null,
      "metadata": {
        "id": "7WphHH6qxAhX"
      },
      "outputs": [],
      "source": [
        "# Create dataframe with monthly time intervals\n",
        "\n",
        "# Resample the data to monthly intervals and sum the values\n",
        "features_interest_over_time_monthly = features_interest_over_time.resample('M').sum()\n",
        "\n",
        "# Format the index to show month and year\n",
        "features_interest_over_time_monthly.index = features_interest_over_time_monthly.index.strftime('%B %Y')\n",
        "features_interest_over_time_monthly.head(3)"
      ]
    },
    {
      "cell_type": "code",
      "execution_count": null,
      "metadata": {
        "collapsed": true,
        "id": "jZpoeHXvpViN"
      },
      "outputs": [],
      "source": [
        "# Create a heatmap to understand how interest changed over time\n",
        "\n",
        "# Set the figure size and resolution\n",
        "plt.figure(figsize=(16, 16), dpi=300)\n",
        "\n",
        "# Create the heatmap plot\n",
        "sns.heatmap(\n",
        "    data=features_interest_over_time_monthly.T,\n",
        "    cmap='viridis', annot=False,\n",
        "    cbar=True\n",
        "    )\n",
        "\n",
        "# Adjust size for x and y axis labels\n",
        "plt.yticks(fontsize=14)\n",
        "plt.xticks(fontsize=14);\n",
        "\n",
        "# Add a title\n",
        "plt.title('Interest in Proposed Features Over Time', fontsize=20);\n",
        "\n",
        "# Add labels for the x and y axes\n",
        "plt.xlabel('Month', fontsize=16)\n",
        "plt.ylabel('Features', fontsize=16);"
      ]
    },
    {
      "cell_type": "markdown",
      "metadata": {
        "id": "nUdA5z6ZpoQj"
      },
      "source": [
        "<a name='relevant-features'></a>\n",
        "### Visualize most relevant features\n",
        "* Prepare the dataframe for visualization\n",
        "* Create a bar plot to visualize the overall interest in each feature"
      ]
    },
    {
      "cell_type": "code",
      "execution_count": null,
      "metadata": {
        "id": "GBUJ7kQh7QSB"
      },
      "outputs": [],
      "source": [
        "# Flatten the dataframe\n",
        "features_by_interest_flat = features_by_interest.reset_index()\n",
        "features_by_interest_flat.head(3)"
      ]
    },
    {
      "cell_type": "code",
      "execution_count": null,
      "metadata": {
        "collapsed": true,
        "id": "fyNK9Oeo5NWn"
      },
      "outputs": [],
      "source": [
        "# Visualize overall interest in proposed features\n",
        "\n",
        "# Set the figure size and resolution for the bar plot\n",
        "plt.figure(figsize=(16, 8), dpi=300)\n",
        "\n",
        "# Create a bar plot to compare overall interest in all proposed features\n",
        "sns.barplot(\n",
        "    data=features_by_interest_flat,\n",
        "    x='index',\n",
        "    y='interest',\n",
        "    hue='index',\n",
        "    palette='Set2'\n",
        "    )\n",
        "\n",
        "# Rotate x-axis labels for better readability\n",
        "plt.xticks(rotation=90, fontsize=12);\n",
        "\n",
        "# Set plot title and axis labels\n",
        "plt.title('Overall Interest in Proposed Features', fontsize=20)\n",
        "plt.xlabel('Features', fontsize=16)\n",
        "plt.ylabel('Interest', fontsize=16);"
      ]
    },
    {
      "cell_type": "markdown",
      "metadata": {
        "id": "ri-84ubsgjQU"
      },
      "source": [
        "<a name='explore-problems'></a>\n",
        "## Explore Relevance of Problems Over Time\n",
        "* Relevance of problems is defined as interest over time\n",
        "* Identify problems with highest relevance\n",
        "* Visualize how relevance of problems changed over time\n",
        "* Determine weekly average interest (weekly relevance of problems)\n"
      ]
    },
    {
      "cell_type": "markdown",
      "source": [
        "<a name='highest-interest-problems'></a>\n",
        "### Identify Problems with Highest Relevance\n",
        "* Calculate the sum of interest values for each problem\n",
        "* Create a table sorted by relevance (highest interest)"
      ],
      "metadata": {
        "id": "HKHvZ0tYaaze"
      }
    },
    {
      "cell_type": "code",
      "source": [
        "# Calculate the sum of interest values for each problem and sort them by relevance\n",
        "relevance_problems_interest_over_time = problems_interest_over_time.sum().sort_values(ascending=False)\n",
        "relevance_problems_interest_over_time.head()"
      ],
      "metadata": {
        "id": "dbfx6ElMaUtV"
      },
      "execution_count": null,
      "outputs": []
    },
    {
      "cell_type": "markdown",
      "source": [
        "### Visualize How Relevance of Problems Changed Over Time\n",
        "* Prepare the data for visualization\n",
        "* Create a heatmap to show interest in keywords over time"
      ],
      "metadata": {
        "id": "MRCD0ioFwuNk"
      }
    },
    {
      "cell_type": "code",
      "execution_count": null,
      "metadata": {
        "id": "aEAPrRFwgsgR"
      },
      "outputs": [],
      "source": [
        "# Resample dataframe to show interest in monthly intervals\n",
        "problems_interest_over_time_monthly = problems_interest_over_time.resample('M').sum()\n",
        "problems_interest_over_time_monthly.index = problems_interest_over_time_monthly.index.strftime('%B %Y')\n",
        "\n",
        "problems_interest_over_time_monthly.head(3)"
      ]
    },
    {
      "cell_type": "code",
      "execution_count": null,
      "metadata": {
        "collapsed": true,
        "id": "U0y8VKOMpBB1"
      },
      "outputs": [],
      "source": [
        "# Create a heatmap to understand how interest changed over time\n",
        "\n",
        "# Set the figure size and resolution\n",
        "plt.figure(figsize=(4, 4), dpi=150)\n",
        "\n",
        "# Create a heatmap to visualize change in relevance of problems over time\n",
        "sns.heatmap(\n",
        "    data=problems_interest_over_time_monthly.T,\n",
        "    cmap='viridis',\n",
        "    annot=False,\n",
        "    cbar=True\n",
        "    )\n",
        "plt.yticks(fontsize=9)\n",
        "plt.xticks(fontsize=9);"
      ]
    },
    {
      "cell_type": "markdown",
      "metadata": {
        "id": "oPZxBX2wjXzE"
      },
      "source": [
        "### Visualize how interest in problems increased over time\n",
        "Determine whether awareness of problems is increasing or decreasing.\n"
      ]
    },
    {
      "cell_type": "code",
      "execution_count": null,
      "metadata": {
        "id": "CMRCkYN3wN9z"
      },
      "outputs": [],
      "source": [
        "# Resample the dataframe to yearly intervals for less noise\n",
        "problems_interest_over_time_yearly = problems_interest_over_time.resample('Y').sum()\n",
        "problems_interest_over_time_yearly.index = problems_interest_over_time_yearly.index.strftime('%Y')\n",
        "problems_interest_over_time_yearly.head()\n",
        "\n",
        "# Remove columns with only zero values\n",
        "problems_interest_over_time_yearly = problems_interest_over_time_yearly.loc[:, (problems_interest_over_time_yearly != 0).any()]"
      ]
    },
    {
      "cell_type": "code",
      "execution_count": null,
      "metadata": {
        "id": "ZME17yGOsBmY",
        "collapsed": true
      },
      "outputs": [],
      "source": [
        "# Transform the dataframe so that interest is represented as a colulum\n",
        "problems_interest_over_time_flat = problems_interest_over_time_yearly.reset_index().melt(id_vars='date', var_name='problem', value_name='interest')\n",
        "problems_interest_over_time_flat.head()"
      ]
    },
    {
      "cell_type": "code",
      "execution_count": null,
      "metadata": {
        "id": "Ua1nEznrvMpD"
      },
      "outputs": [],
      "source": [
        "# Visualize interest over time in high relevance problems with more than zero interest\n",
        "plt.figure(figsize=(16, 8), dpi=400)\n",
        "sns.lineplot(data=problems_interest_over_time_flat, x='date', y='interest', hue='problem', palette='Set2');\n",
        "# Rotate x-axis labels for better readability\n",
        "plt.xticks(rotation=90, fontsize=12);\n",
        "\n",
        "# Add title and place legend outside the plot\n",
        "plt.title('Relevance of Problems over Time')\n",
        "plt.legend(bbox_to_anchor=(1.05, 1), fontsize=14);"
      ]
    },
    {
      "cell_type": "code",
      "source": [
        "# Resample the dataframe to monthly intervals\n",
        "problems_interest_over_time_monthly = problems_interest_over_time.resample('M').sum()\n",
        "problems_interest_over_time_monthly.index = problems_interest_over_time_monthly.index.strftime('%Y-%m')\n",
        "problems_interest_over_time_monthly.head()"
      ],
      "metadata": {
        "collapsed": true,
        "id": "zHIO-w2LLUXL"
      },
      "execution_count": null,
      "outputs": []
    },
    {
      "cell_type": "code",
      "source": [
        "# Remove columns with only zero values\n",
        "problems_interest_over_time_monthly = problems_interest_over_time_monthly.loc[:, (problems_interest_over_time_monthly != 0).any()]\n",
        "problems_interest_over_time_monthly.head()"
      ],
      "metadata": {
        "collapsed": true,
        "id": "du3TvW7GLd-N"
      },
      "execution_count": null,
      "outputs": []
    },
    {
      "cell_type": "code",
      "source": [
        "# Transform the dataframe to long format\n",
        "problems_interest_over_time_monthly_flat = problems_interest_over_time_monthly.reset_index().melt(id_vars='date', var_name='problem', value_name='interest')\n",
        "problems_interest_over_time_monthly_flat.head()"
      ],
      "metadata": {
        "id": "17A16-vvLlTh"
      },
      "execution_count": null,
      "outputs": []
    },
    {
      "cell_type": "code",
      "execution_count": null,
      "metadata": {
        "id": "8ornNskhPuWR",
        "collapsed": true
      },
      "outputs": [],
      "source": [
        "# Plot the same monthly for more granularity\n",
        "plt.figure(figsize=(16, 8), dpi=400)\n",
        "sns.lineplot(data=problems_interest_over_time_monthly_flat, x='date', y='interest', hue='problem', palette='husl');\n",
        "# Rotate x-axis labels for better readability\n",
        "plt.xticks(rotation=90, fontsize=12);\n",
        "\n",
        "# Add title and place legend outside the plot\n",
        "plt.title('Relevance of Problems over Time')\n",
        "plt.legend(bbox_to_anchor=(1.05, 1), fontsize=14);\n"
      ]
    },
    {
      "cell_type": "code",
      "execution_count": null,
      "metadata": {
        "id": "1y9zftA3SJox"
      },
      "outputs": [],
      "source": [
        "# Get weekly average interest for the problems\n",
        "problems_by_relevance = pd.DataFrame(problems_by_relevance, columns=['interest'])\n",
        "problems_by_relevance.head()\n",
        "problems_by_relevance['weekly_average_interest'] = round(problems_by_relevance['interest'] / 156.42, 3)\n",
        "problems_by_relevance.head()"
      ]
    },
    {
      "cell_type": "code",
      "execution_count": null,
      "metadata": {
        "id": "2U5KNW7mTqsY"
      },
      "outputs": [],
      "source": [
        "# Rename columns\n",
        "problems_by_relevance.rename(columns={'weekly_average_interest': 'problems_weekly_average_interest'}, inplace=True)\n",
        "features_by_interest.rename(columns={'weekly_average_interest': 'features_weekly_average_interest'}, inplace=True)\n",
        "\n",
        "# Create a new dataframe with weekly average interest in features and problems as columns\n",
        "features_problems_interest = pd.concat([problems_by_relevance['problems_weekly_average_interest'], features_by_interest['features_weekly_average_interest']], axis=1)\n",
        "features_problems_interest.head()"
      ]
    },
    {
      "cell_type": "markdown",
      "metadata": {
        "id": "6nZKtbIGjGhH"
      },
      "source": [
        "## Explore relevance (interest over time) in needs addressed"
      ]
    },
    {
      "cell_type": "markdown",
      "source": [
        "### Identify Problems with Highest Relevance\n",
        "* Calculate the sum of interest values for each problem\n",
        "* Create a table sorted by relevance (highest interest)"
      ],
      "metadata": {
        "id": "iPo0onJVi8sY"
      }
    },
    {
      "cell_type": "code",
      "source": [
        "# Sort needs by relevance\n",
        "relevance_needs_interest_over_time = needs_interest_over_time.sum().sort_values(ascending=False)\n",
        "relevance_needs_interest_over_time.head()"
      ],
      "metadata": {
        "id": "9R7OrFybi22M"
      },
      "execution_count": null,
      "outputs": []
    },
    {
      "cell_type": "code",
      "execution_count": null,
      "metadata": {
        "id": "04IISL_VjPyg",
        "collapsed": true
      },
      "outputs": [],
      "source": [
        "# Resample the dataframe to show interest in monthly intervals\n",
        "needs_interest_over_time_monthly = needs_interest_over_time.resample('M').sum()\n",
        "needs_interest_over_time_monthly.index = needs_interest_over_time_monthly.index.strftime('%B %Y')\n",
        "needs_interest_over_time_monthly.tail()"
      ]
    },
    {
      "cell_type": "code",
      "execution_count": null,
      "metadata": {
        "id": "GaR8RMtKjqNQ"
      },
      "outputs": [],
      "source": [
        "# Create a heatmap to understand how interest changed over time\n",
        "plt.figure(figsize=(4, 4), dpi=150)\n",
        "sns.heatmap(data=needs_interest_over_time_monthly.T, cmap='viridis', annot=False, cbar=True);\n",
        "plt.yticks(fontsize=9)\n",
        "plt.xticks(fontsize=9);"
      ]
    },
    {
      "cell_type": "code",
      "execution_count": null,
      "metadata": {
        "collapsed": true,
        "id": "wzQCYgutkUTa"
      },
      "outputs": [],
      "source": [
        "# Visualize the overall relevance of needs over the last 3 years\n",
        "plt.figure(figsize=(16, 8), dpi=400)\n",
        "sns.lineplot(data=needs_interest_over_time_monthly, palette='Set2');\n",
        "plt.xticks(rotation=90, fontsize=12);"
      ]
    },
    {
      "cell_type": "markdown",
      "metadata": {
        "id": "gkkQSrTYl6fZ"
      },
      "source": [
        "### Visualize overall relevance of needs in comparison to one another\n",
        "Determine which needs were the most relevant over the last three years."
      ]
    },
    {
      "cell_type": "code",
      "execution_count": null,
      "metadata": {
        "id": "u3RVcW-Yl-vl",
        "collapsed": true
      },
      "outputs": [],
      "source": [
        "# Flatten the dataframe\n",
        "needs_by_relevance_flat = needs_by_relevance.reset_index()\n",
        "needs_by_relevance_flat.columns.values[1] = 'interest'\n",
        "needs_by_relevance_flat.head()"
      ]
    },
    {
      "cell_type": "code",
      "execution_count": null,
      "metadata": {
        "id": "_mt67fSAk7h4",
        "collapsed": true
      },
      "outputs": [],
      "source": [
        "# Visualize relevance of needs in comparison using a bar chart\n",
        "plt.figure(figsize=(16, 8), dpi=400)\n",
        "sns.barplot(data=needs_by_relevance_flat, x='index', y='interest', hue='index', palette='Set2');\n",
        "plt.xticks(rotation=90, fontsize=12);"
      ]
    },
    {
      "cell_type": "markdown",
      "metadata": {
        "id": "Ce7ny0mxnAaD"
      },
      "source": [
        "## Visualize how interest in needs differs from from interest in features and interest in problems\n",
        "* Which needs,problems or features have the overall highest interest?\n",
        "* Compare the weekly average of all keywords searched\n"
      ]
    },
    {
      "cell_type": "code",
      "execution_count": null,
      "metadata": {
        "id": "XLGYEZ6Ptk9M"
      },
      "outputs": [],
      "source": [
        "# Get weekly average interest in features and create a new dataframe\n",
        "features_by_interest['weekly_average_interest'] = round(features_by_interest['interest'] / 156.42, 3)\n",
        "features_by_interest.head()"
      ]
    },
    {
      "cell_type": "code",
      "execution_count": null,
      "metadata": {
        "id": "k3JK_QPGtD_G"
      },
      "outputs": [],
      "source": [
        "# Get average monthly interest for problems and create a new dataframe\n",
        "problems_by_relevance = pd.DataFrame(problems_by_relevance, columns=['interest'])\n",
        "problems_by_relevance.head()\n",
        "problems_by_relevance['weekly_average_interest'] = round(problems_by_relevance['interest'] / 156.42, 3)\n",
        "problems_by_relevance.head()"
      ]
    },
    {
      "cell_type": "code",
      "execution_count": null,
      "metadata": {
        "id": "vHA-GDQpnuWl"
      },
      "outputs": [],
      "source": [
        "# Get average monthly interest in needs and create a new dataframe\n",
        "needs_by_relevance = pd.DataFrame(needs_by_relevance, columns=['interest'])\n",
        "needs_by_relevance['weekly_average_interest'] = round(needs_by_relevance['interest'] / 156.42, 3)\n",
        "needs_by_relevance.head()"
      ]
    },
    {
      "cell_type": "code",
      "execution_count": null,
      "metadata": {
        "id": "TouxYT8QoVJq"
      },
      "outputs": [],
      "source": [
        "# Create a dataframe with weekly average interest in all keywords\n",
        "\n",
        "# Reset the index and create a keyword column for all dataframes\n",
        "features_by_interest_flat = features_by_interest.reset_index()\n",
        "problems_by_relevance_flat = problems_by_relevance.reset_index()\n",
        "needs_by_relevance_flat = needs_by_relevance.reset_index()\n",
        "\n",
        "# Concatenate as rows to a new dataframe\n",
        "all_keywords = pd.concat([features_by_interest_flat, problems_by_relevance_flat, needs_by_relevance_flat], axis=0)\n",
        "all_keywords.rename(columns={'index': 'keyword'}, inplace=True)\n",
        "all_keywords.head()\n",
        "\n",
        "# Sort the dataframe by weekly average interest\n",
        "all_keywords = all_keywords.sort_values(by='weekly_average_interest', ascending=False)\n",
        "all_keywords.tail()\n"
      ]
    },
    {
      "cell_type": "code",
      "source": [
        "# Visualize weekly average interest in all keywords\n",
        "plt.figure(figsize=(16, 8), dpi=400)\n",
        "sns.barplot(data=all_keywords, x='keyword', y='weekly_average_interest', hue='keyword', palette='Set2');\n",
        "plt.xticks(rotation=90, fontsize=12);"
      ],
      "metadata": {
        "id": "FsTw0zGBwMXK"
      },
      "execution_count": null,
      "outputs": []
    },
    {
      "cell_type": "markdown",
      "metadata": {
        "id": "DCTXd3raGPdy"
      },
      "source": [
        "<a name='evaluate-and-select-relevant-data'></a>\n",
        "# Evaluate and Select Relevant Data\n",
        "* Evaluate the explored data and decide which parts are valuable for further analysis\n",
        "\n"
      ]
    },
    {
      "cell_type": "markdown",
      "metadata": {
        "id": "H2YMo1oYKo0c"
      },
      "source": [
        "## Evaluate Relevant Data on Interest in Features\n",
        "* **Weekly interest in features**: Valuable as this data provides easy-to-understand metrics (0 - 100) and offers insights into which prototype features are most relevant out of the ones that received interest.\n",
        "* **Interest in featues over time**: Relevant for analyzing how interest in features changes over time. Includes features with zero interest.\n",
        "* **Zero interest features**: Need further evaluation to understand why these keywords received no interest."
      ]
    },
    {
      "cell_type": "markdown",
      "source": [
        "## Storage Plan on Interest in Features\n",
        "1. **Features by Average Weekly Interest**:\n",
        "  * Dataframe: `features_by_interest`\n",
        "  * Description: Contains the average weekly interest for each relevant feature keyword\n",
        "  * Reason: Provides a metric for comparing the relevance of features to customers\n",
        "  * File name: `features_by_interest.parquet`\n",
        "2. **Interest in Features Over Time**:\n",
        "  * Dataframe: `features_interest_over_time`\n",
        "  * Description: Contains weekly interest in features over a period of 3 years. Contains features with zero interest.\n",
        "  * Reason: Helps understanding trends and changes in interest over time.\n",
        "  File name: `features_interest_over_time.parquet`\n",
        "3. **Features with Zero Interest**:\n",
        "  * Dataframe: `zero_interest_features`\n",
        "  * Description: Contains keywords from the feature list that returned zero interest.\n",
        "  * Reason: To determine whether the lack of interest is due to the keywords used or the features themselves.\n",
        "  * File name: `zero_interest_features.parquet`"
      ],
      "metadata": {
        "id": "vh2eRD5YCKv3"
      }
    },
    {
      "cell_type": "markdown",
      "source": [
        "## Evaluate Relevant Data on Interest in Problems (relevance of problems)\n",
        "* **Weekly interest in problems**: Valuable as this data provides easy-to-understand metrics (0 - 100) and offers insights into which problems the prototype aims to address are most relevant out of the ones that received interest.\n",
        "* **Interest in problems over time**: Relevant for analyzing how the relevance of problems changes over time. Includes problems with zero interest.\n",
        "* **Zero interest problems**: Need further evaluation to understand why these keywords received no interest."
      ],
      "metadata": {
        "id": "HFnno1wWH-5t"
      }
    },
    {
      "cell_type": "markdown",
      "source": [
        "## Storage Plan on Interest in Problems\n",
        "1. **Problems by Average Weekly Interest**:\n",
        "  * Dataframe: `problems_by_relevance`\n",
        "  * Description: Contains the average weekly interest for each relevant problem keyword\n",
        "  * Reason: Provides a metric for comparing the relevance of problems to customers\n",
        "  * File name: `problems_by_relevance.parquet`\n",
        "2. **Relevance of Problems Over Time**:\n",
        "  * Dataframe: `problems_relevance_over_time`\n",
        "  * Description: Contains weekly interest in features over a period of 3 years. Contains features with zero interest.\n",
        "  * Reason: Helps understanding trends and changes in interest over time.\n",
        "  File name: `problems_relevance_over_time.parquet`\n",
        "3. **Problems with Zero Relevance**:\n",
        "  * Dataframe: `zero_relevance_problems`\n",
        "  * Description: Contains keywords from the problems list that returned zero interest.\n",
        "  * Reason: To determine whether the lack of interest is due to the keywords used or the problems themselves.\n",
        "  * File name: `zero_relevance_problems.parquet`"
      ],
      "metadata": {
        "id": "jch6RNbSIZaX"
      }
    },
    {
      "cell_type": "markdown",
      "source": [
        "## Evaluate Relevant Data on Interest in Needs (relevance of needs)\n",
        "* **Weekly interest in Needs**: Valuable as this data provides easy-to-understand metrics (0 - 100) and offers insights into which needs the prototype aims to address are most relevant out of the ones that received interest.\n",
        "* **Interest in Needs Over Time**: Useful for analyzing how the relevance of needs changes over time. Includes needs with zero interest.\n",
        "* **Zero Interest Needs**: Needs further evaluation to understand why these keywords received no interest."
      ],
      "metadata": {
        "id": "lb_Kg_XDSrJW"
      }
    },
    {
      "cell_type": "markdown",
      "source": [
        "## Storage Plan on Interest in Needs\n",
        "1. **Needs by Average Weekly Interest**:\n",
        "  * Dataframe: `needs_by_relevance`\n",
        "  * Description: Contains the average weekly interest for each relevant need keyword\n",
        "  * Reason: Provides a metric for comparing the relevance of needs to customers\n",
        "  * File name: `needs_by_relevance.parquet`\n",
        "2. **Relevance of Need Over Time**:\n",
        "  * Dataframe: `needs_interest_over_time_all`\n",
        "  * Description: Contains weekly relevance of needs over a period of 3 years. Includes needs with zero interest.\n",
        "  * Reason: Helps understanding trends and changes in interest over time.\n",
        "  File name: `needs_interest_over_time.parquet`\n",
        "3. **Needs with Zero Relevance**:\n",
        "  * Dataframe: `zero_relevance_needs`\n",
        "  * Description: Contains keywords in the needs list that returned zero interest.\n",
        "  * Reason: To determine whether the lack of interest is due to the keywords used or the needs themselves.\n",
        "  * File name: `zero_relevance_needs.parquet`"
      ],
      "metadata": {
        "id": "2itFU8m7TE2D"
      }
    },
    {
      "cell_type": "markdown",
      "metadata": {
        "id": "kuf3qIAc9j65"
      },
      "source": [
        "<a name='store-data-in-gcs'></a>\n",
        "# Store Data in GCS\n",
        "* Store cleaned and transformed data in Google Cloud Storage\n",
        "* Save data in a suitable format\n",
        "* Upload the data to a designated GCS storage bucket"
      ]
    },
    {
      "cell_type": "code",
      "execution_count": null,
      "metadata": {
        "id": "O-OWD-ZEWIgB"
      },
      "outputs": [],
      "source": [
        "# Define a function to upload dataframes as parquet to GCS\n",
        "def upload_dataframe_to_gcs(dataframe, subdirectory, blob_name, project_id=project_id):\n",
        "    \"\"\"\n",
        "    Saves a DataFrame as a Parquet file and uploads it to a specified GCS bucket and subdirectory.\n",
        "\n",
        "    Parameters:\n",
        "    dataframe (pd.DataFrame): The DataFrame to be saved and uploaded.\n",
        "    bucket_name (str): The name of the GCS bucket.\n",
        "    subdirectory (str): The subdirectory within the GCS bucket where the file will be stored.\n",
        "    blob_name (str): The name of the blob (file) in GCS.\n",
        "    project_id (str): The Google Cloud project ID.\n",
        "\n",
        "    Returns:\n",
        "    None\n",
        "    \"\"\"\n",
        "    # Save the DataFrame as a Parquet file locally in the /content directory\n",
        "    temp_path = f'/content/{blob_name}'\n",
        "    dataframe.to_parquet(temp_path)\n",
        "\n",
        "    # Verify the file was saved locally\n",
        "    !ls -lh {temp_path}\n",
        "\n",
        "    # Upload the Parquet file to GCS in the specified subdirectory\n",
        "    blob = bucket.blob(f'{subdirectory}/{blob_name}')\n",
        "    blob.upload_from_filename(temp_path)\n",
        "\n",
        "    print(f\"File {subdirectory}/{blob_name} uploaded to {bucket_name}.\")\n"
      ]
    },
    {
      "cell_type": "markdown",
      "metadata": {
        "id": "juzBUf3jC8tx"
      },
      "source": [
        "## Store Data on Interest in Features"
      ]
    },
    {
      "cell_type": "markdown",
      "metadata": {
        "id": "9L9xdlxgSPmz"
      },
      "source": [
        "### Store features by average weekly interest"
      ]
    },
    {
      "cell_type": "code",
      "execution_count": null,
      "metadata": {
        "id": "Yol_MTjVXrC_"
      },
      "outputs": [],
      "source": [
        "# Define subdirectory for all Google Trends data\n",
        "subdirectory = 'google_trends'"
      ]
    },
    {
      "cell_type": "code",
      "execution_count": null,
      "metadata": {
        "id": "X6g-EF53XEvE"
      },
      "outputs": [],
      "source": [
        "# Upload the dataframe as parquet to GCS\n",
        "upload_dataframe_to_gcs(dataframe=features_by_interest, subdirectory=subdirectory, blob_name='features_by_interest.parquet')"
      ]
    },
    {
      "cell_type": "code",
      "source": [
        "features_by_interest.head(3)"
      ],
      "metadata": {
        "id": "obmLsaMaEBIX"
      },
      "execution_count": null,
      "outputs": []
    },
    {
      "cell_type": "markdown",
      "source": [
        "### Store weekly interest over time in features"
      ],
      "metadata": {
        "id": "W149fiKYD6Ha"
      }
    },
    {
      "cell_type": "code",
      "source": [
        "features_interest_over_time = features_interest_over_time_df\n",
        "# Upload the dataframe as parquet to GCS\n",
        "upload_dataframe_to_gcs(dataframe=features_interest_over_time, subdirectory=subdirectory, blob_name='features_interest_over_time.parquet')"
      ],
      "metadata": {
        "id": "9fbQv6wLEPR_"
      },
      "execution_count": null,
      "outputs": []
    },
    {
      "cell_type": "code",
      "source": [
        "features_interest_over_time.head(3)"
      ],
      "metadata": {
        "id": "12DWkdD5Fvf8"
      },
      "execution_count": null,
      "outputs": []
    },
    {
      "cell_type": "markdown",
      "metadata": {
        "id": "O-Cco2GcUJBk"
      },
      "source": [
        "### Store features with no interest"
      ]
    },
    {
      "cell_type": "code",
      "execution_count": null,
      "metadata": {
        "id": "kwRZTB8QVjJd"
      },
      "outputs": [],
      "source": [
        "# Upload the dataframe as parquet to GCS\n",
        "upload_dataframe_to_gcs(dataframe=zero_interest_features, subdirectory=subdirectory, blob_name='zero_interest_features.parquet')"
      ]
    },
    {
      "cell_type": "code",
      "source": [
        "zero_interest_features.head(3)"
      ],
      "metadata": {
        "id": "ZCP_QfgaGqBd"
      },
      "execution_count": null,
      "outputs": []
    },
    {
      "cell_type": "markdown",
      "source": [
        "## Store Data on Relevance of Problems"
      ],
      "metadata": {
        "id": "JJxPpMq2xM0C"
      }
    },
    {
      "cell_type": "markdown",
      "source": [
        "### Store Problems by Average Weekly Interest"
      ],
      "metadata": {
        "id": "diI9BhNmMgWI"
      }
    },
    {
      "cell_type": "code",
      "source": [
        "# Upload the dataframe as parquet to GCS\n",
        "upload_dataframe_to_gcs(dataframe=problems_by_relevance, subdirectory=subdirectory, blob_name='problems_by_relevance.parquet')"
      ],
      "metadata": {
        "id": "3B8RAylIMy_M"
      },
      "execution_count": null,
      "outputs": []
    },
    {
      "cell_type": "code",
      "source": [
        "problems_by_relevance.head(3)"
      ],
      "metadata": {
        "id": "z6GlZyqwIwgV"
      },
      "execution_count": null,
      "outputs": []
    },
    {
      "cell_type": "markdown",
      "source": [
        "### Store weekly relevance over three years in problems"
      ],
      "metadata": {
        "id": "Gm7Dl1rAJq62"
      }
    },
    {
      "cell_type": "code",
      "source": [
        "problems_relevance_over_time = problems_interest_over_time\n",
        "upload_dataframe_to_gcs(dataframe=problems_relevance_over_time, subdirectory=subdirectory, blob_name='problems_relevance_over_time.parquet')"
      ],
      "metadata": {
        "id": "MR3lkYEbNWrT"
      },
      "execution_count": null,
      "outputs": []
    },
    {
      "cell_type": "markdown",
      "source": [
        "### Store Problems with No Relevance  "
      ],
      "metadata": {
        "id": "xgNnIZ4_NctW"
      }
    },
    {
      "cell_type": "code",
      "source": [
        "zero_relevance_problems = zero_relevance_problems_df\n",
        "upload_dataframe_to_gcs(dataframe=zero_relevance_problems, subdirectory=subdirectory, blob_name='zero_relevance_problems.parquet')"
      ],
      "metadata": {
        "id": "qR5ELff-Oi6F"
      },
      "execution_count": null,
      "outputs": []
    },
    {
      "cell_type": "code",
      "source": [
        "zero_relevance_problems.head(3)"
      ],
      "metadata": {
        "id": "uHtFlpQvSRU7"
      },
      "execution_count": null,
      "outputs": []
    },
    {
      "cell_type": "markdown",
      "source": [
        "## Store Data on Relevance of Needs"
      ],
      "metadata": {
        "id": "R4-JyXyhx1dj"
      }
    },
    {
      "cell_type": "markdown",
      "source": [
        "## Store Needs by Average Weekly Interest"
      ],
      "metadata": {
        "id": "YkpZowSZx5Ko"
      }
    },
    {
      "cell_type": "code",
      "source": [
        "# Upload the dataframe as parquet to GCS\n",
        "upload_dataframe_to_gcs(dataframe=needs_by_relevance, subdirectory=subdirectory, blob_name='needs_by_relevance.parquet')"
      ],
      "metadata": {
        "id": "VFQAX2kwyhzq"
      },
      "execution_count": null,
      "outputs": []
    },
    {
      "cell_type": "code",
      "source": [
        "needs_by_relevance.head(3)"
      ],
      "metadata": {
        "id": "ZFIkKv6QOmzy"
      },
      "execution_count": null,
      "outputs": []
    },
    {
      "cell_type": "markdown",
      "source": [
        "### Store weekly relevance data for needs over the past three years"
      ],
      "metadata": {
        "id": "lYxyHf8ftThJ"
      }
    },
    {
      "cell_type": "code",
      "source": [
        "# Upload the dataframe as parquet to GCS\n",
        "upload_dataframe_to_gcs(dataframe=needs_interest_over_time_all, subdirectory=subdirectory, blob_name='needs_interest_over_time.parquet')"
      ],
      "metadata": {
        "id": "TI37gUSe1UrX"
      },
      "execution_count": null,
      "outputs": []
    },
    {
      "cell_type": "code",
      "source": [
        "needs_interest_over_time_all.head(3)"
      ],
      "metadata": {
        "id": "I8d04J1m1JH2"
      },
      "execution_count": null,
      "outputs": []
    },
    {
      "cell_type": "markdown",
      "source": [
        "### Store Needs with No Relevance\n"
      ],
      "metadata": {
        "id": "1XwSr4vo1OQ0"
      }
    },
    {
      "cell_type": "code",
      "source": [
        "# Upload the dataframe as parquet to GCS\n",
        "upload_dataframe_to_gcs(dataframe=zero_relevance_needs, subdirectory=subdirectory, blob_name='zero_relevance_needs.parquet')"
      ],
      "metadata": {
        "id": "WOb80EYP2q8H"
      },
      "execution_count": null,
      "outputs": []
    },
    {
      "cell_type": "code",
      "source": [
        "zero_relevance_needs.head()"
      ],
      "metadata": {
        "id": "DAnnxlnf16vb"
      },
      "execution_count": null,
      "outputs": []
    }
  ],
  "metadata": {
    "colab": {
      "provenance": [],
      "authorship_tag": "ABX9TyOBsNdN+rLw2eD0+4ZzxJSW",
      "include_colab_link": true
    },
    "kernelspec": {
      "display_name": "Python 3",
      "name": "python3"
    },
    "language_info": {
      "name": "python"
    }
  },
  "nbformat": 4,
  "nbformat_minor": 0
}