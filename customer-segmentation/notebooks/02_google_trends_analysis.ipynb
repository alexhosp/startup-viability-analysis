{
  "cells": [
    {
      "cell_type": "markdown",
      "metadata": {
        "id": "view-in-github",
        "colab_type": "text"
      },
      "source": [
        "<a href=\"https://colab.research.google.com/github/alexhosp/startup-viability-analysis/blob/main/customer-segmentation/notebooks/02_google_trends_analysis.ipynb\" target=\"_parent\"><img src=\"https://colab.research.google.com/assets/colab-badge.svg\" alt=\"Open In Colab\"/></a>"
      ]
    },
    {
      "cell_type": "markdown",
      "metadata": {
        "id": "89KE7CuAreAt"
      },
      "source": [
        "# Google Trends: Data Analysis\n",
        "## Introduction\n",
        "This notebook analyzes Google Search trends for keywords related to our proposed prototype features as well as problems and user needs addressed by the prototype. By identifying the most relevant keywords and observing how interest in these keywords has changed over the last three years, we can gather insights that will guide future customer segmentation analyis."
      ]
    },
    {
      "cell_type": "markdown",
      "metadata": {
        "id": "r-uGjS5kvNC9"
      },
      "source": [
        "## Contents\n",
        "Contents\n",
        "1. [Data Overview](#data-overview)\n",
        "  1. [Loading Data from GCS](#loading-data)\n",
        "  2. [Description of Loaded Data](#description-of-available-data)\n",
        "  3. [Brief Evaluation of Data with No Interest](#data-no-interest)\n",
        "2. [Key Features Analysis](#key-features-analysis)\n",
        "  1. [Definition of Most Relevant Features](#most-relevant-features)\n",
        "  2. [Detailed Trend Analysis of Key Features](#key-features-trend-analysis)\n",
        "    1. [Moderate Interest Features](#trends-moderate-features)\n",
        "    2. [High Interest Features](#trends-high-features)\n",
        "    3. [Critical Interest Features](#trends-critical-features)\n",
        "  3. [Visualizations: Interest Over Time for Key Features](#features-visualizations)\n",
        "    1. [Moderate Interst Features](#features-moderate-visualizations)\n",
        "    2. [High Interest Features](#features-high-visualizations)\n",
        "    3. [Critical Interest Features](#features-critical-visualizations)\n",
        "3. [Key Problems Analysis](#key-problems-analysis)\n",
        "  1. [Definition of Most Relevant Problems](#most-relevant-problems)\n",
        "  2. [Detailed Trend Analysis of Key Problems](#key-problems-trend-analysis)\n",
        "    1. [Critical Interest Problems](#trends-critical-problems)\n",
        "  3. [Visualizations: Interest Over Time for Key Problems](#problems-visualizations)\n",
        "    1. [Critical Interest Problems](#problems-critical-visualizations)\n",
        "4. [Key Needs Analysis](#key-needs-analysis)\n",
        "  1. [Definition of Most Relevant Needs](#most-relevant-needs)\n",
        "  2. [Detailed Trend Analysis of Key Needs](#key-needs-trend-analysis)\n",
        "    1. [Moderate Interest Needs](#trends-moderate-needs)\n",
        "    2. [High Interest Needs](#trends-high-needs)\n",
        "    3. [Critical Interest Needs](#trends-critical-needs)\n",
        "  3. [Visualizations: Interest Over Time for Key Needs](#needs-visualizations)\n",
        "    1. [Moderate Interest Needs](#visualizations-moderate-needs)\n",
        "    2. [High Interest Needs](#visualizations-high-needs)\n",
        "    3. [Critical Interest Needs](#visualizations-critical-needs)\n",
        "5. [Contextual Exploration of Most Relevant Keywords](#contextual-exploration)\n",
        "  1. [Summary Table: Most Relevant Keywords out of All Categories](#most-relevant-keywords)\n",
        "  2. [Relevant Categories and Sub-categories](#categories)\n",
        "  3. Trending Related Searches\n",
        "6. Presentation of Results and Insights\n",
        "  1. Keyword Performance Results\n",
        "  2. Insights on Interest Patterns in Most Relevant Keywords\n",
        "  3. Contextual Exploration Insights\n",
        "  4. Visualization of Key Insights\n",
        "7. Conclusion\n",
        "  1. Summary of Key Insights\n",
        "  2. Relevance for Further Analysis\n",
        "  3. Relevance for Market Understanding\n",
        "  4. Relevance for Prototype Development\n",
        "8. Next Steps\n",
        "  1. Future Analysis Plan"
      ]
    },
    {
      "cell_type": "markdown",
      "metadata": {
        "id": "8ShhsifNwoAN"
      },
      "source": [
        "<a name='data-overview'></a>\n",
        "## Data Overview\n",
        "* Load data from GCS.\n",
        "* Describe structure, format and contents of data.\n",
        "* Evaluate keywords that did not receive interest and will not be included in the analysis.\n"
      ]
    },
    {
      "cell_type": "markdown",
      "metadata": {
        "id": "fpckeuFS7T8V"
      },
      "source": [
        "<a name='loading-data'></a>\n",
        "## Loading Data from GCS\n",
        "* Import necessary libraries\n",
        "* Authenticate and access GCS\n",
        "* Load data from storage bucket"
      ]
    },
    {
      "cell_type": "code",
      "execution_count": null,
      "metadata": {
        "id": "wjvuwWu59KXe"
      },
      "outputs": [],
      "source": [
        "# Import necessary libraries\n",
        "from google.cloud import storage\n",
        "import pandas as pd\n",
        "from google.colab import auth"
      ]
    },
    {
      "cell_type": "code",
      "execution_count": null,
      "metadata": {
        "id": "_BIbFtkO-LYx"
      },
      "outputs": [],
      "source": [
        "# Authenticate with GCP\n",
        "auth.authenticate_user()\n"
      ]
    },
    {
      "cell_type": "code",
      "execution_count": null,
      "metadata": {
        "id": "tKBlJj8V-gEm"
      },
      "outputs": [],
      "source": [
        "# Set up GCS client\n",
        "project_id = 'idyllic-gear-422709-g4'\n",
        "storage_client = storage.Client(project=project_id)"
      ]
    },
    {
      "cell_type": "code",
      "execution_count": null,
      "metadata": {
        "id": "dsSYgWlC-yQo"
      },
      "outputs": [],
      "source": [
        "# Define storage location\n",
        "bucket_name = 'startup-viability-analysis'\n",
        "bucket = storage_client.get_bucket(bucket_name)\n",
        "bucket"
      ]
    },
    {
      "cell_type": "code",
      "execution_count": null,
      "metadata": {
        "id": "lS_vtfiSDABG"
      },
      "outputs": [],
      "source": [
        "# Define sub-folder name\n",
        "base_path = 'google_trends/'"
      ]
    },
    {
      "cell_type": "code",
      "execution_count": null,
      "metadata": {
        "id": "Ic8Up8dz-7H3"
      },
      "outputs": [],
      "source": [
        "# Define function to load parquet files from GCS\n",
        "def load_parquet(bucket, file_path):\n",
        "  \"\"\"\n",
        "  Load a Parquet file from a Google Cloud Storage bucket into a pandas DataFrame.\n",
        "\n",
        "  Args:\n",
        "      bucket (google.cloud.storage.bucket.Bucket): The Google Cloud Storage bucket object.\n",
        "      file_path (str): The path to the Parquet file within the GCS bucket.\n",
        "\n",
        "  Returns:\n",
        "      pd.DataFrame: The loaded data as a pandas DataFrame.\n",
        "\n",
        "  Example:\n",
        "      df = load_parquet_from_gcs(bucket, 'path/to/your/file.parquet')\n",
        "  \"\"\"\n",
        "  # Create a Blob object for the specified file path within the bucket\n",
        "  blob = bucket.blob(file_path)\n",
        "\n",
        "  # Open the blob as a file object and read it into a pandas DataFrame\n",
        "  with blob.open(\"rb\") as f:\n",
        "      df = pd.read_parquet(f)\n",
        "  return df"
      ]
    },
    {
      "cell_type": "markdown",
      "metadata": {
        "id": "7JL2Uk9WB9uk"
      },
      "source": [
        "### Load Data for Keywords with No Relevance"
      ]
    },
    {
      "cell_type": "code",
      "execution_count": null,
      "metadata": {
        "id": "tkyGc-0lCMAy"
      },
      "outputs": [],
      "source": [
        "# Load dataframe with features with no interest\n",
        "zero_relevance_features = load_parquet(bucket, base_path + 'zero_interest_features.parquet')\n",
        "zero_relevance_features.head(2)"
      ]
    },
    {
      "cell_type": "code",
      "execution_count": null,
      "metadata": {
        "id": "2kjZ8mJEDax7"
      },
      "outputs": [],
      "source": [
        "# Load dataframe with problems with no interest (relevance)\n",
        "zero_relevance_problems = load_parquet(bucket, base_path + 'zero_relevance_problems.parquet')\n",
        "zero_relevance_problems.head(2)"
      ]
    },
    {
      "cell_type": "code",
      "execution_count": null,
      "metadata": {
        "id": "U1oxTTkMD0IC"
      },
      "outputs": [],
      "source": [
        "# Load dataframe with needs with no interest (relevance)\n",
        "zero_relevance_needs = load_parquet(bucket, base_path + 'zero_relevance_needs.parquet')\n",
        "zero_relevance_needs.head(2)"
      ]
    },
    {
      "cell_type": "markdown",
      "metadata": {
        "id": "LkZMwyUJD8Nt"
      },
      "source": [
        "### Load Data for Keywords Sorted by Relevance"
      ]
    },
    {
      "cell_type": "code",
      "execution_count": null,
      "metadata": {
        "id": "wQOibK4qEHR1"
      },
      "outputs": [],
      "source": [
        "# Load features by interest dataframe\n",
        "features_by_interest = load_parquet(bucket, base_path + 'features_by_interest.parquet')\n",
        "features_by_interest.head(2)"
      ]
    },
    {
      "cell_type": "code",
      "execution_count": null,
      "metadata": {
        "id": "6Cgeq6_fEaIH"
      },
      "outputs": [],
      "source": [
        "# Load problems by relevance dataframe\n",
        "problems_by_relevance = load_parquet(bucket, base_path + 'problems_by_relevance.parquet')\n",
        "problems_by_relevance.head(2)"
      ]
    },
    {
      "cell_type": "code",
      "execution_count": null,
      "metadata": {
        "id": "Ip7O6UWnEk6C"
      },
      "outputs": [],
      "source": [
        "# Load needs by relevance dataframe\n",
        "needs_by_relevance = load_parquet(bucket, base_path + 'needs_by_relevance.parquet')\n",
        "needs_by_relevance.head(2)"
      ]
    },
    {
      "cell_type": "markdown",
      "metadata": {
        "id": "tClWoA-PEvtB"
      },
      "source": [
        "### Load Data For Keywords Interest Over Time"
      ]
    },
    {
      "cell_type": "code",
      "execution_count": null,
      "metadata": {
        "id": "hTwEKMO8E-8T"
      },
      "outputs": [],
      "source": [
        "# Load data for features interest over time\n",
        "features_interest_over_time = load_parquet(bucket, base_path + 'features_interest_over_time.parquet')\n",
        "features_interest_over_time.tail(2)"
      ]
    },
    {
      "cell_type": "code",
      "execution_count": null,
      "metadata": {
        "id": "hH0puhrWFIcR"
      },
      "outputs": [],
      "source": [
        "# Load data for problems relevance over time\n",
        "problems_relevance_over_time = load_parquet(bucket, base_path + 'problems_relevance_over_time.parquet')\n",
        "problems_relevance_over_time.tail(2)"
      ]
    },
    {
      "cell_type": "code",
      "execution_count": null,
      "metadata": {
        "id": "V_PyrpmyFVsp"
      },
      "outputs": [],
      "source": [
        "# Load data for needs relevance over time\n",
        "needs_relevance_over_time = load_parquet(bucket, base_path + 'needs_interest_over_time.parquet')\n",
        "needs_relevance_over_time.tail(2)"
      ]
    },
    {
      "cell_type": "markdown",
      "metadata": {
        "id": "oAj4_OJKFayD"
      },
      "source": [
        "<a name='description-of-available-data'></a>\n",
        "## Description of Loaded Data\n",
        "* Describe metrics used by Google Trends\n",
        "* Describe the format of the data\n",
        "* Describe the structure of the data\n",
        "* Describe the contents of the data"
      ]
    },
    {
      "cell_type": "markdown",
      "metadata": {
        "id": "IEnLcMuO5aE2"
      },
      "source": [
        "#### Understanding Google Trends Metrics:\n",
        "Google Trends data is sampled and rated on a scale from 1 to 100, with 100 representing the highest search interest for the selected time and location. This data is normalized to reflect the percentage of searches for a specific term relative to the total number of searches at that time and location, rather than showing the absolute number of searches. This approach provides a relative measure of interest, indicating how popular a search term is compared to overall search volume in the given context. I evaluated searches worldwide over a period of 3 years.\n",
        "\n",
        "[More information](https://newsinitiative.withgoogle.com/resources/trainings/google-trends/basics-of-google-trends/#:~:text=Understanding%20the%20numbers,-By%20now%2C%20we&text=Indexing%3A%20Google%20Trends%20data%20is,the%20time%20and%20location%20selected.)\n"
      ]
    },
    {
      "cell_type": "markdown",
      "metadata": {
        "id": "YbSV7BO6GCUH"
      },
      "source": [
        "### Data Format\n",
        "All data is stored in the `google_trends` subfolder in Google Cloud Storage (GCS) as Parquet files. These files were loaded into the notebook using a function that reads them into pandas DataFrames.\n",
        "\n"
      ]
    },
    {
      "cell_type": "markdown",
      "metadata": {
        "id": "wuHWfKrJeuvE"
      },
      "source": [
        "### Data Structure and Contents\n",
        "The dataset comprises three different data structures: keywords with no relevance, keywords sorted by overall relevance, and keywords sorted by time. Each structure is consistently formatted across features, problems, and needs.\n"
      ]
    },
    {
      "cell_type": "markdown",
      "metadata": {
        "id": "qCItjuU6fnm4"
      },
      "source": [
        "#### Structure 1: Keywords with No Relevance\n",
        "##### Description:\n",
        "* The dataframes `zero_relevance_features`, `zero_relevance_problems`, and `zero_relevance_needs` share this structure.\n",
        "* These dataframes contain keywords that received no significant search interest over the last three years.\n",
        "\n",
        "##### Index:\n",
        "The dataframe uses a sequential numerical index.\n",
        "##### Columns:\n",
        "\n",
        "- `zero_interest_keywords`: Contains the keyword as searched with the Google Trends API. The datatype is a string.\n",
        "\n",
        "##### Example Data:"
      ]
    },
    {
      "cell_type": "code",
      "execution_count": null,
      "metadata": {
        "id": "33hbxjFggP8a"
      },
      "outputs": [],
      "source": [
        "# Example data for feature keywords with no relevane\n",
        "zero_relevance_features.head(3)"
      ]
    },
    {
      "cell_type": "code",
      "execution_count": null,
      "metadata": {
        "id": "SipL595LgUfc"
      },
      "outputs": [],
      "source": [
        "# Example data for problems keywords with no relevance\n",
        "zero_relevance_problems.head(3)"
      ]
    },
    {
      "cell_type": "code",
      "execution_count": null,
      "metadata": {
        "id": "kSoz7IHshs2-"
      },
      "outputs": [],
      "source": [
        "# Example data for needs problems with zero interest\n",
        "zero_relevance_needs.head(3)"
      ]
    },
    {
      "cell_type": "markdown",
      "metadata": {
        "id": "bGGH99BPjseH"
      },
      "source": [
        "#### Structure 2: Keywords by Relevance\n",
        "##### Description:\n",
        "* The dataframes `features_by_interest`, `problems_by_relevance`, and `needs_by_relevance` share this structure.\n",
        "* These dataframes contain keywords with substantial interest, sorted in descending order by aggregated interest over the last 3 years.\n",
        "* The dataframe contains no null-values.\n",
        "\n",
        "##### Index:\n",
        "The dataframe uses the keywords as the index.\n",
        "##### Columns:\n",
        "\n",
        "- `interest`: Interest collected in weekly intervals over three years summed up. The datatype is an int64.\n",
        "- `weekly_average_interest`: Average weekly interest over the 3-year period, scaled from 1 to 100. This column provides a measure of relative interest similar to the one used by Google Trends, but it represents the average over the entire time period. Rounded to 3 decimals. The datatype is a float64.\n",
        "\n",
        "##### Example Data:"
      ]
    },
    {
      "cell_type": "code",
      "execution_count": null,
      "metadata": {
        "id": "a0oZgBDKmT2p"
      },
      "outputs": [],
      "source": [
        "# Example data for features sorted by relevance\n",
        "features_by_interest.head(3)"
      ]
    },
    {
      "cell_type": "code",
      "execution_count": null,
      "metadata": {
        "id": "ci8iJqUqmVpX"
      },
      "outputs": [],
      "source": [
        "# Example data for problems sorted by relevance\n",
        "problems_by_relevance.head(3)"
      ]
    },
    {
      "cell_type": "code",
      "execution_count": null,
      "metadata": {
        "id": "sws76Xn7vPVN"
      },
      "outputs": [],
      "source": [
        "# Example data for needs sorted by relevance\n",
        "needs_by_relevance.head(3)"
      ]
    },
    {
      "cell_type": "markdown",
      "metadata": {
        "id": "bUnde9co6_Kc"
      },
      "source": [
        "#### Structure 3: Keywords by Weekly Interest\n",
        "##### Description:\n",
        "* The dataframes `features_interest_over_time`, `problems_relevance_over_time` and `needs_relevance_over_time` share this structure.\n",
        "* These dataframes contain the weekly interest for each keyword over a period of 3 years, with interest aggregated in weekly intervals by Google Trends.\n",
        "* The dataframes contains no empty columns.\n",
        "\n",
        "##### Index:\n",
        "The dataframe uses the date as an index, representing weekly intervals.\n",
        "##### Columns:\n",
        "Each column name represents a keyword for which interest is collected weekly over a period of 3 years.\n",
        "\n",
        "##### Example Data:"
      ]
    },
    {
      "cell_type": "code",
      "execution_count": null,
      "metadata": {
        "id": "X4t4DkDg7Z_A"
      },
      "outputs": [],
      "source": [
        "# Example data for interest over time in features\n",
        "features_interest_over_time.head(3)"
      ]
    },
    {
      "cell_type": "code",
      "execution_count": null,
      "metadata": {
        "id": "zNFJK3VY8eBK"
      },
      "outputs": [],
      "source": [
        "# Example data for relevance over time of problems\n",
        "problems_relevance_over_time.head(3)"
      ]
    },
    {
      "cell_type": "code",
      "execution_count": null,
      "metadata": {
        "id": "h786cRPt9AHj"
      },
      "outputs": [],
      "source": [
        "# Example data for relevance over time of needs\n",
        "needs_relevance_over_time.tail(3)"
      ]
    },
    {
      "cell_type": "markdown",
      "metadata": {
        "id": "6CZn-ojb9Bve"
      },
      "source": [
        "<a name='data-no-interest'></a>\n",
        "## Brief Evaluation of Data with No Relevance\n",
        "This section explores the dataframes containing keywords that received no significant search interest over the last three years.\n",
        "- Analyzing the keywords to determine if the lack of interest is due to the concepts they represent or if the keywords were not chosen well.\n",
        "- Assessing the overall number of keywords that received no interest.\n"
      ]
    },
    {
      "cell_type": "markdown",
      "metadata": {
        "id": "oH8NAfRKBDFH"
      },
      "source": [
        "### Assessing Keywords Representing Proposed Features\n",
        "- Use Google Trends to check if there are related queries that are more popular\n",
        "- Use semantic expansion to find similar words and check relevance"
      ]
    },
    {
      "cell_type": "code",
      "execution_count": null,
      "metadata": {
        "id": "BZjpvu8PBNN2"
      },
      "outputs": [],
      "source": [
        "zero_relevance_features"
      ]
    },
    {
      "cell_type": "code",
      "execution_count": null,
      "metadata": {
        "collapsed": true,
        "id": "DgRLOy28BPcK"
      },
      "outputs": [],
      "source": [
        "# Install and import necessary libraries\n",
        "!pip install pytrends\n",
        "!pip install urllib3==1.25.11\n",
        "from pytrends.request import TrendReq"
      ]
    },
    {
      "cell_type": "code",
      "execution_count": null,
      "metadata": {
        "id": "MAm9wQuSDrXm"
      },
      "outputs": [],
      "source": [
        "# Initialize the Pytrends object\n",
        "headers = {\n",
        "    'User-Agent': 'Mozilla/5.0 (Windows NT 10.0; Win64; x64) AppleWebKit/537.36 (KHTML, like Gecko) Chrome/91.0.4472.124 Safari/537.36',\n",
        "    'Accept': 'text/html,application/xhtml+xml,application/xml;q=0.9,image/webp,*/*;q=0.8',\n",
        "    'Accept-Language': 'en-US,en;q=0.5',\n",
        "    'Connection': 'keep-alive',\n",
        "    'Referer': 'https://www.google.com'\n",
        "}\n",
        "\n",
        "pytrends = TrendReq(hl='en-US', tz=360, retries=3, requests_args={'headers': headers})\n",
        "\n",
        "# Define the timeframe (same as all data previously collected)\n",
        "timeframe = '2021-06-21 2024-06-23'"
      ]
    },
    {
      "cell_type": "code",
      "execution_count": null,
      "metadata": {
        "id": "hWckBR9QFUCb"
      },
      "outputs": [],
      "source": [
        "# Define list of keywords to find related searches for\n",
        "\n",
        "# Test with a list of simple keywords\n",
        "keywords = zero_relevance_features['zero_interest_keywords'].tolist()\n",
        "len(keywords)"
      ]
    },
    {
      "cell_type": "code",
      "execution_count": null,
      "metadata": {
        "id": "7BN78qIbOATT"
      },
      "outputs": [],
      "source": [
        "# Initialize an empty list to store the DataFrames\n",
        "suggestions_list = []"
      ]
    },
    {
      "cell_type": "code",
      "execution_count": null,
      "metadata": {
        "id": "yLaxqnvGKuhY"
      },
      "outputs": [],
      "source": [
        "# Loop through list of keywords\n",
        "for keyword in keywords:\n",
        "    # Get suggestions for the keyword\n",
        "    suggestions = pd.DataFrame(pytrends.suggestions(keyword))\n",
        "\n",
        "    # Drop the 'mid' column\n",
        "    if 'mid' in suggestions.columns:\n",
        "      suggestions.drop(columns=['mid'], inplace=True)\n",
        "\n",
        "    # Add a column for the original keyword\n",
        "    suggestions['keyword'] = keyword\n",
        "\n",
        "    # Append the DataFrame to the list\n",
        "    suggestions_list.append(suggestions)"
      ]
    },
    {
      "cell_type": "code",
      "execution_count": null,
      "metadata": {
        "id": "8o_xOwvyHqB0"
      },
      "outputs": [],
      "source": [
        "# Check for more relevant keywords for the first of 20 search terms\n",
        "\n",
        "# Return the search term\n",
        "suggestions_list[0]['keyword'][0]"
      ]
    },
    {
      "cell_type": "code",
      "execution_count": null,
      "metadata": {
        "id": "3vqmXO04Pt__"
      },
      "outputs": [],
      "source": [
        "# Return the suggested searches and evaluate briefly\n",
        "suggestions_list[0]"
      ]
    },
    {
      "cell_type": "markdown",
      "metadata": {
        "id": "4SR4ph7bQZHl"
      },
      "source": [
        "#### Insights:\n",
        "A topic associated with the feature 'versatile for various agricultural needs' is drone technology. Additionally, Vetsark, a technology company focused on improving animal health and agriculture through digital solutions, also appears.\n",
        "#### Conclusion:\n",
        "This interest is addressed by some farming technologies. However, the feature described by the keyword seems to be a **niche interest**. Related keywords do not offer better alternatives for the wording."
      ]
    },
    {
      "cell_type": "code",
      "execution_count": null,
      "metadata": {
        "id": "-3WAWqpsVO_8"
      },
      "outputs": [],
      "source": [
        "# Briefly evaluating the next search term\n",
        "suggestions_list[1]\n",
        "# Return the search term\n",
        "suggestions_list[1]['keyword'][0]"
      ]
    },
    {
      "cell_type": "code",
      "execution_count": null,
      "metadata": {
        "id": "eE56hmU0VTnl"
      },
      "outputs": [],
      "source": [
        "# Return suggested terms for this keyword\n",
        "suggestions_list[1]"
      ]
    },
    {
      "cell_type": "markdown",
      "metadata": {
        "id": "KvhUkjPMVoIM"
      },
      "source": [
        "#### Insights:\n",
        "Suggested terms for \"Organic gardening helper\" include 'The Harvest Helper', a book about organic gardening, indoor gardening equipment, and various gardening supplies like paper pulp seed trays and jute string for training plants.\n",
        "#### Conclusion:\n",
        "The concept of a gardening helper is not commonly associated with agricultural technology. The results don't provide better search terms. The **keyword is unrelated to our product** for most potential customers."
      ]
    },
    {
      "cell_type": "code",
      "execution_count": null,
      "metadata": {
        "id": "euwYoEdBYKYL"
      },
      "outputs": [],
      "source": [
        "suggestions_list[2]['keyword'][0]"
      ]
    },
    {
      "cell_type": "code",
      "execution_count": null,
      "metadata": {
        "id": "jKVaGV-DYgdv"
      },
      "outputs": [],
      "source": [
        "suggestions_list[2]"
      ]
    },
    {
      "cell_type": "markdown",
      "metadata": {
        "id": "CEXCbuhoYnxm"
      },
      "source": [
        "#### Conclusion:\n",
        "The interest only returns one suggested topic related to \"Hexapod mobility and agility,\" which is a scientific paper titled \"Control of the Stiffness of Robotic Appendages.\" This suggests that the feature is a **niche interest** primarily within the scientific community and not broadly applicable to a wider audience."
      ]
    },
    {
      "cell_type": "code",
      "execution_count": null,
      "metadata": {
        "id": "DiITgcmIZZ3u"
      },
      "outputs": [],
      "source": [
        "suggestions_list[3]['keyword'][0]"
      ]
    },
    {
      "cell_type": "code",
      "execution_count": null,
      "metadata": {
        "id": "YFFyUW9mZhD2"
      },
      "outputs": [],
      "source": [
        "suggestions_list[3]"
      ]
    },
    {
      "cell_type": "markdown",
      "metadata": {
        "id": "AXd2OljCZjs6"
      },
      "source": [
        "#### Conclusion:\n",
        "The results suggest that the keyword \"Educational information on plants and environments\" is an interest spanning several audiences. The suggestions include a coloring book for children, a textbook for undergraduate and graduate students, a book for hobby gardeners, and a science book for older children. None of these suggestions are associated with agricultural technology. Therefore, the keyword is a niche interest and **not commonly related to our product**. Additionally, none of the suggested keywords provide better search terms"
      ]
    },
    {
      "cell_type": "code",
      "execution_count": null,
      "metadata": {
        "id": "E14krZWPbEQH"
      },
      "outputs": [],
      "source": [
        "suggestions_list[4]['keyword'][0]"
      ]
    },
    {
      "cell_type": "code",
      "execution_count": null,
      "metadata": {
        "id": "HgiNAgjwbotj"
      },
      "outputs": [],
      "source": [
        "suggestions_list[4]"
      ]
    },
    {
      "cell_type": "markdown",
      "metadata": {
        "id": "QsT8r6cPbrdP"
      },
      "source": [
        "### Conclusion:\n",
        "The keyword is a broad interest and has many applications in scientific research, including modeling water sources, modeling forrest ecosystems, landscape design,modeling ecosystems for specific animal species. It is **not commonly associated with our product**, and the results do not provide a better search term."
      ]
    },
    {
      "cell_type": "markdown",
      "metadata": {
        "id": "hX2HvVGhdf97"
      },
      "source": [
        "### Hypothesis\n",
        "Most of the results from the related searches do not provide better suggestions for search terms consisting of more than 3 words.\n"
      ]
    },
    {
      "cell_type": "code",
      "execution_count": null,
      "metadata": {
        "id": "CNIgWCOHebN4"
      },
      "outputs": [],
      "source": [
        "# Return full list of keywords with no interst for the features\n",
        "zero_relevance_features"
      ]
    },
    {
      "cell_type": "markdown",
      "metadata": {
        "id": "l1F1BzJ7ek-B"
      },
      "source": [
        "### Observation:\n",
        "All keywords consist of strings with more than 3 words."
      ]
    },
    {
      "cell_type": "code",
      "execution_count": null,
      "metadata": {
        "id": "j-RAAworevhV"
      },
      "outputs": [],
      "source": [
        "# Check keywords with no interest for the other areas of interest\n",
        "\n",
        "# Return all problems with zero relevance\n",
        "zero_relevance_problems"
      ]
    },
    {
      "cell_type": "code",
      "execution_count": null,
      "metadata": {
        "id": "DBNssa_2e4jK"
      },
      "outputs": [],
      "source": [
        "# Return all needs with zero relevance\n",
        "zero_relevance_needs"
      ]
    },
    {
      "cell_type": "code",
      "execution_count": null,
      "metadata": {
        "id": "gUO7_iV7e_FS"
      },
      "outputs": [],
      "source": [
        "# Compare successful keywords\n",
        "features_by_interest.head()"
      ]
    },
    {
      "cell_type": "markdown",
      "metadata": {
        "id": "uAYltNsifNHz"
      },
      "source": [
        "Observation: The most successful keywords are strings of two words."
      ]
    },
    {
      "cell_type": "code",
      "execution_count": null,
      "metadata": {
        "id": "xQsp6FOzfcNX"
      },
      "outputs": [],
      "source": [
        "# Check the other areas of interest\n",
        "problems_by_relevance.head()"
      ]
    },
    {
      "cell_type": "markdown",
      "metadata": {
        "id": "OgeIVjaeff3w"
      },
      "source": [
        "Observation: Here the most successful keyword consists of less words than all others."
      ]
    },
    {
      "cell_type": "code",
      "execution_count": null,
      "metadata": {
        "id": "xOP8zyEifyLO"
      },
      "outputs": [],
      "source": [
        "needs_by_relevance.head()"
      ]
    },
    {
      "cell_type": "markdown",
      "metadata": {
        "id": "EpfQZA-Pf07l"
      },
      "source": [
        "Observation: The pattern is also represented in this dataset. The most successful searches are ones that consist of less keywords."
      ]
    },
    {
      "cell_type": "markdown",
      "metadata": {
        "id": "OAjvmqEDgGbo"
      },
      "source": [
        "#### Conclusion:\n",
        "One reason for the low relevance of all keywords that received no interest is their lenght. The shorter search terms are the more likely they are to receive interest. This is not the only factor that influences interst, and it can be observed that some terms consisting of more keywords receive more interest than others with less keywords. A good next step would be reducing the word count in all keywords that did not receive any interst, at best reduction to a lenght of one to two keywords."
      ]
    },
    {
      "cell_type": "code",
      "execution_count": null,
      "metadata": {
        "id": "JTt9mVqxgxXW"
      },
      "outputs": [],
      "source": [
        "# Test this hypothesis\n",
        "zero_relevance_features.head(4)"
      ]
    },
    {
      "cell_type": "markdown",
      "metadata": {
        "id": "XdZbre7ckIkn"
      },
      "source": [
        "### ⚠️ Google Trends Data Collection Issues ⚠️\n",
        "\n",
        "\n",
        "Due to recent changes on the Google Trend page, the data collection of `trends_over_time `, using the `Pytrends` library is currently facing issues. The specific problem is a 429 error, causing all requests to fail.\n",
        "\n",
        "I would usually call the below method to test my hypothesis, but since there currently is issues to do so, I will do a manual search through the web UI.\n",
        "\n",
        "For more details and to track progress on this issue, please visit the [GitHub Issue](https://github.com/GeneralMills/pytrends/issues/625).\n",
        "\n",
        "---\n",
        "\n",
        "**⚠️ Important**: If you are viewing this notebook and would like to attempt to run the code, please be aware that it may not function as intended due to these external limitations.\n"
      ]
    },
    {
      "cell_type": "code",
      "execution_count": null,
      "metadata": {
        "collapsed": true,
        "id": "HC8yM1aHiexI"
      },
      "outputs": [],
      "source": [
        "# Change 'Versatile for various agricultural needs' to 'Versatile Gardening Robot'\n",
        "# Change 'Hexapod Mobility and Agility' to 'Agile Hexapod'\n",
        "# Change 'Educational information on plants and environments' to 'Environment Information'\n",
        "\n",
        "# Build payload for Pytrends\n",
        "kw_list = [\"Versatile Gardening Robot\", 'Agile Hexapod', 'Environment Information']\n",
        "pytrends.build_payload(kw_list, timeframe=timeframe)\n",
        "\n",
        "# Get interest over the last 3 years for this keyword\n",
        "pytrends.interest_over_time()"
      ]
    },
    {
      "cell_type": "markdown",
      "metadata": {
        "id": "PcETUhu8kxnH"
      },
      "source": [
        "### Manual Search Results\n",
        "- Open the Google Trends website and enter 'Versatile Gardening Robot', 'Agile Hexapod' and 'Environment Information'\n",
        "\n",
        "#### Results:\n",
        "'Versatile Gardening Robot' and 'Agile Hexapod' still return no significant data, 'Environment Information' does.\n",
        "\n",
        "#### Conclusion:\n",
        "The next step will be to refine all keywords by reducing word counts in the search strings.\n",
        "\n"
      ]
    },
    {
      "cell_type": "markdown",
      "metadata": {
        "id": "ztbmYpC1m644"
      },
      "source": [
        "<a name='key-features-analysis'></a>\n",
        "## Key Features Analysis\n",
        "- Show and evaluate the proposed features that are most relevant to potential customers.\n",
        "- Analyze trends, fluctuations, and consistency in interest for most relevant features.\n",
        "- Visualize and evaluate interest over time for the key features."
      ]
    },
    {
      "cell_type": "markdown",
      "metadata": {
        "id": "vGm8DfvdoH7s"
      },
      "source": [
        "<a name='most-relevant-features'></a>\n",
        "### Summary Table: Features with Highest Relevance\n",
        "- Present features sorted by their relevance.\n",
        "- Determine features with significant relevance.\n",
        "- Establish thresholds to classify features into the following categories:\n",
        "  - Critical: Essential and highly relevant features.\n",
        "    - Average weekly interest 75% - 100%\n",
        "  - High: Very important and significantly relevant features.\n",
        "    - Average weekly interest: 50% - 75%\n",
        "  - Moderate: Important but not essential features.\n",
        "    - Average weekly interest: 10% - 50%\n",
        "  - Low: Somewhat relevant but not crucial features.\n",
        "    - Average weekly interest: 0% - 10%"
      ]
    },
    {
      "cell_type": "code",
      "execution_count": null,
      "metadata": {
        "id": "j1s45jjqpYSo"
      },
      "outputs": [],
      "source": [
        "# Show proposed feature keywords by relevance table\n",
        "features_by_interest.head()"
      ]
    },
    {
      "cell_type": "code",
      "execution_count": null,
      "metadata": {
        "id": "MlOrJPe1BFK9"
      },
      "outputs": [],
      "source": [
        "# Calculate the relative interest of each keyword in relation to the highest interest keyword\n",
        "\n",
        "# Get the highest average weekly interest\n",
        "max_interest = features_by_interest['weekly_average_interest'].max()\n",
        "\n",
        "# Add a column with the relative interest as a percentage for each datapoint\n",
        "features_by_interest['relative_interest'] = (features_by_interest['weekly_average_interest'] / max_interest * 100).round().astype(int)\n",
        "features_by_interest.head(3)"
      ]
    },
    {
      "cell_type": "code",
      "execution_count": null,
      "metadata": {
        "id": "LpGMiFL7CrNK"
      },
      "outputs": [],
      "source": [
        "# Define edges for the four bins\n",
        "bin_edges = [-0.001, 10, 50, 75, 100]\n",
        "\n",
        "# Define labels for the four bins\n",
        "labels = ['Low', 'Moderate', 'High', 'Critical']"
      ]
    },
    {
      "cell_type": "code",
      "execution_count": null,
      "metadata": {
        "id": "hcIxm9TRSOG5"
      },
      "outputs": [],
      "source": [
        "# Create a new categorical column with relevance categories\n",
        "features_by_interest['relevance'] = pd.cut(features_by_interest['relative_interest'], bins=bin_edges, labels=labels, include_lowest=True)\n",
        "features_by_interest.head(10)"
      ]
    },
    {
      "cell_type": "code",
      "execution_count": null,
      "metadata": {
        "id": "IEeNrx_vgrX4"
      },
      "outputs": [],
      "source": [
        "# Show data in the last bin as a percentage\n",
        "total_features = len(features_by_interest)\n",
        "low_interest_features = len(features_by_interest[features_by_interest['relevance'] == 'Low'])\n",
        "\n",
        "low_relevance = (low_interest_features / total_features) * 100\n",
        "print(f\"Percentage of features in the 'Low' category: {round(low_relevance)}%\")"
      ]
    },
    {
      "cell_type": "markdown",
      "metadata": {
        "id": "i_VzyXyjhgFB"
      },
      "source": [
        "### Interpretation of the Results\n",
        "- 80% of Proposed Features Have Low Relevance:\n",
        "  - These features have an average weekly interest below 10%.\n",
        "  - These features should not be considered for the prototype.\n",
        "- Moderate Relevance:\n",
        "  - One proposed feature, 'Food System Health', has moderate relevance.\n",
        "  - Patterns in interest  should be further analyzed to determine if interest is rising.\n",
        "- High Relevance:\n",
        "  - Three features have high relevance:\n",
        "      - 'Educational Value'\n",
        "      - 'Plant Identification'\n",
        "      - 'Remote Access and Control'\n",
        "  - Patterns and context of interest in these features need to be analyzed. These features are likely to attract customers and are valuable for future analysis.\n",
        "- Critical Relevance:\n",
        "  - Two proposed features have critical relevance:\n",
        "    - 'Solar Powered'\n",
        "    - 'Plant Detection'\n",
        "  - Patterns and context of interest needs to be analyzed in detail. These features have a strong customer base and are essential for customer segmentation analysis, market analysis, and competitor analysis. They are also candidates for inclusion in the first prototype (MVP)."
      ]
    },
    {
      "cell_type": "markdown",
      "metadata": {
        "id": "whdUafNGmCJA"
      },
      "source": [
        "<a name='key-features-trend-analysis'></a>\n",
        "## Detailed Trend Analysis of Key Features\n",
        "- Analyze trends in interest for features with moderate to critical relevance\n",
        "  - Calculate and interpret summary statistics\n",
        "    - Count\n",
        "    - Mean\n",
        "    - Standard Deviations\n",
        "    - Minimum Interest\n",
        "    - Maximum Interest\n",
        "    - Quartiles\n",
        "    - Variance (inferred)\n",
        "  - Identify Trends\n",
        "    - Determine if interest over the last 3 years is increasing, decreasing or stable.\n",
        "    - Determine peaks and troughts in interest.\n",
        "    - Determine if interest is currently rising or falling.\n",
        "- Interpret analysis results"
      ]
    },
    {
      "cell_type": "markdown",
      "metadata": {
        "id": "vOzbwsXhqR3E"
      },
      "source": [
        "#### Summary Statistics for Features with Moderate Interest"
      ]
    },
    {
      "cell_type": "code",
      "execution_count": null,
      "metadata": {
        "id": "gySzoRrfqm8x"
      },
      "outputs": [],
      "source": [
        "# Show features with moderate interest\n",
        "features_by_interest[features_by_interest['relevance'] == 'Moderate']"
      ]
    },
    {
      "cell_type": "code",
      "execution_count": null,
      "metadata": {
        "id": "YhtShECgqyb6"
      },
      "outputs": [],
      "source": [
        "# Show summary statistics for trends for features with moderate interest\n",
        "\n",
        "# Create a list of features with moderate interst\n",
        "moderate_interest = features_by_interest[features_by_interest['relevance'] == 'Moderate'].index\n",
        "\n",
        "# Find matching columns in the interest over time dataframe\n",
        "matching_columns = [col for col in features_interest_over_time.columns if col in moderate_interest]\n",
        "\n",
        "# Return the matching columns in the interst over time dataframe\n",
        "moderate_interest_df = features_interest_over_time[matching_columns]\n",
        "\n",
        "# Show summary statistics for the feature(s)\n",
        "summary_stats_moderate_interest = moderate_interest_df.describe().round().astype(int)\n",
        "summary_stats_moderate_interest"
      ]
    },
    {
      "cell_type": "markdown",
      "metadata": {
        "id": "3p63VwYcrCHo"
      },
      "source": [
        "**Interpretation of Results:**\n",
        "\n",
        "- There are 157 weekly observations for this feature.\n",
        "- Interest tends to cluster at a moderate value of 15.\n",
        "- Interest levels typically deviate from the mean by 4 units, which is a low standard deviation. This indicates consistent interest over time.\n",
        "- The lowest interest recorded is 3, meaning this feature was consistently searched over the last 3 years. There has been no week without interest, indicating continuous interest.\n",
        "- The quartiles show little variation in interest. The 25th percentile is 11, the median is 15, and the 75th percentile is 18, further supporting the consistency in interest levels.\n",
        "- The maximum interest level of 26 indicates that interest reached a 'High' level at least once over the last 3 years.\n",
        "- These summary statistics indicate a continuously moderate interest in the feature 'Food system health'. This suggests stable and reliable interest."
      ]
    },
    {
      "cell_type": "markdown",
      "metadata": {
        "id": "nfq8oAAgtx97"
      },
      "source": [
        "#### Summary Statistics for Features with High Interest"
      ]
    },
    {
      "cell_type": "code",
      "execution_count": null,
      "metadata": {
        "id": "e9iM0YGCyUEs"
      },
      "outputs": [],
      "source": [
        "# Define a function that returns columns in the features_interest_over_time dataframe by interest level in the features_by_relevance dataframe\n",
        "\n",
        "def get_relevant_keywords_df(features_by_interest, features_interest_over_time, relevance_level):\n",
        "    \"\"\"\n",
        "    Returns a DataFrame with the relevant columns for a specified relevance level.\n",
        "\n",
        "    Parameters:\n",
        "    features_by_interest (pd.DataFrame): DataFrame containing feature relevance information with 'relevance' column.\n",
        "    features_interest_over_time (pd.DataFrame): DataFrame containing weekly interest data for features.\n",
        "    relevance_level (str): The relevance level to filter by.\n",
        "\n",
        "    Returns:\n",
        "    pd.DataFrame: DataFrame with the relevant columns in features_interest_over_time.\n",
        "    \"\"\"\n",
        "    # Create a list of features with the specified relevance level\n",
        "    relevant_features = features_by_interest[features_by_interest['relevance'] == relevance_level].index\n",
        "\n",
        "    # Find matching columns in the interest over time dataframe\n",
        "    matching_columns = [col for col in features_interest_over_time.columns if col in relevant_features]\n",
        "\n",
        "    # Return the matching columns in the interest over time dataframe\n",
        "    relevant_features_df = features_interest_over_time[matching_columns]\n",
        "\n",
        "    return relevant_features_df\n"
      ]
    },
    {
      "cell_type": "code",
      "execution_count": null,
      "metadata": {
        "id": "ypdt9sxlzkke"
      },
      "outputs": [],
      "source": [
        "# Get a dataframe for all features with 'High' interest\n",
        "high_interest_df = get_relevant_keywords_df(features_by_interest, features_interest_over_time, 'High')\n",
        "high_interest_df.head(3)"
      ]
    },
    {
      "cell_type": "code",
      "execution_count": null,
      "metadata": {
        "id": "0Cl1a_Owz1r_",
        "collapsed": true
      },
      "outputs": [],
      "source": [
        "# Show summary stats for high interest features\n",
        "summary_stats_high_interest = high_interest_df.describe().round().astype(int)\n",
        "summary_stats_high_interest"
      ]
    },
    {
      "cell_type": "markdown",
      "metadata": {
        "id": "hUGkKfuC0Eg6"
      },
      "source": [
        "#### Interpretation of Results\n",
        "- There are 157 weekly observations for all features.\n",
        "- **Educational Value:**\n",
        "  - Interest tends to cluster around a high value of 56.\n",
        "  - Interest levels typically deviate by the mean by 16 units, indicating significant variability in interest.\n",
        "  - The lowest weekly interest over the last three years is 22, which is significantly below the mean but still indicates moderate interest.\n",
        " - The quartile values indicate moderate variability, with interest generally tending to be on the higher side.\n",
        "  - The feature received interest of 100, the highest possible value, at least once over the last 3 years.\n",
        "- **Remote access and control:**\n",
        "  - Interest tends to cluster around a high value of 48.\n",
        "  - Interest levels typically deviate from the mean by 24 units, indicating high variability in interest.\n",
        "  - The lowest weekly interest over the last three years is 0, indicating that this feature received no interest at least once over the period.\n",
        "  - The quartile values show moderate variability. The very low values (minimum of 0) pull the mean down, making it smaller than the median.\n",
        "  - The feature received interest of 100, the highest possible value, at least once over the last 3 years.\n",
        "- **Plant identificationn:**\n",
        "  - Interest tends to cluster around a high value of 54.\n",
        "  - Interest levels typically deviate from the mean by 18 units, indicating significant variability in interest.\n",
        "  -  The lowest weekly interest over the last three years is 26, which is the highest minimum value among the high-interest features, indicating a relatively high continuous interest.\n",
        "  - The quartile values show moderate variability, with interest values generally being higher than the mean.\n",
        "  - The feature received interest of 100, the highest possible value, at least once over the last 3 years.\n",
        "  \n",
        "  **Summary:**\n",
        "  While all three features show peaks at 100, 'Remote Access and Control' has the highest variability and instances of no interest, whereas 'Plant Identification' has the most consistent high interest with the highest minimum value. 'Educational Value' remains the most stable with moderate variability and consistently high interest.\n",
        "\n",
        "\n",
        "\n",
        "\n",
        "\n",
        "\n"
      ]
    },
    {
      "cell_type": "markdown",
      "metadata": {
        "id": "ZuEz3aFG75m3"
      },
      "source": [
        "#### Summary Statistics for Features with Critical Interest"
      ]
    },
    {
      "cell_type": "code",
      "execution_count": null,
      "metadata": {
        "id": "D_pgiOym8BPU",
        "collapsed": true
      },
      "outputs": [],
      "source": [
        "# Get a dataframe for all features with 'Critical' interest\n",
        "critical_interest_df = get_relevant_keywords_df(features_by_interest, features_interest_over_time, 'Critical')\n",
        "critical_interest_df.head(3)"
      ]
    },
    {
      "cell_type": "code",
      "execution_count": null,
      "metadata": {
        "id": "gSl7end28Le0",
        "collapsed": true
      },
      "outputs": [],
      "source": [
        "# Show summary stats for critical features\n",
        "summary_stats_critical_interest = critical_interest_df.describe().round().astype(int)\n",
        "summary_stats_critical_interest"
      ]
    },
    {
      "cell_type": "markdown",
      "metadata": {
        "id": "pI7dSOuJ8XIo"
      },
      "source": [
        "#### Interpretation of Results\n",
        "- There are 157 weekly observations for all features.\n",
        "- **Plant detection:**\n",
        "  - Interest tends to cluster around a high value of 64.\n",
        "  - Interest levels typically deviate by the mean by 17 units, indicating some variability in interest.\n",
        "  - The lowest weekly interest over the last three years is 23, which is significantly below the mean but still indicates moderate interest.\n",
        " - The quartile values indicate moderate variability, with interest generally tending to be on the higher side.\n",
        "  - The feature received interest of 100, the highest possible value, at least once over the last 3 years.\n",
        "- **Solar powered:**\n",
        "  - Interest tends to cluster around a critical value of 75.\n",
        "  - Interest levels typically deviate from the mean by 12 units, indicating low variability in interest.\n",
        "  - The lowest weekly interest over the last three years is 51, indicating that this feature consistently receives high interest.\n",
        "  - The quartile values show low variability. Indicating continuously high interest in this feature.\n",
        "  - The feature received interest of 100, the highest possible value, at least once over the last 3 years.\n",
        "  \n",
        "  **Summary:**\n",
        "Both features show continuously high interest. 'Solar powered' never received an interest value less than 51. This shows consistently high interest with very low variability, indicating a highly stable and critical feature. 'Plant detection' also receives continuously high interest, but with more variation compared to 'Solar Powered'.\n",
        "The interest levels vary more, but the feature remains highly relevant overall."
      ]
    },
    {
      "cell_type": "markdown",
      "metadata": {
        "id": "Cmscj8dZ_R5R"
      },
      "source": [
        "### Trend Analyis\n",
        "- Analyze trends in interest for features with moderate, high and critical interest\n",
        "- Interpret results"
      ]
    },
    {
      "cell_type": "markdown",
      "metadata": {
        "id": "xnV7N2K4AG_m"
      },
      "source": [
        "<a name='trends-moderate-features'></a>\n",
        "### Trend Analysis for Features with Moderate Interest\n",
        "- Assess whether interest has been increasing, decreasing, or stable over the past 3 years.\n",
        "- Identify the peaks and troughs in interest levels.\n",
        "- Determine the current trend in interest, whether it is rising or falling."
      ]
    },
    {
      "cell_type": "code",
      "execution_count": null,
      "metadata": {
        "id": "ICZggb70ANFk",
        "collapsed": true
      },
      "outputs": [],
      "source": [
        "moderate_interest_df.head(3)"
      ]
    },
    {
      "cell_type": "code",
      "execution_count": null,
      "metadata": {
        "id": "e1jhHR36LgzP"
      },
      "outputs": [],
      "source": [
        "# Import necessary libraries\n",
        "from scipy.stats import linregress"
      ]
    },
    {
      "cell_type": "code",
      "execution_count": null,
      "metadata": {
        "id": "go9IB2TzIPvs",
        "collapsed": true
      },
      "outputs": [],
      "source": [
        "# Transform dates to ordinal and add a new column (continuous value for time)\n",
        "\n",
        "# Create a copy of the original DataFrame\n",
        "moderate_interest_ordinal = moderate_interest_df.copy()\n",
        "\n",
        "# Reset the index to convert the date index to a column in the copied DataFrame\n",
        "moderate_interest_ordinal.reset_index(inplace=True)\n",
        "\n",
        "# Convert the date column to ordinal\n",
        "moderate_interest_ordinal['date_ordinal'] = moderate_interest_ordinal['date'].apply(lambda x: x.toordinal())\n",
        "moderate_interest_ordinal.head(3)"
      ]
    },
    {
      "cell_type": "code",
      "execution_count": null,
      "metadata": {
        "id": "8JWyjQC9LYEU",
        "collapsed": true
      },
      "outputs": [],
      "source": [
        "# Perform linear regression\n",
        "result = linregress(moderate_interest_ordinal['date_ordinal'], moderate_interest_ordinal['Food system health'])\n",
        "\n",
        "# Extract the slope and p-value\n",
        "slope = result.slope\n",
        "p_value = result.pvalue\n",
        "\n",
        "# Display the results\n",
        "print(f\"Slope: {slope}\")\n",
        "print(f\"P-value: {p_value}\")\n"
      ]
    },
    {
      "cell_type": "code",
      "execution_count": null,
      "metadata": {
        "id": "VAWpWiWWNo7L",
        "collapsed": true
      },
      "outputs": [],
      "source": [
        "# Calculate increase in interest per year\n",
        "print(f'Yearly increase in interest: {round(slope * 365, 2)} units')"
      ]
    },
    {
      "cell_type": "markdown",
      "metadata": {
        "id": "nRSTa6uROncx"
      },
      "source": [
        "#### Interpretation of Results:\n",
        "* Interest in the proposed feature 'Food system health' is increasing at a yearly rate of ~1.74 units\n",
        "* The p-value ~3.35*e^-6 indicates that this positive trend is statistically significant.\n",
        "* This increase in interest makes the proposed feature relevant for future analysis.\n"
      ]
    },
    {
      "cell_type": "markdown",
      "metadata": {
        "id": "DOHH6ae9Pgxt"
      },
      "source": [
        "#### Identify the Peaks and Throughs in Moderate Interest Features\n"
      ]
    },
    {
      "cell_type": "code",
      "execution_count": null,
      "metadata": {
        "id": "GnwrK8r_SUwr"
      },
      "outputs": [],
      "source": [
        "# Import necessary libraries\n",
        "from scipy.signal import find_peaks"
      ]
    },
    {
      "cell_type": "code",
      "execution_count": null,
      "metadata": {
        "id": "Ht4N-OZmS-Rq",
        "collapsed": true
      },
      "outputs": [],
      "source": [
        "# Initialize a dictionary to store results for each feature\n",
        "peaks_dict = {}\n",
        "throughs_dict = {}\n",
        "\n",
        "# Iterate over each column in the DataFrame\n",
        "for column in moderate_interest_df.columns:\n",
        "    # Identify peaks\n",
        "    peaks, _ = find_peaks(moderate_interest_df[column]) # Returns an array of local maxima\n",
        "\n",
        "    # Identify troughs by inverting the data\n",
        "    throughs, _ = find_peaks(-moderate_interest_df[column]) # Returns an array of local minima\n",
        "\n",
        "    # Create a DataFrame to store the results for peaks\n",
        "    moderate_interest_peaks = pd.DataFrame({\n",
        "        'Date': moderate_interest_df.index,\n",
        "        'Interest': moderate_interest_df[column],\n",
        "        'Peak': [True if i in peaks else False for i in range(len(moderate_interest_df))]\n",
        "    })\n",
        "\n",
        "    # Create a DataFrame to store the results for troughs\n",
        "    moderate_interest_throughs = pd.DataFrame({\n",
        "        'Date': moderate_interest_df.index,\n",
        "        'Interest': moderate_interest_df[column],\n",
        "        'Through': [True if i in throughs else False for i in range(len(moderate_interest_df))]\n",
        "    })\n",
        "\n",
        "    # Store the DataFrames in the dictionaries\n",
        "    peaks_dict[column] = moderate_interest_peaks\n",
        "    throughs_dict[column] = moderate_interest_throughs\n",
        "\n",
        "# Display results for 'Food system health'\n",
        "print(\"Peaks for 'Food system health':\")\n",
        "print(peaks_dict['Food system health'].head())\n",
        "\n",
        "print(\"Throughs for 'Food system health':\")\n",
        "print(throughs_dict['Food system health'].head())"
      ]
    },
    {
      "cell_type": "code",
      "execution_count": null,
      "metadata": {
        "id": "sJ2cbxzaU6o8",
        "collapsed": true
      },
      "outputs": [],
      "source": [
        "# Return all peaks with dates\n",
        "peaks_only = peaks_dict['Food system health'][peaks_dict['Food system health']['Peak'] == True]\n",
        "peaks_only.tail(3)"
      ]
    },
    {
      "cell_type": "code",
      "execution_count": null,
      "metadata": {
        "id": "pMe_2BMBQRAO",
        "collapsed": true
      },
      "outputs": [],
      "source": [
        "# Return all throughs with dates\n",
        "throughs_only = throughs_dict['Food system health'][throughs_dict['Food system health']['Through'] == True]\n",
        "throughs_only.tail(3)"
      ]
    },
    {
      "cell_type": "code",
      "execution_count": null,
      "metadata": {
        "id": "3lhCuZjJVNY3",
        "collapsed": true
      },
      "outputs": [],
      "source": [
        "# Identify frequency of peaks\n",
        "\n",
        "# Calculate difference between consecutive peaks (add the difference to the next peak to the row of the previous)\n",
        "peaks_only['Difference'] = peaks_only['Date'].diff()\n",
        "peaks_only.head(3)"
      ]
    },
    {
      "cell_type": "code",
      "execution_count": null,
      "metadata": {
        "id": "aWEJ8z22lpG5",
        "collapsed": true
      },
      "outputs": [],
      "source": [
        "# Analyze frequency of values to check for any patterns in interest\n",
        "peaks_only['Difference'].value_counts()"
      ]
    },
    {
      "cell_type": "markdown",
      "metadata": {
        "id": "A-2HglRYmkMe"
      },
      "source": [
        "#### Interpretation of Results: Peaks\n",
        "* The interest follows regular patters of most commonly every two weeks (14 days), 3 weeks (21 days) to every month (28 days).\n",
        "* This suggests consistent events  or activities driving interest in 'Food system health'.\n",
        "* Peaks less commonly occur every 42, 49, or 56 days, indicating periodic but less frequent events or activities.\n",
        "* Some randomness is present, as indicated by unique intervals of 35 days and 84 days, occurring only once. These could be due to unexpected spikes or outlier events.\n",
        "* The data shows that there is always at least one peak every quarter (84 days).\n",
        "* Overall the proposed feature 'Food system health', receives interest in mostly regular patterns and in every quarter at least one peak of interest can be expected.\n",
        "* Causes for regular patterns are not limited to events or activities, external conditions (weather, health crises, climate change...), media coverage and others as well."
      ]
    },
    {
      "cell_type": "code",
      "execution_count": null,
      "metadata": {
        "id": "p01FUHbmRQf_",
        "collapsed": true
      },
      "outputs": [],
      "source": [
        "# Analyze frequency of throughts\n",
        "\n",
        "# Calculate difference between consecutive throughs\n",
        "throughs_only['Difference'] = throughs_only['Date'].diff()\n",
        "throughs_only.head(3)"
      ]
    },
    {
      "cell_type": "code",
      "execution_count": null,
      "metadata": {
        "id": "hWNUqeCETawZ",
        "collapsed": true
      },
      "outputs": [],
      "source": [
        "# Analyze frequency of values to check for any patterns in interest\n",
        "throughs_only['Difference'].value_counts()"
      ]
    },
    {
      "cell_type": "markdown",
      "metadata": {
        "id": "1w5w8rKPTutk"
      },
      "source": [
        "#### Interpretation of Results: Throughs\n",
        "* The interest follows regular patters of most commonly every 3 weeks (21 days), 2 weeks (14 days) and 5 weeks (35 days).\n",
        "* This suggests consistent events  or activities driving interest in 'Food system health'.\n",
        "* Peaks less commonly occur every 28, 42, or 56 days.\n",
        "* Some randomness is present, as indicated by unique intervals of 49 days and 70 days, occurring only once.\n",
        "* The data shows that there is always at least one peak every 10 weeks (70 days), which is slightly less than the longest interval for troughs (84 days).\n",
        "* Overall, peaks occur slightly more frequently, with the most frequent interval being 2 weeks, while the most frequent interval for troughs is 3 weeks. This indicates that the interest in 'Food system health' rises more often than it falls, signifying a general upward trend in interest.\n"
      ]
    },
    {
      "cell_type": "code",
      "execution_count": null,
      "metadata": {
        "id": "brRgu7jorr68",
        "collapsed": true
      },
      "outputs": [],
      "source": [
        "# Anlayze magnitudes of peaks in interest over the years\n",
        "\n",
        "# Sort peaks by interest\n",
        "peaks_by_interst = peaks_only.sort_values(by='Interest', ascending=False)\n",
        "peaks_by_interst.head(3)\n"
      ]
    },
    {
      "cell_type": "code",
      "execution_count": null,
      "metadata": {
        "id": "qExPe6Zd-95x",
        "collapsed": true
      },
      "outputs": [],
      "source": [
        "# Show the date with the highest peak\n",
        "highest_peak = peaks_by_interst.iloc[0]['Date'].strftime(\"%m/%d/%Y\")\n",
        "print(f\"The date with the highest peak in interest is {highest_peak}\")"
      ]
    },
    {
      "cell_type": "code",
      "execution_count": null,
      "metadata": {
        "id": "hK1K98R7Ywi_"
      },
      "outputs": [],
      "source": [
        "# Determine the date with the lowest through\n",
        "\n",
        "# Sort throughs by interest\n",
        "throughs_by_interst = throughs_only.sort_values(by='Interest', ascending=True)\n",
        "\n",
        "# Show the date with the lowest through\n",
        "lowest_through = throughs_by_interst.iloc[0]['Date'].strftime(\"%m/%d/%Y\")\n",
        "print(f\"The date with the lowest through in interest is {lowest_through}\")"
      ]
    },
    {
      "cell_type": "code",
      "execution_count": null,
      "metadata": {
        "id": "__5wHgHOAbx7",
        "collapsed": true
      },
      "outputs": [],
      "source": [
        "# Find the highest peak in every year\n",
        "peaks_by_year = peaks_only.groupby(peaks_only['Date'].dt.year)['Interest'].max()\n",
        "peaks_by_year"
      ]
    },
    {
      "cell_type": "markdown",
      "metadata": {
        "id": "3kkClOT-AteG"
      },
      "source": [
        "The data indicates a consistent year-over-year increase in interest, with the highest peak of interest rising each year. Specifically, the highest peaks were 17 in 2021, 20 in 2022, 22 in 2023, and 26 in 2024."
      ]
    },
    {
      "cell_type": "code",
      "execution_count": null,
      "metadata": {
        "id": "ECUW-cmtbweP",
        "collapsed": true
      },
      "outputs": [],
      "source": [
        "# Find the lowest through every year\n",
        "throughs_by_year = throughs_only.groupby(throughs_only['Date'].dt.year)['Interest'].min()\n",
        "throughs_by_year"
      ]
    },
    {
      "cell_type": "markdown",
      "metadata": {
        "id": "d7dvVHQMcEBB"
      },
      "source": [
        "The data indicates that interest levels fluctuate over time. Specifically, interest levels rose slightly from 2021 to 2022, followed by a significant dip in 2023. However, in 2024, the lowest dip in interest is higher than any of the previous years, suggesting increased interest."
      ]
    },
    {
      "cell_type": "code",
      "execution_count": null,
      "metadata": {
        "id": "kaZ7WKzJA85v",
        "collapsed": true
      },
      "outputs": [],
      "source": [
        "# Find out if there were years with significantly higher or lower overall peaks\n",
        "\n",
        "# Calculate the average peak per year\n",
        "\n",
        "# Create a new colum with only the year for each datapoint\n",
        "peaks_by_interst['Year'] = peaks_by_interst['Date'].dt.year\n",
        "\n",
        "# Calculate the average peak per year\n",
        "average_peak_per_year = peaks_by_interst.groupby('Year')['Interest'].mean().round().astype(int)\n",
        "average_peak_per_year"
      ]
    },
    {
      "cell_type": "markdown",
      "metadata": {
        "id": "i48PQwCmB7rn"
      },
      "source": [
        "The data indicates a consistent increase in the overall interest peaks over the years. The average peak interest values rose from 14 in 2021 to 16 in 2022, 18 in 2023, and 21 in 2024. This suggests overall growing interest."
      ]
    },
    {
      "cell_type": "code",
      "execution_count": null,
      "metadata": {
        "id": "Zlt0xth7xx7_",
        "collapsed": true
      },
      "outputs": [],
      "source": [
        "# Find out if there were years with significantly higher or lower overall throughs\n",
        "\n",
        "# Create a new colum with only the year for each datapoint\n",
        "throughs_by_interst['Year'] = throughs_by_interst['Date'].dt.year\n",
        "\n",
        "# Calculate the average through per year\n",
        "average_through_per_year = throughs_by_interst.groupby('Year')['Interest'].mean().round().astype(int)\n",
        "average_through_per_year"
      ]
    },
    {
      "cell_type": "markdown",
      "metadata": {
        "id": "KfU8yIACyExS"
      },
      "source": [
        "The data indicates a consistent increase in the overall interest over the years. The value of the throughs consistently increase. The average through values rose from 10 in 2021 to 13 in 2022 and 2023, and 16 in 2024. This suggests overall growing interest. Peak values and through values are  close in value, indicating overall stable interest in 'Food system health'. Throughs and peaks are both increasing over the years, indicating stable growth in interest."
      ]
    },
    {
      "cell_type": "markdown",
      "metadata": {
        "id": "RruAESdLDOrz"
      },
      "source": [
        "#### Determine if Interest in Moderate Interest Features is Currently Rising\n",
        "* Determine if interst is currently rising (at the date of collection of the newest datapoint)\n",
        "* Determine since when interest has been rising or falling"
      ]
    },
    {
      "cell_type": "code",
      "execution_count": null,
      "metadata": {
        "id": "TnU48NZTEAC5",
        "collapsed": true
      },
      "outputs": [],
      "source": [
        "# Check if interest is currently rising - interest is rising if the last peak is higher than the previous peak\n",
        "peaks_only.tail(4)"
      ]
    },
    {
      "cell_type": "code",
      "execution_count": null,
      "metadata": {
        "id": "GlC7th4gFsca"
      },
      "outputs": [],
      "source": [
        "last_peak = peaks_only.iloc[-1]['Interest']\n",
        "previous_peak = peaks_only.iloc[-2]['Interest']\n",
        "\n",
        "is_rising = last_peak > previous_peak\n",
        "print(f\"Interest is currently rising: {is_rising}\")\n"
      ]
    },
    {
      "cell_type": "markdown",
      "metadata": {
        "id": "dxBsLh_kGf3c"
      },
      "source": [
        "Currently interest is falling."
      ]
    },
    {
      "cell_type": "code",
      "execution_count": null,
      "metadata": {
        "id": "3WU8NJDsHWgx"
      },
      "outputs": [],
      "source": [
        "# Determine since when interest is falling\n",
        "peaks_only.tail(4)"
      ]
    },
    {
      "cell_type": "code",
      "execution_count": null,
      "metadata": {
        "id": "OuU6i7p5Ioq6"
      },
      "outputs": [],
      "source": [
        "peaks_dict['Food system health'].tail(12)"
      ]
    },
    {
      "cell_type": "markdown",
      "metadata": {
        "id": "homwVXpLJxMG"
      },
      "source": [
        "By examining the dataframe containing information about peaks in interest, it is evident that interest has been decreasing for the past three weeks as of the last date of data collection. The current interest value is 11, which is significantly lower than the highest peak observed this year at 26. This trend clearly indicates that interest is on the decline."
      ]
    },
    {
      "cell_type": "markdown",
      "metadata": {
        "id": "h3SH06PtNhOA"
      },
      "source": [
        "<a name='trends-high-features'></a>\n",
        "#### Trend Analysis for Features with High Interest\n",
        "- Assess whether interest is increasing, decreasing, or stable over the past 3 years.\n",
        "- Identify the magnitude of peaks and troughs in interest levels.\n",
        "- Determine whether interest is currently rising or falling"
      ]
    },
    {
      "cell_type": "code",
      "execution_count": null,
      "metadata": {
        "id": "laOdmP_60l_k"
      },
      "outputs": [],
      "source": [
        "high_interest_df.head(3)"
      ]
    },
    {
      "cell_type": "code",
      "execution_count": null,
      "metadata": {
        "id": "fTPZPHeU0tjm"
      },
      "outputs": [],
      "source": [
        "# Define a function that assesses interest trends using linear regression analysis\n",
        "\n",
        "def analyze_interest_trends(df, slope_decimals=2):\n",
        "    \"\"\"\n",
        "    Analyzes interest trends over time for all columns in a DataFrame.\n",
        "\n",
        "    Parameters:\n",
        "    df (pd.DataFrame): DataFrame containing a date index and interest columns for each keyword.\n",
        "    slope_decimals (int): Number of decimal places to round the slope to.\n",
        "\n",
        "    Prints:\n",
        "    - Slope of the linear regression\n",
        "    - P-value of the linear regression\n",
        "    - Yearly increase in interest for each column\n",
        "    \"\"\"\n",
        "    # Create a copy of the original DataFrame\n",
        "    df_ordinal = df.copy()\n",
        "\n",
        "    # Reset the index to convert the date index to a column\n",
        "    df_ordinal.reset_index(inplace=True)\n",
        "\n",
        "    # Convert the date column to ordinal\n",
        "    df_ordinal['date_ordinal'] = df_ordinal['date'].apply(lambda x: x.toordinal())\n",
        "\n",
        "    # Perform linear regression for each column\n",
        "    for column_name in df.columns:\n",
        "        if column_name == 'date':\n",
        "            continue\n",
        "\n",
        "        result = linregress(df_ordinal['date_ordinal'], df_ordinal[column_name])\n",
        "\n",
        "        # Extract the slope and p-value\n",
        "        slope = result.slope\n",
        "        p_value = result.pvalue\n",
        "\n",
        "        # Print the results\n",
        "        print(f\"Analysis for '{column_name}':\")\n",
        "        print(f\"Slope: {slope.round(slope_decimals)}\")\n",
        "        print(f\"P-value: {p_value}\")\n",
        "        print(f'Yearly change in interest: {round(slope * 365, 2)} units')\n",
        "        print(\"-\" * 50)"
      ]
    },
    {
      "cell_type": "code",
      "execution_count": null,
      "metadata": {
        "id": "sdXy822G2UHE"
      },
      "outputs": [],
      "source": [
        "# Get the interest trends for all high interest keywords\n",
        "analyze_interest_trends(high_interest_df)"
      ]
    },
    {
      "cell_type": "markdown",
      "metadata": {
        "id": "ik2qcziM2jod"
      },
      "source": [
        "**Interpretation of Results:**\n",
        "* Interest in the proposed feature 'Educational value' is increasing at a yearly rate of ~3.83 units.\n",
        "* Interest in the proposed feature 'Remote access and control' is significantly increasing at a yearly rate of ~19.36 units.\n",
        "* Interest in the proposed feature 'Plant identification' is  decreasing at a yearly rate of ~4.6 units.\n",
        "* The p-values of all features indicates that the trend is statistically significant, with all of them having a value < 0.05.\n",
        "* The substantial increase in interest highlights this feature as especially valuable and relevant for further analysis and inclusion in the prototype.\n",
        "* Although the increase in interest is at a lower rate compared to 'Remote Access and Control', it remains a relevant feature for further analysis and consideration in the prototype.\n",
        "* Despite the decrease in interest, the rate of decline is relatively low, suggesting that it remains a relevant feature and a candidate for further analysis."
      ]
    },
    {
      "cell_type": "markdown",
      "metadata": {
        "id": "uWTQUpzQ620b"
      },
      "source": [
        "#### Analyze Peaks and Throughs in the High Interest Features\n",
        "* Determine peaks and throughs in interest\n",
        "* Determine the average yearly magnitude of peaks and throughs\n",
        "* Interpret the results"
      ]
    },
    {
      "cell_type": "code",
      "execution_count": null,
      "metadata": {
        "id": "MhVzeUsN4ejm"
      },
      "outputs": [],
      "source": [
        "# Define a function to calculate peaks and throughs in the dataset\n",
        "def get_peaks_and_troughs(df):\n",
        "    \"\"\"\n",
        "    Analyzes peaks and troughs for each column in the given DataFrame.\n",
        "\n",
        "    Parameters:\n",
        "    df (pd.DataFrame): DataFrame containing interest data with dates as the index.\n",
        "\n",
        "    Returns:\n",
        "    dict: Dictionary containing DataFrames with peaks and troughs as boolean columns for each interest column.\n",
        "    \"\"\"\n",
        "    result_dict = {}\n",
        "\n",
        "    # Iterate over each column in the DataFrame\n",
        "    for column in df.columns:\n",
        "        # Identify peaks\n",
        "        peaks, _ = find_peaks(df[column])  # Returns an array of local maxima\n",
        "\n",
        "        # Identify troughs by inverting the data\n",
        "        troughs, _ = find_peaks(-df[column])  # Returns an array of local minima\n",
        "\n",
        "        # Create a DataFrame to store the results for peaks and troughs\n",
        "        analysis_df = pd.DataFrame({\n",
        "            'Date': df.index,\n",
        "            'Interest': df[column],\n",
        "            'Peak': [True if i in peaks else False for i in range(len(df))],\n",
        "            'Trough': [True if i in troughs else False for i in range(len(df))]\n",
        "        })\n",
        "\n",
        "        # Set the index to Date\n",
        "        analysis_df.set_index('Date', inplace=True)\n",
        "\n",
        "        # Store the DataFrame in the dictionary\n",
        "        result_dict[column] = analysis_df\n",
        "\n",
        "    return result_dict"
      ]
    },
    {
      "cell_type": "code",
      "execution_count": null,
      "metadata": {
        "id": "eV9Xm2-J8eyR"
      },
      "outputs": [],
      "source": [
        "# Find peaks and throughs for high interest features\n",
        "peaks_throughs_dict = get_peaks_and_troughs(high_interest_df)\n",
        "peaks_throughs_dict.keys()"
      ]
    },
    {
      "cell_type": "code",
      "source": [
        "# Define a function to analyze peaks and throughs\n",
        "def analyze_peaks_and_troughs(df):\n",
        "    \"\"\"\n",
        "    Analyzes peaks and troughs in a DataFrame.\n",
        "\n",
        "    This function performs the following steps:\n",
        "    1. Filters the DataFrame to include only rows where either 'Peak' or 'Trough' is True.\n",
        "    2. Sorts the peaks and troughs by interest in descending and ascending order, respectively.\n",
        "    3. Calculates the average interest for peaks and troughs per year.\n",
        "    4. Calculates the dates of the highest peak and the lowest trough.\n",
        "    5. Prints the results.\n",
        "\n",
        "    Parameters:\n",
        "    df (pd.DataFrame): A DataFrame with columns 'Interest', 'Peak', and 'Trough',\n",
        "                       and a DateTimeIndex.\n",
        "\n",
        "    Returns:\n",
        "    tuple: Five pandas Series containing the average interest for peaks and troughs per year and\n",
        "    sorted peaks and troughs by interest.\n",
        "    \"\"\"\n",
        "    # Add a new column for the year\n",
        "    df['Year'] = df.index.year\n",
        "\n",
        "    # Filter for peaks and troughs\n",
        "    peaks_throughs_only = df[(df['Peak'] == True) | (df['Trough'] == True)]\n",
        "\n",
        "    # Sort peaks and troughs by interest\n",
        "    peaks_by_interest = peaks_throughs_only[peaks_throughs_only['Peak'] == True].sort_values(by='Interest', ascending=False)\n",
        "    troughs_by_interest = peaks_throughs_only[peaks_throughs_only['Trough'] == True].sort_values(by='Interest', ascending=True)\n",
        "\n",
        "    # Calculate average interest for peaks and troughs per year\n",
        "    average_peaks_per_year = peaks_throughs_only[peaks_throughs_only['Peak'] == True].groupby('Year')['Interest'].mean().round().astype(int)\n",
        "    average_troughs_per_year = peaks_throughs_only[peaks_throughs_only['Trough'] == True].groupby('Year')['Interest'].mean().round().astype(int)\n",
        "\n",
        "    # Show the date of the highest peak and the lowest trough\n",
        "    highest_peak_date = peaks_by_interest.index[0].strftime(\"%m/%d/%Y\") if not peaks_by_interest.empty else \"No peaks\"\n",
        "    lowest_trough_date = troughs_by_interest.index[0].strftime(\"%m/%d/%Y\") if not troughs_by_interest.empty else \"No troughs\"\n",
        "\n",
        "    # Print the results\n",
        "    print(f'The date with the highest interest is {highest_peak_date}')\n",
        "    print(\"-\" * 50)\n",
        "\n",
        "    print(f'The date with the lowest interest is {lowest_trough_date}')\n",
        "    print(\"-\" * 50)\n",
        "\n",
        "    print(\"Average Peaks Per Year:\")\n",
        "    print(average_peaks_per_year.to_string())\n",
        "    print(\"-\" * 50)\n",
        "\n",
        "    print(\"Average Troughs Per Year:\")\n",
        "    print(average_troughs_per_year.to_string())\n",
        "    print(\"-\" * 50)\n",
        "    return average_peaks_per_year, average_troughs_per_year, peaks_by_interest, troughs_by_interest"
      ],
      "metadata": {
        "id": "I8dK4cZxsUDJ"
      },
      "execution_count": null,
      "outputs": []
    },
    {
      "cell_type": "code",
      "source": [
        "# Analyze peaks and throughs for 'Educational value'\n",
        "peaks_throughs_dict['Educational value'].head(3)"
      ],
      "metadata": {
        "id": "AhjEKLMMB89N"
      },
      "execution_count": null,
      "outputs": []
    },
    {
      "cell_type": "code",
      "source": [
        "# Return analysis results\n",
        "average_peaks, average_troughs, peaks_by_interest, troughs_by_interest= analyze_peaks_and_troughs(peaks_throughs_dict['Educational value'])"
      ],
      "metadata": {
        "id": "5xJoc8vHtyNs"
      },
      "execution_count": null,
      "outputs": []
    },
    {
      "cell_type": "code",
      "source": [
        "# Calculate variation in peaks and throughs\n",
        "average_peaks.max() - average_peaks.min()\n",
        "average_troughs.max() - average_troughs.min()\n",
        "print(f'Variation in peaks: {average_peaks.max() - average_peaks.min()}')\n",
        "print(f'Variation in troughs: {average_troughs.max() - average_troughs.min()}')"
      ],
      "metadata": {
        "id": "GXyBvBM_v7tW"
      },
      "execution_count": null,
      "outputs": []
    },
    {
      "cell_type": "code",
      "source": [
        "# Return the value of the highest interest and the lowest interest\n",
        "print(f'Highest interest: {peaks_by_interest.iloc[0][\"Interest\"]}')\n",
        "print(f'Lowest interest: {troughs_by_interest.iloc[0][\"Interest\"]}')"
      ],
      "metadata": {
        "id": "_JbVSniSzXaL"
      },
      "execution_count": null,
      "outputs": []
    },
    {
      "cell_type": "markdown",
      "source": [
        "**Interpretation of Results: 'Educational value'**\n",
        "* The close proximity of the highest and lowest interest dates indicates significant fluctuations in interest levels within a short period. The reasons for this need to be explored further.\n",
        "* High variation in both peaks and troughs (25 and 19 units, respectively) shows substantial volatility in interest levels, highlighting the unstable interest in this feature.\n",
        "* Both average peak and trough interest levels show a general upward trend over the years, despite a dip in 2023. This dip suggests specific external factors negatively influenced interest levels in that year.\n",
        "* The peak interest reaching the maximum possible level (100) indicates 'Educational value' could potentially be a high-value feature for the prototype and deserves further analysis.\n",
        "* The lowest interest (22) demonstrates a baseline of moderate interest, ensuring consistent interest.\n",
        "* Overall, the data reveals a valuable feature with increasing overall interest, despite some fluctuations."
      ],
      "metadata": {
        "id": "UM-wLu0OxP6w"
      }
    },
    {
      "cell_type": "code",
      "source": [
        "# Analyze peaks and throughs for 'Remote access and control'\n",
        "peaks_throughs_dict['Remote access and control'].head(3)"
      ],
      "metadata": {
        "id": "xJxqf3LGCOV3"
      },
      "execution_count": null,
      "outputs": []
    },
    {
      "cell_type": "code",
      "source": [
        "# Return analysis results for 'Remote access and control'\n",
        "average_peaks, average_troughs, peaks_by_interest, troughs_by_interest = (\n",
        "    analyze_peaks_and_troughs(peaks_throughs_dict['Remote access and control'])\n",
        ")"
      ],
      "metadata": {
        "id": "-4wBpkA2Cf7e"
      },
      "execution_count": null,
      "outputs": []
    },
    {
      "cell_type": "code",
      "source": [
        "# Return the value of the highest interest and the lowest interest\n",
        "print(f'Highest interest: {peaks_by_interest.iloc[0][\"Interest\"]}')\n",
        "print(f'Lowest interest: {troughs_by_interest.iloc[0][\"Interest\"]}')"
      ],
      "metadata": {
        "id": "ZaTrL611DUmV"
      },
      "execution_count": null,
      "outputs": []
    },
    {
      "cell_type": "markdown",
      "source": [
        "**Interpretation of Results: 'Remote access and control'**\n",
        "\n",
        "* The date of the lowest interest (0), 08/01/2021 and the date of the largest interest (100) are far apart.\n",
        "* The average peak values show a steep upward trend over the last 3 years, with a highest peak of 43 in 2021 and a highest peak of 85 in 2024, and a lowest trough of 4 in 2021 and 54 in 2021.\n",
        "* The peak interest reaching the maximum possible level (100) recently and the fast increase in interest over the last 3 years makes 'Remote access and control' a high-value feature for the prototype and will be considered for further analysis.\n",
        "* The lowest interest values captured over the last 3 years demonstrate a baseline of moderate to high interest, which along with the rapidly rising interst in this feature makes 'Remote access and control' a prime feature to consider for the prototype."
      ],
      "metadata": {
        "id": "VGqnEb5XDqZN"
      }
    },
    {
      "cell_type": "code",
      "source": [
        "# Analyze peaks and troughs for 'Plant identification'\n",
        "peaks_throughs_dict['Plant identification'].head(3)"
      ],
      "metadata": {
        "id": "I9FU0J_YGCHO"
      },
      "execution_count": null,
      "outputs": []
    },
    {
      "cell_type": "code",
      "source": [
        "average_peaks, average_troughs, peaks_by_interest, troughs_by_interest = (\n",
        "    analyze_peaks_and_troughs(peaks_throughs_dict['Plant identification'])\n",
        ")"
      ],
      "metadata": {
        "id": "jPYl8u2XGGfZ"
      },
      "execution_count": null,
      "outputs": []
    },
    {
      "cell_type": "code",
      "source": [
        "# Return the value of the highest interest and the lowest interest\n",
        "print(f'Highest interest: {peaks_by_interest.iloc[0][\"Interest\"]}')\n",
        "print(f'Lowest interest: {troughs_by_interest.iloc[0][\"Interest\"]}')"
      ],
      "metadata": {
        "id": "-Kza9JeEGdkd"
      },
      "execution_count": null,
      "outputs": []
    },
    {
      "cell_type": "code",
      "source": [
        "# Calculate variation in peaks and throughs\n",
        "average_peaks.max() - average_peaks.min()\n",
        "average_troughs.max() - average_troughs.min()\n",
        "print(f'Variation in peaks: {average_peaks.max() - average_peaks.min()}')\n",
        "print(f'Variation in troughs: {average_troughs.max() - average_troughs.min()}')"
      ],
      "metadata": {
        "id": "SShQvb_XGjCr"
      },
      "execution_count": null,
      "outputs": []
    },
    {
      "cell_type": "markdown",
      "source": [
        "**Interpretation of Results: 'Plant identification'**\n",
        "\n",
        "* The dates of the lowest interest (44 on 12/17/2023) and the highest interest (100) are close together, indicating some variation in the data. However, a overall variation of 12 between peak and trough values is relatively low compared to other keywords. This suggests that the fluctuation in interest in 2023 most likely led to the high interest value.\n",
        "* Average peak values show a slight downward trend over the last 3 years, with peaks ranging from 51 in 2024 to 63 in 2022. Trough values indicate constant interest, with the highest trough also in 2022.\n",
        "* This feature should be further analyzed to understand the downward trend in interest. Despite the variation, it has shown consistently high interest over the last 3 years, and a significantly higher value for the lowest interest than the other keywords compared, this makes it a candidate for further analysis."
      ],
      "metadata": {
        "id": "VL9ylb30HEYr"
      }
    },
    {
      "cell_type": "markdown",
      "source": [
        "#### Determine Current Trend of High Value Features\n",
        "* Determine if interest in high-value features is currently rising or falling based on the last value collected and the last extrema value."
      ],
      "metadata": {
        "id": "QGAz2Si23sTW"
      }
    },
    {
      "cell_type": "code",
      "source": [
        "def determine_current_trend(df):\n",
        "    \"\"\"\n",
        "    Determines if the interest is currently increasing or decreasing based on the last extrema.\n",
        "\n",
        "    Parameters:\n",
        "    df (pd.DataFrame): A DataFrame with columns 'Interest', 'Peak', 'Trough', and 'Year',\n",
        "                       and a DateTimeIndex.\n",
        "\n",
        "    Returns:\n",
        "    None\n",
        "    \"\"\"\n",
        "    # Get the current interest value and date\n",
        "    current_value = df.iloc[-1]['Interest']\n",
        "    current_date = df.index[-1]\n",
        "\n",
        "    # Get the last trough value and date\n",
        "    last_trough = df[df['Trough']].iloc[-1]\n",
        "    last_trough_value = last_trough['Interest']\n",
        "    last_trough_date = last_trough.name\n",
        "\n",
        "    # Determine the current trend\n",
        "    if current_value > last_trough_value:\n",
        "        current_trend = \"increasing\"\n",
        "    else:\n",
        "        current_trend = \"decreasing\"\n",
        "\n",
        "    # Calculate the duration of the current trend\n",
        "    trend_duration_weeks = round((current_date - last_trough_date).days / 7)\n",
        "\n",
        "    # Print the results\n",
        "    print(f\"The last trough value was {last_trough_value} on {last_trough_date.strftime('%m/%d/%Y')}.\")\n",
        "    print(\"-\" * 50)\n",
        "    print(f\"The current interest value is {current_value} on {current_date.strftime('%m/%d/%Y')}.\")\n",
        "    print(\"-\" * 50)\n",
        "    print(f\"\\nThe interest is currently {current_trend} and has been observed for {trend_duration_weeks} week(s).\")"
      ],
      "metadata": {
        "id": "3fZNjMwY5RpM"
      },
      "execution_count": null,
      "outputs": []
    },
    {
      "cell_type": "code",
      "source": [
        "# Determine the current trend for 'Educational value'\n",
        "determine_current_trend(peaks_throughs_dict['Educational value'])"
      ],
      "metadata": {
        "id": "msBCVvV35nKk"
      },
      "execution_count": null,
      "outputs": []
    },
    {
      "cell_type": "markdown",
      "source": [
        "**Interpretation of Results: 'Educational value**\n",
        "* Interest in 'Educational value' is increasing since one week. Given this feature's fluctuations in interest, a longer period of increase in interest would be more indicative of a meaningful trend.\n",
        "* This trend should be further montitored to determine it's importance."
      ],
      "metadata": {
        "id": "AcVSp5av8jhZ"
      }
    },
    {
      "cell_type": "code",
      "source": [
        "# Determine the current trend for 'Remote access and control'\n",
        "determine_current_trend(peaks_throughs_dict['Remote access and control'])"
      ],
      "metadata": {
        "id": "DW2_pKqyBGGf"
      },
      "execution_count": null,
      "outputs": []
    },
    {
      "cell_type": "markdown",
      "source": [
        "**Interpretation of Results: 'Remote access and control**\n",
        "* Interest in this feature has been increasing over the last week\n",
        "* Interest in this feature is currently slighly higher than in 'Educational value'"
      ],
      "metadata": {
        "id": "kxavjNBPKswe"
      }
    },
    {
      "cell_type": "code",
      "source": [
        "# Determine the current trend for 'Plant identification'\n",
        "determine_current_trend(peaks_throughs_dict['Plant identification'])"
      ],
      "metadata": {
        "id": "lb_7hoF6LL_k"
      },
      "execution_count": null,
      "outputs": []
    },
    {
      "cell_type": "markdown",
      "source": [
        "**Interpretation of Results: 'Plant idenfification**\n",
        "* Interest in this feature is decreasing since four weeks, with it's overall interest being similar to the features compared.\n",
        "* The overall interest value is currently higher than in 'Educational value' but lower than interest in 'Remote access and control'"
      ],
      "metadata": {
        "id": "aH3BqgQ2LSDG"
      }
    },
    {
      "cell_type": "markdown",
      "source": [
        "<a name='trends-critical-features'></a>\n",
        "### Trend Analysis for Features with Critical Interest\n",
        "* Assess whether interest is increasing, decreasing, or stable over the past 3 years.\n",
        "* Assess peaks and troughs in interest levels.\n",
        "* Determine current trend in interest."
      ],
      "metadata": {
        "id": "YP2W6UC-LzM1"
      }
    },
    {
      "cell_type": "markdown",
      "source": [
        "#### Evaluation of Trend Direction and Magnitude"
      ],
      "metadata": {
        "id": "LDeXCPv-oVQ8"
      }
    },
    {
      "cell_type": "code",
      "source": [
        "critical_interest_df.head(3)"
      ],
      "metadata": {
        "id": "NotL8cDRMNUI"
      },
      "execution_count": null,
      "outputs": []
    },
    {
      "cell_type": "code",
      "source": [
        "# Get interest trends for critical interst features\n",
        "analyze_interest_trends(critical_interest_df)"
      ],
      "metadata": {
        "id": "e3T_23NYMXBS"
      },
      "execution_count": null,
      "outputs": []
    },
    {
      "cell_type": "markdown",
      "source": [
        "**Interpretation of Results:**\n",
        "* Interest in the proposed feature 'Plant detection' is increasing significantly at a yearly rate of ~12.38 units.\n",
        "* Interest in the proposed feature 'Solar powered' is decreasing at a yearly rate of ~2.54 units.\n",
        "* The trends for all features are statistically significant (p-values < 0.05).\n",
        "* The substantial increase in interest in 'Plant detection' highlights this feature as especially valuable and relevant for further analysis and inclusion in the prototype.\n",
        "* Despite a slight decline, 'Solar powered' remains valuable due to its relatively high overall interest and moderate rate of decline."
      ],
      "metadata": {
        "id": "1BMBsXxDM68O"
      }
    },
    {
      "cell_type": "markdown",
      "source": [
        "#### Evaluation of Trend Variability"
      ],
      "metadata": {
        "id": "AKNNf3pjOrS-"
      }
    },
    {
      "cell_type": "code",
      "source": [
        "# Get the peaks and troughs for all critical interest features\n",
        "peaks_throughs_dict = get_peaks_and_troughs(critical_interest_df)\n",
        "peaks_throughs_dict.keys()"
      ],
      "metadata": {
        "id": "K1Jw58CXqAeO"
      },
      "execution_count": null,
      "outputs": []
    },
    {
      "cell_type": "markdown",
      "source": [
        "**Analyze peaks and throughs for 'Plant detection'**"
      ],
      "metadata": {
        "id": "UCgbDO3zqcqY"
      }
    },
    {
      "cell_type": "code",
      "source": [
        "# Show the dataframe with calculated peaks and troughs\n",
        "peaks_throughs_dict['Plant detection'].head(3)"
      ],
      "metadata": {
        "id": "iG7TQkUErlZH"
      },
      "execution_count": null,
      "outputs": []
    },
    {
      "cell_type": "code",
      "source": [
        "# Calculate average peaks and troughs and show dates with highest and lowest interest\n",
        "average_peaks, average_troughs, peaks_by_interest, troughs_by_interest = (\n",
        "    analyze_peaks_and_troughs(peaks_throughs_dict['Plant detection'])\n",
        ")"
      ],
      "metadata": {
        "id": "ZGxX_JEfrwuy"
      },
      "execution_count": null,
      "outputs": []
    },
    {
      "cell_type": "code",
      "source": [
        "# Calculate the highest and lowest interest value\n",
        "print(f'Highest interest: {peaks_by_interest.iloc[0][\"Interest\"]}')\n",
        "print(f'Lowest interest: {troughs_by_interest.iloc[0][\"Interest\"]}')"
      ],
      "metadata": {
        "id": "WlDLulUIufKd"
      },
      "execution_count": null,
      "outputs": []
    },
    {
      "cell_type": "code",
      "source": [
        "# Calculate growth rate between peaks from 2021 to 2024\n",
        "growth_rate = (average_peaks.iloc[-1] - average_peaks.iloc[0]) / average_peaks.iloc[0] * 100\n",
        "print(f'Percentage change in average peak interest: {round(growth_rate, 2)}%')"
      ],
      "metadata": {
        "id": "5PLvVq78wHZy"
      },
      "execution_count": null,
      "outputs": []
    },
    {
      "cell_type": "markdown",
      "source": [
        "**Interpretation of Results: 'Plant detection'**\n",
        "\n",
        "* The data reveals a clear and consistent upward trend in interest for 'Plant detection' over the past three years, with the highest peak (100) occurring recently on March 17, 2024, and the lowest trough (22) almost three years prior on December 26, 2021.\n",
        "* This significant difference and the recency of the peak strongly suggest a sustained and growing interest in this feature.\n",
        "* The average peak interest increased by approximately 85% from 2021 to 2024, highlighting a substantial growth rate in interest.\n",
        "* The consistently increasing interest along with the consistently high values of interest make this feature a strong candidate for inclusion in the prototype and for further analysis.\n"
      ],
      "metadata": {
        "id": "bTFEr4zHsPm1"
      }
    },
    {
      "cell_type": "markdown",
      "source": [
        "**Analyze peaks and throughs for 'Solar powered'**"
      ],
      "metadata": {
        "id": "hIDPqvxMzTUS"
      }
    },
    {
      "cell_type": "code",
      "source": [
        "# Show the dataframe with peaks and troughs\n",
        "peaks_throughs_dict['Solar powered'].head(3)"
      ],
      "metadata": {
        "id": "MIlvNHD_zilx"
      },
      "execution_count": null,
      "outputs": []
    },
    {
      "cell_type": "code",
      "source": [
        "# Calculate average peaks and troughs and show dates with highest and lowest interest\n",
        "average_peaks, average_troughs, peaks_by_interest, troughs_by_interest = (\n",
        "    analyze_peaks_and_troughs(peaks_throughs_dict['Solar powered'])\n",
        ")"
      ],
      "metadata": {
        "id": "TB1hmGYgzrpK"
      },
      "execution_count": null,
      "outputs": []
    },
    {
      "cell_type": "code",
      "source": [
        "# Calculate the highest and lowest interest value\n",
        "print(f'Highest interest: {peaks_by_interest.iloc[0][\"Interest\"]}')\n",
        "print(f'Lowest interest: {troughs_by_interest.iloc[0][\"Interest\"]}')"
      ],
      "metadata": {
        "id": "tlLkDrfVz2NM"
      },
      "execution_count": null,
      "outputs": []
    },
    {
      "cell_type": "markdown",
      "source": [
        "**Interpretation of Results: 'Solar powered'**\n",
        "* The data reveals a relatively stable critically high interest in the feature 'Solar powered' over the past three years, with a slight downward trend,, with the lowest average trough value at 64.\n",
        "* While the highest peak (100) and lowest trough (51) both occurred in 2022, the overall average interest remains high, ranging from 72 to 83, indicating likely fluctuations in interest in 2022.\n",
        "* The stable, critically high interest in 'Solar powered' justifies further investigation and considering inclusion in the MVP."
      ],
      "metadata": {
        "id": "pGWW1Klvz-DW"
      }
    },
    {
      "cell_type": "markdown",
      "source": [
        "####Evaluation of Current Trends"
      ],
      "metadata": {
        "id": "RV0d3qnb89cO"
      }
    },
    {
      "cell_type": "markdown",
      "source": [
        "Determine the current trend for 'Plant detection'"
      ],
      "metadata": {
        "id": "QdHluccZ9PYf"
      }
    },
    {
      "cell_type": "code",
      "source": [
        "determine_current_trend(peaks_throughs_dict['Plant detection'])"
      ],
      "metadata": {
        "id": "r5X0QwzL9lGs"
      },
      "execution_count": null,
      "outputs": []
    },
    {
      "cell_type": "markdown",
      "source": [
        "**Interpretation of Results: 'Plant detection'**\n",
        "* Interest in this feature has increased by 6 units over the last week, reaching a current high value of 63.\n",
        "* This recent upward trend indicates a potential for further growth in interest.\n",
        "* Continued monitoring and analysis are required to fully understand the nature and sustainability of this trend."
      ],
      "metadata": {
        "id": "JggzAjGY9oeC"
      }
    },
    {
      "cell_type": "markdown",
      "source": [
        "Determine the current trend for 'Solar powered'"
      ],
      "metadata": {
        "id": "Y-P9ayXZ-m5O"
      }
    },
    {
      "cell_type": "code",
      "source": [
        "determine_current_trend(peaks_throughs_dict['Solar powered'])"
      ],
      "metadata": {
        "id": "_d0YRxvc-uHS"
      },
      "execution_count": null,
      "outputs": []
    },
    {
      "cell_type": "markdown",
      "source": [
        "**Interpretation of Results: 'Solar powered'**\n",
        "* Interest in 'Solar powered' has seen a modest increase of 2 units over the past two weeks, reaching a critically high value of 89.\n",
        "* This recent uptick, while small, is significant given the previous slight decline observed over the past three years. The current high interest level suggests a potential for continued growth and a possible reversal of the downward trend.\n",
        "* Further monitoring is crucial to confirm this potential shift in the interest trajectory."
      ],
      "metadata": {
        "id": "1YHSzguP-xlj"
      }
    },
    {
      "cell_type": "markdown",
      "source": [
        "<a name='features-visualizations'></a>\n",
        "### Visualizations: Interest Over Time For Key Features\n",
        "* Visualize weekly interest over 3 years per interest category\n",
        "* Visualize current trends in interest (6 months) per interest category"
      ],
      "metadata": {
        "id": "0IhcF2MU_4DP"
      }
    },
    {
      "cell_type": "markdown",
      "source": [
        "<a name='features-moderate-visualizations'></a>\n",
        "#### Weekly Interest for Moderate Interest Features\n",
        "* Aggregate the data over monthly intervals.\n",
        "* Use a heatmap to show patterns in interest over time."
      ],
      "metadata": {
        "id": "d8HiosP7F63P"
      }
    },
    {
      "cell_type": "code",
      "source": [
        "# Show the dataframe for all features with 'Moderate' interest\n",
        "moderate_interest_df.head(3)"
      ],
      "metadata": {
        "id": "cRznohIUGltO"
      },
      "execution_count": null,
      "outputs": []
    },
    {
      "cell_type": "code",
      "source": [
        "# Visualize interest patterns using a heatmap\n",
        "moderate_interest_df.info()"
      ],
      "metadata": {
        "id": "p8vpXJuLHK1D"
      },
      "execution_count": null,
      "outputs": []
    },
    {
      "cell_type": "code",
      "source": [
        "# Import necessary libraries for visualization\n",
        "import matplotlib.pyplot as plt\n",
        "import seaborn as sns"
      ],
      "metadata": {
        "id": "9DOFlmZZId7u"
      },
      "execution_count": null,
      "outputs": []
    },
    {
      "cell_type": "code",
      "source": [
        "# Prepare data for visualization\n",
        "\n",
        "# Resample the data to a monthly frequency and take the mean\n",
        "df_monthly = moderate_interest_df.resample('M').mean()\n",
        "\n",
        "# Transpose the DataFrame for heatmap\n",
        "df_transposed = df_monthly.T\n",
        "\n",
        "# Change the column labels to display month and year\n",
        "df_transposed.columns = df_transposed.columns.strftime('%b %Y')\n",
        "\n",
        "df_transposed.head(3)"
      ],
      "metadata": {
        "id": "bsKQ-XKRJ1Y8"
      },
      "execution_count": null,
      "outputs": []
    },
    {
      "cell_type": "code",
      "source": [
        "# Create the heatmap\n",
        "plt.figure(figsize=(12, 8))\n",
        "sns.heatmap(df_transposed, cmap='viridis', cbar=True, vmin=1, vmax=100)\n",
        "plt.title('Interest in \"Moderate\" Interest Features Over Time')\n",
        "plt.xlabel('Date')\n",
        "plt.ylabel('Keyword')\n",
        "plt.xticks(rotation=90, ha='right', fontsize=10)  # Rotate x-axis labels for better readability\n",
        "plt.show()"
      ],
      "metadata": {
        "id": "Vtnks9YLJ87X"
      },
      "execution_count": null,
      "outputs": []
    },
    {
      "cell_type": "markdown",
      "source": [
        "**Interpretation of Results**\n",
        "* Interest in 'Food system health' (the only 'moderate' interst feature) has remained consistently low over the three years, primarily ranging between 0 and 40.\n",
        "* A noticeable increase in interest has occurred since late 2023, with sustained levels above 20 units and two distinct peaks in 2024, which can be observed by less darker colors in this interval and two bars in a lighter shade of blue, indicating values between 40 and 50.\n",
        "* The diagram shows that interest is historically low in the summer months from June until August, therefore a decline can be expected also in 2024. This is validated by the bar for June 2024 being substantially darker than the previous bars.\n",
        "* The feature 'Food system health' has consistently low interest, but the data suggests that an increase in interest is possible, while a temporary decrease in the coming summer months is likely."
      ],
      "metadata": {
        "id": "He0maIzYMCAL"
      }
    },
    {
      "cell_type": "markdown",
      "source": [
        "<a name='features-high-visualizations'></a>\n",
        "#### Weekly Interest for High Interest Features\n",
        "* Aggregate the data over monthly intervals.\n",
        "* Use a heatmap to show patterns in interest over time."
      ],
      "metadata": {
        "id": "HJm4N6DkTphW"
      }
    },
    {
      "cell_type": "code",
      "source": [
        "# Show high interst features\n",
        "high_interest_df.head(3)"
      ],
      "metadata": {
        "id": "dX5Gu_qbUQpj"
      },
      "execution_count": null,
      "outputs": []
    },
    {
      "cell_type": "code",
      "source": [
        "# Prepare data for visualization and visualize\n",
        "\n",
        "# Resample the data to a monthly frequency and take the mean\n",
        "df_monthly = high_interest_df.resample('M').mean()\n",
        "\n",
        "# Transpose the DataFrame for heatmap\n",
        "df_transposed = df_monthly.T\n",
        "\n",
        "# Change the column labels to display month and year\n",
        "df_transposed.columns = df_transposed.columns.strftime('%b %Y')\n",
        "\n",
        "# Create the heatmap\n",
        "plt.figure(figsize=(12, 8))\n",
        "sns.heatmap(df_transposed, cmap='viridis', cbar=True, vmin=1, vmax=100)\n",
        "plt.title('Interest in \"High\" Interest Features Over Time')\n",
        "plt.xlabel('Date')\n",
        "plt.ylabel('Keyword')\n",
        "plt.xticks(rotation=90, ha='right', fontsize=10)\n",
        "plt.show()"
      ],
      "metadata": {
        "id": "rHrhRNtHUHdB"
      },
      "execution_count": null,
      "outputs": []
    },
    {
      "cell_type": "markdown",
      "source": [
        "**Interpretation of Results:**\n",
        "\n",
        "* **'Educational Value'**:  \n",
        "  * Interest has consistently remained above 30 throughout the three-year period, highlighting a sustained baseline of interest.\n",
        "  * A notable increase occured in spring 2022, with interest from 60 to 90 over 5 months.\n",
        "  * The interest has continued to rise since then, reaching another peak in spring 2024 and remaining high (between 60 and 80) in the current period.\n",
        "* **'Remote access and control':**\n",
        "  * This keyword demonstrates a notable growth trajectory over the last 3 years.\n",
        "  * Starting from very low interest in 2021, it experienced a gradual and consistent increase, culminating in being the keyword with the highest interest in the current period, ranging between 50 and 90 since September 2022.\n",
        "\n",
        "* **'Plant identification':**\n",
        "  * A clear seasonal pattern is evident, with peak interest consistently occurring during the summer months of each year.\n",
        "  * While the overall interest in 2024 appears slightly lower than in previous years, there's a recent increase in interest starting from April 2024, suggesting the possibility of another summer peak.\n",
        "\n",
        "* **Conclusion:**\n",
        " * Educational value' maintains consistently high interest, while 'Remote access and control' shows a notable upward trend, currently holding the highest interest among the analyzed keywords. 'Plant identification' demonstrates a strong seasonal pattern, possibly linked to summer in the northern hemisphere. These findings suggest prioritizing 'Remote access and control' for further analysis and inclusion in the prototype, while further investigating the potential of 'Educational value' and the seasonal nature of 'Plant identification'.\n",
        "\n",
        "\n",
        "\n",
        "\n"
      ],
      "metadata": {
        "id": "ePlU1b0eUbtQ"
      }
    },
    {
      "cell_type": "markdown",
      "source": [
        "<a name='features-critical-visualizations'></a>\n",
        "#### Visualize Interest for Critical Interest Features Over Time\n",
        "* Aggregate the data over monthly intervals.\n",
        "* Use a heatmap to show patterns in interest over time."
      ],
      "metadata": {
        "id": "lk5OwFJoeX1f"
      }
    },
    {
      "cell_type": "code",
      "source": [
        "# Show critical interest features\n",
        "critical_interest_df.head(3)"
      ],
      "metadata": {
        "id": "uRjAHvTpfhXX"
      },
      "execution_count": null,
      "outputs": []
    },
    {
      "cell_type": "code",
      "source": [
        "# Define a function to costruct a heatmap showing monthly interest over 3 years\n",
        "def create_heatmap(df, interest_level, category='Features'):\n",
        "    \"\"\"\n",
        "    This function takes a DataFrame with a date index and multiple keyword columns,\n",
        "    resamples the data to a monthly frequency, transposes it, and creates a heatmap.\n",
        "\n",
        "    Parameters:\n",
        "    df (pd.DataFrame): The input DataFrame with a date index and keyword columns.\n",
        "    interest_level (str): The interest level description to be used in the heatmap title.\n",
        "    category (str): The category of the interest level ('Features'/'Problems'/'Needs').\n",
        "\n",
        "    Returns:\n",
        "    None\n",
        "    \"\"\"\n",
        "    # Ensure the date column is set as index\n",
        "    if not isinstance(df.index, pd.DatetimeIndex):\n",
        "        raise ValueError(\"The DataFrame index must be a DatetimeIndex.\")\n",
        "\n",
        "    # Resample the data to a monthly frequency and take the mean\n",
        "    df_monthly = df.resample('M').mean()\n",
        "\n",
        "    # Transpose the DataFrame for heatmap\n",
        "    df_transposed = df_monthly.T\n",
        "\n",
        "    # Change the column labels to display month and year\n",
        "    df_transposed.columns = df_transposed.columns.strftime('%b %Y')\n",
        "\n",
        "    # Create the heatmap\n",
        "    plt.figure(figsize=(12, 8))\n",
        "    sns.heatmap(df_transposed, cmap='viridis', cbar=True, vmin=1, vmax=100)\n",
        "    plt.title(f'Interest in \"{interest_level}\" Interest {category} Over Time')\n",
        "    plt.xlabel('Date')\n",
        "    plt.ylabel('Keyword')\n",
        "    plt.xticks(rotation=90, ha='right', fontsize=10)\n",
        "    plt.show()"
      ],
      "metadata": {
        "id": "7ZXJqFeefJ0Y"
      },
      "execution_count": null,
      "outputs": []
    },
    {
      "cell_type": "code",
      "source": [
        "# Return heatmap for critical interest features\n",
        "create_heatmap(critical_interest_df, 'Critical')"
      ],
      "metadata": {
        "id": "0v5iFbp-f7ww"
      },
      "execution_count": null,
      "outputs": []
    },
    {
      "cell_type": "markdown",
      "source": [
        "**Interpretation of Results:**\n",
        "\n",
        "* **'Plant detection'**:  \n",
        "  * Interest has consistently increased over the last three years, transitioning from moderate levels (40-60) in the first half of 2021 to high levels (60-100) since January 2022, continuosly rising since then\n",
        "  *  There have been two notable decreases: one in the summer of 2022 (50) and another recent one in June 2024 (70).\n",
        "  * Overall, the trend is upward, with no strong evidence of seasonality.\n",
        "* **'Solar powered':**\n",
        "  * Interest has remained consistently high throughout the three years, rarely dipping below 50.\n",
        "  * The data suggests seasonality, with higher interest during summer months.\n",
        "  * While a slight decline was observed in the summer of 2023, interest has rebounded and increased since February 2024 to a current value of 90.\n",
        "\n",
        "* **Conclusion:**\n",
        " * The steady increase in interest for 'Plant detection' over the past three years, despite minor fluctuations, highlights its potential as a valuable feature to consider for the MVP. The consistently high interest in 'Solar powered,' with a clear seasonal peaks in summer, suggests long term interest in this feature and makes it a strong candidate for the prototype as well.Both features are valuable for further analysis, this analysis should include an investigation of the seasonality in interest for 'Solar powered'.\n",
        "\n",
        "\n",
        "\n"
      ],
      "metadata": {
        "id": "IAbQLmixgBjR"
      }
    },
    {
      "cell_type": "markdown",
      "source": [
        "<a name='key-problems-analysis'></a>\n",
        "## Key Problems Analysis\n",
        "- Identify and evaluate the proposed problems most relevant to potential customers.\n",
        "- Analyze trends in interest for most relevant problems.\n",
        "- Visualize interest over time for the key problems."
      ],
      "metadata": {
        "id": "2KtILOS0jTYo"
      }
    },
    {
      "cell_type": "markdown",
      "source": [
        "<a name='most-relevant-problems'></a>\n",
        "### Determine Problems with Highest Relevance\n",
        "- Present problems sorted by their relevance.\n",
        "- Determine problems with significant relevance.\n",
        "- Establish thresholds to classify problems into the following categories:\n",
        "  - Critical: Essential and highly relevant problems.\n",
        "    - Average weekly interest 75% - 100%\n",
        "  - High: Very important and significantly relevant problems.\n",
        "    - Average weekly interest: 50% - 75%\n",
        "  - Moderate: Important but not essential problems.\n",
        "    - Average weekly interest: 10% - 50%\n",
        "  - Low: Problems of little relevance - will be excluded from further analysis.\n",
        "    - Average weekly interest: 0% - 10%\n",
        "- The percentages used to define the interest categories are relative to the highest observed average weekly interest value in the dataset.\n",
        "\n"
      ],
      "metadata": {
        "id": "O4d0RXHc0siR"
      }
    },
    {
      "cell_type": "code",
      "source": [
        "# Show problems sorted by relevance dataframe\n",
        "problems_by_relevance.head(3)"
      ],
      "metadata": {
        "id": "67VmC-DG1QSv"
      },
      "execution_count": null,
      "outputs": []
    },
    {
      "cell_type": "code",
      "source": [
        "# Define a function to compute each keyword's relative interest (compared to the highest interest) and classify them into relevance levels.\n",
        "\n",
        "def get_relative_interest(df):\n",
        "    \"\"\"\n",
        "    Calculate the relative interest of each row in relation to the highest interest row,\n",
        "    and categorize them into relevance levels.\n",
        "\n",
        "    Parameters:\n",
        "    df (pd.DataFrame): A DataFrame containing a 'weekly_average_interest' column.\n",
        "\n",
        "    Returns:\n",
        "    pd.DataFrame: The input DataFrame with two additional columns:\n",
        "                  'relative_interest' - the interest as a percentage of the maximum interest,\n",
        "                  'relevance' - a categorical column indicating the level of interest:\n",
        "                                'Low', 'Moderate', 'High', or 'Critical'.\n",
        "    \"\"\"\n",
        "    # Get the highest average weekly interest\n",
        "    max_interest = df['weekly_average_interest'].max()\n",
        "\n",
        "    # Add a column with the relative interest as a percentage for each datapoint\n",
        "    df['relative_interest'] = (df['weekly_average_interest'] / max_interest * 100).round().astype(int)\n",
        "\n",
        "    # Define edges for the four bins\n",
        "    bin_edges = [-0.001, 10, 50, 75, 100]\n",
        "\n",
        "    # Define labels for the four bins\n",
        "    labels = ['Low', 'Moderate', 'High', 'Critical']\n",
        "\n",
        "    # Create a new categorical column with relevance categories\n",
        "    df['relevance'] = pd.cut(df['relative_interest'], bins=bin_edges, labels=labels, include_lowest=True)\n",
        "\n",
        "    # Drop the intermediate 'relative_interest' column\n",
        "    df.drop(columns=['relative_interest'], inplace=True)\n",
        "\n",
        "    return df\n"
      ],
      "metadata": {
        "id": "kaYNM30R4t93"
      },
      "execution_count": null,
      "outputs": []
    },
    {
      "cell_type": "code",
      "source": [
        "# Add the relative interest column to the dataframe\n",
        "problems_by_relevance = get_relative_interest(problems_by_relevance)\n",
        "problems_by_relevance.head(3)"
      ],
      "metadata": {
        "id": "2TQW25rg6scJ"
      },
      "execution_count": null,
      "outputs": []
    },
    {
      "cell_type": "code",
      "source": [
        "# Calculate percentage of low interest problems\n",
        "low_relevance_percentage = round((problems_by_relevance['relevance'] == 'Low').mean() * 100)\n",
        "print(f'Percentage of low interest problems: {low_relevance_percentage}%')"
      ],
      "metadata": {
        "id": "88KX-gRy7F8U"
      },
      "execution_count": null,
      "outputs": []
    },
    {
      "cell_type": "code",
      "source": [
        "# Compare the higest relevance problem with the highest relevance feature\n",
        "highest_relevance_problem = problems_by_relevance.loc[problems_by_relevance['relevance'] == 'Critical'].head(1)\n",
        "highest_relevance_feature = features_by_interest.loc[features_by_interest['relevance'] == 'Critical'].head(1)\n",
        "\n",
        "# Get the highest interest values\n",
        "problem_interest = highest_relevance_problem['weekly_average_interest'].values[0]\n",
        "feature_interest = highest_relevance_feature['weekly_average_interest'].values[0]\n",
        "\n",
        "# Calculate difference in interest between the highest relevance feature and problem\n",
        "difference = feature_interest - problem_interest\n",
        "\n",
        "# Convert difference to a percentage of the problem's interest\n",
        "percentage_difference = (difference / problem_interest) * 100\n",
        "\n",
        "print(f'The most relevant problem is {round(percentage_difference)}% less relevant than the most relevant feature')\n"
      ],
      "metadata": {
        "id": "DxL5czAc8DvM"
      },
      "execution_count": null,
      "outputs": []
    },
    {
      "cell_type": "code",
      "source": [
        "# Show highest relevance problem\n",
        "highest_relevance_problem"
      ],
      "metadata": {
        "id": "b4BqL_qcHjTj"
      },
      "execution_count": null,
      "outputs": []
    },
    {
      "cell_type": "code",
      "source": [
        "# Show highest relevance feature\n",
        "highest_relevance_feature"
      ],
      "metadata": {
        "id": "5NyGj8WF_168"
      },
      "execution_count": null,
      "outputs": []
    },
    {
      "cell_type": "code",
      "source": [
        "# Show moderate interest features\n",
        "features_by_interest[features_by_interest['relevance']=='Moderate']"
      ],
      "metadata": {
        "id": "zD653pJYDIGC"
      },
      "execution_count": null,
      "outputs": []
    },
    {
      "cell_type": "markdown",
      "source": [
        "**Interpretation of the Results:**\n",
        "* 91% of Proposed Problems Have Low Relevance:\n",
        "  * The data reveals that only one proposed problem has an average weekly interest exceeding 10%. The remaining 91% of problems demonstrate low weekly interest, averaging below 10%. This indicates low demand for a solution for these problems. The prototype should not prioritize addressing these problems, and they will be excluded from further analysis.\n",
        "* Critical Relevance:\n",
        "  * The only relevant problem is 'Monoculture in agriculture', which is the only problem with weekly interest exceeding 10%. This problem should be the primary focus of the prototype development.\n",
        "  * While 'Monoculture in agriculture' is the most relevant problem, it's important to note its interest level is 390% lower than the top-ranked feature, 'Solar powered'. However, it still shows moderate interest, comparable to the feature 'Food system health', which received a similar weekly interest score of 14.73.\n",
        "  * Due to its critical relevance to the problem domain and its moderate level of interest, the trend in interest for 'Monoculture in agriculture' will be further analyzed to determine if interest in this topic is growing, stable, or declining."
      ],
      "metadata": {
        "id": "FXS8z76q7b6t"
      }
    },
    {
      "cell_type": "markdown",
      "source": [
        "<a name='key-problems-trend-analysis'></a>\n",
        "### Detailed Trend Analysis of Key Problem(s)\n",
        "- Analyze trends in interest for problems with moderate to critical relevance\n",
        "  - Calculate and interpret summary statistics\n",
        "    - Count\n",
        "    - Mean\n",
        "    - Standard Deviations\n",
        "    - Minimum Interest\n",
        "    - Maximum Interest\n",
        "    - Quartiles\n",
        "    - Variance (inferred)\n",
        "  - Identify Trends\n",
        "    - Determine if interest over the last 3 years is increasing, decreasing or stable.\n",
        "    - Determine peaks and troughts in interest.\n",
        "    - Determine if interest is currently rising or falling."
      ],
      "metadata": {
        "id": "U3XXasAXG-cu"
      }
    },
    {
      "cell_type": "markdown",
      "source": [
        "<a name='trends-critical-problems'></a>\n",
        "#### Summary Statistics for Critical Interest Problems"
      ],
      "metadata": {
        "id": "oRpxOOtxm9vX"
      }
    },
    {
      "cell_type": "code",
      "source": [
        "# Show all problems with critical relevance\n",
        "critical_relevance_df = get_relevant_keywords_df(problems_by_relevance, problems_relevance_over_time, 'Critical')\n",
        "critical_relevance_df.head(3)"
      ],
      "metadata": {
        "id": "TDTQFTXtIdv5"
      },
      "execution_count": null,
      "outputs": []
    },
    {
      "cell_type": "code",
      "source": [
        "# Show summary stats for critical relevance problems\n",
        "summary_stats_critical_relevance = critical_relevance_df.describe().round().astype(int)\n",
        "summary_stats_critical_relevance"
      ],
      "metadata": {
        "id": "9UxRvHqmJ2eq"
      },
      "execution_count": null,
      "outputs": []
    },
    {
      "cell_type": "markdown",
      "source": [
        "**Interpretation of Results: 'Monoculture in agriculture'**\n",
        "- There are 157 weekly observations for this problem.\n",
        "- Interest tends to cluster at a moderate value of 15.\n",
        "- Interest levels typically deviate from the mean by 28 units, indicating a substantial standard deviation. This indicates a highly variable interest in this problem.\n",
        "- The lowest recorded interest is 0, and all quartiles are also 0, indicating a complete lack of interest in 'Monoculture in Agriculture' for at least 75% of the observed weeks.\n",
        "- A maximum interest level of 100 suggests short-lived periods of intense interest, likely skewing the mean upwards.\n",
        "- Overall the data suggests a pattern of near-zero interest interrrupted by occasional spikes of critically high interest. Further analysis is crucial to understand the timing and potential causes of these high-interest periods, as well as the overall trend in interest over time."
      ],
      "metadata": {
        "id": "oJPOsEEOKqjy"
      }
    },
    {
      "cell_type": "markdown",
      "source": [
        "#### Trend Analyis for Critical Interest Problem(s)\n",
        "* Assess whether interest is increasing, decreasing, or stable over the past 3 years.\n",
        "* Assess peaks and troughs in interest levels.\n",
        "* Determine current trend in interest."
      ],
      "metadata": {
        "id": "sX1R40chLLhI"
      }
    },
    {
      "cell_type": "markdown",
      "source": [
        "Evaluation of Trend Direction and Magnitude"
      ],
      "metadata": {
        "id": "X9EXOGpCnRkT"
      }
    },
    {
      "cell_type": "code",
      "source": [
        "# Get interest trends for critical interst problems\n",
        "analyze_interest_trends(critical_relevance_df, slope_decimals=4)"
      ],
      "metadata": {
        "id": "hip83aupoIlm"
      },
      "execution_count": null,
      "outputs": []
    },
    {
      "cell_type": "markdown",
      "source": [
        "\n",
        "**Interpretation of Results:**\n",
        "* The slight increase in interest for 'Monoculture in agriculture' over the observed three-year period is likely due to random fluctuations (noise) rather than a statistically significant trend.\n",
        "* The p-value of 0.506, which is well above the commonly accepted threshold for statistical significance (0.05), supports this conclusion.\n",
        "* While further analysis may reveal additional insights, it is highly probable that there has been no significant positive change in interest in 'Monoculture in agriculture' during this time frame."
      ],
      "metadata": {
        "id": "gUzDvu75oI9y"
      }
    },
    {
      "cell_type": "markdown",
      "source": [
        "Evaluation of Trend Variability"
      ],
      "metadata": {
        "id": "ljm9O6QqzPPk"
      }
    },
    {
      "cell_type": "code",
      "source": [
        "# Calculate peaks and troughs in critical intersest problems\n",
        "peaks_throughs_dict = get_peaks_and_troughs(critical_relevance_df)\n",
        "peaks_throughs_dict.keys()"
      ],
      "metadata": {
        "id": "bLWpWqmOzlPd"
      },
      "execution_count": null,
      "outputs": []
    },
    {
      "cell_type": "markdown",
      "source": [
        "Analyze peaks and troughs for 'Monoculture in agriculture'"
      ],
      "metadata": {
        "id": "6Vn17tolzxBs"
      }
    },
    {
      "cell_type": "code",
      "source": [
        "# Show the dataframe\n",
        "peaks_throughs_dict['Monoculture in agriculture'].head(3)"
      ],
      "metadata": {
        "id": "dGmpvJh20EaU"
      },
      "execution_count": null,
      "outputs": []
    },
    {
      "cell_type": "code",
      "source": [
        "# Calculate average peaks and troughs and show dates with highest and lowest interest\n",
        "average_peaks, average_troughs, peaks_by_interest, troughs_by_interest = (\n",
        "    analyze_peaks_and_troughs(peaks_throughs_dict['Monoculture in agriculture'])\n",
        ")"
      ],
      "metadata": {
        "id": "S6Ba9utD0DUR"
      },
      "execution_count": null,
      "outputs": []
    },
    {
      "cell_type": "code",
      "source": [
        "# Calculate growth rate between peaks from 2021 to 2024\n",
        "growth_rate = (average_peaks.iloc[-1] - average_peaks.iloc[0]) / average_peaks.iloc[0] * 100\n",
        "print(f'Percentage change in average peak interest: {round(growth_rate, 2)}%')"
      ],
      "metadata": {
        "id": "e7JnL3sZ0OrN"
      },
      "execution_count": null,
      "outputs": []
    },
    {
      "cell_type": "markdown",
      "source": [
        "**Interpretation of Results:**\n",
        "* The data reveals a highly variable interest in 'Monoculture in Agriculture', with interest levels ranging from 0 to 100. The average peak interest has slightly decreased by 7.9% over the past three years, and there is no evidence of a significant upward trend.\n",
        "* The highest and lowest interest dates are close together, supporting the hypothesis that peaks in interest are random events rather than part of a consistent pattern.\n",
        "* While there is no consistent high level of interest, the topic's relevance for prototype development requires further investigation. A seasonal analysis could reveal patterns in interest fluctuations throughout the year, providing valuable insights in potential seasonal interest patterns in this problem.\n"
      ],
      "metadata": {
        "id": "fxygciT20mOl"
      }
    },
    {
      "cell_type": "markdown",
      "source": [
        "#### Evaluation of Current Trends"
      ],
      "metadata": {
        "id": "ejpyAoYm3RDg"
      }
    },
    {
      "cell_type": "markdown",
      "source": [
        "Analyze Current Trend for 'Monoculture in agriculture'"
      ],
      "metadata": {
        "id": "h1eG0kWx3j4o"
      }
    },
    {
      "cell_type": "code",
      "source": [
        "# Determine if interest is currently increasing or decreasing\n",
        "determine_current_trend(peaks_throughs_dict['Monoculture in agriculture'])"
      ],
      "metadata": {
        "id": "7W1daxpT3r8C"
      },
      "execution_count": null,
      "outputs": []
    },
    {
      "cell_type": "markdown",
      "source": [
        "**Interpretation of Results:**\n",
        "* Interest in 'Monoculture in agriculture' has recently spiked, increasing from 0 to 17 units over the past two weeks.\n",
        "* While this increase aligns with the topic's historically volatile interest patterns, it could also signal a potential shift towards more sustained engagement.\n",
        "* Further monitoring and analysis are crucial to determine if this is another short-lived burst of interest or the beginning of a longer-term trend."
      ],
      "metadata": {
        "id": "SURqn5yJ35eJ"
      }
    },
    {
      "cell_type": "markdown",
      "source": [
        "<a name='problems-visualizations'></a>\n",
        "### Visualizations: Interest Over Time For Key Problems\n",
        "* Aggregate the data over monthly intervals.\n",
        "* Use a heatmap to show patterns in interest over time."
      ],
      "metadata": {
        "id": "DJwJf6wB5RcC"
      }
    },
    {
      "cell_type": "markdown",
      "source": [
        "<a name='problems-critical-visualizations'></a>\n",
        "#### Visualization for Critical Interest Problems\n",
        "* Visualize weekly interest over 3 years"
      ],
      "metadata": {
        "id": "OW6Q03inDKan"
      }
    },
    {
      "cell_type": "code",
      "source": [
        "# Show data to visualize\n",
        "critical_relevance_df.head(3)"
      ],
      "metadata": {
        "id": "eswMA6gM5f9k"
      },
      "execution_count": null,
      "outputs": []
    },
    {
      "cell_type": "code",
      "source": [
        "# Create a heatmap to show interest over time\n",
        "create_heatmap(critical_relevance_df, 'Critical', category='Problems')"
      ],
      "metadata": {
        "id": "JA_Dwb_Z6uFg",
        "collapsed": true
      },
      "execution_count": null,
      "outputs": []
    },
    {
      "cell_type": "markdown",
      "source": [
        "**Interpretation of Results:**\n",
        "\n",
        "* Interest in 'Monoculture in agriculture' is highly volatile, with most weeks showing little to no interest. However, there are distinct peaks of high interest, typically occurring once a year in the spring months, particularly February. These peaks could be related to the planting season in the northern hemisphere.\n",
        "* The most recent peak, in February 2024, was the highest recorded at around 70. While interest has declined since then, it's notable that June 2024 shows the highest interest for that month over the past three years. This could indicate a potential upward trend, although May 2023 saw a drop to zero, introducing some uncertainty.\n",
        "\n",
        "**Conclusion:**\n",
        "* Given that 'Monoculture in agriculture' received the highest\n",
        "interest among the suggested problems, it will be considered for further analysis. However, to ensure the more relevant problems are addressed with the prototype, additional data should be gathered on alternative keywords."
      ],
      "metadata": {
        "id": "JxRNzKSn7TK4"
      }
    },
    {
      "cell_type": "markdown",
      "source": [
        "<a name='key-needs-analysis'></a>\n",
        "## Key Needs Analysis\n",
        "- Identify and evaluate high priority needs of potential customers.\n",
        "- Analyze trends in interest for most relevant needs.\n",
        "- Visualize interest over time for the key needs."
      ],
      "metadata": {
        "id": "p5FNEeLeB5bO"
      }
    },
    {
      "cell_type": "markdown",
      "source": [
        "<a name='most-relevant-needs'></a>\n",
        "### Determine Needs with Highest Relevance\n",
        "- Present needs sorted by their relevance.\n",
        "- Determine needs with significant relevance.\n",
        "- Establish thresholds to classify needs into the following categories:\n",
        "  - Critical: Essential and highly relevant needs.\n",
        "    - Average weekly interest 75% - 100%\n",
        "  - High: Very important and significantly relevant needs.\n",
        "    - Average weekly interest: 50% - 75%\n",
        "  - Moderate: Important but not essential needs.\n",
        "    - Average weekly interest: 10% - 50%\n",
        "  - Low: Needs of little relevance - will be excluded from further analysis.\n",
        "    - Average weekly interest: 0% - 10%\n",
        "- The percentages used to define the interest categories are relative to the highest observed average weekly interest value in the dataset.\n",
        "\n"
      ],
      "metadata": {
        "id": "TgLjeiP1DxTq"
      }
    },
    {
      "cell_type": "code",
      "source": [
        "# Show needs sorted by relevance dataframe\n",
        "needs_by_relevance.head(3)"
      ],
      "metadata": {
        "id": "Mbb4CmATF_ih"
      },
      "execution_count": null,
      "outputs": []
    },
    {
      "cell_type": "code",
      "source": [
        "# Add a categorical column splitting keywords into categories\n",
        "# Add the relative interest column to the dataframe\n",
        "needs_by_relevance = get_relative_interest(needs_by_relevance)\n",
        "needs_by_relevance.head(4)"
      ],
      "metadata": {
        "id": "stFHXVVmHAfR"
      },
      "execution_count": null,
      "outputs": []
    },
    {
      "cell_type": "code",
      "source": [
        "# Calculate percentage of low interest needs\n",
        "low_relevance_percentage = round((needs_by_relevance['relevance'] == 'Low').mean() * 100)\n",
        "print(f'Percentage of low relevance needs: {low_relevance_percentage}%')"
      ],
      "metadata": {
        "id": "nMO6P0b9HPb_"
      },
      "execution_count": null,
      "outputs": []
    },
    {
      "cell_type": "code",
      "source": [
        "# Show moderate interst features\n",
        "features_by_interest[features_by_interest['relevance']=='Moderate']"
      ],
      "metadata": {
        "id": "QFkcjDZUKJ57"
      },
      "execution_count": null,
      "outputs": []
    },
    {
      "cell_type": "code",
      "source": [
        "# Show high interst features\n",
        "features_by_interest[features_by_interest['relevance']=='High']"
      ],
      "metadata": {
        "id": "TWoxd5bOKaGg"
      },
      "execution_count": null,
      "outputs": []
    },
    {
      "cell_type": "code",
      "source": [
        "# Show critical interest problems\n",
        "problems_by_relevance[problems_by_relevance['relevance']=='Critical']"
      ],
      "metadata": {
        "id": "a87IkYitKfVh"
      },
      "execution_count": null,
      "outputs": []
    },
    {
      "cell_type": "markdown",
      "source": [
        "**Interpretation of the Results:**\n",
        "* 86% of Proposed Needs Have Low Relevance:\n",
        "  * The majority of proposed needs (86%) show low relevance, with weekly interest levels falling below 10%.\n",
        "  * These low relevance needs will not be considered for further analysis.\n",
        "* Moderate Relevance:\n",
        "  * 'Sustainable food production' is the only need identified as moderately relevant, with an average weekly interest of 25 units.\n",
        "  * Further trend analysis is necessary to determine if this need justifies inclusion in the prototype development.\n",
        "* High Relevance:\n",
        "  * Despite its high relevance classification, the interest level of 29 units in 'Educational AI' is only slightly higher than the moderately relevant need 'Sustainable food production'.\n",
        "  * Interst is substantially lower than the lowest high insterest value feature 'Remote access and control' (48).\n",
        "  *  Further trend analysis will determine this keyword's relevance for further analysis and prototype development.\n",
        "* Critical Relevance:\n",
        "  * 'Climate resilience' stands out with critical average montly relevance of 58 units, indicating strong interest. While its interest level would be considered 'high' relative to feature keywords, it remains a top priority for further analysis and potential inclusion in the prototype."
      ],
      "metadata": {
        "id": "A-N7_yEVHnJG"
      }
    },
    {
      "cell_type": "markdown",
      "source": [
        "<a name='key-needs-trend-analysis'></a>\n",
        "### Detailed Trend Analysis of Key Needs\n",
        "- Analyze trends in interest for needs with moderate to critical relevance\n",
        "  - Calculate and interpret summary statistics\n",
        "    - Count\n",
        "    - Mean\n",
        "    - Standard Deviations\n",
        "    - Minimum Interest\n",
        "    - Maximum Interest\n",
        "    - Quartiles\n",
        "    - Variance (inferred)\n",
        "  - Identify Trends\n",
        "    - Determine if interest over the last 3 years is increasing, decreasing or stable.\n",
        "    - Determine peaks and troughts in interest.\n",
        "    - Determine if interest is currently rising or falling."
      ],
      "metadata": {
        "id": "7hZdaAGSP0WU"
      }
    },
    {
      "cell_type": "markdown",
      "source": [
        "<a name='trends-moderate-needs'></a>\n",
        "#### Summary Statistics for Moderate Interest Needs"
      ],
      "metadata": {
        "id": "ZHIsaTYnRXPG"
      }
    },
    {
      "cell_type": "code",
      "source": [
        "# Show all needs with moderate relevance\n",
        "moderate_relevance_df = get_relevant_keywords_df(needs_by_relevance, needs_relevance_over_time, 'Moderate')\n",
        "moderate_relevance_df.head(3)"
      ],
      "metadata": {
        "id": "nyO98kAhSLob"
      },
      "execution_count": null,
      "outputs": []
    },
    {
      "cell_type": "code",
      "source": [
        "# Get summary stats\n",
        "summary_stats_moderate_relevance = moderate_relevance_df.describe().round().astype(int)\n",
        "summary_stats_moderate_relevance"
      ],
      "metadata": {
        "id": "E078iHIiTz_b"
      },
      "execution_count": null,
      "outputs": []
    },
    {
      "cell_type": "markdown",
      "source": [
        "**Interpretation of Results:**\n",
        "- The data for 'Sustainable food production' reveals a relatively stable interest level over the last three years, with an average weekly interest of 25 units.\n",
        "- The standard deviation of 10 indicates moderate variability compared to other analyzed keywords, indicating relatively stable interest.\n",
        "- The lowest recorded interest is 0, meaning there was at least one week with no interest in the topic.\n",
        "- A maximum interest level of 48 suggests consistently moderate interest in this feature.\n",
        "- Interest ranges from 0 to 48, suggesting fluctuations over time, but the majority of data points cluster between 18 and 33, indicating consistent moderate interest. The maximum interest of 48 suggests occasional peaks of interest, although these are not as extreme as in other keywords.\n",
        "- Overall, 'Sustainable food production' shows consistent moderate interest with some variability. The stability of interest suggests sustained attention to this subject, making it a potentially valuable area for further exploration and potential inclusion in prototype development."
      ],
      "metadata": {
        "id": "zD-7MjaoUIIj"
      }
    },
    {
      "cell_type": "markdown",
      "source": [
        "#### Trend Analysis Moderate Interest Needs\n",
        "* Assess whether interest is increasing, decreasing, or stable over the past 3 years.\n",
        "* Assess peaks and troughs in interest levels.\n",
        "* Determine current trend in interest."
      ],
      "metadata": {
        "id": "WDxHFebVY9VG"
      }
    },
    {
      "cell_type": "markdown",
      "source": [
        "Evaluation of Trend Direction and Magnitude"
      ],
      "metadata": {
        "id": "lgQcYNemZeCg"
      }
    },
    {
      "cell_type": "code",
      "source": [
        "# Get interest trends for moderate interest needs\n",
        "analyze_interest_trends(moderate_relevance_df, slope_decimals=4)"
      ],
      "metadata": {
        "id": "8VY_miQsZ9De"
      },
      "execution_count": null,
      "outputs": []
    },
    {
      "cell_type": "markdown",
      "source": [
        "**Interpretation of Results:**\n",
        "* Interest in the proposed need 'Sustainable food production' is increasing moderately at a yearly rate of ~5.85 units (more than 5% every year).\n",
        "* The trend is statistically significant (p-value < 0.05).\n",
        "* The moderate increase in interest in 'Sustainable food production' highlights this need becomes more relevant over time, making it relevant for further analysis and inclusion in the prototype design."
      ],
      "metadata": {
        "id": "ETZEqUENaH6y"
      }
    },
    {
      "cell_type": "markdown",
      "source": [
        "Evaluation of Trend Variability"
      ],
      "metadata": {
        "id": "VHafF25mbxDd"
      }
    },
    {
      "cell_type": "code",
      "source": [
        "# Calculate peaks and troughs in moderate interest needs\n",
        "peaks_throughs_dict = get_peaks_and_troughs(moderate_relevance_df)\n",
        "peaks_throughs_dict.keys()"
      ],
      "metadata": {
        "id": "uEVtPzb4cMq8"
      },
      "execution_count": null,
      "outputs": []
    },
    {
      "cell_type": "code",
      "source": [
        "# Show dataframe with boolean columns for peaks and troughs\n",
        "peaks_throughs_dict['Sustainable food production'].head(3)"
      ],
      "metadata": {
        "id": "CuUjtX9zcT1P"
      },
      "execution_count": null,
      "outputs": []
    },
    {
      "cell_type": "code",
      "source": [
        "# Calculate average peaks and troughs and show dates with highest and lowest interest\n",
        "average_peaks, average_troughs, peaks_by_interest, troughs_by_interest = (\n",
        "    analyze_peaks_and_troughs(peaks_throughs_dict['Sustainable food production'])\n",
        ")"
      ],
      "metadata": {
        "id": "nQ_egttNclEZ"
      },
      "execution_count": null,
      "outputs": []
    },
    {
      "cell_type": "code",
      "source": [
        "# Calculate growth rate between peaks from 2021 to 2024\n",
        "growth_rate = (average_peaks.iloc[-1] - average_peaks.iloc[0]) / average_peaks.iloc[0] * 100\n",
        "print(f'Percentage change in average peak interest: {round(growth_rate, 2)}%')"
      ],
      "metadata": {
        "id": "CIKaSNUudA2Z"
      },
      "execution_count": null,
      "outputs": []
    },
    {
      "cell_type": "code",
      "source": [
        "# Calculate the highest and lowest interest value\n",
        "print(f'Highest interest: {peaks_by_interest.iloc[0][\"Interest\"]}')\n",
        "print(f'Lowest interest: {troughs_by_interest.iloc[0][\"Interest\"]}')"
      ],
      "metadata": {
        "id": "iZAWHOFkd7fw"
      },
      "execution_count": null,
      "outputs": []
    },
    {
      "cell_type": "markdown",
      "source": [
        "**Interpretation of Results:**\n",
        "\n",
        "* The data reveals a clear upward trend in interest for 'Sustainable food production' over the past three years, with the highest peak (48) occurring recently on April 28, 2024, and the lowest trough (0) on July 18, 2021. This suggests a growing interest in the topic, which is further supported by the increasing average peak interest, which has more than doubled from 2021 to 2024.\n",
        "* This significant difference and the recency of the peak strongly suggest a sustained and growing relevance of this need, supported by constantly growing values for both peaks and troughs over the last 3 years.\n",
        "* The consistently increasing interest along with the consistently moderate values of interest make this need a strong candidate for inclusion in the prototype design and for further analysis.\n"
      ],
      "metadata": {
        "id": "65prxd3VcwsU"
      }
    },
    {
      "cell_type": "markdown",
      "source": [
        "Evaluation of Current Trend"
      ],
      "metadata": {
        "id": "P6DqcbUIgUAg"
      }
    },
    {
      "cell_type": "code",
      "source": [
        "determine_current_trend(peaks_throughs_dict['Sustainable food production'])"
      ],
      "metadata": {
        "id": "qaKY5xyehO9v"
      },
      "execution_count": null,
      "outputs": []
    },
    {
      "cell_type": "markdown",
      "source": [
        "**Interpretation of Results:**\n",
        "* Interest in 'Sustainable food production' has increased by 4 units over the last week, reaching a current moderate value of 25.\n",
        "* This recent increase is consistent with the overall upward trend observed in the data over the past three years, suggesting a continued and gradual growth in the relevance of this need.\n",
        "* Continued monitoring and analysis are required to fully understand the nature of this trend."
      ],
      "metadata": {
        "id": "c75m0Hx1hMhb"
      }
    },
    {
      "cell_type": "markdown",
      "source": [
        "<a name='trends-high-needs'></a>\n",
        "#### Summary Statistics for High Interest Needs"
      ],
      "metadata": {
        "id": "VIYR31oWjovc"
      }
    },
    {
      "cell_type": "code",
      "source": [
        "# Show all needs with high relevance\n",
        "high_relevance_df = get_relevant_keywords_df(needs_by_relevance, needs_relevance_over_time, 'High')\n",
        "high_relevance_df.head(3)"
      ],
      "metadata": {
        "id": "GBcWPwVEj6_l"
      },
      "execution_count": null,
      "outputs": []
    },
    {
      "cell_type": "code",
      "source": [
        "# Get summary stats\n",
        "summary_stats_high_relevance = high_relevance_df.describe().round().astype(int)\n",
        "summary_stats_high_relevance"
      ],
      "metadata": {
        "id": "vW5pmGX1kITS"
      },
      "execution_count": null,
      "outputs": []
    },
    {
      "cell_type": "markdown",
      "source": [
        "**Interpretation of Results:**\n",
        "- The data for 'Educational AI' reveals a highly volatile interest pattern over the past three years, with an average weekly interest of 29 units.  \n",
        "- The standard deviation of 32, spanning from 0 to 100, indicates a wide range of interest levels. This volatility is further supported by the fact that the lowest 25% of values are zero, while the top 75% are above 53.\n",
        "- A median (14) considerably lower than the mean (29) suggests that the distribution is skewed to the right, with more weeks with lower interest and some weeks with exceptionally high interest.\n",
        "- Overall, interest in 'Educational AI' is sporadic, characterized by periods of very low or no interest and bursts of high interest. A trend analysis will determine if any patterns exist within this volatility and to assess the overall trajectory of interest in this topic over time."
      ],
      "metadata": {
        "id": "4idEbDt3iJbm"
      }
    },
    {
      "cell_type": "markdown",
      "source": [
        "#### Trend Analysis High Interest Needs\n",
        "* Assess whether interest is increasing, decreasing, or stable over the past 3 years.\n",
        "* Assess peaks and troughs in interest levels.\n",
        "* Determine current trend in interest."
      ],
      "metadata": {
        "id": "L3J6n1ZSm0Pv"
      }
    },
    {
      "cell_type": "markdown",
      "source": [
        "Evaluation of Trend Direction and Magnitude"
      ],
      "metadata": {
        "id": "uxOo7PsunKYQ"
      }
    },
    {
      "cell_type": "code",
      "source": [
        "# Perform linear regression analysis\n",
        "analyze_interest_trends(high_relevance_df, slope_decimals=4)"
      ],
      "metadata": {
        "id": "kjxXbsD6nOdA"
      },
      "execution_count": null,
      "outputs": []
    },
    {
      "cell_type": "markdown",
      "source": [
        "\n",
        "**Interpretation of Results:**\n",
        "- The positive slope of 0.0927 signifies an upward trend in interest over time with a substantial yearly increase in interst of ~33.84 units.\n",
        "- The extremely small p-value (1.09e-62) is far below the typical threshold of 0.05 for statistical significance, proving that the observed increase in interst is not due to chance.\n",
        "- 'Educational AI' is a prime candidate for consideration in the design process of the prototype and for further analysis, due rapid increase of interest over the last 3 years."
      ],
      "metadata": {
        "id": "sUrl7MsOnW4r"
      }
    },
    {
      "cell_type": "markdown",
      "source": [
        "Evaluation of Trend Variability"
      ],
      "metadata": {
        "id": "sQG54JYfoQua"
      }
    },
    {
      "cell_type": "code",
      "source": [
        "# Calculate peaks and troughs in high interest needs\n",
        "peaks_throughs_dict = get_peaks_and_troughs(high_relevance_df)\n",
        "peaks_throughs_dict.keys()"
      ],
      "metadata": {
        "id": "f8p28tg-ok9u"
      },
      "execution_count": null,
      "outputs": []
    },
    {
      "cell_type": "code",
      "source": [
        "# Calculate average peaks and troughs and show dates with highest and lowest interest\n",
        "average_peaks, average_troughs, peaks_by_interest, troughs_by_interest = (\n",
        "    analyze_peaks_and_troughs(peaks_throughs_dict['Educational AI'])\n",
        ")"
      ],
      "metadata": {
        "id": "5LCnQb3oo3nA"
      },
      "execution_count": null,
      "outputs": []
    },
    {
      "cell_type": "code",
      "source": [
        "# Calculate the highest and lowest interest value\n",
        "print(f'Highest interest: {peaks_by_interest.iloc[0][\"Interest\"]}')\n",
        "print(f'Lowest interest: {troughs_by_interest.iloc[0][\"Interest\"]}')"
      ],
      "metadata": {
        "id": "vG-2mlcHp9GZ"
      },
      "execution_count": null,
      "outputs": []
    },
    {
      "cell_type": "code",
      "source": [
        "# Calculate growth rate between peaks from 2021 to 2024\n",
        "growth_rate = (average_peaks.iloc[-1] - average_peaks.iloc[0]) / average_peaks.iloc[0] * 100\n",
        "print(f'Percentage change in average peak interest: {round(growth_rate, 2)}%')"
      ],
      "metadata": {
        "id": "-wnPfn7kp9GZ"
      },
      "execution_count": null,
      "outputs": []
    },
    {
      "cell_type": "markdown",
      "source": [
        "**Interpretation of Results:**\n",
        "* The data reveals a clear and steep upward trend in interest for 'Educational AI' over the past three years, with the highest peak (100) occurring recently on May 19, 2024, and the lowest trough (0) almost three years prior on July 11, 2021.\n",
        "* The average peak interest increased by approximately 550% from 2021 to 2024, highlighting a rapid growth rate in interest.\n",
        "* The increasing average trough values, particularly in 2024, suggest that also the baseline interest in 'Educational AI' is rapidly growing, not just the peaks.\n",
        "* Overall, the rapidly and consistently increasing interest along with the currently execptionally high values in interest make this need a very strong candidate for inclusion in the prototype design and for further analysis.\n"
      ],
      "metadata": {
        "id": "yh63SasEpBHY"
      }
    },
    {
      "cell_type": "markdown",
      "source": [
        "Evaluation of Current Trend"
      ],
      "metadata": {
        "id": "tKSZ6wgIrPsO"
      }
    },
    {
      "cell_type": "code",
      "source": [
        "# Check if the current value is higher than the last trough value\n",
        "determine_current_trend(peaks_throughs_dict['Educational AI'])"
      ],
      "metadata": {
        "id": "3QFYcZU12-VH"
      },
      "execution_count": null,
      "outputs": []
    },
    {
      "cell_type": "markdown",
      "source": [
        "**Interpretation of Results:**\n",
        "* Interest in 'Educational AI' has seen a moderate increase of 10 units over the past two weeks, reaching a critically high value of 78.\n",
        "* The current trend correlates with the steep upward trend observed over the last 3 years."
      ],
      "metadata": {
        "id": "JFBp0H0S3Whe"
      }
    },
    {
      "cell_type": "markdown",
      "source": [
        "<a name='trends-critical-needs'></a>\n",
        "#### Summary Statistics for Critical Interest Needs"
      ],
      "metadata": {
        "id": "IYQYy9BF5LVj"
      }
    },
    {
      "cell_type": "code",
      "source": [
        "# Show all needs with critical relevance\n",
        "critical_relevance_df = (\n",
        "    get_relevant_keywords_df(needs_by_relevance, needs_relevance_over_time, 'Critical')\n",
        ")\n",
        "critical_relevance_df.head(3)"
      ],
      "metadata": {
        "id": "X5pu4Ih25dyp"
      },
      "execution_count": null,
      "outputs": []
    },
    {
      "cell_type": "code",
      "source": [
        "# Get summary stats\n",
        "summary_stats_critical_relevance = critical_relevance_df.describe().round().astype(int)\n",
        "summary_stats_critical_relevance"
      ],
      "metadata": {
        "id": "VndYpqMZ52QH"
      },
      "execution_count": null,
      "outputs": []
    },
    {
      "cell_type": "markdown",
      "source": [
        "**Interpretation of Results:**\n",
        "- The data indicates consistently high interest in 'Climate resilience' over the past three years, with an average weekly interest of 56 units.\n",
        "- The standard deviation of 18, spanning from 17 to 100, suggests a moderate range of interest levels. The median value is equal to the mean (56), indicating a relatively symmetrical distribution.\n",
        "- However, there are several outliers with exceptionally high interest, skewing the distribution to the right and driving the maximum interest value to 100.\n",
        "- Overall, interest in 'Climate resilience' shows stable moderate to high interest over the last 3 years, with some variability due to exceptionally high interest periods."
      ],
      "metadata": {
        "id": "IXuy22IX6CFE"
      }
    },
    {
      "cell_type": "markdown",
      "source": [
        "#### Trend Analysis Critical Interest Needs\n",
        "* Assess whether interest is increasing, decreasing, or stable over the past 3 years.\n",
        "* Assess peaks and troughs in interest levels.\n",
        "* Determine current trend in interest."
      ],
      "metadata": {
        "id": "lzui3I6m8TnI"
      }
    },
    {
      "cell_type": "markdown",
      "source": [
        "Evaluation of Trend Direction and Magnitude"
      ],
      "metadata": {
        "id": "61mTZEMm8-bg"
      }
    },
    {
      "cell_type": "code",
      "source": [
        "# Get linear regression results\n",
        "analyze_interest_trends(critical_relevance_df, slope_decimals=4)"
      ],
      "metadata": {
        "id": "jyn1K_Rz9GM2"
      },
      "execution_count": null,
      "outputs": []
    },
    {
      "cell_type": "markdown",
      "source": [
        "\n",
        "**Interpretation of Results:**\n",
        "- The positive slope of 0.0494 signifies an upward trend in interest over time with a substantial yearly increase in interest of ~18.02 units.\n",
        "- The very small p-value (2.70e-46) is far below 0.05, proving that the observed increase in interest is not due to chance.\n",
        "- 'Climate resilience' is a prime candidate for consideration in the design process of the prototype and for further analysis, due significant increase in interest over the last 3 years."
      ],
      "metadata": {
        "id": "Knwvcvpw9Jl6"
      }
    },
    {
      "cell_type": "markdown",
      "source": [
        "Evaluation of Trend Variability"
      ],
      "metadata": {
        "id": "hqlQ7pzS-oCb"
      }
    },
    {
      "cell_type": "code",
      "source": [
        "# Calculate peaks and troughs in critical interest needs\n",
        "peaks_throughs_dict = get_peaks_and_troughs(critical_relevance_df)\n",
        "peaks_throughs_dict.keys()"
      ],
      "metadata": {
        "id": "qevj7S6K-rWR"
      },
      "execution_count": null,
      "outputs": []
    },
    {
      "cell_type": "code",
      "source": [
        "# Calculate average yearly peaks and troughs and show dates with highest and lowest interest\n",
        "average_peaks, average_troughs, peaks_by_interest, troughs_by_interest = (\n",
        "    analyze_peaks_and_troughs(peaks_throughs_dict['Climate resilience'])\n",
        ")"
      ],
      "metadata": {
        "id": "PDW7L_Al-x94"
      },
      "execution_count": null,
      "outputs": []
    },
    {
      "cell_type": "code",
      "source": [
        "# Calculate the highest and lowest interest value\n",
        "print(f'Highest interest: {peaks_by_interest.iloc[0][\"Interest\"]}')\n",
        "print(f'Lowest interest: {troughs_by_interest.iloc[0][\"Interest\"]}')"
      ],
      "metadata": {
        "id": "8SoC943r-7UD"
      },
      "execution_count": null,
      "outputs": []
    },
    {
      "cell_type": "code",
      "source": [
        "# Calculate growth rate between peaks from 2021 to 2024\n",
        "growth_rate = (average_peaks.iloc[-1] - average_peaks.iloc[0]) / average_peaks.iloc[0] * 100\n",
        "print(f'Percentage change in average peak interest: {round(growth_rate, 2)}%')"
      ],
      "metadata": {
        "id": "cpbPhB2h_F67"
      },
      "execution_count": null,
      "outputs": []
    },
    {
      "cell_type": "markdown",
      "source": [
        "**Interpretation of Results:**\n",
        "* The data reveals a clear and steep upward trend in interest for 'Educational AI' over the past three years, with the highest peak (100) occurring recently on April 21, 2024, and the lowest trough (17) almost three years prior on December 26, 2021.\n",
        "* The average peak interest increased by approximately 147% from 2021 to 2024, highlighting a rapid growth rate in interest.\n",
        "* While 'Educational AI' experienced a much higher growth rate (550%) compared to 'Climate Resilience' (147%) over the last three years, it's essential to consider 'Climate Resilience's' higher baseline interest. Interest never dropped below 17 units.\n",
        "* The lower growth rate and the sustained high interst from 2021 until now, suggests more mature relevance (awareness) of this need than of 'Educational AI'.\n",
        "* The increasing average trough values, particularly in 2024, suggest that also the overall interest in 'Climate resilience' is rapidly growing, not just the peaks.\n",
        "* Overall, the rapidly and consistently increasing interest along with the currently exceptionally high values in interest make this need a very strong candidate for inclusion in the prototype design and for further analysis.\n"
      ],
      "metadata": {
        "id": "UXD8dbl5_KGi"
      }
    },
    {
      "cell_type": "markdown",
      "source": [
        "Evaluation of Current Trend"
      ],
      "metadata": {
        "id": "FeZJIOzoD6zJ"
      }
    },
    {
      "cell_type": "code",
      "source": [
        "# Check if the current value is higher than the last trough value\n",
        "determine_current_trend(peaks_throughs_dict['Climate resilience'])"
      ],
      "metadata": {
        "id": "Rhn9Zs7BEEtD"
      },
      "execution_count": null,
      "outputs": []
    },
    {
      "cell_type": "markdown",
      "source": [
        "**Interpretation of Results:**\n",
        "* Interest in 'Climate resilience' has seen a moderate increase of 8 units over the past two weeks, reaching a critically high current value of 88.\n",
        "* The current trend correlates with the steep upward trend observed over the last 3 years.\n",
        "* Relevance of this need is currently higher than relevance of all other needs compared."
      ],
      "metadata": {
        "id": "Hy475HMSEH0Z"
      }
    },
    {
      "cell_type": "markdown",
      "source": [
        "<a name='needs-visualizations'></a>\n",
        "### Visualizations: Interest Over Time For Key Needs\n",
        "* Aggregate the data over monthly intervals.\n",
        "* Use a heatmap to show patterns in interest over time."
      ],
      "metadata": {
        "id": "PWQ9x51xFZV9"
      }
    },
    {
      "cell_type": "markdown",
      "source": [
        "<a name='visualizations-moderate-needs'></a>\n",
        "#### Visualization for Moderate Interest Needs\n",
        "* Visualize weekly interest over 3 years"
      ],
      "metadata": {
        "id": "-TDDlDw-Hqqt"
      }
    },
    {
      "cell_type": "code",
      "source": [
        "# Show moderate interest needs data\n",
        "moderate_relevance_df.head(3)"
      ],
      "metadata": {
        "id": "k3kz0kC4KY67"
      },
      "execution_count": null,
      "outputs": []
    },
    {
      "cell_type": "code",
      "source": [
        "# Create a heatmap to show interest over time\n",
        "create_heatmap(moderate_relevance_df, 'Moderate', category='Needs')"
      ],
      "metadata": {
        "id": "TeNQtS8xKp89"
      },
      "execution_count": null,
      "outputs": []
    },
    {
      "cell_type": "markdown",
      "source": [
        "**Interpretation of Results:**\n",
        "  * The visualization reveals a consistent, though gradual, increase in interest in 'Sustainable food production' over the past three years. Interest has risen from low levels (0 - 20) in 2021 to moderate-high levels (30-50) in 2024.\n",
        "  * There is a noticeable seasonal pattern, with the lowest interest typically observed in the summer months (July-September) and the highest interest during the spring (February-June). This seasonal variation could be attributed to planting and harvesting seasons, although other factors could also play a role.\n",
        "\n",
        "* **Conclusion:**\n",
        " * The steady growth of interest in 'Sustainable food production,' coupled with its seasonal fluctuations, indicates a promising area for further analysis. This need should be considered for inclusion in the MVP design, and additional analysis should explore the factors driving the observed growth and seasonality in interest.\n",
        "\n",
        "\n",
        "\n"
      ],
      "metadata": {
        "id": "3UftRgqfKuXa"
      }
    },
    {
      "cell_type": "markdown",
      "source": [
        "<a name='visualizations-high-needs'></a>\n",
        "#### Visualization for High Interest Needs"
      ],
      "metadata": {
        "id": "hkpPxbdSQOYX"
      }
    },
    {
      "cell_type": "code",
      "source": [
        "# Show high interest needs data\n",
        "high_relevance_df.head(3)"
      ],
      "metadata": {
        "id": "V3DxxXiMQdab"
      },
      "execution_count": null,
      "outputs": []
    },
    {
      "cell_type": "code",
      "source": [
        "# Create a heatmap to show interest over time\n",
        "create_heatmap(high_relevance_df, 'High', category='Needs')"
      ],
      "metadata": {
        "id": "fOBYN-6pQhwI"
      },
      "execution_count": null,
      "outputs": []
    },
    {
      "cell_type": "markdown",
      "source": [
        "**Interpretation of Results:**\n",
        "  * The visualization reveals rapid growth in interest in 'Educational AI' from January 2023 until June 2024. Interest remianed low from June 2021 until December 2022 (0 - 20) and started to grow rapidly from 20 - 100 in throughout the years 2023 and mid-2024.\n",
        "  * The data shows no noticable seasonal pattern, and the overall highest interst has been obseved in April 2024.\n",
        "  * Over the last 2 months interst levels decreased from 100 to 80, which suggests the potential for a drop in interest.\n",
        "  * The rapid increase in interst is most likely caused by innovation in AI technology,but could be subject to other factors as well.\n",
        "\n",
        "* **Conclusion:**\n",
        " * The rapid and consistent growth in interest in 'Educational AI' makes this need a crucial area for further analysis. This need should be considered for inclusion in the MVP design, and additional analysis should explore the factors driving the observed rapid growth and the potential for a future decrease in interest.\n",
        "\n",
        "\n",
        "\n"
      ],
      "metadata": {
        "id": "u1zNNhAPQm4R"
      }
    },
    {
      "cell_type": "markdown",
      "source": [
        "<a name='visualizations-critical-needs'></a>\n",
        "#### Visualization for Critical Interest Needs"
      ],
      "metadata": {
        "id": "Vo1ZfdbRTOEc"
      }
    },
    {
      "cell_type": "code",
      "source": [
        "# Show critical interest needs data\n",
        "critical_relevance_df.head(3)"
      ],
      "metadata": {
        "id": "Wk6MApjUTUiG"
      },
      "execution_count": null,
      "outputs": []
    },
    {
      "cell_type": "code",
      "source": [
        "# Create a heatmap to show interest over time\n",
        "create_heatmap(critical_relevance_df, 'Critical', category='Needs')"
      ],
      "metadata": {
        "id": "5WVEflLiTYW4"
      },
      "execution_count": null,
      "outputs": []
    },
    {
      "cell_type": "markdown",
      "source": [
        "**Interpretation of Results:**\n",
        "  *  The visualization reveals rapid growth in interest in 'Climate resilience' starting from June 2021, with values quickly rising from low levels (0-20) in the latter half of 2021 to critically high levels (80-100) beginning around October 2022.  Interest peaked in April 2024 and remains critically high as of June 2024.\n",
        "  * The data shows no noticable seasonal pattern.\n",
        "  * Currently interst is critically high, and the data suggest no evidence to expect a decline, however due to the novelty of this need this needs to be further monitored.\n",
        "  * The increase in interst over the last 2 years is most likely caused by  increased awareness about the effects of climate warming  and a increased desire of peope to take action, however other factors could contribute to this as well.\n",
        "\n",
        "* **Conclusion:**\n",
        " * The rapid and consistent growth in interest in \"Climate resilience\" makes this need a crucial area for further analysis. This need should be strongly considered for inclusion in the MVP design, and additional analysis should explore the factors driving the observed rapid growth and investigate whether this high level of interest is likely to be sustained in the long term.\n",
        "\n",
        "\n",
        "\n"
      ],
      "metadata": {
        "id": "Yse06pYxTegf"
      }
    },
    {
      "cell_type": "markdown",
      "source": [
        "<a name='contextual-exploration'></a>\n",
        "## Contextual Exploration of Most Relevant Keywords\n",
        "* Present most relevant keywords out of all categories (critical interest keywords)\n",
        "* Define relevant categories and sub-categories of keywords\n",
        "* Explore and interpret trending related searches"
      ],
      "metadata": {
        "id": "-Xaf7SqOXi6X"
      }
    },
    {
      "cell_type": "markdown",
      "source": [
        "<a name='most-relevant-keywords'></a>\n",
        "#### Summary Table: Most Relevant Keywords\n",
        "* Present and compare the most relevant keywords for features, problems and needs"
      ],
      "metadata": {
        "id": "2s4TjejU0CQU"
      }
    },
    {
      "cell_type": "markdown",
      "source": [
        "<a name='categories'></a>\n",
        "#### Exploration of the Context of Keyword Searches\n",
        "* Use Google Trends categories (and sub-categories) to understand the broader context of search interst.\n",
        "* Interpret the results to understand the context of interst in high relevance keywords."
      ],
      "metadata": {
        "id": "qK_-cJM30zKu"
      }
    },
    {
      "cell_type": "code",
      "source": [
        "# Get suggestions for an easy keyword\n",
        "suggestions = pytrends.suggestions(keyword='Robot')\n",
        "suggestions"
      ],
      "metadata": {
        "id": "dXXjmn2xJt_g"
      },
      "execution_count": null,
      "outputs": []
    },
    {
      "cell_type": "code",
      "source": [
        "# Extract keywords from suggestions\n",
        "suggestion_keywords_set = set()\n",
        "\n",
        "# Add titles and types to the set to ensure uniqueness\n",
        "for suggestion in suggestions:\n",
        "    suggestion_keywords_set.add(suggestion['title'])\n",
        "    suggestion_keywords_set.add(suggestion['type'])\n",
        "suggestion_keywords_set"
      ],
      "metadata": {
        "id": "tMCbQW6OhaQV"
      },
      "execution_count": null,
      "outputs": []
    },
    {
      "cell_type": "code",
      "source": [
        "# Recursively search the categories dictionary for occurances of these keywords\n",
        "\n",
        "# Get all categories\n",
        "categories = pytrends.categories()\n",
        "\n",
        "# Initialize empty list to store matches in\n",
        "matched_categories = []"
      ],
      "metadata": {
        "id": "jmZ1kuKTiYIO"
      },
      "execution_count": null,
      "outputs": []
    },
    {
      "cell_type": "code",
      "source": [
        "# Check the top level categories for matches\n",
        "for top_category in categories.get('children', []):\n",
        "  top_category_name = top_category.get('name', '')\n",
        "  top_category_id = top_category.get('id', '')\n",
        "\n",
        "  if any(keyword in top_category_name for keyword in suggestion_keywords_set):\n",
        "        matched_categories.append({\n",
        "            'category_name': top_category_name,\n",
        "            'category_id': top_category_id,\n",
        "            'parent_categories': [] # No parent categories here\n",
        "        })\n",
        "  # Iterate over each subcategory of the current top-level category\n",
        "  for sub_category in top_category.get('children', []):\n",
        "      sub_category_name = sub_category.get('name', '')\n",
        "      sub_category_id = sub_category.get('id', '')\n",
        "\n",
        "      # Check if any suggestion_keyword is in the subcategory name\n",
        "      if any(keyword in sub_category_name for keyword in suggestion_keywords_set):\n",
        "          matched_categories.append({\n",
        "              'category_name': sub_category_name,\n",
        "              'category_id': sub_category_id,\n",
        "              'parent_categories': [top_category_name]\n",
        "          })\n",
        "\n",
        "      # Further iterate over sub-subcategories if any\n",
        "      for sub_sub_category in sub_category.get('children', []):\n",
        "          sub_sub_category_name = sub_sub_category.get('name', '')\n",
        "          sub_sub_category_id = sub_sub_category.get('id', '')\n",
        "\n",
        "          # Check if any suggestion_keyword is in the sub-subcategory name\n",
        "          if any(keyword in sub_sub_category_name for keyword in suggestion_keywords_set):\n",
        "              matched_categories.append({\n",
        "                  'category_name': sub_sub_category_name,\n",
        "                  'category_id': sub_sub_category_id,\n",
        "                  'parent_categories': [top_category_name, sub_category_name]\n",
        "              })\n",
        "\n",
        "matched_categories"
      ],
      "metadata": {
        "id": "SjYXoQ2UiqSY"
      },
      "execution_count": null,
      "outputs": []
    },
    {
      "cell_type": "markdown",
      "source": [
        "#### Determine Trending Related Searches\n",
        "* Use the categories found to determine trending searches.\n",
        "* Interpret the meaning of these trends for the suggested features, problems and needs.\n",
        "* Use trending_searches with the category ID"
      ],
      "metadata": {
        "id": "7-M6C2_wgjne"
      }
    },
    {
      "cell_type": "code",
      "source": [],
      "metadata": {
        "id": "W1tx0KpB7Ohp"
      },
      "execution_count": null,
      "outputs": []
    }
  ],
  "metadata": {
    "colab": {
      "provenance": [],
      "authorship_tag": "ABX9TyNrHG+kDyHtQ98Lrfv7ieFR",
      "include_colab_link": true
    },
    "kernelspec": {
      "display_name": "Python 3",
      "name": "python3"
    },
    "language_info": {
      "name": "python"
    }
  },
  "nbformat": 4,
  "nbformat_minor": 0
}