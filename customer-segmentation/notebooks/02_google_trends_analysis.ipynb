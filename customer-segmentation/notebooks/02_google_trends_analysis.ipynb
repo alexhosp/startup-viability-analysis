{
  "cells": [
    {
      "cell_type": "markdown",
      "metadata": {
        "id": "view-in-github",
        "colab_type": "text"
      },
      "source": [
        "<a href=\"https://colab.research.google.com/github/alexhosp/startup-viability-analysis/blob/main/customer-segmentation/notebooks/02_google_trends_analysis.ipynb\" target=\"_parent\"><img src=\"https://colab.research.google.com/assets/colab-badge.svg\" alt=\"Open In Colab\"/></a>"
      ]
    },
    {
      "cell_type": "markdown",
      "metadata": {
        "id": "89KE7CuAreAt"
      },
      "source": [
        "# Google Trends: Data Analysis\n",
        "## Introduction\n",
        "This notebook analyzes Google Search trends for keywords related to our proposed prototype features as well as problems and user needs addressed by the prototype. By identifying the most relevant keywords and observing how interest in these keywords has changed over the last three years, we can gather insights that will guide future customer segmentation analyis."
      ]
    },
    {
      "cell_type": "markdown",
      "metadata": {
        "id": "r-uGjS5kvNC9"
      },
      "source": [
        "## Contents\n",
        "Contents\n",
        "1. [Data Overview](#data-overview)\n",
        "  1. [Loading Data from GCS](#loading-data)\n",
        "  2. [Description of Loaded Data](#description-of-available-data)\n",
        "  3. [Brief Evaluation of Keywords with No Interest](#data-no-interest)\n",
        "2. [Key Features Analysis](#key-features-analysis)\n",
        "  1. [Definition of Most Relevant Features](#most-relevant-features)\n",
        "  2. [Detailed Trend Analysis of Key Features](#key-features-trend-analysis)\n",
        "    1. [Moderate Interest Features](#trends-moderate-features)\n",
        "    2. [High Interest Features](#trends-high-features)\n",
        "    3. [Critical Interest Features](#trends-critical-features)\n",
        "  3. [Visualizations: Interest Over Time for Key Features](#features-visualizations)\n",
        "    1. [Moderate Interest Features](#features-moderate-visualizations)\n",
        "    2. [High Interest Features](#features-high-visualizations)\n",
        "    3. [Critical Interest Features](#features-critical-visualizations)\n",
        "3. [Key Problems Analysis](#key-problems-analysis)\n",
        "  1. [Definition of Most Relevant Problems](#most-relevant-problems)\n",
        "  2. [Detailed Trend Analysis of Key Problems](#key-problems-trend-analysis)\n",
        "    1. [Critical Interest Problems](#trends-critical-problems)\n",
        "  3. [Visualizations: Interest Over Time for Key Problems](#problems-visualizations)\n",
        "    1. [Critical Interest Problems](#problems-critical-visualizations)\n",
        "4. [Key Needs Analysis](#key-needs-analysis)\n",
        "  1. [Definition of Most Relevant Needs](#most-relevant-needs)\n",
        "  2. [Detailed Trend Analysis of Key Needs](#key-needs-trend-analysis)\n",
        "    1. [Moderate Interest Needs](#trends-moderate-needs)\n",
        "    2. [High Interest Needs](#trends-high-needs)\n",
        "    3. [Critical Interest Needs](#trends-critical-needs)\n",
        "  3. [Visualizations: Interest Over Time for Key Needs](#needs-visualizations)\n",
        "    1. [Moderate Interest Needs](#visualizations-moderate-needs)\n",
        "    2. [High Interest Needs](#visualizations-high-needs)\n",
        "    3. [Critical Interest Needs](#visualizations-critical-needs)\n",
        "5. [Contextual Exploration of Most Relevant Keywords](#contextual-exploration)\n",
        "  1. [Summary Table: Most Relevant Keywords](#most-relevant-keywords)\n",
        "  2. [Exploration of Interest Context](#categories)\n",
        "6. [Presentation of Results and Insights](#presentation-of-results)\n",
        "  1. [Keyword Performance Results](#keyword-performance)\n",
        "  2. [Interest Trend Analysis Results](#interest-trends)\n",
        "  3. [Contextual Exploration Results](#contextual-exoloration-results)\n",
        "  4. Visualization of Key Insights\n",
        "7. Conclusion\n",
        "  1. Summary of Key Insights\n",
        "  2. Relevance for Further Analysis\n",
        "  3. Relevance for Market Understanding\n",
        "  4. Relevance for Prototype Development\n",
        "8. Next Steps\n",
        "  1. Future Analysis Plan"
      ]
    },
    {
      "cell_type": "markdown",
      "metadata": {
        "id": "8ShhsifNwoAN"
      },
      "source": [
        "<a name='data-overview'></a>\n",
        "## Data Overview\n",
        "* Load data from GCS.\n",
        "* Describe structure, format and contents of data.\n",
        "* Evaluate keywords that did not receive interest and will not be included in the analysis.\n"
      ]
    },
    {
      "cell_type": "markdown",
      "metadata": {
        "id": "fpckeuFS7T8V"
      },
      "source": [
        "<a name='loading-data'></a>\n",
        "## Loading Data from GCS\n",
        "* Import necessary libraries\n",
        "* Authenticate and access GCS\n",
        "* Load data from storage bucket"
      ]
    },
    {
      "cell_type": "code",
      "execution_count": null,
      "metadata": {
        "id": "wjvuwWu59KXe"
      },
      "outputs": [],
      "source": [
        "# Import necessary libraries\n",
        "from google.cloud import storage\n",
        "import pandas as pd\n",
        "from google.colab import auth"
      ]
    },
    {
      "cell_type": "code",
      "execution_count": null,
      "metadata": {
        "id": "_BIbFtkO-LYx"
      },
      "outputs": [],
      "source": [
        "# Authenticate with GCP\n",
        "auth.authenticate_user()\n"
      ]
    },
    {
      "cell_type": "code",
      "execution_count": null,
      "metadata": {
        "id": "tKBlJj8V-gEm"
      },
      "outputs": [],
      "source": [
        "# Set up GCS client\n",
        "project_id = 'idyllic-gear-422709-g4'\n",
        "storage_client = storage.Client(project=project_id)"
      ]
    },
    {
      "cell_type": "code",
      "execution_count": null,
      "metadata": {
        "id": "dsSYgWlC-yQo"
      },
      "outputs": [],
      "source": [
        "# Define storage location\n",
        "bucket_name = 'startup-viability-analysis'\n",
        "bucket = storage_client.get_bucket(bucket_name)\n",
        "bucket"
      ]
    },
    {
      "cell_type": "code",
      "execution_count": null,
      "metadata": {
        "id": "lS_vtfiSDABG"
      },
      "outputs": [],
      "source": [
        "# Define sub-folder name\n",
        "base_path = 'google_trends/'"
      ]
    },
    {
      "cell_type": "code",
      "execution_count": null,
      "metadata": {
        "id": "Ic8Up8dz-7H3"
      },
      "outputs": [],
      "source": [
        "# Define function to load parquet files from GCS\n",
        "def load_parquet(bucket, file_path):\n",
        "  \"\"\"\n",
        "  Load a Parquet file from a Google Cloud Storage bucket into a pandas DataFrame.\n",
        "\n",
        "  Args:\n",
        "      bucket (google.cloud.storage.bucket.Bucket): The Google Cloud Storage bucket object.\n",
        "      file_path (str): The path to the Parquet file within the GCS bucket.\n",
        "\n",
        "  Returns:\n",
        "      pd.DataFrame: The loaded data as a pandas DataFrame.\n",
        "\n",
        "  Example:\n",
        "      df = load_parquet_from_gcs(bucket, 'path/to/your/file.parquet')\n",
        "  \"\"\"\n",
        "  # Create a Blob object for the specified file path within the bucket\n",
        "  blob = bucket.blob(file_path)\n",
        "\n",
        "  # Open the blob as a file object and read it into a pandas DataFrame\n",
        "  with blob.open(\"rb\") as f:\n",
        "      df = pd.read_parquet(f)\n",
        "  return df"
      ]
    },
    {
      "cell_type": "markdown",
      "metadata": {
        "id": "7JL2Uk9WB9uk"
      },
      "source": [
        "### Load Data for Keywords with No Relevance"
      ]
    },
    {
      "cell_type": "code",
      "execution_count": null,
      "metadata": {
        "id": "tkyGc-0lCMAy"
      },
      "outputs": [],
      "source": [
        "# Load dataframe with features with no interest\n",
        "zero_relevance_features = load_parquet(bucket, base_path + 'zero_interest_features.parquet')\n",
        "zero_relevance_features.head(2)"
      ]
    },
    {
      "cell_type": "code",
      "execution_count": null,
      "metadata": {
        "id": "2kjZ8mJEDax7"
      },
      "outputs": [],
      "source": [
        "# Load dataframe with problems with no interest (relevance)\n",
        "zero_relevance_problems = load_parquet(bucket, base_path + 'zero_relevance_problems.parquet')\n",
        "zero_relevance_problems.head(2)"
      ]
    },
    {
      "cell_type": "code",
      "execution_count": null,
      "metadata": {
        "id": "U1oxTTkMD0IC"
      },
      "outputs": [],
      "source": [
        "# Load dataframe with needs with no interest (relevance)\n",
        "zero_relevance_needs = load_parquet(bucket, base_path + 'zero_relevance_needs.parquet')\n",
        "zero_relevance_needs.head(2)"
      ]
    },
    {
      "cell_type": "markdown",
      "metadata": {
        "id": "LkZMwyUJD8Nt"
      },
      "source": [
        "### Load Data for Keywords Sorted by Relevance"
      ]
    },
    {
      "cell_type": "code",
      "execution_count": null,
      "metadata": {
        "id": "wQOibK4qEHR1"
      },
      "outputs": [],
      "source": [
        "# Load features by interest dataframe\n",
        "features_by_interest = load_parquet(bucket, base_path + 'features_by_interest.parquet')\n",
        "features_by_interest.head(2)"
      ]
    },
    {
      "cell_type": "code",
      "execution_count": null,
      "metadata": {
        "id": "6Cgeq6_fEaIH"
      },
      "outputs": [],
      "source": [
        "# Load problems by relevance dataframe\n",
        "problems_by_relevance = load_parquet(bucket, base_path + 'problems_by_relevance.parquet')\n",
        "problems_by_relevance.head(2)"
      ]
    },
    {
      "cell_type": "code",
      "execution_count": null,
      "metadata": {
        "id": "Ip7O6UWnEk6C"
      },
      "outputs": [],
      "source": [
        "# Load needs by relevance dataframe\n",
        "needs_by_relevance = load_parquet(bucket, base_path + 'needs_by_relevance.parquet')\n",
        "needs_by_relevance.head(2)"
      ]
    },
    {
      "cell_type": "markdown",
      "metadata": {
        "id": "tClWoA-PEvtB"
      },
      "source": [
        "### Load Data For Keywords Interest Over Time"
      ]
    },
    {
      "cell_type": "code",
      "execution_count": null,
      "metadata": {
        "id": "hTwEKMO8E-8T"
      },
      "outputs": [],
      "source": [
        "# Load data for features interest over time\n",
        "features_interest_over_time = load_parquet(bucket, base_path + 'features_interest_over_time.parquet')\n",
        "features_interest_over_time.tail(2)"
      ]
    },
    {
      "cell_type": "code",
      "execution_count": null,
      "metadata": {
        "id": "hH0puhrWFIcR"
      },
      "outputs": [],
      "source": [
        "# Load data for problems relevance over time\n",
        "problems_relevance_over_time = load_parquet(bucket, base_path + 'problems_relevance_over_time.parquet')\n",
        "problems_relevance_over_time.tail(2)"
      ]
    },
    {
      "cell_type": "code",
      "execution_count": null,
      "metadata": {
        "id": "V_PyrpmyFVsp"
      },
      "outputs": [],
      "source": [
        "# Load data for needs relevance over time\n",
        "needs_relevance_over_time = load_parquet(bucket, base_path + 'needs_interest_over_time.parquet')\n",
        "needs_relevance_over_time.tail(2)"
      ]
    },
    {
      "cell_type": "markdown",
      "metadata": {
        "id": "oAj4_OJKFayD"
      },
      "source": [
        "<a name='description-of-available-data'></a>\n",
        "## Description of Loaded Data\n",
        "* Describe metrics used by Google Trends\n",
        "* Describe the format of the data\n",
        "* Describe the structure of the data\n",
        "* Describe the contents of the data"
      ]
    },
    {
      "cell_type": "markdown",
      "metadata": {
        "id": "IEnLcMuO5aE2"
      },
      "source": [
        "#### Understanding Google Trends Metrics:\n",
        "Google Trends data is sampled and rated on a scale from 1 to 100, with 100 representing the highest search interest for the selected time and location. This data is normalized to reflect the percentage of searches for a specific term relative to the total number of searches at that time and location, rather than showing the absolute number of searches. This approach provides a relative measure of interest, indicating how popular a search term is compared to overall search volume in the given context. I evaluated searches worldwide over a period of 3 years.\n",
        "\n",
        "[More information](https://newsinitiative.withgoogle.com/resources/trainings/google-trends/basics-of-google-trends/#:~:text=Understanding%20the%20numbers,-By%20now%2C%20we&text=Indexing%3A%20Google%20Trends%20data%20is,the%20time%20and%20location%20selected.)\n"
      ]
    },
    {
      "cell_type": "markdown",
      "metadata": {
        "id": "YbSV7BO6GCUH"
      },
      "source": [
        "### Data Format\n",
        "All data is stored in the `google_trends` subfolder in Google Cloud Storage (GCS) as Parquet files. These files were loaded into the notebook using a function that reads them into pandas DataFrames.\n",
        "\n"
      ]
    },
    {
      "cell_type": "markdown",
      "metadata": {
        "id": "wuHWfKrJeuvE"
      },
      "source": [
        "### Data Structure and Contents\n",
        "The dataset comprises three different data structures: keywords with no relevance, keywords sorted by overall relevance, and keywords sorted by time. Each structure is consistently formatted across features, problems, and needs.\n"
      ]
    },
    {
      "cell_type": "markdown",
      "metadata": {
        "id": "qCItjuU6fnm4"
      },
      "source": [
        "#### Structure 1: Keywords with No Relevance\n",
        "##### Description:\n",
        "* The dataframes `zero_relevance_features`, `zero_relevance_problems`, and `zero_relevance_needs` share this structure.\n",
        "* These dataframes contain keywords that received no significant search interest over the last three years.\n",
        "\n",
        "##### Index:\n",
        "The dataframe uses a sequential numerical index.\n",
        "##### Columns:\n",
        "\n",
        "- `zero_interest_keywords`: Contains the keyword as searched with the Google Trends API. The datatype is a string.\n",
        "\n",
        "##### Example Data:"
      ]
    },
    {
      "cell_type": "code",
      "execution_count": null,
      "metadata": {
        "id": "33hbxjFggP8a"
      },
      "outputs": [],
      "source": [
        "# Example data for feature keywords with no relevane\n",
        "zero_relevance_features.head(3)"
      ]
    },
    {
      "cell_type": "code",
      "execution_count": null,
      "metadata": {
        "id": "SipL595LgUfc"
      },
      "outputs": [],
      "source": [
        "# Example data for problems keywords with no relevance\n",
        "zero_relevance_problems.head(3)"
      ]
    },
    {
      "cell_type": "code",
      "execution_count": null,
      "metadata": {
        "id": "kSoz7IHshs2-"
      },
      "outputs": [],
      "source": [
        "# Example data for needs problems with zero interest\n",
        "zero_relevance_needs.head(3)"
      ]
    },
    {
      "cell_type": "markdown",
      "metadata": {
        "id": "bGGH99BPjseH"
      },
      "source": [
        "#### Structure 2: Keywords by Relevance\n",
        "##### Description:\n",
        "* The dataframes `features_by_interest`, `problems_by_relevance`, and `needs_by_relevance` share this structure.\n",
        "* These dataframes contain keywords with substantial interest, sorted in descending order by aggregated interest over the last 3 years.\n",
        "* The dataframe contains no null-values.\n",
        "\n",
        "##### Index:\n",
        "The dataframe uses the keywords as the index.\n",
        "##### Columns:\n",
        "\n",
        "- `interest`: Interest collected in weekly intervals over three years summed up. The datatype is an int64.\n",
        "- `weekly_average_interest`: Average weekly interest over the 3-year period, scaled from 1 to 100. This column provides a measure of relative interest similar to the one used by Google Trends, but it represents the average over the entire time period. Rounded to 3 decimals. The datatype is a float64.\n",
        "\n",
        "##### Example Data:"
      ]
    },
    {
      "cell_type": "code",
      "execution_count": null,
      "metadata": {
        "id": "a0oZgBDKmT2p"
      },
      "outputs": [],
      "source": [
        "# Example data for features sorted by relevance\n",
        "features_by_interest.head(3)"
      ]
    },
    {
      "cell_type": "code",
      "execution_count": null,
      "metadata": {
        "id": "ci8iJqUqmVpX"
      },
      "outputs": [],
      "source": [
        "# Example data for problems sorted by relevance\n",
        "problems_by_relevance.head(3)"
      ]
    },
    {
      "cell_type": "code",
      "execution_count": null,
      "metadata": {
        "id": "sws76Xn7vPVN"
      },
      "outputs": [],
      "source": [
        "# Example data for needs sorted by relevance\n",
        "needs_by_relevance.head(3)"
      ]
    },
    {
      "cell_type": "markdown",
      "metadata": {
        "id": "bUnde9co6_Kc"
      },
      "source": [
        "#### Structure 3: Keywords by Weekly Interest\n",
        "##### Description:\n",
        "* The dataframes `features_interest_over_time`, `problems_relevance_over_time` and `needs_relevance_over_time` share this structure.\n",
        "* These dataframes contain the weekly interest for each keyword over a period of 3 years, with interest aggregated in weekly intervals by Google Trends.\n",
        "* The dataframes contains no empty columns.\n",
        "\n",
        "##### Index:\n",
        "The dataframe uses the date as an index, representing weekly intervals.\n",
        "##### Columns:\n",
        "Each column name represents a keyword for which interest is collected weekly over a period of 3 years.\n",
        "\n",
        "##### Example Data:"
      ]
    },
    {
      "cell_type": "code",
      "execution_count": null,
      "metadata": {
        "id": "X4t4DkDg7Z_A"
      },
      "outputs": [],
      "source": [
        "# Example data for interest over time in features\n",
        "features_interest_over_time.head(3)"
      ]
    },
    {
      "cell_type": "code",
      "execution_count": null,
      "metadata": {
        "id": "zNFJK3VY8eBK"
      },
      "outputs": [],
      "source": [
        "# Example data for relevance over time of problems\n",
        "problems_relevance_over_time.head(3)"
      ]
    },
    {
      "cell_type": "code",
      "execution_count": null,
      "metadata": {
        "id": "h786cRPt9AHj"
      },
      "outputs": [],
      "source": [
        "# Example data for relevance over time of needs\n",
        "needs_relevance_over_time.tail(3)"
      ]
    },
    {
      "cell_type": "markdown",
      "metadata": {
        "id": "6CZn-ojb9Bve"
      },
      "source": [
        "<a name='data-no-interest'></a>\n",
        "## Brief Evaluation of Keywords with No Relevance\n",
        "- Explore the dataframes containing keywords that received no significant search interest over the last three years.\n",
        "- Analyze a sample of keywords to determine if the lack of interest is due to the concepts they represent or if the keywords were not chosen well.\n",
        "- Assess the overall number of keywords that received no interest.\n"
      ]
    },
    {
      "cell_type": "markdown",
      "metadata": {
        "id": "oH8NAfRKBDFH"
      },
      "source": [
        "### Assessing Keywords Representing Proposed Features\n",
        "- Use Google Trends to check if there are related queries that are more popular"
      ]
    },
    {
      "cell_type": "code",
      "execution_count": null,
      "metadata": {
        "id": "BZjpvu8PBNN2"
      },
      "outputs": [],
      "source": [
        "zero_relevance_features"
      ]
    },
    {
      "cell_type": "markdown",
      "metadata": {
        "id": "QlM90VFC4T_v"
      },
      "source": [
        "Observations:\n",
        "* All keywords in the list consist of more than 3 words.\n",
        "* Many keywords use complex technical jargon ('hexapod mobility and agility', 'beneficial ecosystem modelling'..)\n",
        "* Some keywords are highly specific, or niche keywords ('adaptive algorithms for environmental conditions')"
      ]
    },
    {
      "cell_type": "markdown",
      "metadata": {
        "id": "QuROVw-c5OB-"
      },
      "source": [
        "#### Identify Alternative Keywords with Similar Meanings\n",
        "* Use the `pytrends.suggestions` to find related search suggestions that could phrase ideas more simply and generally.\n",
        "* Identify keywords with similar meaning that yield higher search volumes."
      ]
    },
    {
      "cell_type": "markdown",
      "metadata": {
        "id": "7O_kYITt6W9F"
      },
      "source": [
        "**Initialize the Pytrends API**"
      ]
    },
    {
      "cell_type": "code",
      "execution_count": null,
      "metadata": {
        "collapsed": true,
        "id": "DgRLOy28BPcK"
      },
      "outputs": [],
      "source": [
        "# Install and import necessary libraries\n",
        "!pip install pytrends\n",
        "!pip install urllib3==1.25.11\n",
        "from pytrends.request import TrendReq"
      ]
    },
    {
      "cell_type": "code",
      "execution_count": null,
      "metadata": {
        "id": "MAm9wQuSDrXm"
      },
      "outputs": [],
      "source": [
        "# Initialize the Pytrends object\n",
        "headers = {\n",
        "    'User-Agent': 'Mozilla/5.0 (Windows NT 10.0; Win64; x64) AppleWebKit/537.36 (KHTML, like Gecko) Chrome/91.0.4472.124 Safari/537.36',\n",
        "    'Accept': 'text/html,application/xhtml+xml,application/xml;q=0.9,image/webp,*/*;q=0.8',\n",
        "    'Accept-Language': 'en-US,en;q=0.5',\n",
        "    'Connection': 'keep-alive',\n",
        "    'Referer': 'https://www.google.com'\n",
        "}\n",
        "\n",
        "pytrends = TrendReq(hl='en-US', tz=360, retries=3, requests_args={'headers': headers})\n",
        "\n",
        "# Define the timeframe (same as all data previously collected)\n",
        "timeframe = '2021-06-21 2024-06-23'"
      ]
    },
    {
      "cell_type": "markdown",
      "metadata": {
        "id": "GInIN_7Y6gbb"
      },
      "source": [
        "**Create a list of keywords that with zero interest**"
      ]
    },
    {
      "cell_type": "code",
      "execution_count": null,
      "metadata": {
        "id": "hWckBR9QFUCb"
      },
      "outputs": [],
      "source": [
        "# Show number of features keywords with zero interest\n",
        "keywords = zero_relevance_features['zero_interest_keywords'].tolist()\n",
        "len(keywords)"
      ]
    },
    {
      "cell_type": "code",
      "execution_count": null,
      "metadata": {
        "id": "7BN78qIbOATT"
      },
      "outputs": [],
      "source": [
        "# Initialize an empty list to store the DataFrames\n",
        "suggestions_list = []"
      ]
    },
    {
      "cell_type": "code",
      "execution_count": null,
      "metadata": {
        "id": "yLaxqnvGKuhY"
      },
      "outputs": [],
      "source": [
        "# Loop through list of keywords\n",
        "for keyword in keywords:\n",
        "    # Get suggestions for the keyword\n",
        "    suggestions = pd.DataFrame(pytrends.suggestions(keyword))\n",
        "\n",
        "    # Drop the 'mid' column\n",
        "    if 'mid' in suggestions.columns:\n",
        "      suggestions.drop(columns=['mid'], inplace=True)\n",
        "\n",
        "    # Add a column for the original keyword\n",
        "    suggestions['keyword'] = keyword\n",
        "\n",
        "    # Append the DataFrame to the list\n",
        "    suggestions_list.append(suggestions)"
      ]
    },
    {
      "cell_type": "markdown",
      "metadata": {
        "id": "lwzHYLFjsuWT"
      },
      "source": [
        "**Analyze Alternative Keywords for 'Versatile for various agricultural needs'**"
      ]
    },
    {
      "cell_type": "code",
      "execution_count": null,
      "metadata": {
        "id": "8o_xOwvyHqB0"
      },
      "outputs": [],
      "source": [
        "# Return the search first term in the list\n",
        "suggestions_list[0]['keyword'][0]"
      ]
    },
    {
      "cell_type": "code",
      "execution_count": null,
      "metadata": {
        "id": "3vqmXO04Pt__"
      },
      "outputs": [],
      "source": [
        "# Return the suggested searches and evaluate briefly\n",
        "suggestions_list[0]"
      ]
    },
    {
      "cell_type": "markdown",
      "metadata": {
        "id": "4SR4ph7bQZHl"
      },
      "source": [
        "**Interpretation of Results: 'Versatile for various agricultural needs'**\n",
        "\n",
        "**Observation:**\n",
        "\n",
        "A topic associated with the feature 'versatile for various agricultural needs' is drone technology. Additionally, Vetsark, a technology company focused on improving animal health and agriculture through digital solutions, also appears. The same suggestion 'Exploring the Skies...' appears four times in the results, which indicates extremely limited data for this keyword.\n",
        "\n",
        "**Conclusion**\n",
        "\n",
        "This interest is addressed by some farming technologies. However, the feature described by the keyword seems to be a **niche interest**. The same suggestion, a drone guide, appears several times. The related keywords suggested do not offer any clearer alternatives for this search term."
      ]
    },
    {
      "cell_type": "markdown",
      "metadata": {
        "id": "c1zSRdZAtc8B"
      },
      "source": [
        "**Analyze Alternative Keywords for 'Organic gardening helper'**"
      ]
    },
    {
      "cell_type": "code",
      "execution_count": null,
      "metadata": {
        "id": "-3WAWqpsVO_8"
      },
      "outputs": [],
      "source": [
        "# Briefly evaluating the next search term\n",
        "suggestions_list[1]\n",
        "# Return the search term\n",
        "suggestions_list[1]['keyword'][0]"
      ]
    },
    {
      "cell_type": "code",
      "execution_count": null,
      "metadata": {
        "id": "eE56hmU0VTnl"
      },
      "outputs": [],
      "source": [
        "# Return suggested terms for this keyword\n",
        "suggestions_list[1]"
      ]
    },
    {
      "cell_type": "markdown",
      "metadata": {
        "id": "KvhUkjPMVoIM"
      },
      "source": [
        "**Interpretation of Results: 'Organic gardening helper'**\n",
        "\n",
        "**Observation:**\n",
        "Suggested terms for 'Organic gardening helper' include 'The Harvest Helper', a book about organic gardening, indoor gardening equipment, and various gardening supplies like paper pulp seed trays and jute string for training plants. None of these is related to robotic technology. One suggestion appears twice, indicating very limited data on this keyword.\n",
        "\n",
        "**Conclusion:**\n",
        "\n",
        "The suggested terms for \"organic gardening helper\" primarily relate to traditional gardening tools, books, and supplies. This suggests that the term is not strongly associated with technological solutions like the proposed robotic gardening assistant. While there is some interest in organic gardening help, the current phrasing doesn't effectively capture the potential market for a high-tech gardening tool. The related keyword suggestions don't provide useful alternatives for the keyword 'Organic gardening helper'. Keywords that address the technological aspect more might be better fit (such as 'robotic gardening assistant')."
      ]
    },
    {
      "cell_type": "markdown",
      "metadata": {
        "id": "MeOJb3MGuMMX"
      },
      "source": [
        "**Analyze Alternative Keywords for 'Hexapod mobility and agility'**"
      ]
    },
    {
      "cell_type": "code",
      "execution_count": null,
      "metadata": {
        "id": "euwYoEdBYKYL"
      },
      "outputs": [],
      "source": [
        "suggestions_list[2]['keyword'][0]"
      ]
    },
    {
      "cell_type": "code",
      "execution_count": null,
      "metadata": {
        "id": "jKVaGV-DYgdv"
      },
      "outputs": [],
      "source": [
        "suggestions_list[2]"
      ]
    },
    {
      "cell_type": "markdown",
      "metadata": {
        "id": "CEXCbuhoYnxm"
      },
      "source": [
        "**Interpretation of Results: 'Hexapod mobility and agility'**\n",
        "\n",
        "**Observation:**\n",
        "The only suggested topic for 'Hexapod mobility and agility' is a scientific paper titled \"Control of the Stiffness of Robotic Appendages.\" This indicates a narrow interest primarily within the scientific and robotics communities.\n",
        "\n",
        "**Conclusion:**\n",
        "\n",
        "The limited results suggest that 'Hexapod mobility and agility' is a niche interest with low general appeal. The suggestions do not offer alternative, more effective, phrases. Splitting the keyword into simpler terms like 'hexapod', 'mobility', and 'agility' could improve its effectiveness and broaden the potential audience."
      ]
    },
    {
      "cell_type": "markdown",
      "metadata": {
        "id": "0FL3xDls9xq4"
      },
      "source": [
        "#### Conclusion\n",
        "* The sample of 3 keywords that received no search interest, don't have strong alternative keywords that could increase their effectiveness.\n",
        "* Keywords chosen are often niche intersts, too specific or too technical.\n",
        "* A good next step is to evaluate the suggestions provided by Pytrends and analyze which niches keywords appeal to and then reduce their complexity, by splitting and rephrasing."
      ]
    },
    {
      "cell_type": "markdown",
      "metadata": {
        "id": "hX2HvVGhdf97"
      },
      "source": [
        "#### Hypothesis: The more words in a keyword, the lower the search interest.\n",
        "* It can be observed that all keywords that received no interest consist of 3 or more words.\n",
        "* Analyze if the word count in keywords affects interst levels.\n"
      ]
    },
    {
      "cell_type": "code",
      "execution_count": null,
      "metadata": {
        "id": "CNIgWCOHebN4"
      },
      "outputs": [],
      "source": [
        "# Return full list of keywords with no interst for the features\n",
        "zero_relevance_features"
      ]
    },
    {
      "cell_type": "markdown",
      "metadata": {
        "id": "l1F1BzJ7ek-B"
      },
      "source": [
        "**Observation:**\n",
        "\n",
        "All keywords in the *features* group with zero search interest contain more than three words."
      ]
    },
    {
      "cell_type": "markdown",
      "metadata": {
        "id": "p-1WOw2HxJLv"
      },
      "source": [
        "Check keywords with no interest for the other areas\n",
        "* Inspect keywords in the problems group that received no interest.\n",
        "* Inspect keywords in the needs group that received no interest."
      ]
    },
    {
      "cell_type": "code",
      "execution_count": null,
      "metadata": {
        "id": "j-RAAworevhV"
      },
      "outputs": [],
      "source": [
        "# Return all problems with zero relevance\n",
        "zero_relevance_problems"
      ]
    },
    {
      "cell_type": "markdown",
      "metadata": {
        "id": "UyS8dthHw48q"
      },
      "source": [
        "**Observation:**\n",
        "\n",
        "All keywords in the *problems* group with zero search interest contain more than three words."
      ]
    },
    {
      "cell_type": "code",
      "execution_count": null,
      "metadata": {
        "id": "DBNssa_2e4jK"
      },
      "outputs": [],
      "source": [
        "# Return all needs with zero relevance\n",
        "zero_relevance_needs"
      ]
    },
    {
      "cell_type": "markdown",
      "metadata": {
        "id": "eVIghXUsx4bl"
      },
      "source": [
        "**Observation:**\n",
        "\n",
        "All keywords in the *needs* group with zero search interest contain more than four words."
      ]
    },
    {
      "cell_type": "markdown",
      "metadata": {
        "id": "DwaXnGfWyEvL"
      },
      "source": [
        "**Compare successful keywords in the *features* group**"
      ]
    },
    {
      "cell_type": "code",
      "execution_count": null,
      "metadata": {
        "id": "gUO7_iV7e_FS"
      },
      "outputs": [],
      "source": [
        "# Compare successful keywords\n",
        "features_by_interest.head()"
      ]
    },
    {
      "cell_type": "markdown",
      "metadata": {
        "id": "uAYltNsifNHz"
      },
      "source": [
        "**Observation:**\n",
        "\n",
        "The top four keywords with the highest interest are all two-word phrases. However, the fifth keyword, 'Remote access and control', consisting of four words, still demonstrates significant interest.\n",
        "\n",
        "**Conclusion:**\n",
        "\n",
        "While the number of words in a keyword can influence its search interest, it's not the sole determining factor. Other factors, such as the keyword's relevance to current trends and its specificity, also play a role in driving interest. This suggests that a combination of conciseness and relevance is key to maximizing search interest."
      ]
    },
    {
      "cell_type": "markdown",
      "metadata": {
        "id": "PiHnPoD70NRg"
      },
      "source": [
        "**Compare successful keywords in the *problems* group**"
      ]
    },
    {
      "cell_type": "code",
      "execution_count": null,
      "metadata": {
        "id": "xQsp6FOzfcNX"
      },
      "outputs": [],
      "source": [
        "# Check the other areas of interest\n",
        "problems_by_relevance.head()"
      ]
    },
    {
      "cell_type": "markdown",
      "metadata": {
        "id": "c42-agAh0UxN"
      },
      "source": [
        "**Observation:**\n",
        "The keyword with the highest interest, 'Monoculture in agriculture',consists of three words and has significantly higher weekly average interest (15) compared to the other keywords, which all have six or more words and weekly average interest between 0.5 and 1.\n",
        "\n",
        "**Conclusion:**\n",
        "\n",
        "The data suggests a potential negative correlation between the number of words in a keyword and the level of search interest. Keywords with fewer words, receive significantly higher interest compared to longer, more complex phrases."
      ]
    },
    {
      "cell_type": "markdown",
      "metadata": {
        "id": "wMrgx6Wi1ney"
      },
      "source": [
        "**Compare successful keywords in the *needs* group**"
      ]
    },
    {
      "cell_type": "code",
      "execution_count": null,
      "metadata": {
        "id": "xOP8zyEifyLO"
      },
      "outputs": [],
      "source": [
        "needs_by_relevance.head(7)"
      ]
    },
    {
      "cell_type": "markdown",
      "metadata": {
        "id": "EpfQZA-Pf07l"
      },
      "source": [
        "**Observation:**\n",
        "\n",
        "The keyword with the highest interest, \"Climate resilience,\" consists of two words. Keywords with three words (\"Educational AI,\" \"Sustainable food production\") have moderately lower interest, while those with four or more words show significantly less weekly average interest.\n",
        "\n",
        "**Conclusion:**\n",
        "\n",
        "The data suggests a potential negative correlation between the number of words in a keyword and the level of search interest. Keywords with fewer words tend to garner higher interest compared to longer, more complex phrases. While exceptions exist due to other factors influencing interest, the overall pattern supports the idea that shorter keywords are generally more likely to attract attention."
      ]
    },
    {
      "cell_type": "markdown",
      "metadata": {
        "id": "OAjvmqEDgGbo"
      },
      "source": [
        "#### Conclusion:\n",
        "The data analyzed across all keyword groups demonstrates that shorter keywords tend to generate higher search interest compared to longer, more complex phrases. While other factors like relevance and specificity also influence interest, reducing the word count of low-performing keywords is a good first step to improve their effectiveness."
      ]
    },
    {
      "cell_type": "markdown",
      "metadata": {
        "id": "ztbmYpC1m644"
      },
      "source": [
        "<a name='key-features-analysis'></a>\n",
        "## Key Features Analysis\n",
        "- Show and evaluate the proposed features that are most relevant to potential customers.\n",
        "- Analyze trends, fluctuations, and consistency in interest for most relevant features.\n",
        "- Visualize and evaluate interest over time for the key features."
      ]
    },
    {
      "cell_type": "markdown",
      "metadata": {
        "id": "vGm8DfvdoH7s"
      },
      "source": [
        "<a name='most-relevant-features'></a>\n",
        "### Determine Features with Highest Relevance\n",
        "- Present features sorted by their relevance.\n",
        "- Determine features with significant relevance.\n",
        "- Establish thresholds to classify features into the following categories:\n",
        "  - Critical: Essential and highly relevant features.\n",
        "    - Average weekly interest 75% - 100%\n",
        "  - High: Very important and significantly relevant features.\n",
        "    - Average weekly interest: 50% - 75%\n",
        "  - Moderate: Important but not essential features.\n",
        "    - Average weekly interest: 10% - 50%\n",
        "  - Low: Somewhat relevant but not crucial features.\n",
        "    - Average weekly interest: 0% - 10%\n",
        "- These values are relative to the highest weekly average interest value in the dataset."
      ]
    },
    {
      "cell_type": "code",
      "execution_count": null,
      "metadata": {
        "id": "j1s45jjqpYSo"
      },
      "outputs": [],
      "source": [
        "# Show proposed feature keywords by relevance table\n",
        "features_by_interest.head(3)"
      ]
    },
    {
      "cell_type": "code",
      "execution_count": null,
      "metadata": {
        "id": "HO-vF_3EHgY5"
      },
      "outputs": [],
      "source": [
        "# Define a function to compute each keyword's relative interest (compared to the highest interest) and classify them into relevance levels.\n",
        "\n",
        "def get_relative_interest(df):\n",
        "    \"\"\"\n",
        "    Calculate the relative interest of each row in relation to the highest interest row,\n",
        "    and categorize them into relevance levels.\n",
        "\n",
        "    Parameters:\n",
        "    df (pd.DataFrame): A DataFrame containing a 'weekly_average_interest' column.\n",
        "\n",
        "    Returns:\n",
        "    pd.DataFrame: The input DataFrame with two additional columns:\n",
        "                  'relative_interest' - the interest as a percentage of the maximum interest,\n",
        "                  'relevance' - a categorical column indicating the level of interest:\n",
        "                                'Low', 'Moderate', 'High', or 'Critical'.\n",
        "    \"\"\"\n",
        "    # Get the highest average weekly interest\n",
        "    max_interest = df['weekly_average_interest'].max()\n",
        "\n",
        "    # Add a column with the relative interest as a percentage for each datapoint\n",
        "    df['relative_interest'] = (df['weekly_average_interest'] / max_interest * 100).round().astype(int)\n",
        "\n",
        "    # Define edges for the four bins\n",
        "    bin_edges = [-0.001, 10, 50, 75, 100]\n",
        "\n",
        "    # Define labels for the four bins\n",
        "    labels = ['Low', 'Moderate', 'High', 'Critical']\n",
        "\n",
        "    # Create a new categorical column with relevance categories\n",
        "    df['relevance'] = pd.cut(df['relative_interest'], bins=bin_edges, labels=labels, include_lowest=True)\n",
        "\n",
        "    # Drop the intermediate 'relative_interest' column\n",
        "    df.drop(columns=['relative_interest'], inplace=True)\n",
        "\n",
        "    return df"
      ]
    },
    {
      "cell_type": "code",
      "execution_count": null,
      "metadata": {
        "id": "C3kjANyIHn4_"
      },
      "outputs": [],
      "source": [
        "# Classify feature keyword into interest categories\n",
        "features_by_interest = get_relative_interest(features_by_interest)\n",
        "features_by_interest.head(3)"
      ]
    },
    {
      "cell_type": "code",
      "execution_count": null,
      "metadata": {
        "id": "IEeNrx_vgrX4"
      },
      "outputs": [],
      "source": [
        "# Show data in the last bin as a percentage\n",
        "total_features = len(features_by_interest)\n",
        "low_interest_features = len(features_by_interest[features_by_interest['relevance'] == 'Low'])\n",
        "\n",
        "low_relevance = (low_interest_features / total_features) * 100\n",
        "print(f\"Percentage of features in the 'Low' category: {round(low_relevance)}%\")"
      ]
    },
    {
      "cell_type": "markdown",
      "metadata": {
        "id": "i_VzyXyjhgFB"
      },
      "source": [
        "#### Results\n",
        "- 80% of Proposed Features Have Low Relevance:\n",
        "  - These features have an average weekly interest below 10%.\n",
        "  - These features should not be considered for the prototype.\n",
        "- Moderate Relevance:\n",
        "  - One proposed feature, 'Food System Health', has moderate relevance.\n",
        "  - Patterns in interest  should be further analyzed to determine if interest is rising.\n",
        "- High Relevance:\n",
        "  - Three features have high relevance:\n",
        "      - 'Educational Value'\n",
        "      - 'Plant Identification'\n",
        "      - 'Remote Access and Control'\n",
        "  - Patterns and context of interest in these features need to be analyzed. These features are likely to attract customers and are valuable for future analysis.\n",
        "- Critical Relevance:\n",
        "  - Two proposed features have critical relevance:\n",
        "    - 'Solar Powered'\n",
        "    - 'Plant Detection'\n",
        "  - Patterns and context of interest needs to be analyzed in detail. These features have a strong customer base and are essential for customer segmentation analysis, market analysis, and competitor analysis. They are also candidates for inclusion in the first prototype (MVP)."
      ]
    },
    {
      "cell_type": "markdown",
      "metadata": {
        "id": "whdUafNGmCJA"
      },
      "source": [
        "<a name='key-features-trend-analysis'></a>\n",
        "## Detailed Trend Analysis of Key Features\n",
        "- Analyze trends in interest for features with moderate to critical relevance\n",
        "  - Calculate and interpret summary statistics\n",
        "    - Count\n",
        "    - Mean\n",
        "    - Standard Deviations\n",
        "    - Minimum Interest\n",
        "    - Maximum Interest\n",
        "    - Quartiles\n",
        "    - Variance (inferred)\n",
        "  - Identify Trends\n",
        "    - Determine if interest over the last 3 years is increasing, decreasing or stable.\n",
        "    - Determine peaks and troughts in interest.\n",
        "    - Determine if interest is currently rising or falling.\n",
        "- Interpret analysis results"
      ]
    },
    {
      "cell_type": "markdown",
      "metadata": {
        "id": "Cmscj8dZ_R5R"
      },
      "source": [
        "### Trend Analyis\n",
        "- Analyze trends in interest for features with moderate, high and critical interest."
      ]
    },
    {
      "cell_type": "markdown",
      "metadata": {
        "id": "xnV7N2K4AG_m"
      },
      "source": [
        "<a name='trends-moderate-features'></a>\n",
        "#### Trend Analysis for Features with Moderate Interest\n",
        "- Assess whether interest has been increasing, decreasing, or stable over the past 3 years.\n",
        "- Identify the peaks and troughs in interest levels.\n",
        "- Determine the current trend in interest, whether it is rising or falling."
      ]
    },
    {
      "cell_type": "markdown",
      "metadata": {
        "id": "ZPCF5km0GEv6"
      },
      "source": [
        "**Summary Statistics**\n",
        "* Evaluate summary statistics to get an overview of the data's characteristics.\n"
      ]
    },
    {
      "cell_type": "code",
      "execution_count": null,
      "metadata": {
        "id": "Q2a85OxHGEv7"
      },
      "outputs": [],
      "source": [
        "# Show features with moderate interest\n",
        "features_by_interest[features_by_interest['relevance'] == 'Moderate']"
      ]
    },
    {
      "cell_type": "code",
      "execution_count": null,
      "metadata": {
        "id": "PYrY0A3qGEv7"
      },
      "outputs": [],
      "source": [
        "# Define a function that returns columns in the features_interest_over_time dataframe by interest level in the features_by_relevance dataframe\n",
        "\n",
        "def get_relevant_keywords_df(features_by_interest, features_interest_over_time, relevance_level):\n",
        "    \"\"\"\n",
        "    Returns a DataFrame with the relevant columns for a specified relevance level.\n",
        "\n",
        "    Parameters:\n",
        "    features_by_interest (pd.DataFrame): DataFrame containing feature relevance information with 'relevance' column.\n",
        "    features_interest_over_time (pd.DataFrame): DataFrame containing weekly interest data for features.\n",
        "    relevance_level (str): The relevance level to filter by.\n",
        "\n",
        "    Returns:\n",
        "    pd.DataFrame: DataFrame with the relevant columns in features_interest_over_time.\n",
        "    \"\"\"\n",
        "    # Create a list of features with the specified relevance level\n",
        "    relevant_features = features_by_interest[features_by_interest['relevance'] == relevance_level].index\n",
        "\n",
        "    # Find matching columns in the interest over time dataframe\n",
        "    matching_columns = [col for col in features_interest_over_time.columns if col in relevant_features]\n",
        "\n",
        "    # Return the matching columns in the interest over time dataframe\n",
        "    relevant_features_df = features_interest_over_time[matching_columns]\n",
        "\n",
        "    return relevant_features_df\n",
        "\n"
      ]
    },
    {
      "cell_type": "code",
      "source": [
        "# Get a dataframe for all features with 'Moderate' interest\n",
        "moderate_interest_df = get_relevant_keywords_df(features_by_interest, features_interest_over_time, 'Moderate')\n",
        "moderate_interest_df.head(3)"
      ],
      "metadata": {
        "id": "mp068K-HGEv7"
      },
      "execution_count": null,
      "outputs": []
    },
    {
      "cell_type": "code",
      "source": [
        "# Show summary stats for high interest features\n",
        "summary_stats_moderate_interest = moderate_interest_df.describe().round().astype(int)\n",
        "summary_stats_moderate_interest"
      ],
      "metadata": {
        "id": "UZGALUI2GEv7"
      },
      "execution_count": null,
      "outputs": []
    },
    {
      "cell_type": "markdown",
      "metadata": {
        "id": "BMadDwGtGEv7"
      },
      "source": [
        "**Observations:**\n",
        "* Interest tends to cluster around a moderate value of 15.\n",
        "* The standard deviation is low (4 units), indicating consistent interest over time.\n",
        "* The lowest recorded interest is 3, with no weeks showing zero interest.\n",
        "* The quartiles show little variation, with 25th percentile at 11, median at 15, and 75th percentile at 18.\n",
        "* The maximum interest level of 26 indicates at least one instance of 'High' interest.\n",
        "\n",
        "**Conclusion:**\n",
        "\n",
        "The data suggests a consistent and reliable moderate interest in the 'Food system health' feature over the past three years. The low standard deviation and lack of zero-interest weeks confirm continuous interest. While the interest level has reached a 'High' point at least once, the overall pattern suggests a low fluctuations of interest over time."
      ]
    },
    {
      "cell_type": "code",
      "execution_count": null,
      "metadata": {
        "collapsed": true,
        "id": "ICZggb70ANFk"
      },
      "outputs": [],
      "source": [
        "moderate_interest_df.head(3)"
      ]
    },
    {
      "cell_type": "markdown",
      "source": [
        "**Linear Regression Trend Analysis**\n",
        "* Assess change in interest over time using a statistical model.\n",
        "* Evaluate suitability of keywords for further analysis and prototype development based on general trend over the last 3 years."
      ],
      "metadata": {
        "id": "dc13DYhL8GxI"
      }
    },
    {
      "cell_type": "code",
      "execution_count": null,
      "metadata": {
        "id": "e1jhHR36LgzP"
      },
      "outputs": [],
      "source": [
        "# Import necessary libraries\n",
        "from scipy.stats import linregress"
      ]
    },
    {
      "cell_type": "code",
      "source": [
        "# Define a function that assesses interest trends using linear regression analysis\n",
        "\n",
        "def analyze_interest_trends(df, slope_decimals=2):\n",
        "    \"\"\"\n",
        "    Analyzes interest trends over time for all columns in a DataFrame.\n",
        "\n",
        "    Parameters:\n",
        "    df (pd.DataFrame): DataFrame containing a date index and interest columns for each keyword.\n",
        "    slope_decimals (int): Number of decimal places to round the slope to.\n",
        "\n",
        "    Prints:\n",
        "    - Slope of the linear regression\n",
        "    - P-value of the linear regression\n",
        "    - Yearly increase in interest for each column\n",
        "    \"\"\"\n",
        "    # Create a copy of the original DataFrame\n",
        "    df_ordinal = df.copy()\n",
        "\n",
        "    # Reset the index to convert the date index to a column\n",
        "    df_ordinal.reset_index(inplace=True)\n",
        "\n",
        "    # Convert the date column to ordinal\n",
        "    df_ordinal['date_ordinal'] = df_ordinal['date'].apply(lambda x: x.toordinal())\n",
        "\n",
        "    # Perform linear regression for each column\n",
        "    for column_name in df.columns:\n",
        "        if column_name == 'date':\n",
        "            continue\n",
        "\n",
        "        result = linregress(df_ordinal['date_ordinal'], df_ordinal[column_name])\n",
        "\n",
        "        # Extract the slope and p-value\n",
        "        slope = result.slope\n",
        "        p_value = result.pvalue\n",
        "\n",
        "        # Print the results\n",
        "        print(f\"Analysis for '{column_name}':\")\n",
        "        print(f\"Slope: {slope.round(slope_decimals)}\")\n",
        "        print(f\"P-value: {p_value}\")\n",
        "        print(f'Yearly change in interest: {round(slope * 365, 2)} units')\n",
        "        print(\"-\" * 50)"
      ],
      "metadata": {
        "id": "Wc-oPFlTPLss"
      },
      "execution_count": null,
      "outputs": []
    },
    {
      "cell_type": "code",
      "source": [
        "analyze_interest_trends(moderate_interest_df)"
      ],
      "metadata": {
        "id": "xpfWFONKPbgF"
      },
      "execution_count": null,
      "outputs": []
    },
    {
      "cell_type": "markdown",
      "metadata": {
        "id": "nRSTa6uROncx"
      },
      "source": [
        "**Observation:**\n",
        "* Interest in the proposed feature 'Food system health' is increasing at a yearly rate of ~1.74 units\n",
        "* The p-value ~3.35*e^-6 indicates that this positive trend is statistically significant.\n",
        "\n",
        "**Conclusion:**\n",
        "* This increase in interest makes the proposed feature relevant for future analysis.\n"
      ]
    },
    {
      "cell_type": "markdown",
      "metadata": {
        "id": "DOHH6ae9Pgxt"
      },
      "source": [
        "**Trend Analysis Using Peak Detection**"
      ]
    },
    {
      "cell_type": "code",
      "execution_count": null,
      "metadata": {
        "id": "GnwrK8r_SUwr"
      },
      "outputs": [],
      "source": [
        "# Import necessary libraries\n",
        "from scipy.signal import find_peaks"
      ]
    },
    {
      "cell_type": "code",
      "source": [
        "# Define a function to calculate peaks and throughs in the dataset\n",
        "def get_peaks_and_troughs(df):\n",
        "    \"\"\"\n",
        "    Analyzes peaks and troughs for each column in the given DataFrame.\n",
        "\n",
        "    Parameters:\n",
        "    df (pd.DataFrame): DataFrame containing interest data with dates as the index.\n",
        "\n",
        "    Returns:\n",
        "    dict: Dictionary containing DataFrames with peaks and troughs as boolean columns for each interest column.\n",
        "    \"\"\"\n",
        "    result_dict = {}\n",
        "\n",
        "    # Iterate over each column in the DataFrame\n",
        "    for column in df.columns:\n",
        "        # Identify peaks\n",
        "        peaks, _ = find_peaks(df[column])  # Returns an array of local maxima\n",
        "\n",
        "        # Identify troughs by inverting the data\n",
        "        troughs, _ = find_peaks(-df[column])  # Returns an array of local minima\n",
        "\n",
        "        # Create a DataFrame to store the results for peaks and troughs\n",
        "        analysis_df = pd.DataFrame({\n",
        "            'Date': df.index,\n",
        "            'Interest': df[column],\n",
        "            'Peak': [True if i in peaks else False for i in range(len(df))],\n",
        "            'Trough': [True if i in troughs else False for i in range(len(df))]\n",
        "        })\n",
        "\n",
        "        # Set the index to Date\n",
        "        analysis_df.set_index('Date', inplace=True)\n",
        "\n",
        "        # Store the DataFrame in the dictionary\n",
        "        result_dict[column] = analysis_df\n",
        "\n",
        "    return result_dict"
      ],
      "metadata": {
        "id": "APd-FCNfPwq5"
      },
      "execution_count": null,
      "outputs": []
    },
    {
      "cell_type": "code",
      "source": [
        "# Find peaks and throughs for high interest features\n",
        "peaks_throughs_dict = get_peaks_and_troughs(moderate_interest_df)\n",
        "peaks_throughs_dict.keys()"
      ],
      "metadata": {
        "id": "ltVkcy2rP7L3"
      },
      "execution_count": null,
      "outputs": []
    },
    {
      "cell_type": "code",
      "execution_count": null,
      "metadata": {
        "collapsed": true,
        "id": "Ht4N-OZmS-Rq"
      },
      "outputs": [],
      "source": [
        "# Initialize a dictionary to store results for each feature\n",
        "peaks_dict = {}\n",
        "throughs_dict = {}\n",
        "\n",
        "# Iterate over each column in the DataFrame\n",
        "for column in moderate_interest_df.columns:\n",
        "    # Identify peaks\n",
        "    peaks, _ = find_peaks(moderate_interest_df[column]) # Returns an array of local maxima\n",
        "\n",
        "    # Identify troughs by inverting the data\n",
        "    throughs, _ = find_peaks(-moderate_interest_df[column]) # Returns an array of local minima\n",
        "\n",
        "    # Create a DataFrame to store the results for peaks\n",
        "    moderate_interest_peaks = pd.DataFrame({\n",
        "        'Date': moderate_interest_df.index,\n",
        "        'Interest': moderate_interest_df[column],\n",
        "        'Peak': [True if i in peaks else False for i in range(len(moderate_interest_df))]\n",
        "    })\n",
        "\n",
        "    # Create a DataFrame to store the results for troughs\n",
        "    moderate_interest_throughs = pd.DataFrame({\n",
        "        'Date': moderate_interest_df.index,\n",
        "        'Interest': moderate_interest_df[column],\n",
        "        'Through': [True if i in throughs else False for i in range(len(moderate_interest_df))]\n",
        "    })\n",
        "\n",
        "    # Store the DataFrames in the dictionaries\n",
        "    peaks_dict[column] = moderate_interest_peaks\n",
        "    throughs_dict[column] = moderate_interest_throughs\n"
      ]
    },
    {
      "cell_type": "code",
      "execution_count": null,
      "metadata": {
        "collapsed": true,
        "id": "sJ2cbxzaU6o8"
      },
      "outputs": [],
      "source": [
        "# Return all peaks with dates\n",
        "peaks_only = peaks_dict['Food system health'][peaks_dict['Food system health']['Peak'] == True]\n",
        "peaks_only.tail(3)"
      ]
    },
    {
      "cell_type": "code",
      "execution_count": null,
      "metadata": {
        "collapsed": true,
        "id": "pMe_2BMBQRAO"
      },
      "outputs": [],
      "source": [
        "# Return all throughs with dates\n",
        "throughs_only = throughs_dict['Food system health'][throughs_dict['Food system health']['Through'] == True]\n",
        "throughs_only.tail(3)"
      ]
    },
    {
      "cell_type": "markdown",
      "source": [
        "**Exploration of Frequency of Peaks**\n",
        "* Explore the frequency of peaks to identify patterns in interest."
      ],
      "metadata": {
        "id": "TTZT2vlZSNNg"
      }
    },
    {
      "cell_type": "code",
      "execution_count": null,
      "metadata": {
        "collapsed": true,
        "id": "3lhCuZjJVNY3"
      },
      "outputs": [],
      "source": [
        "# Calculate difference between consecutive peaks (add the difference to the next peak to the row of the previous)\n",
        "peaks_only_copy = peaks_only.copy()\n",
        "peaks_only_copy['Difference'] = peaks_only_copy['Date'].diff()\n",
        "peaks_only_copy.head(3)"
      ]
    },
    {
      "cell_type": "code",
      "execution_count": null,
      "metadata": {
        "collapsed": true,
        "id": "aWEJ8z22lpG5"
      },
      "outputs": [],
      "source": [
        "# Show the frequency of different peak-to-peak time intervals\n",
        "peaks_only_copy['Difference'].value_counts()"
      ]
    },
    {
      "cell_type": "markdown",
      "metadata": {
        "id": "A-2HglRYmkMe"
      },
      "source": [
        "**Observations:**\n",
        "* The interest in 'Food system health' follows regular patterns, most commonly peaking every two weeks (14 days), three weeks (21 days), or monthly (28 days).\n",
        "* Less frequent peaks occur every 42, 49, or 56 days, suggesting periodic but less common events or activities driving interest.\n",
        "* Unique intervals of 35 days and 84 days indicate some randomness, possibly due to unexpected spikes or outlier events.\n",
        "* The data shows at least one peak of interest every quarter (84 days).\n",
        "\n",
        "**Conclusion:**\n",
        "\n",
        "The proposed feature 'Food system health' receives interest in mostly regular patterns, with at least one peak of interest expected every quarter.\n",
        "The causes for these regular patterns could be due to various factors, including events, activities, external conditions (weather, health crises, climate change), media coverage, and other potential influences."
      ]
    },
    {
      "cell_type": "markdown",
      "source": [
        "**Exploration of Frequency of Troughs**\n",
        "* Explore the frequency of troughs to identify patterns in interest."
      ],
      "metadata": {
        "id": "cwp4roD1UIlF"
      }
    },
    {
      "cell_type": "code",
      "execution_count": null,
      "metadata": {
        "collapsed": true,
        "id": "p01FUHbmRQf_"
      },
      "outputs": [],
      "source": [
        "# Calculate difference between consecutive throughs\n",
        "throughs_only_copy = throughs_only.copy()\n",
        "throughs_only_copy['Difference'] = throughs_only_copy['Date'].diff()\n",
        "throughs_only_copy.head(3)"
      ]
    },
    {
      "cell_type": "code",
      "execution_count": null,
      "metadata": {
        "collapsed": true,
        "id": "hWNUqeCETawZ"
      },
      "outputs": [],
      "source": [
        "# Show frequency of different trough-to-trough time intervals\n",
        "throughs_only_copy['Difference'].value_counts()"
      ]
    },
    {
      "cell_type": "markdown",
      "metadata": {
        "id": "1w5w8rKPTutk"
      },
      "source": [
        "**Observations:**\n",
        "* The time intervals between troughs in interest for 'Food system health' most commonly occur at 3 weeks (21 days), 2 weeks (14 days), and 5 weeks (35 days).\n",
        "* Troughs less commonly occur every 28, 42, or 56 days.\n",
        "* Some randomness is present, as indicated by unique intervals of 49 days and 70 days, occurring only once.\n",
        "* The data shows that there is always at least one trough every 10 weeks (70 days), which is slightly less than the longest interval for peaks (84 days).\n",
        "\n",
        "**Conclusion**:\n",
        "\n",
        "The consistent intervals between troughs, primarily at 2, 3, and 5-week intervals, suggest recurring events or activities influence interest in 'Food system health'. The higher frequency of shorter peak-to-peak intervals compared to trough-to-trough intervals indicates that interest tends to rise more quickly than it declines, implying a gradual increase in overall interest over time.\n",
        "\n"
      ]
    },
    {
      "cell_type": "markdown",
      "source": [
        "**Analysis of Magnitude of Peaks and Troughs**\n",
        "* Evaluate volantility of interest\n",
        "* Evaluate overall trend and recent trends in interest.\n",
        "* Analyze how interest changed over the last 3 years."
      ],
      "metadata": {
        "id": "5AiCcjygWjld"
      }
    },
    {
      "cell_type": "code",
      "source": [
        "# Define a function to analyze peaks and throughs - return average yearly peaks and troughs\n",
        "def analyze_peaks_and_troughs(df):\n",
        "    \"\"\"\n",
        "    Analyzes peaks and troughs in a DataFrame.\n",
        "\n",
        "    This function performs the following steps:\n",
        "    1. Filters the DataFrame to include only rows where either 'Peak' or 'Trough' is True.\n",
        "    2. Sorts the peaks and troughs by interest in descending and ascending order, respectively.\n",
        "    3. Calculates the average interest for peaks and troughs per year.\n",
        "    4. Calculates the dates of the highest peak and the lowest trough.\n",
        "    5. Prints the results.\n",
        "\n",
        "    Parameters:\n",
        "    df (pd.DataFrame): A DataFrame with columns 'Interest', 'Peak', and 'Trough',\n",
        "                       and a DateTimeIndex.\n",
        "\n",
        "    Returns:\n",
        "    tuple: Five pandas Series containing the average interest for peaks and troughs per year and\n",
        "    sorted peaks and troughs by interest.\n",
        "    \"\"\"\n",
        "    # Add a new column for the year\n",
        "    df['Year'] = df.index.year\n",
        "\n",
        "    # Filter for peaks and troughs\n",
        "    peaks_throughs_only = df[(df['Peak'] == True) | (df['Trough'] == True)]\n",
        "\n",
        "    # Sort peaks and troughs by interest\n",
        "    peaks_by_interest = peaks_throughs_only[peaks_throughs_only['Peak'] == True].sort_values(by='Interest', ascending=False)\n",
        "    troughs_by_interest = peaks_throughs_only[peaks_throughs_only['Trough'] == True].sort_values(by='Interest', ascending=True)\n",
        "\n",
        "    # Calculate average interest for peaks and troughs per year\n",
        "    average_peaks_per_year = peaks_throughs_only[peaks_throughs_only['Peak'] == True].groupby('Year')['Interest'].mean().round().astype(int)\n",
        "    average_troughs_per_year = peaks_throughs_only[peaks_throughs_only['Trough'] == True].groupby('Year')['Interest'].mean().round().astype(int)\n",
        "\n",
        "    # Show the date of the highest peak and the lowest trough\n",
        "    highest_peak_date = peaks_by_interest.index[0].strftime(\"%m/%d/%Y\") if not peaks_by_interest.empty else \"No peaks\"\n",
        "    lowest_trough_date = troughs_by_interest.index[0].strftime(\"%m/%d/%Y\") if not troughs_by_interest.empty else \"No troughs\"\n",
        "\n",
        "    # Print the results\n",
        "    print(f'The date with the highest interest is {highest_peak_date}')\n",
        "    print(\"-\" * 50)\n",
        "\n",
        "    print(f'The date with the lowest interest is {lowest_trough_date}')\n",
        "    print(\"-\" * 50)\n",
        "\n",
        "    print(\"Average Peaks Per Year:\")\n",
        "    print(average_peaks_per_year.to_string())\n",
        "    print(\"-\" * 50)\n",
        "\n",
        "    print(\"Average Troughs Per Year:\")\n",
        "    print(average_troughs_per_year.to_string())\n",
        "    print(\"-\" * 50)\n",
        "    return average_peaks_per_year, average_troughs_per_year, peaks_by_interest, troughs_by_interest"
      ],
      "metadata": {
        "id": "mvtdVzDTikQN"
      },
      "execution_count": null,
      "outputs": []
    },
    {
      "cell_type": "code",
      "source": [
        "# Show peaks and throughs for 'Food system health'\n",
        "peaks_throughs_dict['Food system health'].head(3)"
      ],
      "metadata": {
        "id": "jhDwXBDFi2QK"
      },
      "execution_count": null,
      "outputs": []
    },
    {
      "cell_type": "markdown",
      "source": [
        "**Analysis of Interest Trend Over Time**\n",
        "* Compare yearly average peaks and troughts to assess fluctuatuations in interest over the last 3 years.\n",
        "* Determine the general trend of interest over the years.\n",
        "* Determine the stability or volantility of interest"
      ],
      "metadata": {
        "id": "lxIRGeAUlxPu"
      }
    },
    {
      "cell_type": "code",
      "source": [
        "# Return analysis results for 'Food system health'\n",
        "average_peaks, average_troughs, peaks_by_interest, troughs_by_interest= analyze_peaks_and_troughs(peaks_throughs_dict['Food system health'])"
      ],
      "metadata": {
        "id": "Vz_T3vLRjCy4"
      },
      "execution_count": null,
      "outputs": []
    },
    {
      "cell_type": "markdown",
      "source": [
        "**Observations:**\n",
        "* The date with the highest peak in interest is 04/14/2024.\n",
        "* The date with the lowest through in interest is 12/24/2023.\n",
        "* The average through values consistently rose from 10 in 2021 to 13 in 2022 and 2023, and 16 in 2024.\n",
        "* The average peak values and through values are close in value, indicating overall stable interest in 'Food system health'.\n",
        "\n",
        "**Conclusion:**\n",
        "\n",
        "The data reveals a steady upward trend in interest for 'Food system health' from 2021 to 2024, with both peak and trough interest levels increasing. This consistent growth, coupled with the relatively small difference between peak and trough values, suggests a sustained and stable interest in this proposed feature."
      ],
      "metadata": {
        "id": "YWc6XlwwkKKk"
      }
    },
    {
      "cell_type": "markdown",
      "source": [
        "**Exploration of Yearly Peak Interests**\n",
        "* Identify extreme values in interest to understand times of highest interest."
      ],
      "metadata": {
        "id": "eIoJU7sNlQPb"
      }
    },
    {
      "cell_type": "code",
      "execution_count": null,
      "metadata": {
        "collapsed": true,
        "id": "__5wHgHOAbx7"
      },
      "outputs": [],
      "source": [
        "# Find the maximum peak in every year\n",
        "peaks_by_year = peaks_only.groupby(peaks_only['Date'].dt.year)['Interest'].max()\n",
        "peaks_by_year"
      ]
    },
    {
      "cell_type": "markdown",
      "metadata": {
        "id": "3kkClOT-AteG"
      },
      "source": [
        "**Observations:**\n",
        "* The data indicates a consistent year-over-year increase in maximum interest, with the highest peak of interest rising each year.\n",
        "* Specifically, the highest peaks were 17 in 2021, 20 in 2022, 22 in 2023, and 26 in 2024.\n",
        "\n",
        "**Conclusion:**\n",
        "\n",
        "The data indicates a consistent, gradual increase in maximum interest in 'Food system health' each year, with the highest peak rising from 17 in 2021 to 26 in 2024. This suggests a steady and sustained growth in overall interest in the proposed feature."
      ]
    },
    {
      "cell_type": "markdown",
      "source": [
        "**Exploration of Lowest Yearly Interests**\n",
        "* Identify extreme values in interest to understand times of lowest interest."
      ],
      "metadata": {
        "id": "mvJEnlPhoB1z"
      }
    },
    {
      "cell_type": "code",
      "execution_count": null,
      "metadata": {
        "collapsed": true,
        "id": "ECUW-cmtbweP"
      },
      "outputs": [],
      "source": [
        "# Find the lowest trough every year\n",
        "throughs_by_year = throughs_only.groupby(throughs_only['Date'].dt.year)['Interest'].min()\n",
        "throughs_by_year"
      ]
    },
    {
      "cell_type": "markdown",
      "metadata": {
        "id": "d7dvVHQMcEBB"
      },
      "source": [
        "**Observations:**\n",
        "* The yearly lowest interest values in 'Food system health\"' shows fluctuations.\n",
        "* While a slight increase occurred from 2021 (6) to 2022 (7), a notable decrease followed in 2023 (3).\n",
        "* In 2024, the lowest interest point (10) was higher than any previous year.\n",
        "\n",
        "**Conclusion:**\n",
        "\n",
        "Although the lowest interest values fluctuate from year to year, the 2024 data could suggest a potential rising baseline of interest in 'Food system health'.\n",
        "\n"
      ]
    },
    {
      "cell_type": "markdown",
      "metadata": {
        "id": "RruAESdLDOrz"
      },
      "source": [
        "**Current Interest Trend Analysis**\n",
        "* Determine the current direction of interest (increasing or decreasing).\n",
        "* Identify the date when the current trend began."
      ]
    },
    {
      "cell_type": "code",
      "source": [
        "# Define a function to determine direction and start date of current trend\n",
        "def determine_current_trend(df):\n",
        "    \"\"\"\n",
        "    Determines if the interest is currently increasing or decreasing based on the last extrema.\n",
        "\n",
        "    Parameters:\n",
        "    df (pd.DataFrame): A DataFrame with columns 'Interest', 'Peak', 'Trough', and 'Year',\n",
        "                       and a DateTimeIndex.\n",
        "\n",
        "    Returns:\n",
        "    None\n",
        "    \"\"\"\n",
        "    # Get the current interest value and date\n",
        "    current_value = df.iloc[-1]['Interest']\n",
        "    current_date = df.index[-1]\n",
        "\n",
        "    # Get the last trough value and date\n",
        "    last_trough = df[df['Trough']].iloc[-1]\n",
        "    last_trough_value = last_trough['Interest']\n",
        "    last_trough_date = last_trough.name\n",
        "\n",
        "    # Determine the current trend\n",
        "    if current_value > last_trough_value:\n",
        "        current_trend = \"increasing\"\n",
        "    else:\n",
        "        current_trend = \"decreasing\"\n",
        "\n",
        "    # Calculate the duration of the current trend\n",
        "    trend_duration_weeks = round((current_date - last_trough_date).days / 7)\n",
        "\n",
        "    # Print the results\n",
        "    print(f\"The last trough value was {last_trough_value} on {last_trough_date.strftime('%m/%d/%Y')}.\")\n",
        "    print(\"-\" * 50)\n",
        "    print(f\"The current interest value is {current_value} on {current_date.strftime('%m/%d/%Y')}.\")\n",
        "    print(\"-\" * 50)\n",
        "    print(f\"\\nThe interest is currently {current_trend} and has been observed for {trend_duration_weeks} week(s).\")"
      ],
      "metadata": {
        "id": "AmPCRxdIr-1X"
      },
      "execution_count": null,
      "outputs": []
    },
    {
      "cell_type": "code",
      "source": [
        "# Determine current trend for 'Food system health'\n",
        "determine_current_trend(peaks_throughs_dict['Food system health'])"
      ],
      "metadata": {
        "id": "k6AG9F-hsVp3"
      },
      "execution_count": null,
      "outputs": []
    },
    {
      "cell_type": "markdown",
      "source": [
        "**Observations:**\n",
        "* Interest in 'Food system health' is currently at a low level of 11 as of June 23, 2024.\n",
        "* There has been a slight increase of 1 unit over the past week.\n",
        "* The previous trough value was 10 on June 16, 2024.\n",
        "\n",
        "**Conclusion:**\n",
        "\n",
        "While the current interest level in 'Food system health' is low, the recent one-week increase could indicate the beginning of an upward trend. However, this data is insufficient to definitively confirm a sustained increase.\n"
      ],
      "metadata": {
        "id": "iBMtlFfJtFOr"
      }
    },
    {
      "cell_type": "markdown",
      "metadata": {
        "id": "h3SH06PtNhOA"
      },
      "source": [
        "<a name='trends-high-features'></a>\n",
        "#### Trend Analysis for Features with High Interest\n",
        "- Assess whether interest is increasing, decreasing, or stable over the past 3 years.\n",
        "- Identify the magnitude of peaks and troughs in interest levels.\n",
        "- Determine whether interest is currently rising or falling"
      ]
    },
    {
      "cell_type": "markdown",
      "source": [
        "**Summary Statistics**\n",
        "* Evaluate summary statistics to get an overview of the data's characteristics."
      ],
      "metadata": {
        "id": "8gmjFxwHHrJ7"
      }
    },
    {
      "cell_type": "code",
      "execution_count": null,
      "metadata": {
        "collapsed": true,
        "id": "fUK2ii-2HrbO"
      },
      "outputs": [],
      "source": [
        "# Get a dataframe for all features with 'High' interest\n",
        "high_interest_df = get_relevant_keywords_df(features_by_interest, features_interest_over_time, 'High')\n",
        "high_interest_df.head(3)"
      ]
    },
    {
      "cell_type": "code",
      "execution_count": null,
      "metadata": {
        "collapsed": true,
        "id": "5lXJE2e2HrbO"
      },
      "outputs": [],
      "source": [
        "# Show summary stats for high interest features\n",
        "summary_stats_high_interest = high_interest_df.describe().round().astype(int)\n",
        "summary_stats_high_interest"
      ]
    },
    {
      "cell_type": "markdown",
      "metadata": {
        "id": "IG2rz9H6HrbP"
      },
      "source": [
        "**Observations:**\n",
        "\n",
        "- **'Educational Value':**\n",
        "  - Interest tends to cluster around a high value of 56.\n",
        "  - Interest levels typically deviate by the mean by 16 units, indicating notable variability in interest.\n",
        "  - The lowest weekly interest over the last three years is 22, which is significantly below the mean but still indicates moderate interest.\n",
        " - The quartile values indicate moderate variability, with interest generally tending to be on the higher side.\n",
        "  - The feature received interest of 100, the highest possible value, at least once over the last 3 years.\n",
        "- **'Remote access and control':**\n",
        "  - Interest tends to cluster around a high value of 48.\n",
        "  - Interest levels typically deviate from the mean by 24 units, indicating high variability in interest.\n",
        "  - The lowest weekly interest over the last three years is 0, indicating that this feature received no interest at least once over the period.\n",
        "  - The quartile values show moderate variability. The very low values (minimum of 0) pull the mean down, making it smaller than the median.\n",
        "  - The feature received interest of 100, the highest possible value, at least once over the last 3 years.\n",
        "- **'Plant identification':**\n",
        "  - Interest tends to cluster around a high value of 54.\n",
        "  - Interest levels typically deviate from the mean by 18 units, indicating significant variability in interest.\n",
        "  -  The lowest weekly interest over the last three years is 26, which is the highest minimum value among the high-interest features, indicating a relatively high continuous interest.\n",
        "  - The quartile values show moderate variability, with interest values generally being higher than the mean.\n",
        "  - The feature received interest of 100, the highest possible value, at least once over the last 3 years.\n",
        "  \n",
        "  **Conclusion:**\n",
        "\n",
        "  While all three features show peaks at 100, 'Remote Access and Control' has the highest variability and periods of no interest, whereas 'Plant Identification' has the highest minimum interest, demonstrating a consistent baseline of interest. 'Educational Value' remains the most stable with the lowest variability in interest and consistently high interest.\n",
        "\n",
        "\n",
        "\n",
        "\n",
        "\n",
        "\n"
      ]
    },
    {
      "cell_type": "markdown",
      "source": [
        "**Linear Regression Trend Analysis**\n",
        "* Assess change in interest over time using a statistical model.\n",
        "* Evaluate suitability of keywords for further analysis and prototype development based on general trend over the last 3 years."
      ],
      "metadata": {
        "id": "UZa-8BaY_9nc"
      }
    },
    {
      "cell_type": "code",
      "execution_count": null,
      "metadata": {
        "id": "laOdmP_60l_k",
        "collapsed": true
      },
      "outputs": [],
      "source": [
        "high_interest_df.head(3)"
      ]
    },
    {
      "cell_type": "code",
      "execution_count": null,
      "metadata": {
        "id": "sdXy822G2UHE"
      },
      "outputs": [],
      "source": [
        "# Get the interest trends for all high interest keywords\n",
        "analyze_interest_trends(high_interest_df)"
      ]
    },
    {
      "cell_type": "markdown",
      "metadata": {
        "id": "ik2qcziM2jod"
      },
      "source": [
        "**Observations:**\n",
        "* **'Educational value:**\n",
        "  * Interest in the proposed feature 'Educational value' is increasing at a yearly rate of ~3.83 units.\n",
        "* **'Remote access and control':**\n",
        "  * Interest in the proposed feature 'Remote access and control' is significantly increasing at a yearly rate of ~19.36 units.\n",
        "* **'Plant identification':**\n",
        "  * Interest in the proposed feature 'Plant identification' is  decreasing at a yearly rate of ~4.6 units.\n",
        "* **Statistical Significance of Results:**\n",
        "  * The p-values of all features indicate that the trends shown are statistically significant, with all of them having a value < 0.05.\n",
        "\n",
        "**Conclusion:**\n",
        "* The substantial increase in interest in 'Remote access and control' highlights this feature as especially valuable and relevant for further analysis and inclusion in the prototype\n",
        "* Although the increase in interest is at a lower rate compared to 'Remote Access and Control', 'Educational value' remains a relevant feature for further analysis and consideration in the prototype.\n",
        "* Despite the decrease in interest, the rate of decline in interest for 'Plant identification' is low, suggesting that it remains a candidate for further analysis."
      ]
    },
    {
      "cell_type": "markdown",
      "metadata": {
        "id": "uWTQUpzQ620b"
      },
      "source": [
        "**Trend Analysis Using Peak Detection**\n",
        "* Determine peaks and throughs in interest.\n",
        "* Determine the average yearly magnitude of peaks and throughs and interpret results."
      ]
    },
    {
      "cell_type": "markdown",
      "source": [
        "**Peak Detection Analysis for 'Educational value'**"
      ],
      "metadata": {
        "id": "dbKWFxIFTupK"
      }
    },
    {
      "cell_type": "code",
      "execution_count": null,
      "metadata": {
        "id": "eV9Xm2-J8eyR",
        "collapsed": true
      },
      "outputs": [],
      "source": [
        "# Find peaks and throughs for high interest features\n",
        "peaks_throughs_dict = get_peaks_and_troughs(high_interest_df)\n",
        "peaks_throughs_dict.keys()"
      ]
    },
    {
      "cell_type": "code",
      "execution_count": null,
      "metadata": {
        "id": "AhjEKLMMB89N",
        "collapsed": true
      },
      "outputs": [],
      "source": [
        "# Analyze peaks and throughs for 'Educational value'\n",
        "peaks_throughs_dict['Educational value'].head(3)"
      ]
    },
    {
      "cell_type": "code",
      "execution_count": null,
      "metadata": {
        "id": "5xJoc8vHtyNs",
        "collapsed": true
      },
      "outputs": [],
      "source": [
        "# Return analysis results\n",
        "average_peaks, average_troughs, peaks_by_interest, troughs_by_interest= analyze_peaks_and_troughs(peaks_throughs_dict['Educational value'])"
      ]
    },
    {
      "cell_type": "code",
      "execution_count": null,
      "metadata": {
        "id": "GXyBvBM_v7tW",
        "collapsed": true
      },
      "outputs": [],
      "source": [
        "# Calculate variation in peaks and throughs\n",
        "average_peaks.max() - average_peaks.min()\n",
        "average_troughs.max() - average_troughs.min()\n",
        "print(f'Variation in peaks: {average_peaks.max() - average_peaks.min()}')\n",
        "print(f'Variation in troughs: {average_troughs.max() - average_troughs.min()}')"
      ]
    },
    {
      "cell_type": "code",
      "execution_count": null,
      "metadata": {
        "id": "_JbVSniSzXaL",
        "collapsed": true
      },
      "outputs": [],
      "source": [
        "# Return the value of the highest interest and the lowest interest\n",
        "print(f'Highest interest: {peaks_by_interest.iloc[0][\"Interest\"]}')\n",
        "print(f'Lowest interest: {troughs_by_interest.iloc[0][\"Interest\"]}')"
      ]
    },
    {
      "cell_type": "markdown",
      "metadata": {
        "id": "UM-wLu0OxP6w"
      },
      "source": [
        "**Observations:**\n",
        "* The proximity of the highest and lowest interest dates indicates significant short-term fluctuations in interest levels.\n",
        "* High variation (25 and 19 units) in peak and trough interest demonstrates substantial volatility.\n",
        "* Both average peak and trough interest levels show a general upward trend over the years, despite a dip in 2023.\n",
        "* Peak interest reached the maximum possible level (100), indicating high potential value.\n",
        "* The lowest interest level (22) represents a baseline of moderate interest.\n",
        "\n",
        "**Conclusion:**\n",
        "\n",
        "The feature 'Educational value' shows an overall positive trend, while significant short-term fluctuations and significant volatility suggest an unstable interest level influenced by external factors. The dip in 2023 requires further investigation to understand potential negative influences. Despite the fluctuations, the feature consistently maintains a moderate baseline of interest and has reached peak interest, indicating its potential high value. It will be considered for further analysis."
      ]
    },
    {
      "cell_type": "markdown",
      "source": [
        "**Peak Detection Analysis for 'Remote access and control'**"
      ],
      "metadata": {
        "id": "1hEe5ap4n8tU"
      }
    },
    {
      "cell_type": "code",
      "execution_count": null,
      "metadata": {
        "id": "xJxqf3LGCOV3",
        "collapsed": true
      },
      "outputs": [],
      "source": [
        "# Analyze peaks and throughs for 'Remote access and control'\n",
        "peaks_throughs_dict['Remote access and control'].head(3)"
      ]
    },
    {
      "cell_type": "code",
      "execution_count": null,
      "metadata": {
        "id": "-4wBpkA2Cf7e"
      },
      "outputs": [],
      "source": [
        "# Return analysis results for 'Remote access and control'\n",
        "average_peaks, average_troughs, peaks_by_interest, troughs_by_interest = (\n",
        "    analyze_peaks_and_troughs(peaks_throughs_dict['Remote access and control'])\n",
        ")"
      ]
    },
    {
      "cell_type": "code",
      "execution_count": null,
      "metadata": {
        "id": "ZaTrL611DUmV"
      },
      "outputs": [],
      "source": [
        "# Return the value of the highest interest and the lowest interest\n",
        "print(f'Highest interest: {peaks_by_interest.iloc[0][\"Interest\"]}')\n",
        "print(f'Lowest interest: {troughs_by_interest.iloc[0][\"Interest\"]}')"
      ]
    },
    {
      "cell_type": "markdown",
      "metadata": {
        "id": "VGqnEb5XDqZN"
      },
      "source": [
        "**Observations:**\n",
        "* The date of the lowest interest (0), 08/01/2021 and the date of the largest interest (100) are far apart.\n",
        "* The average peak values show a steep upward trend over the last 3 years, with a highest peak of 43 in 2021 and a highest peak of 85 in 2024, and a lowest trough of 4 in 2021 and 54 in 2021.\n",
        "* Average peak interest has more than doubled from 2021 to 2024, indicating rapid growth.\n",
        "* The lowest interest values captured since 2022 demonstrate a baseline of moderate to high interest.\n",
        "\n",
        "**Conclusion:**\n",
        "* The peak interest reaching the maximum possible level (100) recently and the fast increase in interest over the last 3 years makes, along with stable moderate baseline interest makes 'Remote access and control' a high-value feature for the prototype and will be considered for further analysis.\n"
      ]
    },
    {
      "cell_type": "markdown",
      "source": [
        "**Peak Detection Analysis for 'Plant identification'**"
      ],
      "metadata": {
        "id": "8l6db7wJ03wM"
      }
    },
    {
      "cell_type": "code",
      "execution_count": null,
      "metadata": {
        "id": "I9FU0J_YGCHO"
      },
      "outputs": [],
      "source": [
        "# Analyze peaks and troughs for 'Plant identification'\n",
        "peaks_throughs_dict['Plant identification'].head(3)"
      ]
    },
    {
      "cell_type": "code",
      "execution_count": null,
      "metadata": {
        "id": "jPYl8u2XGGfZ"
      },
      "outputs": [],
      "source": [
        "average_peaks, average_troughs, peaks_by_interest, troughs_by_interest = (\n",
        "    analyze_peaks_and_troughs(peaks_throughs_dict['Plant identification'])\n",
        ")"
      ]
    },
    {
      "cell_type": "code",
      "execution_count": null,
      "metadata": {
        "id": "-Kza9JeEGdkd"
      },
      "outputs": [],
      "source": [
        "# Return the value of the highest interest and the lowest interest\n",
        "print(f'Highest interest: {peaks_by_interest.iloc[0][\"Interest\"]}')\n",
        "print(f'Lowest interest: {troughs_by_interest.iloc[0][\"Interest\"]}')"
      ]
    },
    {
      "cell_type": "code",
      "execution_count": null,
      "metadata": {
        "id": "SShQvb_XGjCr"
      },
      "outputs": [],
      "source": [
        "# Calculate variation in peaks and throughs\n",
        "average_peaks.max() - average_peaks.min()\n",
        "average_troughs.max() - average_troughs.min()\n",
        "print(f'Variation in peaks: {average_peaks.max() - average_peaks.min()}')\n",
        "print(f'Variation in troughs: {average_troughs.max() - average_troughs.min()}')"
      ]
    },
    {
      "cell_type": "markdown",
      "metadata": {
        "id": "VL9ylb30HEYr"
      },
      "source": [
        "**Observations:**\n",
        "\n",
        "* The dates of the lowest interest (44 on 12/17/2023) and the highest interest (100) are relatively close, suggesting some variation in data.\n",
        "* The overall variation between peak and trough values is 12, relatively low compared to other keywords.\n",
        "* Average peak values show a slight downward trend over the last 3 years, with peaks ranging from 51 in 2024 to 63 in 2022.\n",
        "* Trough values indicate consistent interest, with the highest trough also in 2022.\n",
        "* This feature has demonstrated consistently high interest over the last 3 years, with a significantly higher value for the lowest interest than other keywords.\n",
        "\n",
        "**Conclusion:**\n",
        "\n",
        "The relatively low variation between peak and trough interest, along with the consistently high interest over the last three years, suggest that this feature is a strong candidate for further analysis. The observed downward trend in average peak values should be further investingated to understand potential factors influencing this decline.\n"
      ]
    },
    {
      "cell_type": "markdown",
      "metadata": {
        "id": "QGAz2Si23sTW"
      },
      "source": [
        "**Current Interest Trend Analysis**\n",
        "* Determine the current direction of interest (increasing or decreasing).\n",
        "* Identify the date when the current trend began."
      ]
    },
    {
      "cell_type": "markdown",
      "source": [
        "**Current Interest Trend for 'Educational value'**"
      ],
      "metadata": {
        "id": "7Mf6Mwfxqizt"
      }
    },
    {
      "cell_type": "code",
      "execution_count": null,
      "metadata": {
        "id": "msBCVvV35nKk",
        "collapsed": true
      },
      "outputs": [],
      "source": [
        "# Determine the current trend for 'Educational value'\n",
        "determine_current_trend(peaks_throughs_dict['Educational value'])"
      ]
    },
    {
      "cell_type": "markdown",
      "metadata": {
        "id": "AcVSp5av8jhZ"
      },
      "source": [
        "**Observations:**\n",
        "* Interest in 'Educational value' is currently at a moderate level of 48 as of June 23, 2024.\n",
        "* There has been an increase of 11 units over the past week.\n",
        "\n",
        "**Conclusion:**\n",
        "\n",
        "The recent increase in interest requires further monitoring due to the historically fluctuating nature of interest in this keyword. Given the one-week timeframe of the current upward trend, it's too early to determine if this signals a significant increase in interest or a short-term fluctuation."
      ]
    },
    {
      "cell_type": "markdown",
      "source": [
        "**Current Interest Trend for 'Remote access and control'**"
      ],
      "metadata": {
        "id": "o_GD0NmlqoOu"
      }
    },
    {
      "cell_type": "code",
      "execution_count": null,
      "metadata": {
        "id": "DW2_pKqyBGGf"
      },
      "outputs": [],
      "source": [
        "# Determine the current trend for 'Remote access and control'\n",
        "determine_current_trend(peaks_throughs_dict['Remote access and control'])"
      ]
    },
    {
      "cell_type": "markdown",
      "metadata": {
        "id": "kxavjNBPKswe"
      },
      "source": [
        "**Observations:**\n",
        "* Interest in this feature has been increasing over the last week by 11 units and is currently at a high value of 58 as of 06/23/2024.\n",
        "* Interest in this feature is currently slighly higher than in 'Educational value'\n",
        "\n",
        "**Conslusion:**\n",
        "\n",
        "* The interest in 'Remote access and control' is currently high and on an upward trend, indicating potential for further growth.\n",
        "* Although the interest has been increasing for one week, further analysis is required to understand the long-term significance and sustainability of this trend."
      ]
    },
    {
      "cell_type": "markdown",
      "source": [
        "**Current Interest Trend for 'Plant identirication'**"
      ],
      "metadata": {
        "id": "Cxz2x2BW5Nj-"
      }
    },
    {
      "cell_type": "code",
      "execution_count": null,
      "metadata": {
        "id": "lb_7hoF6LL_k"
      },
      "outputs": [],
      "source": [
        "# Determine the current trend for 'Plant identification'\n",
        "determine_current_trend(peaks_throughs_dict['Plant identification'])"
      ]
    },
    {
      "cell_type": "markdown",
      "metadata": {
        "id": "aH3BqgQ2LSDG"
      },
      "source": [
        "**Observations:**\n",
        "* Interest in this feature has been decreasing for the past four weeks, reaching a current value of 53.\n",
        "* Overall interest remains similar to other 'high' relevance features. It currently exceeds interest in 'Educational value' but falls below that of 'Remote access and control'.\n",
        "* This recent decline aligns with a broader downward trend observed over a longer period.\n",
        "\n",
        "**Conclusion:**\n",
        "\n",
        "The current data supports the previously identified downward trend in interest for this feature. However, the overall interest level remains comparable to other high-relevance features, suggesting continued potential value. Further investigation is needed to determine the cause of the decline and assess whether this trend is likely to continue.\n"
      ]
    },
    {
      "cell_type": "markdown",
      "metadata": {
        "id": "YP2W6UC-LzM1"
      },
      "source": [
        "<a name='trends-critical-features'></a>\n",
        "#### Trend Analysis for Features with Critical Interest\n",
        "* Evaluate key metrics of interest over time.\n",
        "* Assess whether interest is increasing, decreasing, or stable over the past 3 years.\n",
        "* Assess peaks and troughs in interest levels.\n",
        "* Determine current trend in interest."
      ]
    },
    {
      "cell_type": "markdown",
      "source": [
        "**Summary Statistics**\n",
        "* Evaluate summary statistics to get an overview of the data's characteristics."
      ],
      "metadata": {
        "id": "DSjKCIHzIsDN"
      }
    },
    {
      "cell_type": "code",
      "execution_count": null,
      "metadata": {
        "collapsed": true,
        "id": "hcd7sTzgIscm"
      },
      "outputs": [],
      "source": [
        "# Get a dataframe for all features with 'Critical' interest\n",
        "critical_interest_df = get_relevant_keywords_df(features_by_interest, features_interest_over_time, 'Critical')\n",
        "critical_interest_df.head(3)"
      ]
    },
    {
      "cell_type": "code",
      "execution_count": null,
      "metadata": {
        "collapsed": true,
        "id": "fPhxlPVnIscm"
      },
      "outputs": [],
      "source": [
        "# Show summary stats for critical features\n",
        "summary_stats_critical_interest = critical_interest_df.describe().round().astype(int)\n",
        "summary_stats_critical_interest"
      ]
    },
    {
      "cell_type": "markdown",
      "metadata": {
        "id": "X1XQxA4WIscm"
      },
      "source": [
        "**Observations:**\n",
        "\n",
        "- **'Plant detection':**\n",
        "  - Interest tends to cluster around a high value of 64.\n",
        "  - Interest levels typically deviate by the mean by 17 units, indicating some variability in interest.\n",
        "  - The lowest weekly interest over the last three years is 23, which is significantly below the mean but still indicates moderate interest.\n",
        " - The quartile values indicate moderate variability, with interest generally tending to be on the higher side.\n",
        "  - The feature received interest of 100, the highest possible value, at least once over the last 3 years.\n",
        "- **'Solar powered':**\n",
        "  - Interest tends to cluster around a critical value of 75.\n",
        "  - Interest levels typically deviate from the mean by 12 units, indicating low variability in interest.\n",
        "  - The lowest weekly interest over the last three years is 51, indicating that this feature consistently receives high interest.\n",
        "  - The quartile values show low variability. Indicating continuously high interest in this feature.\n",
        "  - The feature received interest of 100, the highest possible value, at least once over the last 3 years.\n",
        "  \n",
        "**Conclusion:**\n",
        "\n",
        "Both features show continuously high interest. 'Solar powered' never received an interest value less than 51, showing consistently high interest with very low variability. This indicates that 'Solar powered' is a highly stable and critical feature. 'Plant detection' also receives continuously high interest, but with more variation compared to 'Solar Powered'.\n",
        "The interest levels vary more, but the feature remains highly relevant overall."
      ]
    },
    {
      "cell_type": "markdown",
      "metadata": {
        "id": "LDeXCPv-oVQ8"
      },
      "source": [
        "**Linear Regression Trend Analysis**\n",
        "* Assess change in interest over time using a statistical model.\n",
        "* Evaluate suitability of keywords for further analysis and prototype development based on general trend over the last 3 years."
      ]
    },
    {
      "cell_type": "code",
      "execution_count": null,
      "metadata": {
        "id": "NotL8cDRMNUI"
      },
      "outputs": [],
      "source": [
        "critical_interest_df.head(3)"
      ]
    },
    {
      "cell_type": "code",
      "execution_count": null,
      "metadata": {
        "id": "e3T_23NYMXBS"
      },
      "outputs": [],
      "source": [
        "# Get interest trends for critical interst features\n",
        "analyze_interest_trends(critical_interest_df)"
      ]
    },
    {
      "cell_type": "markdown",
      "metadata": {
        "id": "1BMBsXxDM68O"
      },
      "source": [
        "**Observations:**\n",
        "* Interest in the proposed feature 'Plant detection' is increasing significantly at a yearly rate of ~12.38 units.\n",
        "* Interest in the proposed feature 'Solar powered' is decreasing at a yearly rate of ~2.54 units.\n",
        "* The trends for all features are statistically significant (p-values < 0.05).\n",
        "\n",
        "**Conclusion:**\n",
        "\n",
        "* The substantial increase in interest in 'Plant detection' highlights this feature as especially valuable and relevant for further analysis and inclusion in the prototype.\n",
        "* Despite a slight decline, 'Solar powered' remains valuable due to its relatively high overall interest and moderate rate of decline."
      ]
    },
    {
      "cell_type": "markdown",
      "metadata": {
        "id": "AKNNf3pjOrS-"
      },
      "source": [
        "**Trend Analysis Using Peak Detection**\n",
        "* Determine peaks and throughs in interest.\n",
        "* Determine the average yearly magnitude of peaks and throughs and interpret results.\n",
        "* Evaluate the yearly variability in interest."
      ]
    },
    {
      "cell_type": "code",
      "execution_count": null,
      "metadata": {
        "id": "K1Jw58CXqAeO"
      },
      "outputs": [],
      "source": [
        "# Get the peaks and troughs for all critical interest features\n",
        "peaks_throughs_dict = get_peaks_and_troughs(critical_interest_df)\n",
        "peaks_throughs_dict.keys()"
      ]
    },
    {
      "cell_type": "markdown",
      "metadata": {
        "id": "UCgbDO3zqcqY"
      },
      "source": [
        "**Peak Detection Analysis for 'Plant detection'**"
      ]
    },
    {
      "cell_type": "code",
      "execution_count": null,
      "metadata": {
        "id": "iG7TQkUErlZH"
      },
      "outputs": [],
      "source": [
        "# Show the dataframe with calculated peaks and troughs\n",
        "peaks_throughs_dict['Plant detection'].head(3)"
      ]
    },
    {
      "cell_type": "code",
      "execution_count": null,
      "metadata": {
        "id": "ZGxX_JEfrwuy"
      },
      "outputs": [],
      "source": [
        "# Calculate average peaks and troughs and show dates with highest and lowest interest\n",
        "average_peaks, average_troughs, peaks_by_interest, troughs_by_interest = (\n",
        "    analyze_peaks_and_troughs(peaks_throughs_dict['Plant detection'])\n",
        ")"
      ]
    },
    {
      "cell_type": "code",
      "execution_count": null,
      "metadata": {
        "id": "WlDLulUIufKd"
      },
      "outputs": [],
      "source": [
        "# Calculate the highest and lowest interest value\n",
        "print(f'Highest interest: {peaks_by_interest.iloc[0][\"Interest\"]}')\n",
        "print(f'Lowest interest: {troughs_by_interest.iloc[0][\"Interest\"]}')"
      ]
    },
    {
      "cell_type": "code",
      "execution_count": null,
      "metadata": {
        "id": "5PLvVq78wHZy"
      },
      "outputs": [],
      "source": [
        "# Calculate growth rate between peaks from 2021 to 2024\n",
        "growth_rate = (average_peaks.iloc[-1] - average_peaks.iloc[0]) / average_peaks.iloc[0] * 100\n",
        "print(f'Percentage change in average peak interest: {round(growth_rate, 2)}%')"
      ]
    },
    {
      "cell_type": "markdown",
      "metadata": {
        "id": "bTFEr4zHsPm1"
      },
      "source": [
        "**Observations:**\n",
        "* Interest in 'Plant Detection' has shown a clear and consistent upward trend over the past three years.\n",
        "* The highest peak interest of 100 was reached recently on March 17, 2024.\n",
        "* Average peak interest has increased by approximately 85% from 2021 to 2024.\n",
        "* Trough values have also increased substantially, indicating sustained high interest.\n",
        "\n",
        "**Conclusion:**\n",
        "\n",
        "The consistent and fast growth in both peak and trough interest levels strongly suggests that 'Plant Detection' is a high-value feature. The recent peak in interest further reinforces the feature's potential both inclusion in the prototype as well as further analysis.\n",
        "\n",
        "\n"
      ]
    },
    {
      "cell_type": "markdown",
      "metadata": {
        "id": "hIDPqvxMzTUS"
      },
      "source": [
        "**Peak Detection Analysis for 'Solar powered'**"
      ]
    },
    {
      "cell_type": "code",
      "execution_count": null,
      "metadata": {
        "id": "MIlvNHD_zilx"
      },
      "outputs": [],
      "source": [
        "# Show the dataframe with peaks and troughs\n",
        "peaks_throughs_dict['Solar powered'].head(3)"
      ]
    },
    {
      "cell_type": "code",
      "execution_count": null,
      "metadata": {
        "id": "TB1hmGYgzrpK"
      },
      "outputs": [],
      "source": [
        "# Calculate average peaks and troughs and show dates with highest and lowest interest\n",
        "average_peaks, average_troughs, peaks_by_interest, troughs_by_interest = (\n",
        "    analyze_peaks_and_troughs(peaks_throughs_dict['Solar powered'])\n",
        ")"
      ]
    },
    {
      "cell_type": "code",
      "execution_count": null,
      "metadata": {
        "id": "tlLkDrfVz2NM"
      },
      "outputs": [],
      "source": [
        "# Calculate the highest and lowest interest value\n",
        "print(f'Highest interest: {peaks_by_interest.iloc[0][\"Interest\"]}')\n",
        "print(f'Lowest interest: {troughs_by_interest.iloc[0][\"Interest\"]}')"
      ]
    },
    {
      "cell_type": "markdown",
      "metadata": {
        "id": "pGWW1Klvz-DW"
      },
      "source": [
        "**Observations:**\n",
        "* Interest in 'Solar powered' has remained relatively stable at a critically high level over the past three years, with a slight downward trend.\n",
        "* The lowest average trough value observed is 64, still indicating strong interest.\n",
        "* Both the highest peak (100) and lowest trough (51) occurred in 2022, suggesting fluctuations in interest during that year.\n",
        "O* verall peak values remained consistently high, ranging from 72 to 83.\n",
        "\n",
        "**Conclusion:**\n",
        "\n",
        "The consistently high interest levels, even with slight fluctuations and a minor downward trend, strongly suggest that 'Solar powered' is a valuable feature both for inclusion in the MVP as well as for further analysis. The downward trend in interest should be further investigated.\n",
        "\n"
      ]
    },
    {
      "cell_type": "markdown",
      "metadata": {
        "id": "RV0d3qnb89cO"
      },
      "source": [
        "**Current Interest Trend Analysis**\n",
        "* Determine the current direction of interest (increasing or decreasing).\n",
        "* Identify the date when the current trend began."
      ]
    },
    {
      "cell_type": "markdown",
      "metadata": {
        "id": "QdHluccZ9PYf"
      },
      "source": [
        "**Current Interest Trend for 'Plant detection'**"
      ]
    },
    {
      "cell_type": "code",
      "execution_count": null,
      "metadata": {
        "id": "r5X0QwzL9lGs"
      },
      "outputs": [],
      "source": [
        "determine_current_trend(peaks_throughs_dict['Plant detection'])"
      ]
    },
    {
      "cell_type": "markdown",
      "metadata": {
        "id": "JggzAjGY9oeC"
      },
      "source": [
        "**Observations:**\n",
        "* Interest in this feature has increased by 6 units over the last week, reaching a current high value of 63.\n",
        "\n",
        "**Conclusion:**\n",
        "* This recent upward trend indicates a potential for further growth in interest.\n",
        "* Continued monitoring and analysis are required to fully understand the nature and sustainability of this trend."
      ]
    },
    {
      "cell_type": "markdown",
      "metadata": {
        "id": "Y-P9ayXZ-m5O"
      },
      "source": [
        "**Current Interest Trend for 'Solar powered'**"
      ]
    },
    {
      "cell_type": "code",
      "execution_count": null,
      "metadata": {
        "id": "_d0YRxvc-uHS"
      },
      "outputs": [],
      "source": [
        "determine_current_trend(peaks_throughs_dict['Solar powered'])"
      ]
    },
    {
      "cell_type": "markdown",
      "metadata": {
        "id": "1YHSzguP-xlj"
      },
      "source": [
        "**Observations:**\n",
        "* Interest in 'Solar powered' has seen a modest increase of 2 units over the past two weeks, reaching a very high value of 89.\n",
        "\n",
        "**Conclusion:**\n",
        "* This recent uptick, while small, is significant given the previous slight decline observed over the past three years. The current high interest level suggests a potential for continued growth and a possible reversal of the downward trend.\n",
        "* Further monitoring is crucial to confirm this potential shift in the interest trajectory."
      ]
    },
    {
      "cell_type": "markdown",
      "metadata": {
        "id": "0IhcF2MU_4DP"
      },
      "source": [
        "<a name='features-visualizations'></a>\n",
        "### Visualizations: Interest Over Time For Key Features\n",
        "* Visualize weekly interest over 3 years per interest category."
      ]
    },
    {
      "cell_type": "markdown",
      "metadata": {
        "id": "d8HiosP7F63P"
      },
      "source": [
        "<a name='features-moderate-visualizations'></a>\n",
        "#### Weekly Interest for Moderate Interest Features\n",
        "* Aggregate the data over monthly intervals.\n",
        "* Use a heatmap to show patterns in interest over time."
      ]
    },
    {
      "cell_type": "code",
      "execution_count": null,
      "metadata": {
        "id": "cRznohIUGltO",
        "collapsed": true
      },
      "outputs": [],
      "source": [
        "# Show the dataframe for all features with 'Moderate' interest\n",
        "moderate_interest_df.head(3)"
      ]
    },
    {
      "cell_type": "code",
      "execution_count": null,
      "metadata": {
        "id": "p8vpXJuLHK1D"
      },
      "outputs": [],
      "source": [
        "# Show structure of the dataframe\n",
        "moderate_interest_df.info()"
      ]
    },
    {
      "cell_type": "code",
      "execution_count": null,
      "metadata": {
        "id": "9DOFlmZZId7u"
      },
      "outputs": [],
      "source": [
        "# Import necessary libraries for visualization\n",
        "import matplotlib.pyplot as plt\n",
        "import seaborn as sns"
      ]
    },
    {
      "cell_type": "code",
      "source": [
        "# Define a function to costruct a heatmap showing monthly interest over 3 years\n",
        "def create_heatmap(df, interest_level, category='Features'):\n",
        "    \"\"\"\n",
        "    This function takes a DataFrame with a date index and multiple keyword columns,\n",
        "    resamples the data to a monthly frequency, transposes it, and creates a heatmap.\n",
        "\n",
        "    Parameters:\n",
        "    df (pd.DataFrame): The input DataFrame with a date index and keyword columns.\n",
        "    interest_level (str): The interest level description to be used in the heatmap title.\n",
        "    category (str): The category of the interest level ('Features'/'Problems'/'Needs').\n",
        "\n",
        "    Returns:\n",
        "    None\n",
        "    \"\"\"\n",
        "    # Ensure the date column is set as index\n",
        "    if not isinstance(df.index, pd.DatetimeIndex):\n",
        "        raise ValueError(\"The DataFrame index must be a DatetimeIndex.\")\n",
        "\n",
        "    # Resample the data to a monthly frequency and take the mean\n",
        "    df_monthly = df.resample('M').mean()\n",
        "\n",
        "    # Transpose the DataFrame for heatmap\n",
        "    df_transposed = df_monthly.T\n",
        "\n",
        "    # Change the column labels to display month and year\n",
        "    df_transposed.columns = df_transposed.columns.strftime('%b %Y')\n",
        "\n",
        "    # Create the heatmap\n",
        "    plt.figure(figsize=(12, 4), dpi=300)\n",
        "    sns.heatmap(df_transposed, cmap='viridis', cbar=True, vmin=1, vmax=100)\n",
        "    plt.title(f'Interest in \"{interest_level}\" Interest {category} Over Time')\n",
        "    plt.xlabel('Date')\n",
        "    plt.ylabel('Keyword')\n",
        "    plt.xticks(rotation=90, ha='right', fontsize=10)\n",
        "    plt.show()"
      ],
      "metadata": {
        "id": "9DIv1Fkb50mj"
      },
      "execution_count": null,
      "outputs": []
    },
    {
      "cell_type": "code",
      "source": [
        "# Return heatmap for moderate interest features\n",
        "create_heatmap(moderate_interest_df, 'Moderate')"
      ],
      "metadata": {
        "id": "YFOEKDAN53ZK"
      },
      "execution_count": null,
      "outputs": []
    },
    {
      "cell_type": "markdown",
      "metadata": {
        "id": "He0maIzYMCAL"
      },
      "source": [
        "**Observations:**\n",
        "* Interest in 'Food system health' (the only 'moderate' interst feature) has remained consistently low over the three years, primarily ranging between 0 and 40.\n",
        "* A noticeable increase in interest has occurred since late 2023, with sustained levels above 20 units and two distinct peaks in 2024, which can be observed by less darker colors in this interval and two bars in a lighter shade of blue, indicating values between 40 and 50.\n",
        "* The diagram shows that interest is historically low in the summer months from June until August, therefore a decline can be expected also in 2024. This is validated by the bar for June 2024 being substantially darker than the previous bars.\n",
        "\n",
        "**Conclusion:**\n",
        "\n",
        "The feature 'Food system health' has consistently low interest, but the data suggests that an increase in interest is possible, while a temporary decrease in the coming summer months is likely."
      ]
    },
    {
      "cell_type": "markdown",
      "metadata": {
        "id": "HJm4N6DkTphW"
      },
      "source": [
        "<a name='features-high-visualizations'></a>\n",
        "#### Weekly Interest for High Interest Features\n",
        "* Aggregate the data over monthly intervals.\n",
        "* Use a heatmap to show patterns in interest over time."
      ]
    },
    {
      "cell_type": "code",
      "execution_count": null,
      "metadata": {
        "id": "dX5Gu_qbUQpj"
      },
      "outputs": [],
      "source": [
        "# Show high interst features\n",
        "high_interest_df.head(3)"
      ]
    },
    {
      "cell_type": "code",
      "source": [
        "# Return heatmap for high interest features\n",
        "create_heatmap(high_interest_df, 'High')"
      ],
      "metadata": {
        "id": "GT7ip8F8ZKFc"
      },
      "execution_count": null,
      "outputs": []
    },
    {
      "cell_type": "markdown",
      "metadata": {
        "id": "ePlU1b0eUbtQ"
      },
      "source": [
        "**Observations:**\n",
        "\n",
        "* **'Educational Value'**:  \n",
        "  * Interest has consistently remained approximately above 30 throughout the three-year period, highlighting a sustained baseline of interest.\n",
        "  * A notable increase occured in spring 2022, with interest from 60 to 90 over 5 months.\n",
        "  * The interest has continued to rise since then, reaching another peak in spring 2024 and remaining high (between 60 and 80) in the current period.\n",
        "* **'Remote access and control':**\n",
        "  * This keyword demonstrates a notable growth trajectory over the last 3 years.\n",
        "  * Starting from very low interest in 2021, it experienced a gradual and consistent increase, culminating in being the keyword with the highest interest in the current period, ranging between 50 and 90 since September 2022.\n",
        "\n",
        "* **'Plant identification':**\n",
        "  * A clear seasonal pattern is evident, with peak interest consistently occurring during the summer months of each year.\n",
        "  * While the overall interest in 2024 appears slightly lower than in previous years, there's a recent increase in interest starting from April 2024, suggesting the possibility of another summer peak.\n",
        "\n",
        "**Conclusion:**\n",
        " * 'Educational value' maintains consistently high interest, while 'Remote access and control' shows a notable upward trend, currently holding the highest interest among the analyzed keywords. 'Plant identification' demonstrates a strong seasonal pattern, possibly linked to summer in the northern hemisphere. These findings suggest prioritizing 'Remote access and control' for further analysis and inclusion in the prototype, while further investigating the potential of 'Educational value' and the seasonal nature of 'Plant identification'.\n",
        "\n",
        "\n",
        "\n",
        "\n"
      ]
    },
    {
      "cell_type": "markdown",
      "metadata": {
        "id": "lk5OwFJoeX1f"
      },
      "source": [
        "<a name='features-critical-visualizations'></a>\n",
        "#### Visualize Interest for Critical Interest Features Over Time\n",
        "* Aggregate the data over monthly intervals.\n",
        "* Use a heatmap to show patterns in interest over time."
      ]
    },
    {
      "cell_type": "code",
      "execution_count": null,
      "metadata": {
        "id": "uRjAHvTpfhXX"
      },
      "outputs": [],
      "source": [
        "# Show critical interest features\n",
        "critical_interest_df.head(3)"
      ]
    },
    {
      "cell_type": "code",
      "execution_count": null,
      "metadata": {
        "id": "7ZXJqFeefJ0Y"
      },
      "outputs": [],
      "source": [
        "# Define a function to costruct a heatmap showing monthly interest over 3 years\n",
        "def create_heatmap(df, interest_level, category='Features'):\n",
        "    \"\"\"\n",
        "    This function takes a DataFrame with a date index and multiple keyword columns,\n",
        "    resamples the data to a monthly frequency, transposes it, and creates a heatmap.\n",
        "\n",
        "    Parameters:\n",
        "    df (pd.DataFrame): The input DataFrame with a date index and keyword columns.\n",
        "    interest_level (str): The interest level description to be used in the heatmap title.\n",
        "    category (str): The category of the interest level ('Features'/'Problems'/'Needs').\n",
        "\n",
        "    Returns:\n",
        "    None\n",
        "    \"\"\"\n",
        "    # Ensure the date column is set as index\n",
        "    if not isinstance(df.index, pd.DatetimeIndex):\n",
        "        raise ValueError(\"The DataFrame index must be a DatetimeIndex.\")\n",
        "\n",
        "    # Resample the data to a monthly frequency and take the mean\n",
        "    df_monthly = df.resample('M').mean()\n",
        "\n",
        "    # Transpose the DataFrame for heatmap\n",
        "    df_transposed = df_monthly.T\n",
        "\n",
        "    # Change the column labels to display month and year\n",
        "    df_transposed.columns = df_transposed.columns.strftime('%b %Y')\n",
        "\n",
        "    # Create the heatmap\n",
        "    plt.figure(figsize=(12, 8))\n",
        "    sns.heatmap(df_transposed, cmap='viridis', cbar=True, vmin=1, vmax=100)\n",
        "    plt.title(f'Interest in \"{interest_level}\" Interest {category} Over Time')\n",
        "    plt.xlabel('Date')\n",
        "    plt.ylabel('Keyword')\n",
        "    plt.xticks(rotation=90, ha='right', fontsize=10)\n",
        "    plt.show()"
      ]
    },
    {
      "cell_type": "code",
      "execution_count": null,
      "metadata": {
        "id": "0v5iFbp-f7ww"
      },
      "outputs": [],
      "source": [
        "# Return heatmap for critical interest features\n",
        "create_heatmap(critical_interest_df, 'Critical')"
      ]
    },
    {
      "cell_type": "markdown",
      "metadata": {
        "id": "IAbQLmixgBjR"
      },
      "source": [
        "**Interpretation of Results:**\n",
        "\n",
        "* **'Plant detection'**:  \n",
        "  * Interest has consistently increased over the last three years, transitioning from moderate levels (40-60) in the first half of 2021 to high levels (60-100) since January 2022, continuosly rising since then\n",
        "  *  There have been two notable decreases: one in the summer of 2022 (50) and another recent one in June 2024 (70).\n",
        "  * Overall, the trend is upward, with no strong evidence of seasonality.\n",
        "* **'Solar powered':**\n",
        "  * Interest has remained consistently high throughout the three years, rarely dipping below 50.\n",
        "  * The data suggests seasonality, with higher interest during summer months.\n",
        "  * While a slight decline was observed in the summer of 2023, interest has rebounded and increased since February 2024 to a current value of 90.\n",
        "\n",
        "* **Conclusion:**\n",
        " * The steady increase in interest for 'Plant detection' over the past three years, despite minor fluctuations, highlights its potential as a valuable feature to consider for the MVP. The consistently high interest in 'Solar powered,' with a clear seasonal peaks in summer, suggests long term interest in this feature and makes it a strong candidate for the prototype as well.Both features are valuable for further analysis, this analysis should include an investigation of the seasonality in interest for 'Solar powered'.\n",
        "\n",
        "\n",
        "\n"
      ]
    },
    {
      "cell_type": "markdown",
      "metadata": {
        "id": "2KtILOS0jTYo"
      },
      "source": [
        "<a name='key-problems-analysis'></a>\n",
        "## Key Problems Analysis\n",
        "- Identify and evaluate the proposed problems most relevant to potential customers.\n",
        "- Analyze trends in interest for most relevant problems.\n",
        "- Visualize interest over time for the key problems."
      ]
    },
    {
      "cell_type": "markdown",
      "metadata": {
        "id": "O4d0RXHc0siR"
      },
      "source": [
        "<a name='most-relevant-problems'></a>\n",
        "### Determine Problems with Highest Relevance\n",
        "- Present problems sorted by their relevance.\n",
        "- Determine problems with significant relevance.\n",
        "- Establish thresholds to classify problems into the following categories:\n",
        "  - Critical: Essential and highly relevant problems.\n",
        "    - Average weekly interest 75% - 100%\n",
        "  - High: Very important and significantly relevant problems.\n",
        "    - Average weekly interest: 50% - 75%\n",
        "  - Moderate: Important but not essential problems.\n",
        "    - Average weekly interest: 10% - 50%\n",
        "  - Low: Problems of little relevance - will be excluded from further analysis.\n",
        "    - Average weekly interest: 0% - 10%\n",
        "- The percentages used to define the interest categories are relative to the highest observed average weekly interest value in the dataset.\n",
        "\n"
      ]
    },
    {
      "cell_type": "code",
      "execution_count": null,
      "metadata": {
        "id": "67VmC-DG1QSv"
      },
      "outputs": [],
      "source": [
        "# Show problems sorted by relevance dataframe\n",
        "problems_by_relevance.head(3)"
      ]
    },
    {
      "cell_type": "code",
      "execution_count": null,
      "metadata": {
        "id": "5_45jH1eJZUd"
      },
      "outputs": [],
      "source": [
        "# Classify feature keyword into interest categories\n",
        "problems_by_relevance = get_relative_interest(problems_by_relevance)\n",
        "problems_by_relevance.head(3)"
      ]
    },
    {
      "cell_type": "code",
      "execution_count": null,
      "metadata": {
        "id": "88KX-gRy7F8U"
      },
      "outputs": [],
      "source": [
        "# Calculate percentage of low interest problems\n",
        "low_relevance_percentage = round((problems_by_relevance['relevance'] == 'Low').mean() * 100)\n",
        "print(f'Percentage of low interest problems: {low_relevance_percentage}%')"
      ]
    },
    {
      "cell_type": "code",
      "execution_count": null,
      "metadata": {
        "id": "DxL5czAc8DvM"
      },
      "outputs": [],
      "source": [
        "# Compare the higest relevance problem with the highest relevance feature\n",
        "highest_relevance_problem = problems_by_relevance.loc[problems_by_relevance['relevance'] == 'Critical'].head(1)\n",
        "highest_relevance_feature = features_by_interest.loc[features_by_interest['relevance'] == 'Critical'].head(1)\n",
        "\n",
        "# Get the highest interest values\n",
        "problem_interest = highest_relevance_problem['weekly_average_interest'].values[0]\n",
        "feature_interest = highest_relevance_feature['weekly_average_interest'].values[0]\n",
        "\n",
        "# Calculate difference in interest between the highest relevance feature and problem\n",
        "difference = feature_interest - problem_interest\n",
        "\n",
        "# Convert difference to a percentage of the problem's interest\n",
        "percentage_difference = (difference / problem_interest) * 100\n",
        "\n",
        "print(f'The most relevant problem is {round(percentage_difference)}% less relevant than the most relevant feature')\n"
      ]
    },
    {
      "cell_type": "code",
      "execution_count": null,
      "metadata": {
        "id": "b4BqL_qcHjTj"
      },
      "outputs": [],
      "source": [
        "# Show highest relevance problem\n",
        "highest_relevance_problem"
      ]
    },
    {
      "cell_type": "code",
      "execution_count": null,
      "metadata": {
        "id": "5NyGj8WF_168"
      },
      "outputs": [],
      "source": [
        "# Show highest relevance feature\n",
        "highest_relevance_feature"
      ]
    },
    {
      "cell_type": "code",
      "execution_count": null,
      "metadata": {
        "id": "zD653pJYDIGC"
      },
      "outputs": [],
      "source": [
        "# Show moderate interest features\n",
        "features_by_interest[features_by_interest['relevance']=='Moderate']"
      ]
    },
    {
      "cell_type": "markdown",
      "metadata": {
        "id": "FXS8z76q7b6t"
      },
      "source": [
        "#### Results\n",
        "* 91% of Proposed Problems Have Low Relevance:\n",
        "  * The data reveals that only one proposed problem has an average weekly interest exceeding 10%. The remaining 91% of problems demonstrate low weekly interest, averaging below 10%. This indicates low demand for a solution for these problems. The prototype should not prioritize addressing these problems, and they will be excluded from further analysis.\n",
        "* Critical Relevance:\n",
        "  * The only relevant problem is 'Monoculture in agriculture', which is the only problem with weekly interest exceeding 10%. This problem should be the primary focus of the prototype development.\n",
        "  * While 'Monoculture in agriculture' is the most relevant problem, it's important to note its interest level is 390% lower than the top-ranked feature, 'Solar powered'. However, it still shows moderate interest, comparable to the feature 'Food system health', which received a similar weekly interest score of 14.73.\n",
        "  * Due to its critical relevance to the problem domain and its moderate level of interest, the trend in interest for 'Monoculture in agriculture' will be further analyzed to determine if interest in this topic is growing, stable, or declining."
      ]
    },
    {
      "cell_type": "markdown",
      "metadata": {
        "id": "U3XXasAXG-cu"
      },
      "source": [
        "<a name='key-problems-trend-analysis'></a>\n",
        "### Detailed Trend Analysis of Key Problem(s)\n",
        "- Analyze trends in interest for problems with moderate to critical relevance\n",
        "  - Calculate and interpret summary statistics\n",
        "    - Count\n",
        "    - Mean\n",
        "    - Standard Deviations\n",
        "    - Minimum Interest\n",
        "    - Maximum Interest\n",
        "    - Quartiles\n",
        "    - Variance (inferred)\n",
        "  - Identify Trends\n",
        "    - Determine if interest over the last 3 years is increasing, decreasing or stable.\n",
        "    - Determine peaks and troughts in interest.\n",
        "    - Determine if interest is currently rising or falling."
      ]
    },
    {
      "cell_type": "markdown",
      "metadata": {
        "id": "oRpxOOtxm9vX"
      },
      "source": [
        "<a name='trends-critical-problems'></a>\n",
        "#### Trend Analysis for Problems with Critical Interest\n",
        "- Assess whether interest has been increasing, decreasing, or stable over the past 3 years.\n",
        "- Identify the peaks and troughs in interest levels.\n",
        "- Determine the current trend in interest, whether it is rising or falling."
      ]
    },
    {
      "cell_type": "markdown",
      "source": [
        "**Summary Statistics**\n",
        "* Evaluate summary statistics to get an overview of the data's characteristics."
      ],
      "metadata": {
        "id": "-aywiTTo3duo"
      }
    },
    {
      "cell_type": "code",
      "execution_count": null,
      "metadata": {
        "id": "TDTQFTXtIdv5"
      },
      "outputs": [],
      "source": [
        "# Show all problems with critical relevance\n",
        "critical_relevance_df = get_relevant_keywords_df(problems_by_relevance, problems_relevance_over_time, 'Critical')\n",
        "critical_relevance_df.head(3)"
      ]
    },
    {
      "cell_type": "code",
      "execution_count": null,
      "metadata": {
        "id": "9UxRvHqmJ2eq"
      },
      "outputs": [],
      "source": [
        "# Show summary stats for critical relevance problems\n",
        "summary_stats_critical_relevance = critical_relevance_df.describe().round().astype(int)\n",
        "summary_stats_critical_relevance"
      ]
    },
    {
      "cell_type": "markdown",
      "metadata": {
        "id": "oJPOsEEOKqjy"
      },
      "source": [
        "**Observations:**\n",
        "* Interest in **'Monoculture in Agriculture'** is highly variable, with a mean value of 15 and a standard deviation of 28.\n",
        "* The lowest recorded interest is 0, with all quartiles also at 0. This indicates that interest is absent for at least 75% of the observed weeks.\n",
        "* Despite the typically low interest, the feature has reached a maximum interest level of 100, suggesting occasional spikes of intense interest.\n",
        "\n",
        "**Conclusion:**\n",
        "\n",
        "The data reveals a pattern of near-zero interest in 'Monoculture in Agriculture', interrupted by infrequent but intense spikes in interest. This high variability, with a majority of weeks showing no interest, suggests that the mean value is skewed upwards by these short-lived peaks. Further analysis is crucial to understand the timing and potential causes of these spikes, as well as the overall trend in interest over time."
      ]
    },
    {
      "cell_type": "markdown",
      "metadata": {
        "id": "sX1R40chLLhI"
      },
      "source": [
        "**Linear Regression Trend Analysis**\n",
        "* Assess change in interest over time using a statistical model.\n",
        "* Evaluate suitability of keywords for further analysis and prototype development based on general trend over the last 3 years."
      ]
    },
    {
      "cell_type": "code",
      "execution_count": null,
      "metadata": {
        "id": "hip83aupoIlm"
      },
      "outputs": [],
      "source": [
        "# Get interest trends for critical interst problems\n",
        "analyze_interest_trends(critical_relevance_df, slope_decimals=4)"
      ]
    },
    {
      "cell_type": "markdown",
      "metadata": {
        "id": "gUzDvu75oI9y"
      },
      "source": [
        "\n",
        "**Observations:**\n",
        "* The linear regression model indicates a slight positive slope of 0.0047 for the keyword **'Monoculture in agriculture'**.\n",
        "* The p-value of 0.5062 suggests that this slope is not statistically significant, meaning there's not enough evidence to confidently say there's a true upward trend over time.\n",
        "\n",
        "**Conclusion:**\n",
        "\n",
        "The trend analysis for 'Monoculture in agriculture' does not reveal a statistically significant change in interest over the past three years. Due to the high variability in the data, further investigation using alternative methods or a larger dataset is needed to definitively determine if a true trend exists."
      ]
    },
    {
      "cell_type": "markdown",
      "metadata": {
        "id": "ljm9O6QqzPPk"
      },
      "source": [
        "**Trend Analysis Using Peak Detection**\n",
        "* Determine peaks and throughs in interest.\n",
        "* Determine the average yearly magnitude of peaks and throughs and interpret results.\n",
        "* Evaluate the yearly variability in interest."
      ]
    },
    {
      "cell_type": "code",
      "execution_count": null,
      "metadata": {
        "id": "bLWpWqmOzlPd"
      },
      "outputs": [],
      "source": [
        "# Calculate peaks and troughs in critical intersest problems\n",
        "peaks_throughs_dict = get_peaks_and_troughs(critical_relevance_df)\n",
        "peaks_throughs_dict.keys()"
      ]
    },
    {
      "cell_type": "markdown",
      "metadata": {
        "id": "6Vn17tolzxBs"
      },
      "source": [
        "**Peak Detection Analysis for 'Monoculture in agriculture'**"
      ]
    },
    {
      "cell_type": "code",
      "execution_count": null,
      "metadata": {
        "id": "dGmpvJh20EaU"
      },
      "outputs": [],
      "source": [
        "# Show the dataframe\n",
        "peaks_throughs_dict['Monoculture in agriculture'].head(3)"
      ]
    },
    {
      "cell_type": "code",
      "execution_count": null,
      "metadata": {
        "id": "S6Ba9utD0DUR"
      },
      "outputs": [],
      "source": [
        "# Calculate average peaks and troughs and show dates with highest and lowest interest\n",
        "average_peaks, average_troughs, peaks_by_interest, troughs_by_interest = (\n",
        "    analyze_peaks_and_troughs(peaks_throughs_dict['Monoculture in agriculture'])\n",
        ")"
      ]
    },
    {
      "cell_type": "code",
      "execution_count": null,
      "metadata": {
        "id": "e7JnL3sZ0OrN"
      },
      "outputs": [],
      "source": [
        "# Calculate growth rate between peaks from 2021 to 2024\n",
        "growth_rate = (average_peaks.iloc[-1] - average_peaks.iloc[0]) / average_peaks.iloc[0] * 100\n",
        "print(f'Percentage change in average peak interest: {round(growth_rate, 2)}%')"
      ]
    },
    {
      "cell_type": "markdown",
      "metadata": {
        "id": "fxygciT20mOl"
      },
      "source": [
        "**Observations:**\n",
        "* Interest in 'Monoculture in Agriculture' demonstrates high variability, fluctuating between 0 and 100 over the past three years.\n",
        "* Average peak interest has decreased slightly by 7.9% from 2021 to 2024, which suggests that there is likely no statistically relevant upward trend in intrerest.\n",
        "* The highest and lowest interest dates in 2021 are close together, suggesting that peaks in interest are sporadic rather than consistent.\n",
        "* Average trough interest remains consistently low, often reaching zero, indicating periods of minimal interest.\n",
        "\n",
        "**Conclusion:**\n",
        "\n",
        "Interest in 'Monoculture in Agriculture' is highly variable, with sporadic peaks, likely influenced by external factors. While a slight decline in average peak interest has been observed, it is not statistically significant and may be due to random fluctuations. The relevance of this problem for prototype design requires further analysis, like and analysis of seasonal patterns or an analysis using a bigger dataset."
      ]
    },
    {
      "cell_type": "markdown",
      "metadata": {
        "id": "ejpyAoYm3RDg"
      },
      "source": [
        "**Current Interest Trend Analysis**\n",
        "* Determine the current direction of interest (increasing or decreasing).\n",
        "* Identify the date when the current trend began."
      ]
    },
    {
      "cell_type": "markdown",
      "metadata": {
        "id": "h1eG0kWx3j4o"
      },
      "source": [
        "**Current Interest Trend for 'Monoculture in agriculture'**"
      ]
    },
    {
      "cell_type": "code",
      "execution_count": null,
      "metadata": {
        "id": "7W1daxpT3r8C"
      },
      "outputs": [],
      "source": [
        "# Determine if interest is currently increasing or decreasing\n",
        "determine_current_trend(peaks_throughs_dict['Monoculture in agriculture'])"
      ]
    },
    {
      "cell_type": "markdown",
      "metadata": {
        "id": "SURqn5yJ35eJ"
      },
      "source": [
        "**Observations:**\n",
        "* Interest in 'Monoculture in agriculture' has increased from 0 to 17 units over the past two weeks.\n",
        "\n",
        "**Conclusion:**\n",
        "\n",
        "This recent spike in interest aligns with the historically volatile nature of this topic. However, it could also signal a potential shift towards more sustained interest in 'Monoculture in Agriculture'. Further monitoring and analysis are crucial to determine whether this increase is a temporary surge or the beginning of a longer-term trend."
      ]
    },
    {
      "cell_type": "markdown",
      "metadata": {
        "id": "DJwJf6wB5RcC"
      },
      "source": [
        "<a name='problems-visualizations'></a>\n",
        "### Visualizations: Interest Over Time For Key Problems\n",
        "* Aggregate the data over monthly intervals.\n",
        "* Use a heatmap to show patterns in interest over time."
      ]
    },
    {
      "cell_type": "markdown",
      "metadata": {
        "id": "OW6Q03inDKan"
      },
      "source": [
        "<a name='problems-critical-visualizations'></a>\n",
        "#### Visualization for Critical Interest Problems\n",
        "* Visualize weekly interest over 3 years"
      ]
    },
    {
      "cell_type": "code",
      "execution_count": null,
      "metadata": {
        "id": "eswMA6gM5f9k"
      },
      "outputs": [],
      "source": [
        "# Show data to visualize\n",
        "critical_relevance_df.head(3)"
      ]
    },
    {
      "cell_type": "code",
      "execution_count": null,
      "metadata": {
        "collapsed": true,
        "id": "JA_Dwb_Z6uFg"
      },
      "outputs": [],
      "source": [
        "# Create a heatmap to show interest over time\n",
        "create_heatmap(critical_relevance_df, 'Critical', category='Problems')"
      ]
    },
    {
      "cell_type": "markdown",
      "metadata": {
        "id": "JxRNzKSn7TK4"
      },
      "source": [
        "**Observations:**\n",
        "\n",
        "* Interest in 'Monoculture in agriculture' is highly variable, with most months showing little to no interest.\n",
        "* Distinct peaks of high interest typically occur once a year in the spring months, particularly February.\n",
        "\n",
        "**Conclusion:**\n",
        "\n",
        "The timing of peak interest in 'Monoculture in agriculture' may be related to the planting season in the northern hemisphere, although further analysis is needed to confirm this hypothesis. Given that 'Monoculture in agriculture' received the highest\n",
        "interest among the suggested problems, it will be considered for further analysis despite its inconsistent and absolutely low interest. However, to ensure the more relevant problems are addressed with the prototype, additional data should be gathered on alternative keywords."
      ]
    },
    {
      "cell_type": "markdown",
      "metadata": {
        "id": "p5FNEeLeB5bO"
      },
      "source": [
        "<a name='key-needs-analysis'></a>\n",
        "## Key Needs Analysis\n",
        "- Identify and evaluate high priority needs of potential customers.\n",
        "- Analyze trends in interest for most relevant needs.\n",
        "- Visualize interest over time for the key needs."
      ]
    },
    {
      "cell_type": "markdown",
      "metadata": {
        "id": "TgLjeiP1DxTq"
      },
      "source": [
        "<a name='most-relevant-needs'></a>\n",
        "### Determine Needs with Highest Relevance\n",
        "- Present needs sorted by their relevance.\n",
        "- Determine needs with significant relevance.\n",
        "- Establish thresholds to classify needs into the following categories:\n",
        "  - Critical: Essential and highly relevant needs.\n",
        "    - Average weekly interest 75% - 100%\n",
        "  - High: Very important and significantly relevant needs.\n",
        "    - Average weekly interest: 50% - 75%\n",
        "  - Moderate: Important but not essential needs.\n",
        "    - Average weekly interest: 10% - 50%\n",
        "  - Low: Needs of little relevance - will be excluded from further analysis.\n",
        "    - Average weekly interest: 0% - 10%\n",
        "- The percentages used to define the interest categories are relative to the highest observed average weekly interest value in the dataset.\n",
        "\n"
      ]
    },
    {
      "cell_type": "code",
      "execution_count": null,
      "metadata": {
        "id": "Mbb4CmATF_ih"
      },
      "outputs": [],
      "source": [
        "# Show needs sorted by relevance dataframe\n",
        "needs_by_relevance.head(3)"
      ]
    },
    {
      "cell_type": "code",
      "execution_count": null,
      "metadata": {
        "id": "stFHXVVmHAfR"
      },
      "outputs": [],
      "source": [
        "# Add a categorical column splitting keywords into categories\n",
        "needs_by_relevance = get_relative_interest(needs_by_relevance)\n",
        "needs_by_relevance.head(4)"
      ]
    },
    {
      "cell_type": "code",
      "execution_count": null,
      "metadata": {
        "id": "nMO6P0b9HPb_"
      },
      "outputs": [],
      "source": [
        "# Calculate percentage of low interest needs\n",
        "low_relevance_percentage = round((needs_by_relevance['relevance'] == 'Low').mean() * 100)\n",
        "print(f'Percentage of low relevance needs: {low_relevance_percentage}%')"
      ]
    },
    {
      "cell_type": "code",
      "execution_count": null,
      "metadata": {
        "id": "QFkcjDZUKJ57"
      },
      "outputs": [],
      "source": [
        "# Show moderate interst features\n",
        "features_by_interest[features_by_interest['relevance']=='Moderate']"
      ]
    },
    {
      "cell_type": "code",
      "execution_count": null,
      "metadata": {
        "id": "TWoxd5bOKaGg"
      },
      "outputs": [],
      "source": [
        "# Show high interst features\n",
        "features_by_interest[features_by_interest['relevance']=='High']"
      ]
    },
    {
      "cell_type": "code",
      "execution_count": null,
      "metadata": {
        "id": "a87IkYitKfVh"
      },
      "outputs": [],
      "source": [
        "# Show critical interest problems\n",
        "problems_by_relevance[problems_by_relevance['relevance']=='Critical']"
      ]
    },
    {
      "cell_type": "markdown",
      "metadata": {
        "id": "A-N7_yEVHnJG"
      },
      "source": [
        "#### Results\n",
        "* 86% of Proposed Needs Have Low Relevance:\n",
        "  * The majority of proposed needs (86%) show low relevance, with weekly interest levels falling below 10%.\n",
        "  * These low relevance needs will not be considered for further analysis.\n",
        "* Moderate Relevance:\n",
        "  * 'Sustainable food production' is the only need identified as moderately relevant, with an average weekly interest of 25 units.\n",
        "  * Further trend analysis is necessary to determine if this need justifies inclusion in the prototype development.\n",
        "* High Relevance:\n",
        "  * Despite its high relevance classification, the interest level of 29 units in 'Educational AI' is only slightly higher than the moderately relevant need 'Sustainable food production'.\n",
        "  * Interst is substantially lower than the lowest high insterest value feature 'Remote access and control' (48).\n",
        "  *  Further trend analysis will determine this keyword's relevance for further analysis and prototype development.\n",
        "* Critical Relevance:\n",
        "  * 'Climate resilience' stands out with critical average montly relevance of 58 units, indicating strong interest. While its interest level would be considered 'high' relative to feature keywords, it remains a top priority for further analysis and potential inclusion in the prototype."
      ]
    },
    {
      "cell_type": "markdown",
      "metadata": {
        "id": "7hZdaAGSP0WU"
      },
      "source": [
        "<a name='key-needs-trend-analysis'></a>\n",
        "### Detailed Trend Analysis of Key Needs\n",
        "- Analyze trends in interest for needs with moderate to critical relevance\n",
        "  - Calculate and interpret summary statistics\n",
        "    - Count\n",
        "    - Mean\n",
        "    - Standard Deviations\n",
        "    - Minimum Interest\n",
        "    - Maximum Interest\n",
        "    - Quartiles\n",
        "    - Variance (inferred)\n",
        "  - Identify Trends\n",
        "    - Determine if interest over the last 3 years is increasing, decreasing or stable.\n",
        "    - Determine peaks and troughts in interest.\n",
        "    - Determine if interest is currently rising or falling."
      ]
    },
    {
      "cell_type": "markdown",
      "source": [
        "<a name='trends-moderate-needs'></a>\n",
        "#### Trend Analysis for Needs with Moderate Interest\n",
        "- Assess whether interest has been increasing, decreasing, or stable over the past 3 years.\n",
        "- Identify the peaks and troughs in interest levels.\n",
        "- Determine the current trend in interest, whether it is rising or falling."
      ],
      "metadata": {
        "id": "X3LHz3a5PEdg"
      }
    },
    {
      "cell_type": "markdown",
      "metadata": {
        "id": "ZHIsaTYnRXPG"
      },
      "source": [
        "**Summary Statistics**\n",
        "* Evaluate summary statistics to get an overview of the data's characteristics.\n"
      ]
    },
    {
      "cell_type": "code",
      "execution_count": null,
      "metadata": {
        "id": "nyO98kAhSLob"
      },
      "outputs": [],
      "source": [
        "# Show all needs with moderate relevance\n",
        "moderate_relevance_df = get_relevant_keywords_df(needs_by_relevance, needs_relevance_over_time, 'Moderate')\n",
        "moderate_relevance_df.head(3)"
      ]
    },
    {
      "cell_type": "code",
      "execution_count": null,
      "metadata": {
        "id": "E078iHIiTz_b"
      },
      "outputs": [],
      "source": [
        "# Get summary stats\n",
        "summary_stats_moderate_relevance = moderate_relevance_df.describe().round().astype(int)\n",
        "summary_stats_moderate_relevance"
      ]
    },
    {
      "cell_type": "markdown",
      "metadata": {
        "id": "zD-7MjaoUIIj"
      },
      "source": [
        "**Observations:**\n",
        "- The data for **'Sustainable food production'** reveals a relatively stable interest level over the last three years, with an average weekly interest of 25 units.\n",
        "- The standard deviation of 10 indicates moderate variability compared to other analyzed keywords, indicating stable interest.\n",
        "- The lowest recorded interest is 0, meaning there was at least one week with no interest in the topic.\n",
        "- A maximum interest level of 48 suggests consistently moderate interest in this feature.\n",
        "- Interest ranges from 0 to 48, suggesting fluctuations over time, but the majority of data points cluster between 18 and 33, indicating consistent moderate interest.\n",
        "* The maximum interest of 48 suggests occasional peaks of interest, although these are not as extreme as in other keywords.\n",
        "\n",
        "**Conclusion:**\n",
        "\n",
        "Overall, 'Sustainable food production' shows consistent moderate interest with some variability. The stability of interest suggests sustained attention to this subject, making it a potentially valuable area for further exploration and potential inclusion in prototype development."
      ]
    },
    {
      "cell_type": "markdown",
      "metadata": {
        "id": "WDxHFebVY9VG"
      },
      "source": [
        "**Linear Regression Trend Analysis**\n",
        "* Assess change in interest over time using a statistical model.\n",
        "* Evaluate suitability of keywords for further analysis and prototype development based on general trend over the last 3 years."
      ]
    },
    {
      "cell_type": "code",
      "execution_count": null,
      "metadata": {
        "id": "8VY_miQsZ9De"
      },
      "outputs": [],
      "source": [
        "# Get interest trends for moderate interest needs\n",
        "analyze_interest_trends(moderate_relevance_df, slope_decimals=4)"
      ]
    },
    {
      "cell_type": "markdown",
      "metadata": {
        "id": "ETZEqUENaH6y"
      },
      "source": [
        "**Observations:**\n",
        "* Interest in the proposed need **'Sustainable food production'** is increasing moderately at a yearly rate of ~5.85 units (more than 5% every year).\n",
        "* The trend is statistically significant (p-value < 0.05).\n",
        "\n",
        "**Conclusion:**\n",
        "\n",
        "The moderate increase in interest in 'Sustainable food production' highlights this need becomes more relevant over time, making it relevant for further analysis and inclusion in the prototype design."
      ]
    },
    {
      "cell_type": "markdown",
      "metadata": {
        "id": "VHafF25mbxDd"
      },
      "source": [
        "**Trend Analysis Using Peak Detection**"
      ]
    },
    {
      "cell_type": "code",
      "execution_count": null,
      "metadata": {
        "id": "uEVtPzb4cMq8"
      },
      "outputs": [],
      "source": [
        "# Calculate peaks and troughs in moderate interest needs\n",
        "peaks_throughs_dict = get_peaks_and_troughs(moderate_relevance_df)\n",
        "peaks_throughs_dict.keys()"
      ]
    },
    {
      "cell_type": "markdown",
      "source": [
        "**Peak Detection Analysis for 'Sustainable food production'**"
      ],
      "metadata": {
        "id": "6CmKQW0GRivd"
      }
    },
    {
      "cell_type": "code",
      "execution_count": null,
      "metadata": {
        "id": "CuUjtX9zcT1P"
      },
      "outputs": [],
      "source": [
        "# Show dataframe with boolean columns for peaks and troughs\n",
        "peaks_throughs_dict['Sustainable food production'].head(3)"
      ]
    },
    {
      "cell_type": "code",
      "execution_count": null,
      "metadata": {
        "id": "nQ_egttNclEZ"
      },
      "outputs": [],
      "source": [
        "# Calculate average peaks and troughs and show dates with highest and lowest interest\n",
        "average_peaks, average_troughs, peaks_by_interest, troughs_by_interest = (\n",
        "    analyze_peaks_and_troughs(peaks_throughs_dict['Sustainable food production'])\n",
        ")"
      ]
    },
    {
      "cell_type": "code",
      "execution_count": null,
      "metadata": {
        "id": "CIKaSNUudA2Z"
      },
      "outputs": [],
      "source": [
        "# Calculate growth rate between peaks from 2021 to 2024\n",
        "growth_rate = (average_peaks.iloc[-1] - average_peaks.iloc[0]) / average_peaks.iloc[0] * 100\n",
        "print(f'Percentage change in average peak interest: {round(growth_rate, 2)}%')"
      ]
    },
    {
      "cell_type": "code",
      "execution_count": null,
      "metadata": {
        "id": "iZAWHOFkd7fw"
      },
      "outputs": [],
      "source": [
        "# Calculate the highest and lowest interest value\n",
        "print(f'Highest interest: {peaks_by_interest.iloc[0][\"Interest\"]}')\n",
        "print(f'Lowest interest: {troughs_by_interest.iloc[0][\"Interest\"]}')"
      ]
    },
    {
      "cell_type": "markdown",
      "metadata": {
        "id": "65prxd3VcwsU"
      },
      "source": [
        "**Observations:**\n",
        "* Interest in 'Sustainable food production' has shown a clear upward trend over the past three years, with the highest peak (48) occurring recently on April 28, 2024.\n",
        "* The lowest interest (0) was recorded on July 18, 2021.\n",
        "* Average peak interest has more than doubled from 19 in 2021 to 40 in 2024.\n",
        "* Average trough interest has also increased steadily, from 8 in 2021 to 31 in 2024.\n",
        "\n",
        "**Conclusion:**\n",
        "\n",
        "The consistent growth in both peak and trough interest levels demonstrates a sustained and growing interest in 'Sustainable food production'. The recent peak interest further reinforces the relevance of this need. This makes it a strong candidate for inclusion in further analysis.\n"
      ]
    },
    {
      "cell_type": "markdown",
      "metadata": {
        "id": "P6DqcbUIgUAg"
      },
      "source": [
        "**Current Interest Trend Analysis**\n",
        "* Determine the current direction of interest (increasing or decreasing).\n",
        "* Identify the date when the current trend began."
      ]
    },
    {
      "cell_type": "markdown",
      "source": [
        "**Current Interest Trend Analysis for 'Sustainable food production'**"
      ],
      "metadata": {
        "id": "Nbw9E1r-gaGp"
      }
    },
    {
      "cell_type": "code",
      "execution_count": null,
      "metadata": {
        "id": "qaKY5xyehO9v"
      },
      "outputs": [],
      "source": [
        "determine_current_trend(peaks_throughs_dict['Sustainable food production'])"
      ]
    },
    {
      "cell_type": "markdown",
      "metadata": {
        "id": "c75m0Hx1hMhb"
      },
      "source": [
        "**Observations:**\n",
        "* Interest in 'Sustainable food production' has increased by 4 units over the last week, reaching a current moderate value of 25.\n",
        "\n",
        "**Conclusion:**\n",
        "* This recent increase is consistent with the overall upward trend observed in the data over the past three years, suggesting a continued and gradual growth in the relevance of this need.\n",
        "* Continued monitoring and analysis are required to fully understand the nature of this trend."
      ]
    },
    {
      "cell_type": "markdown",
      "metadata": {
        "id": "VIYR31oWjovc"
      },
      "source": [
        "<a name='trends-high-needs'></a>\n",
        "#### Trend Analysis for Needs with High Interest\n",
        "- Assess whether interest has been increasing, decreasing, or stable over the past 3 years.\n",
        "- Identify the peaks and troughs in interest levels.\n",
        "- Determine the current trend in interest, whether it is rising or falling."
      ]
    },
    {
      "cell_type": "code",
      "execution_count": null,
      "metadata": {
        "id": "GBcWPwVEj6_l"
      },
      "outputs": [],
      "source": [
        "# Show all needs with high relevance\n",
        "high_relevance_df = get_relevant_keywords_df(needs_by_relevance, needs_relevance_over_time, 'High')\n",
        "high_relevance_df.head(3)"
      ]
    },
    {
      "cell_type": "markdown",
      "source": [
        "**Summary Statistics**\n",
        "* Evaluate summary statistics to get an overview of the data's characteristics."
      ],
      "metadata": {
        "id": "_6UKdkNoa7uC"
      }
    },
    {
      "cell_type": "code",
      "execution_count": null,
      "metadata": {
        "id": "vW5pmGX1kITS"
      },
      "outputs": [],
      "source": [
        "# Get summary stats\n",
        "summary_stats_high_relevance = high_relevance_df.describe().round().astype(int)\n",
        "summary_stats_high_relevance"
      ]
    },
    {
      "cell_type": "markdown",
      "metadata": {
        "id": "4idEbDt3iJbm"
      },
      "source": [
        "**Observations:**\n",
        "- The data for **'Educational AI'** reveals a highly volatile interest pattern over the past three years, with an average weekly interest of 29 units.  \n",
        "- The standard deviation of 32, spanning from 0 to 100, indicates a wide range of interest levels. This volatility is further supported by the fact that the lowest 25% of values are zero, while the top 75% are above 53.\n",
        "- A median (14) considerably lower than the mean (29) suggests that the distribution is skewed to the right. This suggests that interest is typically low, but occasionally spikes to very high levels.\n",
        "\n",
        "**Conclusion:**\n",
        "\n",
        "Overall, interest in 'Educational AI' is sporadic, characterized by periods of very low or no interest and bursts of high interest. Further trend analysis is needed to determine if any patterns exist within this volatility and to assess the overall trajectory of interest in this topic over time."
      ]
    },
    {
      "cell_type": "markdown",
      "metadata": {
        "id": "L3J6n1ZSm0Pv"
      },
      "source": [
        "#### Trend Analysis High Interest Needs\n",
        "* Assess whether interest is increasing, decreasing, or stable over the past 3 years.\n",
        "* Assess peaks and troughs in interest levels.\n",
        "* Determine current trend in interest."
      ]
    },
    {
      "cell_type": "markdown",
      "metadata": {
        "id": "uxOo7PsunKYQ"
      },
      "source": [
        "**Linear Regression Trend Analysis**\n",
        "* Assess change in interest over time using a statistical model.\n",
        "* Evaluate suitability of keywords for further analysis and prototype development based on general trend over the last 3 years."
      ]
    },
    {
      "cell_type": "code",
      "execution_count": null,
      "metadata": {
        "id": "kjxXbsD6nOdA"
      },
      "outputs": [],
      "source": [
        "# Perform linear regression analysis\n",
        "analyze_interest_trends(high_relevance_df, slope_decimals=4)"
      ]
    },
    {
      "cell_type": "markdown",
      "metadata": {
        "id": "sUrl7MsOnW4r"
      },
      "source": [
        "**Observations:**\n",
        "- The positive slope of 0.0927 signifies an upward trend in interest over time with a substantial yearly increase in interst of ~33.84 units.\n",
        "- The very small p-value (1.09e-62) is far below the typical threshold of 0.05 for statistical significance, proving that the observed increase in interst is not due to chance.\n",
        "\n",
        "**Conclusion:**\n",
        "\n",
        "**'Educational AI'** is a prime candidate for consideration in the design process of the prototype and for further analysis, due rapid increase of interest over the last 3 years."
      ]
    },
    {
      "cell_type": "markdown",
      "metadata": {
        "id": "sQG54JYfoQua"
      },
      "source": [
        "**Trend Analysis Using Peak Detection**"
      ]
    },
    {
      "cell_type": "code",
      "execution_count": null,
      "metadata": {
        "id": "f8p28tg-ok9u"
      },
      "outputs": [],
      "source": [
        "# Calculate peaks and troughs in high interest needs\n",
        "peaks_throughs_dict = get_peaks_and_troughs(high_relevance_df)\n",
        "peaks_throughs_dict.keys()"
      ]
    },
    {
      "cell_type": "markdown",
      "source": [
        "**Peak Detection Analysis for 'Educational AI'**"
      ],
      "metadata": {
        "id": "VNeFQSAEdnst"
      }
    },
    {
      "cell_type": "code",
      "execution_count": null,
      "metadata": {
        "id": "5LCnQb3oo3nA"
      },
      "outputs": [],
      "source": [
        "# Calculate average peaks and troughs and show dates with highest and lowest interest\n",
        "average_peaks, average_troughs, peaks_by_interest, troughs_by_interest = (\n",
        "    analyze_peaks_and_troughs(peaks_throughs_dict['Educational AI'])\n",
        ")"
      ]
    },
    {
      "cell_type": "code",
      "execution_count": null,
      "metadata": {
        "id": "vG-2mlcHp9GZ"
      },
      "outputs": [],
      "source": [
        "# Calculate the highest and lowest interest value\n",
        "print(f'Highest interest: {peaks_by_interest.iloc[0][\"Interest\"]}')\n",
        "print(f'Lowest interest: {troughs_by_interest.iloc[0][\"Interest\"]}')"
      ]
    },
    {
      "cell_type": "code",
      "execution_count": null,
      "metadata": {
        "id": "-wnPfn7kp9GZ"
      },
      "outputs": [],
      "source": [
        "# Calculate growth rate between peaks from 2021 to 2024\n",
        "growth_rate = (average_peaks.iloc[-1] - average_peaks.iloc[0]) / average_peaks.iloc[0] * 100\n",
        "print(f'Percentage change in average peak interest: {round(growth_rate, 2)}%')"
      ]
    },
    {
      "cell_type": "markdown",
      "metadata": {
        "id": "yh63SasEpBHY"
      },
      "source": [
        "**Observations:**\n",
        "* Interest in 'Educational AI' shows a steep and consistent upward trend over the past three years, with the highest peak (100) occurring recently on May 19, 2024.\n",
        "* The average peak interest has increased dramatically, growing fivefold from 14 in 2021 to 91 in 2024. (550%)\n",
        "* The increasing average trough values, particularly the notable rise to 80 in 2024, suggest that baseline interest in 'Educational AI' is also growing rapidly.\n",
        "\n",
        "**Conclusion:**\n",
        "\n",
        "The rapid and consistent growth in both peak and trough interest levels, coupled with the fact that  interest is currently at its highest average peak value, strongly indicate that 'Educational AI' is a high-priority need. This need is a prime candidate for inclusion in the prototype and further analysis.\n",
        "\n"
      ]
    },
    {
      "cell_type": "markdown",
      "metadata": {
        "id": "tKSZ6wgIrPsO"
      },
      "source": [
        "**Current Interest Trend Analysis**\n",
        "* Determine the current direction of interest (increasing or decreasing).\n",
        "* Identify the date when the current trend began."
      ]
    },
    {
      "cell_type": "markdown",
      "source": [
        "**Current Interest Trend Analysis for 'Educational AI'**"
      ],
      "metadata": {
        "id": "2eCKGKLSgko1"
      }
    },
    {
      "cell_type": "code",
      "execution_count": null,
      "metadata": {
        "id": "3QFYcZU12-VH"
      },
      "outputs": [],
      "source": [
        "# Check if the current value is higher than the last trough value\n",
        "determine_current_trend(peaks_throughs_dict['Educational AI'])"
      ]
    },
    {
      "cell_type": "markdown",
      "metadata": {
        "id": "JFBp0H0S3Whe"
      },
      "source": [
        "**Observation:**\n",
        "* Interest in 'Educational AI' has seen a moderate increase of 10 units over the past two weeks, reaching a critically high value of 78.\n",
        "\n",
        "**Conclusion:**\n",
        "\n",
        "The current trend correlates with the steep upward trend observed over the last 3 years. Further investigation is required to determine the significance of this trend."
      ]
    },
    {
      "cell_type": "markdown",
      "metadata": {
        "id": "IYQYy9BF5LVj"
      },
      "source": [
        "<a name='trends-critical-needs'></a>\n",
        "#### Trend Analysis for Needs with Critical Interest\n",
        "- Assess whether interest has been increasing, decreasing, or stable over the past 3 years.\n",
        "- Identify the peaks and troughs in interest levels.\n",
        "- Determine the current trend in interest, whether it is rising or falling."
      ]
    },
    {
      "cell_type": "code",
      "execution_count": null,
      "metadata": {
        "id": "X5pu4Ih25dyp"
      },
      "outputs": [],
      "source": [
        "# Show all needs with critical relevance\n",
        "critical_relevance_df_needs = (\n",
        "    get_relevant_keywords_df(needs_by_relevance, needs_relevance_over_time, 'Critical')\n",
        ")\n",
        "critical_relevance_df_needs.head(3)"
      ]
    },
    {
      "cell_type": "markdown",
      "source": [
        "**Summary Statistics**\n",
        "* Evaluate summary statistics to get an overview of the data's characteristics."
      ],
      "metadata": {
        "id": "Vq6yIOVgwHy1"
      }
    },
    {
      "cell_type": "code",
      "execution_count": null,
      "metadata": {
        "id": "VndYpqMZ52QH"
      },
      "outputs": [],
      "source": [
        "# Get summary stats\n",
        "summary_stats_critical_relevance = critical_relevance_df_needs.describe().round().astype(int)\n",
        "summary_stats_critical_relevance"
      ]
    },
    {
      "cell_type": "markdown",
      "metadata": {
        "id": "IXuy22IX6CFE"
      },
      "source": [
        "**Observations:**\n",
        "* Weekly interest in 'Climate resilience' averages 56 units over the past three years, indicating consistent moderate to high interest.\n",
        "* The standard deviation of 18, with values ranging from 17 to 100, suggests a moderate range of interest levels.\n",
        "* The median value is 56, equal to the mean, indicating a relatively symmetrical distribution. However, outliers with exceptionally high interest skew the distribution slightly to the right, leading to a maximum interest value of 100.\n",
        "\n",
        "**Conclusion:**\n",
        "\n",
        "Overall, interest in 'Climate resilience' has been stable and moderately high over the past three years, with occasional spikes in interest. The distribution is generally symmetrical, reflecting consistent interest with some variability due to peak interest periods."
      ]
    },
    {
      "cell_type": "markdown",
      "metadata": {
        "id": "61mTZEMm8-bg"
      },
      "source": [
        "**Linear Regression Trend Analysis**\n",
        "* Assess change in interest over time using a statistical model.\n",
        "* Evaluate suitability of keywords for further analysis and prototype development based on general trend over the last 3 years."
      ]
    },
    {
      "cell_type": "code",
      "execution_count": null,
      "metadata": {
        "id": "jyn1K_Rz9GM2"
      },
      "outputs": [],
      "source": [
        "# Get linear regression results\n",
        "analyze_interest_trends(critical_relevance_df_needs, slope_decimals=4)"
      ]
    },
    {
      "cell_type": "markdown",
      "metadata": {
        "id": "Knwvcvpw9Jl6"
      },
      "source": [
        "**Observations:**\n",
        "* The positive slope of 0.0494 indicates an upward trend in interest over time, corresponding to a significant yearly increase of approximately 18.02 units.\n",
        "* The extremely small p-value (2.70e-46) is well below 0.05, confirming that the observed increase in interest is statistically significant and not due to chance.\n",
        "\n",
        "**Conclusion:**\n",
        "\n",
        "The significant upward trend in interest over the past three years makes 'Climate resilience' a prime candidate for the prototype design process and for inclusion in further analysis."
      ]
    },
    {
      "cell_type": "markdown",
      "metadata": {
        "id": "hqlQ7pzS-oCb"
      },
      "source": [
        "**Trend Analysis Using Peak Detection**"
      ]
    },
    {
      "cell_type": "code",
      "execution_count": null,
      "metadata": {
        "id": "qevj7S6K-rWR"
      },
      "outputs": [],
      "source": [
        "# Calculate peaks and troughs in critical interest needs\n",
        "peaks_throughs_dict = get_peaks_and_troughs(critical_relevance_df_needs)\n",
        "peaks_throughs_dict.keys()"
      ]
    },
    {
      "cell_type": "markdown",
      "source": [
        "**Peak Detection Analysis for 'Climate resilience'**"
      ],
      "metadata": {
        "id": "pJu1fG6Y0cZC"
      }
    },
    {
      "cell_type": "code",
      "execution_count": null,
      "metadata": {
        "id": "PDW7L_Al-x94"
      },
      "outputs": [],
      "source": [
        "# Calculate average yearly peaks and troughs and show dates with highest and lowest interest\n",
        "average_peaks, average_troughs, peaks_by_interest, troughs_by_interest = (\n",
        "    analyze_peaks_and_troughs(peaks_throughs_dict['Climate resilience'])\n",
        ")"
      ]
    },
    {
      "cell_type": "code",
      "execution_count": null,
      "metadata": {
        "id": "8SoC943r-7UD"
      },
      "outputs": [],
      "source": [
        "# Calculate the highest and lowest interest value\n",
        "print(f'Highest interest: {peaks_by_interest.iloc[0][\"Interest\"]}')\n",
        "print(f'Lowest interest: {troughs_by_interest.iloc[0][\"Interest\"]}')"
      ]
    },
    {
      "cell_type": "code",
      "execution_count": null,
      "metadata": {
        "id": "cpbPhB2h_F67"
      },
      "outputs": [],
      "source": [
        "# Calculate growth rate between peaks from 2021 to 2024\n",
        "growth_rate = (average_peaks.iloc[-1] - average_peaks.iloc[0]) / average_peaks.iloc[0] * 100\n",
        "print(f'Percentage change in average peak interest: {round(growth_rate, 2)}%')"
      ]
    },
    {
      "cell_type": "markdown",
      "metadata": {
        "id": "UXD8dbl5_KGi"
      },
      "source": [
        "**Observations:**\n",
        "* The interest in 'Climate resilience' has shown a consistent upward trend over the past three years, peaking at 100 on April 21, 2024, and dipping to its lowest at 17 on December 26, 2021.\n",
        "* This trend reflects a substantial growth of approximately 147.22%, indicating that interest in 'Climate resilience' has more than doubled since 2021.\n",
        "* Despite 'Educational AI' having a higher growth rate of 550% compared to 'Climate Resilience's' 147% over the last three years, 'Climate Resilience' shows a higher baseline interest, never dropping below 17 units. This sustained interest suggests a more mature and established relevance compared to the emerging interest in 'Educational AI,' which started from 0.\n",
        "* The increasing average trough values, particularly in 2024, suggest that also the overall interest in 'Climate resilience' is rapidly growing, not just the peaks.\n",
        "\n",
        "**Conclusion:**\n",
        "\n",
        "The average yearly peak values for 'Climate resilience' have more than doubled over the past three years, demonstrating a substantial and consistent increase. This trend, along with the relatively high baseline interest, makes 'Climate resilience' a prime candidate for inclusion in prototype design and further analysis.\n"
      ]
    },
    {
      "cell_type": "markdown",
      "metadata": {
        "id": "FeZJIOzoD6zJ"
      },
      "source": [
        "**Current Interest Trend Analysis**\n",
        "* Determine the current direction of interest (increasing or decreasing).\n",
        "* Identify the date when the current trend began."
      ]
    },
    {
      "cell_type": "markdown",
      "source": [
        "**Current Interest Trend Analysis for 'Climate resilience'**"
      ],
      "metadata": {
        "id": "PzaEBXO74OU0"
      }
    },
    {
      "cell_type": "code",
      "execution_count": null,
      "metadata": {
        "id": "Rhn9Zs7BEEtD"
      },
      "outputs": [],
      "source": [
        "# Check if the current value is higher than the last trough value\n",
        "determine_current_trend(peaks_throughs_dict['Climate resilience'])"
      ]
    },
    {
      "cell_type": "markdown",
      "metadata": {
        "id": "Hy475HMSEH0Z"
      },
      "source": [
        "**Observations:**\n",
        "* Interest in 'Climate resilience' has increased by 8 units over the past two weeks, reaching a current value of 88 as of 06/23/2024.\n",
        "* Compared to other needs, 'Climate resilience' currently has the highest relevance.\n",
        "\n",
        "**Conclusion:**\n",
        "\n",
        "The recent steady increase in interest for 'Climate resilience' aligns with the upward trend observed over the last three years. This sustained growth highlights the need's growing relevance and justifies its inclusion in the prototype design process and further analysis."
      ]
    },
    {
      "cell_type": "markdown",
      "metadata": {
        "id": "PWQ9x51xFZV9"
      },
      "source": [
        "<a name='needs-visualizations'></a>\n",
        "### Visualizations: Interest Over Time For Key Needs\n",
        "* Aggregate the data over monthly intervals.\n",
        "* Use a heatmap to show patterns in interest over time."
      ]
    },
    {
      "cell_type": "markdown",
      "metadata": {
        "id": "-TDDlDw-Hqqt"
      },
      "source": [
        "<a name='visualizations-moderate-needs'></a>\n",
        "#### Visualization for Moderate Interest Needs\n",
        "* Visualize weekly interest over 3 years"
      ]
    },
    {
      "cell_type": "code",
      "execution_count": null,
      "metadata": {
        "id": "k3kz0kC4KY67"
      },
      "outputs": [],
      "source": [
        "# Show moderate interest needs data\n",
        "moderate_relevance_df.head(3)"
      ]
    },
    {
      "cell_type": "code",
      "execution_count": null,
      "metadata": {
        "id": "TeNQtS8xKp89"
      },
      "outputs": [],
      "source": [
        "# Create a heatmap to show interest over time\n",
        "create_heatmap(moderate_relevance_df, 'Moderate', category='Needs')"
      ]
    },
    {
      "cell_type": "markdown",
      "metadata": {
        "id": "3UftRgqfKuXa"
      },
      "source": [
        "**Observations:**\n",
        "  * The visualization reveals a consistent, though gradual, increase in interest in 'Sustainable food production' over the past three years. Interest has risen from low levels (0 - 20) in 2021 to moderate-high levels (30-50) in 2024.\n",
        "  * There is a noticeable seasonal pattern, with the lowest interest typically observed in the summer months (July-September) and the highest interest during the spring (February-June).\n",
        "\n",
        "**Conclusion:**\n",
        "\n",
        " The steady growth of interest in 'Sustainable food production,' coupled with its seasonal fluctuations, indicates a promising area for further analysis.  The seasonal variation could be attributed to planting and harvesting seasons, although other factors could also play a role.This need should be included in further analysis. This analysis should explore the factors driving the observed growth and seasonality in interest.\n",
        "\n",
        "\n",
        "\n"
      ]
    },
    {
      "cell_type": "markdown",
      "metadata": {
        "id": "hkpPxbdSQOYX"
      },
      "source": [
        "<a name='visualizations-high-needs'></a>\n",
        "#### Visualization for High Interest Needs"
      ]
    },
    {
      "cell_type": "code",
      "execution_count": null,
      "metadata": {
        "id": "V3DxxXiMQdab"
      },
      "outputs": [],
      "source": [
        "# Show high interest needs data\n",
        "high_relevance_df.head(3)"
      ]
    },
    {
      "cell_type": "code",
      "execution_count": null,
      "metadata": {
        "id": "fOBYN-6pQhwI"
      },
      "outputs": [],
      "source": [
        "# Create a heatmap to show interest over time\n",
        "create_heatmap(high_relevance_df, 'High', category='Needs')"
      ]
    },
    {
      "cell_type": "markdown",
      "metadata": {
        "id": "u1zNNhAPQm4R"
      },
      "source": [
        "**Observations:**\n",
        "  * The visualization reveals rapid growth in interest in 'Educational AI' from January 2023 until June 2024. Interest remained low from June 2021 until December 2022 (0 - 20) and started to grow rapidly from 20 - 100 in throughout the years 2023 and mid-2024.\n",
        "  * The data shows no noticable seasonal pattern, and the overall highest interst has been obseved in April 2024.\n",
        "  * Over the last 2 months interst levels decreased from 100 to 80, which suggests the potential for a drop in interest.\n",
        "\n",
        "**Conclusion:**\n",
        "\n",
        " The rapid and consistent growth in interest in 'Educational AI' makes this need a crucial area for further analysis. This need should be considered for inclusion in the MVP design, and additional analysis should explore the factors driving the observed rapid growth and the potential for a future decrease in interest. It could likely be caused by innovation in AI technology, but could be subject to other factors as well.\n",
        "\n",
        "\n",
        "\n"
      ]
    },
    {
      "cell_type": "markdown",
      "metadata": {
        "id": "Vo1ZfdbRTOEc"
      },
      "source": [
        "<a name='visualizations-critical-needs'></a>\n",
        "#### Visualization for Critical Interest Needs"
      ]
    },
    {
      "cell_type": "code",
      "execution_count": null,
      "metadata": {
        "id": "Wk6MApjUTUiG"
      },
      "outputs": [],
      "source": [
        "# Show critical interest needs data\n",
        "critical_relevance_df_needs.head(3)"
      ]
    },
    {
      "cell_type": "code",
      "execution_count": null,
      "metadata": {
        "id": "5WVEflLiTYW4"
      },
      "outputs": [],
      "source": [
        "# Create a heatmap to show interest over time\n",
        "create_heatmap(critical_relevance_df_needs, 'Critical', category='Needs')"
      ]
    },
    {
      "cell_type": "markdown",
      "metadata": {
        "id": "Yse06pYxTegf"
      },
      "source": [
        "**Observations:**\n",
        "  * The visualization reveals rapid growth in interest in 'Climate resilience' from June 2021, increasing from initial levels of 0-20 to critically high levels of 80-100 by October 2022, peaking in April 2024 and maintaining these levels into June 2024.\n",
        "  * The absence of seasonal patterns suggests consistent underlying drivers.\n",
        "  * Currently, interest remains critically high, with no apparent signs of decline.\n",
        "\n",
        "**Conclusion:**\n",
        "\n",
        "The persistent and rapid growth in interest for 'Climate resilience' underscores its critical importance for MVP design and further analysis. This heightened interest is likely driven by increased awareness of climate change effects and a growing desire for action. Other contributing factors may include technological advancements, government policies, and increased media coverage. Continuous monitoring using real-time data and predictive modeling can help identify the key drivers of this trend and predict future changes.\n"
      ]
    },
    {
      "cell_type": "markdown",
      "metadata": {
        "id": "-Xaf7SqOXi6X"
      },
      "source": [
        "<a name='contextual-exploration'></a>\n",
        "## Contextual Exploration of Most Relevant Keywords\n",
        "* Present most relevant keywords out of all categories (critical interest keywords)\n",
        "* Define relevant categories and sub-categories of keywords\n",
        "* Explore and interpret trending related searches"
      ]
    },
    {
      "cell_type": "markdown",
      "metadata": {
        "id": "2s4TjejU0CQU"
      },
      "source": [
        "<a name='most-relevant-keywords'></a>\n",
        "#### Summary Table: Most Relevant Keywords\n",
        "* Present and compare the most relevant keywords for features, problems and needs"
      ]
    },
    {
      "cell_type": "code",
      "execution_count": null,
      "metadata": {
        "id": "4DyohYodAQvH"
      },
      "outputs": [],
      "source": [
        "# Show critical relevance keywords for features\n",
        "features_by_interest[features_by_interest['relevance']=='Critical']"
      ]
    },
    {
      "cell_type": "code",
      "execution_count": null,
      "metadata": {
        "id": "FROe2F6hAwDf"
      },
      "outputs": [],
      "source": [
        "# Show critical relevance keywords for problems\n",
        "problems_by_relevance[problems_by_relevance['relevance']=='Critical']"
      ]
    },
    {
      "cell_type": "code",
      "execution_count": null,
      "metadata": {
        "id": "PHqbs5FQA_Ej"
      },
      "outputs": [],
      "source": [
        "# Show critical relevance keywords for needs\n",
        "needs_by_relevance[needs_by_relevance['relevance']=='Critical']"
      ]
    },
    {
      "cell_type": "code",
      "execution_count": null,
      "metadata": {
        "id": "ANkJBziBBFdY"
      },
      "outputs": [],
      "source": [
        "# Combine all critical relevance keywords into one dataframe and add the a column for the category\n",
        "critical_interest_keywords = pd.concat([\n",
        "    features_by_interest[features_by_interest['relevance'] == 'Critical'].assign(category='Feature'),\n",
        "    problems_by_relevance[problems_by_relevance['relevance'] == 'Critical'].assign(category='Problem'),\n",
        "    needs_by_relevance[needs_by_relevance['relevance'] == 'Critical'].assign(category='Need')\n",
        "])\n",
        "\n",
        "# Remove unnecessary columns and sort by weekly_average_interest\n",
        "critical_interest_keywords = (\n",
        "    critical_interest_keywords\n",
        "    .drop(columns=['interest', 'relevance'])\n",
        "    .sort_values(by='weekly_average_interest', ascending=False)\n",
        ")\n",
        "\n",
        "critical_interest_keywords"
      ]
    },
    {
      "cell_type": "markdown",
      "metadata": {
        "id": "qK_-cJM30zKu"
      },
      "source": [
        "<a name='categories'></a>\n",
        "#### Exploration of the Context of Keyword Searches\n",
        "* Get Google Search suggestions to retrieve a list of related keywords.\n",
        "* Analyze suggestions to explore user search intent.\n",
        "* Get Google Search categories for main keyword and suggestions.\n",
        "* Analyze categories to explore context of interest."
      ]
    },
    {
      "cell_type": "markdown",
      "metadata": {
        "id": "-Vs7oogaJSro"
      },
      "source": [
        "#### Evaluation of Search Suggestions"
      ]
    },
    {
      "cell_type": "code",
      "execution_count": null,
      "metadata": {
        "id": "w0ifznvJD2xy"
      },
      "outputs": [],
      "source": [
        "# Get a list of all critical relevance keywords\n",
        "critical_interest_keywords_list = critical_interest_keywords.index.tolist()\n",
        "critical_interest_keywords_list"
      ]
    },
    {
      "cell_type": "code",
      "execution_count": null,
      "metadata": {
        "id": "YFjlbOARSH5b"
      },
      "outputs": [],
      "source": [
        "# Initialize an empty dictionary to store suggestions\n",
        "suggestions_dict = {}"
      ]
    },
    {
      "cell_type": "code",
      "execution_count": null,
      "metadata": {
        "id": "F1AbbThiSQ9T"
      },
      "outputs": [],
      "source": [
        "# Get suggestions for all keywords in the list\n",
        "\n",
        "# Iterate over each keyword in the list\n",
        "for keyword in critical_interest_keywords_list:\n",
        "    suggestions = pytrends.suggestions(keyword=keyword)\n",
        "    suggestions_df = pd.DataFrame(suggestions).drop(columns=['mid'])\n",
        "    suggestions_dict[keyword] = suggestions_df\n",
        "\n",
        "# Return the dictionary of suggestions dataframes\n",
        "suggestions_dict.keys()"
      ]
    },
    {
      "cell_type": "markdown",
      "metadata": {
        "id": "lnTvVW1YxI0h"
      },
      "source": [
        "**Search Suggestions for 'Solar powered'**"
      ]
    },
    {
      "cell_type": "code",
      "execution_count": null,
      "metadata": {
        "id": "JVU5n0_WEZoB"
      },
      "outputs": [],
      "source": [
        "# Return the results for 'Solar powered'\n",
        "suggestions_dict['Solar powered']"
      ]
    },
    {
      "cell_type": "markdown",
      "metadata": {
        "id": "jGNaWrcsEmNU"
      },
      "source": [
        "**Observations:**\n",
        "* The capitalized 'Solar Powered' is a minor variation, likely used interchangeably by searchers. It confirms the term's validity and offers a slight keyword variation for later use.\n",
        "* The presence of 'Solar energy' indicates a significant interest in understanding the benefits and potential of solar technology, beyond simply using solar-powered products.\n",
        "* The variety of specific solar-powered products, including 'Solar-powered pump', 'Solar-powered fan' and 'Solar-powered Calculator', suggests a demand for diverse applications, including outdoor and computing appliances. This aligns with the concept of a solar-powered garden robot.\n",
        "* Further analysis should identify potential customer groups interested in various solar-powered applications, including gardening robots, and assess the competitive landscape of solar-powered products.\n",
        "\n",
        "**Conclusion:**\n",
        "\n",
        "Overall solar-powered is a valuable feature to include in the prototype design, as there is demand for solar-powered appliances as well as interest in solar-powered technology.\n",
        "\n",
        "\n",
        "\n",
        "\n",
        "\n"
      ]
    },
    {
      "cell_type": "code",
      "execution_count": null,
      "metadata": {
        "id": "8lvNyPAkTqV7"
      },
      "outputs": [],
      "source": [
        "# Adjust pandas display settings to show more content\n",
        "pd.set_option('display.max_colwidth', None)"
      ]
    },
    {
      "cell_type": "markdown",
      "metadata": {
        "id": "7UOHwdmYxYQ3"
      },
      "source": [
        "**Search Suggestions for 'Plant detection'**"
      ]
    },
    {
      "cell_type": "code",
      "execution_count": null,
      "metadata": {
        "id": "h4TLHvT0S8j5"
      },
      "outputs": [],
      "source": [
        "# Return the suggestions for 'Plant detection'\n",
        "suggestions_dict['Plant detection']"
      ]
    },
    {
      "cell_type": "markdown",
      "metadata": {
        "id": "jaAx2lokTNmP"
      },
      "source": [
        "**Interpretation of Results: 'Plant detection'**\n",
        "* The search suggestions for 'Plant detection' are all books, indicating a strong academic and research interest. This suggests that the feature is still in development, with few commercial products available.\n",
        "* The book titles suggest that target audience are researchers, scientists, and students in fields like botany, agriculture, or computer vision, rather than general consumers.\n",
        "* The results suggest potential collaborators in the fields of machine learning and biology, as books from both fields appear in the results. Researchers in these areas could also be potential customers for the product, as they may have an interest in testing and understanding advanced plant detection technologies.\n",
        "* These specific results, suggest a scientific niche audience for this keyword.\n",
        "* The search results for highlight the field's interdisciplinary nature, encompassing machine learning, medical applications and genetics and show a focus on plant disease detection (Balaji Aglave)\n",
        "\n",
        "Conclusion:\n",
        "* Users searching for 'Plant detection' seek research information rather than consumer products, suggesting a need to explore why there's a lack of product searches and if researchers would be interested in consumer products like a plant-detection gardening robot."
      ]
    },
    {
      "cell_type": "markdown",
      "metadata": {
        "id": "LcSOX5p-xhqs"
      },
      "source": [
        "**Search Suggestions for 'Climate resilience'**"
      ]
    },
    {
      "cell_type": "code",
      "execution_count": null,
      "metadata": {
        "id": "6Htm-LmsTPGw"
      },
      "outputs": [],
      "source": [
        "# Return suggestions for 'Climate resilience'\n",
        "suggestions_dict['Climate resilience']"
      ]
    },
    {
      "cell_type": "markdown",
      "metadata": {
        "id": "IwAYsobgEjYq"
      },
      "source": [
        "**Interpretation of Results: 'Climate resilience'**\n",
        "* The search suggestions for 'Climate resilience' highlight significant interest in both personal and community strategies to address environmental challenges.\n",
        "*  Climate resilience' is identified as a key topic by Google, indicating a significant and growing interest in this area.\n",
        "* All the suggested books focus on self-help and emotional resilience, reflecting people's interest in taking action to cope with societal and environmental challenges. This interest highlights the need for practical solutions that individuals and communities can use to enhance resilience.\n",
        "* Saket Soni, one of the suggestions, is the founder of Resilience Force, an NGO that trains disaster recovery workers to enhance resilience. A gardening robot could support their work by improving food security and sustainability in post-disaster scenarios through climate-resilient food systems.\n",
        "\n",
        "\n",
        "Conclusion:\n",
        "* The results suggest a potential market for a gardening robot capable of building climate-resilient and adaptive food systems. Such a product aligns with a broad audience’s proactive mindset by providing a practical way to enhance food security and sustainability, empowering individuals and communities to take meaningful action toward a resilient future."
      ]
    },
    {
      "cell_type": "markdown",
      "metadata": {
        "id": "SBlhEi8hxpaV"
      },
      "source": [
        "**Search Suggestions for 'Monoculture in agriculture'**"
      ]
    },
    {
      "cell_type": "code",
      "execution_count": null,
      "metadata": {
        "id": "AY-xOFk7aNWv"
      },
      "outputs": [],
      "source": [
        "# Return suggestions for 'Monoculture in agriculture'\n",
        "suggestions_dict['Monoculture in agriculture']"
      ]
    },
    {
      "cell_type": "markdown",
      "metadata": {
        "id": "FILy4g3_aWDx"
      },
      "source": [
        "**Interpretation of Results: 'Monoculture in agriculture'**\n",
        "* The suggested books and topics collectively highlight public awareness of the various problems associated with the problem of 'Monoculture in agriculture', such as its impact on diet, the environment, and disease spread.\n",
        "* All of the suggested books emphasize the need for sustainable farming practices that promote biodiversity and ecological balance. The proposed gardening-robot could solve this problem by designing and creating polyculture systems that provide nutritious food and maintain yields sustainably.\n",
        "\n",
        "Conclusion:\n",
        "\n",
        "* The recognition of the problem of monoculture in agriculture resonates with both consumers seeking healthy food and farmers looking for more resilient food systems. The suggestions highlight the widely acknowledged negative effects of monoculture on the environment and health, underscoring the need for solutions that balance sustainable food systems with farmers' ability to maintain profitability. This indicates strong interest in a gardening robot that can create polyculture systems, delivering nutritious food and yields comparable to monoculture. This robot could be of interest for both consumers and farmers."
      ]
    },
    {
      "cell_type": "markdown",
      "metadata": {
        "id": "kzOCtkUbaXJb"
      },
      "source": [
        "#### Evaluation of Categories of Interest\n",
        "\n",
        "* Determine which categories Google would place keywords in based on suggestions and the keywords themselves.\n",
        "* Search the categories dictionary recursively for occurences of strings in the suggestions or the search term itself.\n",
        "* Interpret results and define which categories are relevant for further analyis."
      ]
    },
    {
      "cell_type": "code",
      "execution_count": null,
      "metadata": {
        "id": "ZPiQYNQipMDZ"
      },
      "outputs": [],
      "source": [
        "# Get a nested dictionary of all available Google Search categories\n",
        "categories = pytrends.categories()\n",
        "categories.keys()"
      ]
    },
    {
      "cell_type": "code",
      "execution_count": null,
      "metadata": {
        "id": "kBY1eGn9q-Gu"
      },
      "outputs": [],
      "source": [
        "def find_matched_categories(suggestion_keywords_list, categories=categories, stopwords=None):\n",
        "    \"\"\"\n",
        "    Finds and returns categories from a hierarchical category structure\n",
        "    that match any word from the given list of suggestion keywords,\n",
        "    excluding common stopwords.\n",
        "\n",
        "    This function iterates through a nested dictionary of categories,\n",
        "    checking each category name (and subcategory names) to see if it\n",
        "    contains any word from the provided list. It captures the matched\n",
        "    categories along with their IDs and parent category names.\n",
        "\n",
        "    Args:\n",
        "        suggestion_keywords_list (list of str): A list of keywords to search for in category names.\n",
        "        categories (dict): A nested dictionary structure representing categories and subcategories.\n",
        "                           This should follow the format returned by pytrends.categories().\n",
        "        stopwords (set of str): A set of words to ignore during the matching process.\n",
        "\n",
        "    Returns:\n",
        "        list of dict: A list of dictionaries, each containing information about a matched category,\n",
        "                      including the category name, category ID, and a list of parent categories.\n",
        "    \"\"\"\n",
        "    matched_categories = []\n",
        "\n",
        "    # Define default stopwords if none are provided\n",
        "    if stopwords is None:\n",
        "        stopwords = {'and', 'in', 'the', 'of', 'for', 'to', 'a'}\n",
        "\n",
        "    # Create a set of individual words from all keywords, excluding stopwords\n",
        "    suggestion_words_set = set()\n",
        "    for keyword in suggestion_keywords_list:\n",
        "        words = keyword.split()  # Split keyword into words\n",
        "        filtered_words = [word.lower() for word in words if word.lower() not in stopwords]\n",
        "        suggestion_words_set.update(filtered_words)  # Add non-stopwords to the set\n",
        "\n",
        "    # Iterate over each top-level category\n",
        "    for top_category in categories.get('children', []):\n",
        "        top_category_name = top_category.get('name', '').lower()\n",
        "        top_category_id = top_category.get('id', '')\n",
        "\n",
        "        # Check if any suggestion word is in the top-level category name\n",
        "        if any(word in top_category_name for word in suggestion_words_set):\n",
        "            matched_categories.append({\n",
        "                'category_name': top_category.get('name', ''),\n",
        "                'category_id': top_category_id,\n",
        "                'parent_categories': []  # No parent categories here\n",
        "            })\n",
        "\n",
        "        # Iterate over each subcategory of the current top-level category\n",
        "        for sub_category in top_category.get('children', []):\n",
        "            sub_category_name = sub_category.get('name', '').lower()\n",
        "            sub_category_id = sub_category.get('id', '')\n",
        "\n",
        "            # Check if any suggestion word is in the subcategory name\n",
        "            if any(word in sub_category_name for word in suggestion_words_set):\n",
        "                matched_categories.append({\n",
        "                    'category_name': sub_category.get('name', ''),\n",
        "                    'category_id': sub_category_id,\n",
        "                    'parent_categories': [top_category.get('name', '')]\n",
        "                })\n",
        "\n",
        "            # Further iterate over sub-subcategories if any\n",
        "            for sub_sub_category in sub_category.get('children', []):\n",
        "                sub_sub_category_name = sub_sub_category.get('name', '').lower()\n",
        "                sub_sub_category_id = sub_sub_category.get('id', '')\n",
        "\n",
        "                # Check if any suggestion word is in the sub-subcategory name\n",
        "                if any(word in sub_sub_category_name for word in suggestion_words_set):\n",
        "                    matched_categories.append({\n",
        "                        'category_name': sub_sub_category.get('name', ''),\n",
        "                        'category_id': sub_sub_category_id,\n",
        "                        'parent_categories': [top_category.get('name', ''), sub_category.get('name', '')]\n",
        "                    })\n",
        "\n",
        "    return matched_categories"
      ]
    },
    {
      "cell_type": "markdown",
      "metadata": {
        "id": "3Ukc9aXixyOO"
      },
      "source": [
        "**Interest Categories for 'Solar powered'**"
      ]
    },
    {
      "cell_type": "code",
      "execution_count": null,
      "metadata": {
        "id": "lwVZ2G6vFHzg"
      },
      "outputs": [],
      "source": [
        "# Store suggestions for 'Solar powered' in a list\n",
        "solar_powered_suggestions = suggestions_dict['Solar powered']['title'].tolist()\n",
        "solar_powered_suggestions"
      ]
    },
    {
      "cell_type": "code",
      "execution_count": null,
      "metadata": {
        "id": "GQada_y-GNSQ"
      },
      "outputs": [],
      "source": [
        "# Keep only general terms for broader category research\n",
        "solar_powered_suggestions = solar_powered_suggestions[:2]\n",
        "solar_powered_suggestions"
      ]
    },
    {
      "cell_type": "code",
      "execution_count": null,
      "metadata": {
        "collapsed": true,
        "id": "gKHTyKR0r0EE"
      },
      "outputs": [],
      "source": [
        "# Return matched categories for 'Solar powered'\n",
        "categories_solar_powered = find_matched_categories(solar_powered_suggestions)\n",
        "categories_solar_powered = pd.DataFrame(categories_solar_powered)\n",
        "categories_solar_powered"
      ]
    },
    {
      "cell_type": "code",
      "execution_count": null,
      "metadata": {
        "id": "Rq36S0s-WoNw"
      },
      "outputs": [],
      "source": [
        "# Store relevant categories (all are relevant here)\n",
        "categories_solar_powered"
      ]
    },
    {
      "cell_type": "markdown",
      "metadata": {
        "id": "XH-BZInyEx1e"
      },
      "source": [
        "**Observations:**\n",
        "* The analysis identified three relevant categories for users interested in solar power: 'Energy & Utilities', 'Renewable & Alternative Energy' and 'Nuclear Energy'.\n",
        "* This broad category 'Energy & Utilities' shows a general interest in energy topics among those interested in solar power.\n",
        "* 'Nuclear Energy' suggests users are interested in comparing solar power to other energy sources, potentially influencing their decision-making when investing in solar-powered technology.\n",
        "*  'Renewable & Alternative Energy' directly aligns with solar power as a renewable energy source, indicating a strong interest in this broader field.\n",
        "* All categories are relevant for analyzing the broader interests of people interested in 'Solar powered'.\n",
        "\n",
        "**Conclusion:**\n",
        "\n",
        "The diverse areas of interest associated with solar power, spanning from the general 'Energy & Utilities' to the specific 'Renewable & Alternative Energy' and comparative 'Nuclear Energy,' indicate a diverse audience with wide-ranging motivations. This suggests potential customers for solar-powered products may have varying priorities, like general energy concerns, researching specific appliances or interest in renewable energy sources compared to alternatives."
      ]
    },
    {
      "cell_type": "markdown",
      "metadata": {
        "id": "8W8OW5tAx-8E"
      },
      "source": [
        "**Interest Categories for 'Plant detection'**"
      ]
    },
    {
      "cell_type": "code",
      "execution_count": null,
      "metadata": {
        "id": "iUhtiy4ntST1"
      },
      "outputs": [],
      "source": [
        "# Return matches for 'Plant detection'\n",
        "plant_detection_suggestions = suggestions_dict['Plant detection']['title'].tolist()\n",
        "plant_detection_suggestions"
      ]
    },
    {
      "cell_type": "code",
      "execution_count": null,
      "metadata": {
        "id": "bBlU28FT5fQe"
      },
      "outputs": [],
      "source": [
        "# Remove the first keyword because it refers to another meaning of 'plant'\n",
        "plant_detection_suggestions.pop(0)\n",
        "plant_detection_suggestions"
      ]
    },
    {
      "cell_type": "code",
      "execution_count": null,
      "metadata": {
        "id": "a6FQRjyP75Fw"
      },
      "outputs": [],
      "source": [
        "# Extract 'Machine Learning' as it is the only relevant part for plant detection\n",
        "plant_detection_suggestions[0] = ' '.join(plant_detection_suggestions[0].split()[:2])\n",
        "plant_detection_suggestions"
      ]
    },
    {
      "cell_type": "code",
      "execution_count": null,
      "metadata": {
        "id": "EnR9v5zRtjWe"
      },
      "outputs": [],
      "source": [
        "# Return matching categories for 'Plant detection'\n",
        "categories_plant_detection = find_matched_categories(plant_detection_suggestions)\n",
        "categories_plant_detection = pd.DataFrame(categories_plant_detection)\n",
        "categories_plant_detection"
      ]
    },
    {
      "cell_type": "code",
      "execution_count": null,
      "metadata": {
        "id": "4bv8q8fGsgz-"
      },
      "outputs": [],
      "source": [
        "# Store relevant categories\n",
        "categories_plant_detection = categories_plant_detection[categories_plant_detection['category_name'].isin(['Biological Sciences', 'Genetics', 'Machine Learning & Artificial Intelligence' ])]\n",
        "categories_plant_detection"
      ]
    },
    {
      "cell_type": "markdown",
      "metadata": {
        "id": "zyuYGQJeJxLO"
      },
      "source": [
        "**Interpretation of Results: 'Plant detection'**\n",
        "\n",
        "* The analysis identified 8 categories for 'Plant detection', of which only 'Biological Sciences', 'Machine Learning & Artifical Intelligence' and 'Genetics' are relevant, as they directly align with the core research areas involved in plant detection.\n",
        "* 'Biological Sciences' encompasses the study of plants, their structures, and their interactions with the environment, knowledge essential for creating accurate and effective plant detection algorithms.\n",
        "* 'Machine Learning & Artifical Intelligence' are essential for developing plant detection algorithms, particularly the sub-field of computer vision.\n",
        "* 'Genetics' is crucial for identifying and classifying plant species, as well as detecting genetic variations or diseases.\n",
        "* 'Biological Sciences', 'Machine Learning & Artifical Intelligence' and 'Genetics' are relevant for analyzing the broader interests of people interested in 'Plant detection'.\n"
      ]
    },
    {
      "cell_type": "markdown",
      "metadata": {
        "id": "mk4jIhDZyHh2"
      },
      "source": [
        "**Interest Categories for 'Climate resilience'**"
      ]
    },
    {
      "cell_type": "code",
      "execution_count": null,
      "metadata": {
        "id": "rmI5nc2XsB8Y"
      },
      "outputs": [],
      "source": [
        "# Show suggestions for 'Climate resilience'\n",
        "climate_resilience_suggestions = suggestions_dict['Climate resilience']['title'].tolist()\n",
        "climate_resilience_suggestions"
      ]
    },
    {
      "cell_type": "code",
      "execution_count": null,
      "metadata": {
        "id": "490Qf1MbqaIG"
      },
      "outputs": [],
      "source": [
        "# Remove irrelevant book titles (novel/self-help titles) and author name\n",
        "climate_resilience_suggestions = ['Climate resilience']\n",
        "climate_resilience_suggestions"
      ]
    },
    {
      "cell_type": "code",
      "execution_count": null,
      "metadata": {
        "id": "SjYXoQ2UiqSY"
      },
      "outputs": [],
      "source": [
        "# Return matching categories for 'Climate resilience'\n",
        "categories_climate_resilience = find_matched_categories(climate_resilience_suggestions)\n",
        "categories_climate_resilience = pd.DataFrame(categories_climate_resilience)\n",
        "categories_climate_resilience"
      ]
    },
    {
      "cell_type": "code",
      "execution_count": null,
      "metadata": {
        "id": "L3ze0onptBo9"
      },
      "outputs": [],
      "source": [
        "# Store relevant categories\n",
        "categories_climate_resilience = categories_climate_resilience[categories_climate_resilience['category_name'].isin(['Climate Change & Global Warming'])]\n",
        "categories_climate_resilience"
      ]
    },
    {
      "cell_type": "markdown",
      "metadata": {
        "id": "8WfKt1E7Jl0Y"
      },
      "source": [
        "**Interpretation of Results: 'Climate resilience'**\n",
        "* The analysis identified 3 categories for 'Climate resilience', of which only 'Climate Change & Global Warming' is relevant.\n",
        "* This category is the most relevant as climate resilience is a strategy for mitigating the impacts of climate change and global warming.\n",
        "* 'Climate Change & Global Warming' is relevant for analyzing the broader interests of people interested in 'Climate resilience'.\n",
        "\n"
      ]
    },
    {
      "cell_type": "markdown",
      "metadata": {
        "id": "6g67ovd4yPmb"
      },
      "source": [
        "**Interest Categories for 'Monoculture in agriculture'**"
      ]
    },
    {
      "cell_type": "code",
      "execution_count": null,
      "metadata": {
        "id": "O66QNdUhBHhk"
      },
      "outputs": [],
      "source": [
        "# Show suggestions for 'Monoculture in agriculture'\n",
        "monoculture_in_agriculture_suggestions = suggestions_dict['Monoculture in agriculture']['title'].tolist()\n",
        "monoculture_in_agriculture_suggestions"
      ]
    },
    {
      "cell_type": "code",
      "execution_count": null,
      "metadata": {
        "id": "KLUlW9IpBcLQ"
      },
      "outputs": [],
      "source": [
        "# Remove everything but 'Future of Food' from the first book title, title has no direct relevance\n",
        "monoculture_in_agriculture_suggestions[0] = ' '.join(monoculture_in_agriculture_suggestions[0].split()[6:9])\n",
        "monoculture_in_agriculture_suggestions"
      ]
    },
    {
      "cell_type": "code",
      "execution_count": null,
      "metadata": {
        "id": "onSl3wxeC2Ai"
      },
      "outputs": [],
      "source": [
        "# Remove names of specific crops from the booktitles, just one example of many crops\n",
        "monoculture_in_agriculture_suggestions[2] = monoculture_in_agriculture_suggestions[2].replace('Delicata Squash', ' ')\n",
        "monoculture_in_agriculture_suggestions"
      ]
    },
    {
      "cell_type": "code",
      "execution_count": null,
      "metadata": {
        "id": "2krIgSxsDraR"
      },
      "outputs": [],
      "source": [
        "# Remove 'Purslane: Guide and Overview', same as other booktitle with different crop\n",
        "monoculture_in_agriculture_suggestions.pop(3)\n",
        "monoculture_in_agriculture_suggestions\n",
        "\n",
        "# Remove the last item, refers to a specific crop, not relevant for categorization\n",
        "monoculture_in_agriculture_suggestions.pop(-1)\n",
        "monoculture_in_agriculture_suggestions"
      ]
    },
    {
      "cell_type": "code",
      "execution_count": null,
      "metadata": {
        "id": "wp4L3dtUCaHr"
      },
      "outputs": [],
      "source": [
        "# Return matching categories for 'Monoculture in agriculture'\n",
        "categories_monoculture_in_agriculture = find_matched_categories(monoculture_in_agriculture_suggestions, stopwords={'on', 'and', 'the', 'of', 'make', 'big'})\n",
        "categories_monoculture_in_agriculture = pd.DataFrame(categories_monoculture_in_agriculture)\n",
        "categories_monoculture_in_agriculture"
      ]
    },
    {
      "cell_type": "code",
      "execution_count": null,
      "metadata": {
        "id": "JF7xLBCWtPJf"
      },
      "outputs": [],
      "source": [
        "# Store relevant categories\n",
        "categories_monoculture_in_agriculture = categories_monoculture_in_agriculture[categories_monoculture_in_agriculture['category_name'].isin(['Food & Drink', 'Food Production', 'Biological Sciences'])]\n",
        "categories_monoculture_in_agriculture"
      ]
    },
    {
      "cell_type": "markdown",
      "metadata": {
        "id": "C3vjGH-hEkEk"
      },
      "source": [
        "\n",
        "**Interpretation of Results: 'Monoculture in agriculture'**\n",
        "* The analysis identified 25 categories for 'Monoculture in agriculture', of 'Food production', 'Food & Drink' and 'Biological Sciences' have the most relevance.\n",
        "* While multiple scientific disciplines relate to monoculture, 'Biological Sciences' was chosen for this analysis as it is the most relevant for prototype development, dealing with the core aspect of plant interactions with their environment and how to use that knowledge to find alternatives to monoculture in agriculture.\n",
        "* 'Food production' is directly relevant as monoculture is a dominant practice in industrial agriculture. People interested in alternatives are likely exploring different production methods.\n",
        "* 'Food & Drink' captures interests in sustainable, organic, or local food, which often intersect with concerns about monoculture's impact on food systems.\n",
        "* 'Food production', 'Food & Drink' and 'Biological Sciences' are relevant for analyzing the broader interests of people interested in 'Monoculture in agriculture'.\n",
        "\n"
      ]
    },
    {
      "cell_type": "markdown",
      "metadata": {
        "id": "Y51NML6duLk_"
      },
      "source": [
        "<a name='presentation-of-results'></a>\n",
        "## Presentation of Results & Insights\n",
        "* Summarize the key findings and insights gathered from the analysis of keyword performance, interest trends, and the contextual exploration of user interests.\n",
        "* Show best performing keywords based on interest over time.\n",
        "* Show interest trends and patterns for most relevant keywords.\n",
        "* Explore target audience interest through keyword context analysis.\n",
        "* Visualize insights on keyword performance, trends and context.\n"
      ]
    },
    {
      "cell_type": "markdown",
      "metadata": {
        "id": "GGO618hnimPr"
      },
      "source": [
        "<a name='keyword-performance'></a>\n",
        "### Keyword Performance Results\n",
        "* Show insights on keywords with no relevance.\n",
        "* Show best performing keywords out of all categories (features, problems and needs).\n",
        "* Interpret the results."
      ]
    },
    {
      "cell_type": "markdown",
      "metadata": {
        "id": "sA1LoNmsoa6Q"
      },
      "source": [
        "#### Insights on Keyword with No Interest\n",
        "* The choice of keywords is too complex or too niche.\n",
        "* The number of words in a keyword negatively affect its effectiveness.\n",
        "* The observations are true for keywords in the *features, problems* and *needs* groups.\n",
        "\n",
        "* *Recommended Next Steps*\n",
        "  1. Reduce word count in keywords to no more than 3\n",
        "  2. Use `pytrends.suggestions` on the full keyword list to refine keyword phrasing and expand reach to reflect desired context.\n",
        "* Full analysis at:\n",
        "[Brief Evaluation of Keywords with No Relevance](#data-no-interest)"
      ]
    },
    {
      "cell_type": "code",
      "execution_count": null,
      "metadata": {
        "id": "ekNeWUSwCEaQ"
      },
      "outputs": [],
      "source": [
        "# Show keywords in the features group that received no interest\n",
        "zero_relevance_features.head(3)"
      ]
    },
    {
      "cell_type": "code",
      "execution_count": null,
      "metadata": {
        "id": "gWSh2jpsCaw9"
      },
      "outputs": [],
      "source": [
        "# Show highest performing keywords in the features group\n",
        "round(features_by_interest['weekly_average_interest'].head(3)).astype(int)"
      ]
    },
    {
      "cell_type": "code",
      "execution_count": null,
      "metadata": {
        "id": "rrrGEUs5EvcA"
      },
      "outputs": [],
      "source": [
        "# Show keywords that received no interest in the needs group\n",
        "zero_relevance_needs.head(3)"
      ]
    },
    {
      "cell_type": "code",
      "execution_count": null,
      "metadata": {
        "id": "nyZidk8DFgKb"
      },
      "outputs": [],
      "source": [
        "# Show highest interest keywords in the needs group\n",
        "round(needs_by_relevance['weekly_average_interest'].head(3)).astype(int)"
      ]
    },
    {
      "cell_type": "code",
      "execution_count": null,
      "metadata": {
        "id": "vX8gwSghFwEx"
      },
      "outputs": [],
      "source": [
        "# Show keywords that received no interest in the problems group\n",
        "zero_relevance_problems.head(3)"
      ]
    },
    {
      "cell_type": "code",
      "execution_count": null,
      "metadata": {
        "id": "pZpvH7PzF83v"
      },
      "outputs": [],
      "source": [
        "# Show highest interest keywords in the problems group\n",
        "round(problems_by_relevance['weekly_average_interest'].head(3)).astype(int)"
      ]
    },
    {
      "cell_type": "markdown",
      "metadata": {
        "id": "QsOOSWwuGCLc"
      },
      "source": [
        "#### Best Performing Keywords\n",
        "**Insigths:**\n",
        "\n",
        "* The majority of keywords in all groups (80% and above) received low interest.\n",
        "* The keywords with absolute highest interest were found in the *features* group. It includes keywords of 'Moderate', 'High' and 'Critical' interest.\n",
        "* The *problems* group is the group with lowest absolute interest, where the highest interest value is almost 4 times (390%) smaller than the highest interest value in the *features* group. It includes only one 'Critical' relevance keyword, as all other keywords in the group have a relevance of less than 10% of this keyword.\n",
        "* The *needs* group shows the median absolute interest values, it includes keywords in all categories ('Moderate', 'High' and 'Critical').\n",
        "* Moderate Interest Keywords (2 total)\n",
        "  1. The need 'Sustainable food production'.\n",
        "  2. The feature 'Food system health'.\n",
        "* High Interest Keywords (4 total)\n",
        "  1. The feature 'Educational value'\n",
        "  2. The feature 'Plant identification'\n",
        "  3. The feature 'Remote access and control'\n",
        "  4. The need 'Educational AI'\n",
        "* Critical Interest Keywords (4 total)\n",
        "  1. The feature 'Solar powered'\n",
        "  2. The feature 'Plant detection'\n",
        "  3. The need 'Climate resilience'\n",
        "  4. The problem 'Monocultulture in agriculture'\n",
        "\n",
        "**Recommended next steps:**\n",
        "  1. Focus further analysis only on keywords in the 'Moderate', 'High' or 'Critical' interest categories.\n",
        "  3. Prioritize keywords by these categories in further analysis steps.\n",
        "  2. Revise the initial keyword list for the *problems* group and find keywords with the potential to yield higher absolute interest values.\n",
        "\n",
        "**Links to Detailed Analysis:**\n",
        "\n",
        "* Analysis for *features* group: [Determine Features with Highest Relevance](#most-relevant-features)\n",
        "* Analysis for *problems* group: [Definition of Most Relevant Problems](#most-relevant-problems)\n",
        "* Analysis for *needs* group: [Definition of Most Relevant Needs](#most-relevant-needs)\n",
        "\n",
        "*Note:*\n",
        "\n",
        "Interest categories are determined relative to highest interst in every group, therefore 'Critical' interest in the *problems* group is equivalent to 'Modest' interest in the *features* group."
      ]
    },
    {
      "cell_type": "markdown",
      "metadata": {
        "id": "tCEf3M5xGXLC"
      },
      "source": [
        "**Percentage of Keywords with 'Low' Interest**"
      ]
    },
    {
      "cell_type": "code",
      "execution_count": null,
      "metadata": {
        "id": "OVOLsiszMWIv"
      },
      "outputs": [],
      "source": [
        "# Calculate percentage of low interest needs\n",
        "low_relevance_needs = round((needs_by_relevance['relevance'] == 'Low').mean() * 100)\n",
        "print(f'Percentage of low relevance needs: {low_relevance_needs}%')\n",
        "print(\"-\" * 40)\n",
        "\n",
        "# Calculate percentage of low interest features\n",
        "low_relevance_features = round((features_by_interest['relevance'] == 'Low').mean() * 100)\n",
        "print(f'Percentage of low relevance features: {low_relevance_features}%')\n",
        "print(\"-\" * 40)\n",
        "\n",
        "# Calculate percentage of low interest problems\n",
        "low_relevance_problems = round((problems_by_relevance['relevance'] == 'Low').mean() * 100)\n",
        "print(f'Percentage of low relevance problems: {low_relevance_problems}%')\n"
      ]
    },
    {
      "cell_type": "markdown",
      "metadata": {
        "id": "wtCyhtWjM1tH"
      },
      "source": [
        "**'Moderate' Interest Keywords**"
      ]
    },
    {
      "cell_type": "code",
      "execution_count": null,
      "metadata": {
        "id": "DJVyCsCSPK-V"
      },
      "outputs": [],
      "source": [
        "# Combine all 'Moderate' relevance keywords into one dataframe and add the a column for the category\n",
        "moderate_interest_keywords = pd.concat([\n",
        "    features_by_interest[features_by_interest['relevance'] == 'Moderate'].assign(category='Feature'),\n",
        "    problems_by_relevance[problems_by_relevance['relevance'] == 'Moderate'].assign(category='Problem'),\n",
        "    needs_by_relevance[needs_by_relevance['relevance'] == 'Moderate'].assign(category='Need')\n",
        "])\n",
        "\n",
        "# Remove unnecessary columns and sort by weekly_average_interest\n",
        "moderate_interest_keywords = (\n",
        "    moderate_interest_keywords\n",
        "    .drop(columns=['interest', 'relevance'])\n",
        "    .sort_values(by='weekly_average_interest', ascending=False)\n",
        ")\n",
        "\n",
        "# Show the resulting dataframe\n",
        "moderate_interest_keywords"
      ]
    },
    {
      "cell_type": "markdown",
      "metadata": {
        "id": "Nb5UNii2PULs"
      },
      "source": [
        "**'High' Interest Keywords**"
      ]
    },
    {
      "cell_type": "code",
      "execution_count": null,
      "metadata": {
        "id": "Q2Wr_UbyRzf2"
      },
      "outputs": [],
      "source": [
        "# Combine all 'High' relevance keywords into one dataframe and add the a column for the category\n",
        "high_interest_keywords = pd.concat([\n",
        "    features_by_interest[features_by_interest['relevance'] == 'High'].assign(category='Feature'),\n",
        "    problems_by_relevance[problems_by_relevance['relevance'] == 'High'].assign(category='Problem'),\n",
        "    needs_by_relevance[needs_by_relevance['relevance'] == 'High'].assign(category='Need')\n",
        "])\n",
        "\n",
        "# Remove unnecessary columns and sort by weekly_average_interest\n",
        "high_interest_keywords = (\n",
        "    high_interest_keywords\n",
        "    .drop(columns=['interest', 'relevance'])\n",
        "    .sort_values(by='weekly_average_interest', ascending=False)\n",
        ")\n",
        "\n",
        "# Show the resulting dataframe\n",
        "high_interest_keywords"
      ]
    },
    {
      "cell_type": "markdown",
      "metadata": {
        "id": "lp0tmqEVR-wZ"
      },
      "source": [
        "**'Critical' Interest Keywords**\n"
      ]
    },
    {
      "cell_type": "code",
      "execution_count": null,
      "metadata": {
        "id": "NcaOxrl8TlPZ"
      },
      "outputs": [],
      "source": [
        "critical_interest_keywords"
      ]
    },
    {
      "cell_type": "markdown",
      "metadata": {
        "id": "AgmvJesvTnQi"
      },
      "source": [
        "**Visualization: Interest per Relevance Category**\n",
        "* Visualize interest per category for all groups to compare absolute interest."
      ]
    },
    {
      "cell_type": "code",
      "source": [
        "# Reset index for moderate interest dataframe\n",
        "moderate_interest_keywords_copy = moderate_interest_keywords.copy()\n",
        "moderate_interest_keywords_reset = moderate_interest_keywords_copy.reset_index()\n",
        "\n",
        "# Reset index for high interest dataframe\n",
        "high_interest_keywords_copy = high_interest_keywords.copy()\n",
        "high_interest_keywords_reset = high_interest_keywords_copy.reset_index()\n",
        "\n",
        "# Reset index for critical interest dataframe\n",
        "critical_interest_keywords_copy = critical_interest_keywords.copy()\n",
        "critical_interest_keywords_reset = critical_interest_keywords_copy.reset_index()"
      ],
      "metadata": {
        "id": "j-oFm-6OouoA"
      },
      "execution_count": null,
      "outputs": []
    },
    {
      "cell_type": "code",
      "source": [
        "# Access the Set2 palette\n",
        "set2_colors = sns.color_palette(\"Set2\")\n",
        "\n",
        "# Define a custom color palette using Set2 colors\n",
        "color_palette = {\n",
        "    'Feature': set2_colors[0],  # orange\n",
        "    'Problem': set2_colors[1],   # blue\n",
        "    'Need': set2_colors[2]    # green\n",
        "}\n",
        "\n",
        "# Create subplots\n",
        "fig, axes = plt.subplots(1, 3, figsize=(10, 4), dpi=200, sharey=True)  # 1 row, 3 columns\n",
        "\n",
        "# Moderate Interest Keywords Plot\n",
        "sns.barplot(\n",
        "    data=moderate_interest_keywords_reset,\n",
        "    x='index',\n",
        "    y='weekly_average_interest',\n",
        "    hue='category',\n",
        "    palette=color_palette,\n",
        "    ax=axes[0]  # Specify the first subplot\n",
        ")\n",
        "axes[0].set_xlabel('Keyword', fontsize=8)\n",
        "axes[0].set_ylabel('Weekly Average Interest', fontsize=8)\n",
        "axes[0].set_title('Moderate Interest Keywords', fontsize=9)\n",
        "axes[0].tick_params(axis='x', labelsize=8, rotation=45)\n",
        "axes[0].legend(title='Category', prop={'size': 8}, title_fontsize=9)\n",
        "axes[0].set_ylim(0, 100)  # Set y-axis limits to ensure a tick at 100\n",
        "\n",
        "# High Interest Keywords Plot\n",
        "sns.barplot(\n",
        "    data=high_interest_keywords_reset,\n",
        "    x='index',\n",
        "    y='weekly_average_interest',\n",
        "    hue='category',\n",
        "    palette=color_palette,\n",
        "    ax=axes[1]  # Specify the second subplot\n",
        ")\n",
        "axes[1].set_xlabel('Keyword', fontsize=8)\n",
        "axes[1].set_ylabel('Weekly Average Interest', fontsize=8)\n",
        "axes[1].set_title('High Interest Keywords', fontsize=9)\n",
        "axes[1].tick_params(axis='x', labelsize=8, rotation=45)\n",
        "axes[1].legend(title='Category', prop={'size': 8}, title_fontsize=9)\n",
        "axes[1].set_ylim(0, 100)  # Set y-axis limits to ensure a tick at 100\n",
        "\n",
        "# Critical Interest Keywords Plot\n",
        "sns.barplot(data=critical_interest_keywords_reset,\n",
        "            x='index',\n",
        "            y='weekly_average_interest',\n",
        "            hue='category',\n",
        "            palette=color_palette,\n",
        "            ax=axes[2]  # Specify the third subplot\n",
        "            )\n",
        "axes[2].set_xlabel('Keyword', fontsize=8)\n",
        "axes[2].set_ylabel('Weekly Average Interest', fontsize=8)\n",
        "axes[2].set_title('Critical Interest Keywords', fontsize=9)\n",
        "axes[2].tick_params(axis='x', labelsize=8, rotation=45)\n",
        "axes[2].legend(title='Category', prop={'size': 8}, title_fontsize=9)\n",
        "axes[2].set_ylim(0, 100)  # Set y-axis limits to ensure a tick at 100\n",
        "\n",
        "# Remove individual legends\n",
        "for ax in axes:\n",
        "    ax.get_legend().remove()\n",
        "\n",
        "# Collect all handles and labels for the legend\n",
        "handles, labels = [], []\n",
        "for ax in axes:\n",
        "    for handle, label in zip(*ax.get_legend_handles_labels()):\n",
        "        if label not in labels:\n",
        "            handles.append(handle)\n",
        "            labels.append(label)\n",
        "\n",
        "# Create a single legend for the entire figure\n",
        "fig.legend(handles, labels, loc='upper center', fontsize=8, title='Category', title_fontsize=9, ncol=3)\n",
        "\n",
        "plt.tight_layout(rect=[0, 0, 1, 0.9])\n",
        "plt.subplots_adjust(top=0.75, wspace=0.4)\n",
        "\n",
        "plt.show()"
      ],
      "metadata": {
        "id": "qV9lLsVppf5I"
      },
      "execution_count": null,
      "outputs": []
    },
    {
      "cell_type": "markdown",
      "source": [
        "**Observation:**\n",
        "* For the 'Moderate' interest keywords the absolute average interest is between approximately 15 and 25. Absolute interest in the keywords in the *needs* group is slightly higher than in the *feature* keyword.\n",
        "* For the 'High' interest keywords the absolute average weekly interest is between approximately 25 and 60. All *features* keywords received significantly more interest than the *needs* keyword in this category.\n",
        "* For the 'Critical' interest features absolute average weekly interest is in a wide range between 25 and 80. This is due to the *problem* with the highest interest having significantly less interest than the keywords in the other groups. The problem remains in this category due to the need to include at least one keyword out of every group for further analysis."
      ],
      "metadata": {
        "id": "BUrsI061qJjW"
      }
    },
    {
      "cell_type": "markdown",
      "source": [
        "<a name='interest-trends'></a>\n",
        "### Interest Trend Analysis Results\n",
        "* Show trends in interest in high performing keywords in the groups *features*, *problems* and *needs*.\n",
        "* Compare trend analysis results of the three groups."
      ],
      "metadata": {
        "id": "Epy-HhuU0aaP"
      }
    },
    {
      "cell_type": "code",
      "source": [
        "# Visualize all feature trends in one plot\n",
        "def create_heatmaps(dfs, interest_levels, categories):\n",
        "    \"\"\"\n",
        "    This function takes multiple DataFrames, resamples the data to a monthly frequency,\n",
        "    transposes them, and creates a heatmap for each in a subplot.\n",
        "\n",
        "    Parameters:\n",
        "    dfs (list of pd.DataFrame): A list of input DataFrames with a date index and keyword columns.\n",
        "    interest_levels (list of str): A list of interest level descriptions for the heatmap titles.\n",
        "    categories (list of str): A list of categories for the interest levels ('Features', 'Problems', 'Needs').\n",
        "\n",
        "    Returns:\n",
        "    None\n",
        "    \"\"\"\n",
        "    # Check that all input lists have the same length\n",
        "    if not (len(dfs) == len(interest_levels) == len(categories)):\n",
        "        raise ValueError(\"All input lists must have the same length.\")\n",
        "\n",
        "    num_plots = len(dfs)  # Determine the number of plots needed\n",
        "\n",
        "    # Create subplots with one row per DataFrame\n",
        "    fig, axes = plt.subplots(num_plots, 1, figsize=(8, 1.5 * num_plots), dpi=150)  # Dynamic height based on number of plots\n",
        "\n",
        "    # If there's only one plot, ensure axes is iterable\n",
        "    if num_plots == 1:\n",
        "        axes = [axes]\n",
        "\n",
        "    for i in range(num_plots):\n",
        "        df = dfs[i]\n",
        "        interest_level = interest_levels[i]\n",
        "        category = categories[i]\n",
        "\n",
        "        # Ensure the date column is set as index\n",
        "        if not isinstance(df.index, pd.DatetimeIndex):\n",
        "            raise ValueError(f\"The DataFrame at index {i} does not have a DatetimeIndex.\")\n",
        "\n",
        "        # Resample the data to a monthly frequency and take the mean\n",
        "        df_monthly = df.resample('M').mean()\n",
        "\n",
        "        # Transpose the DataFrame for heatmap\n",
        "        df_transposed = df_monthly.T\n",
        "\n",
        "        # Change the column labels to display month and year\n",
        "        df_transposed.columns = df_transposed.columns.strftime('%b %Y')\n",
        "\n",
        "        # Create the heatmap in the corresponding subplot\n",
        "        sns.heatmap(df_transposed, cmap='viridis', cbar=True, vmin=1, vmax=100, ax=axes[i])\n",
        "        axes[i].set_title(f'Interest in \"{interest_level}\" Interest {category} Over Time', fontsize=10)\n",
        "        axes[i].set_xlabel('Date', fontsize=9)\n",
        "        axes[i].set_ylabel('Keyword', labelpad=10, fontsize=9)\n",
        "        axes[i].set_xticklabels(axes[i].get_xticklabels(), rotation=90, ha='right', fontsize=7)\n",
        "        axes[i].set_yticklabels(axes[i].get_yticklabels(), fontsize=8)\n",
        "\n",
        "\n",
        "    # Use subplots_adjust instead of tight_layout\n",
        "    plt.subplots_adjust(left=0.05, right=0.9, top=1.9, bottom=0, hspace=0.55)  # Increase spacing between plots\n",
        "\n",
        "    plt.show()\n"
      ],
      "metadata": {
        "id": "5g7RhxKG7Dr2"
      },
      "execution_count": null,
      "outputs": []
    },
    {
      "cell_type": "markdown",
      "source": [
        "#### Interest Trend Analysis Results for Features\n",
        "* Visualize and summarize results found in trend analysis for features."
      ],
      "metadata": {
        "id": "TNe23LOlzQt_"
      }
    },
    {
      "cell_type": "markdown",
      "source": [
        "**Visualization of Trends in all Features Keywords**"
      ],
      "metadata": {
        "id": "R4lWJlnbzr5u"
      }
    },
    {
      "cell_type": "code",
      "source": [
        "create_heatmaps([moderate_interest_df, high_interest_df, critical_interest_df], ['Moderate', 'High', 'Critical'], ['Features', 'Features', 'Features'])"
      ],
      "metadata": {
        "id": "RzHphXNX7-zU"
      },
      "execution_count": null,
      "outputs": []
    },
    {
      "cell_type": "markdown",
      "source": [
        "**Summary of Trend Analysis Insights for all *Features* Keywords**"
      ],
      "metadata": {
        "id": "TPca5Llxz4oA"
      }
    },
    {
      "cell_type": "markdown",
      "source": [
        "**Insigths:**\n",
        "1. **Insights for 'Food system health':**\n",
        "    * This is the only features in the group with 'moderate' interest\n",
        "    * Interest is currently low but has been steadily increasing at a low rate of 1.74 units per year.\n",
        "    * Interest has remained relatively stable over the last three years, with minimal fluctuation between peak and trough values.\n",
        "    * A seasonal pattern is evident, with interest typically increasing throughout the year and dropping in the summer months.\n",
        "    * Interest as of June 23, 2024, interest is at a low point of 11 units.\n",
        "2. **Insights for 'Educational value'**:\n",
        "    * This proposed feature is classified as a 'high' interest feature.\n",
        "    * While the interest level is generally high, it does exhibit moderate variability with a standard deviation of 16.\n",
        "    * This feature consistently receives high interest, with a mean interest of 56 over the past three years and a lowest interest value of 22.\n",
        "    * Interest has been increasing at a moderate yearly rate of 3.38, although there was a notable dip in 2023.\n",
        "    * Both the highest and lowest points of interest show an overall upward trend, indicating growing interest in this feature despite the fluctuations.\n",
        "3. **Insights for 'Remote access and control'**:\n",
        "    * This proposed feature is classified as a 'high' interest feature.\n",
        "    * Interest in 'Remote access and control'  has been rapidly increasing at a rate of 19.36 over the last 3 years.\n",
        "    * This feature demonstrates a stable baseline of interest, as it has not fallen below 33 units since 2022.\n",
        "    * Currently, this feature has the highest level of interest (58) among all high-interest features and continues to grow.\n",
        "4. **Insights for 'Plant identification'**:\n",
        "    * This proposed feature is classified as a 'high' interest feature.\n",
        "    * It demonstrates the most stable baseline interest among all features in this category, with a minimum interest level of 26 over the past three years.\n",
        "    * While interest in 'Plant identification' has declined slightly at a rate of 4.6 units per year, the variation between peak and trough values remains low, suggesting overall stability.\n",
        "    * Current interest in this feature (53) is comparable to other high-interest features, indicating relevance despite the decline.\n",
        "5. **Insights for 'Plant detection':**\n",
        "  * This proposed feature is classified as a 'critical' interest feature.\n",
        "  * Over the past three years, interest in this feature has remained consistently high, with a lowest value of 23 and an average of 64.\n",
        "  * Interest in 'Plant detection' has been increasing rapidly at a yearly rate of 12.38 units, with peak values growing by approximately 85% over the last three years.\n",
        "  * Both peak and trough values have shown growth, indicating stable and consistent interest over time.\n",
        "  * Currently, interest in this feature is high at 63 and continues to increase.\n",
        "6. **Insights for 'Solar powered':**\n",
        "  * This feature is classified as 'critical' interst feature.\n",
        "  * 'Solar powered' recieved the highest overall interest among all features, with an average of 75 units.\n",
        "  * Despite slight fluctuations, interest in this feature has remained relatively stable, with the lowest value over the past three years being 51 and a standard deviation of 12 units.\n",
        "  * Although experiencing a slight decline of 2.54 units per year, 'Solar powered' still maintains the highest overall interest among all features, demonstrating its continued relevance.\n",
        "  * As of June 23, 2024, interest in this feature is at a very high value of 89 and has been increasing for the past two weeks.\n",
        "\n",
        "**Recommended next steps:**\n",
        "  1. **Customer Segmentation Analysis:**\n",
        "    * Focus on keywords with 'critical' or 'high' interest and prioritize keywords with rapidly rising interest and consistent interest. These are:\n",
        "      * Educational value: Increasing and continuously high interest with moderate variability.\n",
        "      * Remote access and control: Rapidly growing and stable baseline interest.\n",
        "      * Plant identification: Stable, slighly declining interest.\n",
        "      * Plant detection: Rapidly increasing, stable interest.\n",
        "      * Solar powered: Highest overall interest and stable.\n",
        "  2. **Prototype Development:**\n",
        "    * It is too early to definitively decide which feature to include in the prototype design. However, some features that demonstrated particularly promising results in the trend analysis can be prioritized for consideration. These include:\n",
        "      * Remote access and control: Rapidly growing and stable baseline interest.\n",
        "      * Plant detection: Rapidly growing and increasing interst and current high interest.\n",
        "      * Solar  powered: Highest overall interst, very high interst.\n",
        "  3. **Further Evaluation:**\n",
        "    * Keywords that received moderate interest but show a pattern of rising interest, should be further evaluated, to make a decision whether they should be considered for further analysis and prototype development. Keywords that require further contextual evaluation are:\n",
        "      * 'Food system health': Evaluate if a further increase in interest is likely.\n",
        "      * 'Plant identification': Evaluate the reason for the current decline in interest.\n",
        "      * Solar powered: Evaluate the reason for the overall slight decline in interest and the significance of the current increase in interest.\n",
        "\n",
        "**Links to Detailed Analysis:**\n",
        "* Trend analysis for moderate interest features: [Analysis Moderate Interest Features](#trends-moderate-features)\n",
        "* Visualizations for moderate interest features: [Visualization Moderate Interest Features](#features-moderate-visualizations)\n",
        "* Trend analysis for high interest features: [Analysis High Interest Features](#trends-high-features)\n",
        "* Visualizations for high interest features: [Visualization High Interest Features](#features-high-visualizations)\n",
        "* Trend analysis for critical interest features: [Analysis Critical Interest Features](#trends-critical-features)\n",
        "* Visualizatioins for critical interest features: [Visualization Critical Interest Features](#features-critical-visualizations)\n",
        "\n",
        "*Note:*\n",
        "\n",
        "Interest is measured on a scale of 0 to 100, reflecting the relative popularity of a search term compared to all other Google searches by location over a given week. A value of 100 indicates peak popularity for the selected timeframe (here data has been collected over 3 years) and location (here worldwide). For more detailed information, refer to the [Basics of Google Trends](https://newsinitiative.withgoogle.com/resources/trainings/google-trends/basics-of-google-trends/#:~:text=Indexing%3A%20Google%20Trends%20data%20is,the%20time%20and%20location%20selected.)\n"
      ],
      "metadata": {
        "id": "yCW3gYewwccD"
      }
    },
    {
      "cell_type": "markdown",
      "source": [
        "#### Interest Trend Analysis Results for Problems\n",
        "* Visualize and summarize results found in trend analysis for problems."
      ],
      "metadata": {
        "id": "_Buq_fy80WRZ"
      }
    },
    {
      "cell_type": "markdown",
      "source": [
        "**Visualization of Trends in all *Problems* Keywords**\n",
        "* This visualization focuses solely on the trend data for 'Monoculture in agriculture', as it was identified as the only relevant keyword within the *problems* category due to very low overall interest in other suggested keywords."
      ],
      "metadata": {
        "id": "AsBQwTd40f4S"
      }
    },
    {
      "cell_type": "code",
      "source": [
        "create_heatmaps([critical_relevance_df], ['Critical'], ['Problems',])"
      ],
      "metadata": {
        "id": "0IAMDYog1jFB"
      },
      "execution_count": null,
      "outputs": []
    },
    {
      "cell_type": "markdown",
      "source": [
        "**Insigths:**\n",
        "1. **Insights for 'Monoculture in agriculture':**\n",
        "  * This keyword is included in the analysis due to its highest ranking within the *problems* category, despite demonstrating low overall interest and no significant trends.\n",
        "  * Interest in 'Monoculture in agriculture' is typically zero to low, with occasional spikes indicated by a high standard deviation of 28 and a full range of values (0-100).\n",
        "  * In at least 75% of observations, there was no interest in this proposed problem.\n",
        "  * Despite the overall low interest, this keyword has achieved the maximum possible interest value of 100 at least once in the last 3 years, suggesting the potential for significant but short-lived spikes likely driven by external events.\n",
        "  * Linear regression analysis reveals no statistically significant trend, supporting the hypothesis of random spikes rather than a consistent pattern.\n",
        "  * As of June 23, 2024, interest was increasing, likely indicating another temporary spike rather than sustained growth.\n",
        "  * All interest spikes have occurred in the spring months, specifically February, suggesting a potential seasonal pattern.\n",
        "  * This keyword requires further evaluation before it can be considered for further analysis.\n",
        "\n",
        "**Recommended next steps:**\n",
        "  1. **Further Evaluation:**\n",
        "    * As a first step, simplify the keyword 'Monoculture in agriculture' to 'Monoculture' to potentially increase the number of search results and gain a broader perspective on interest levels.\n",
        "    * Compile a new list of problems, ensuring each proposed problem keyword consists of no more than three words.\n",
        "    * Repeat the analysis conducted here with the new list of problems.\n",
        "    * If the new list yields more relevant results, use those for further analysis.\n",
        "    * If the new list does not yield more relevant results, consider using 'Monoculture' for further analysis, but only after confirming the existence of either a significant upward trend in interest or sustained high interest.\n",
        "\n",
        "**Links to Detailed Analysis:**\n",
        "* Trend analysis for critical interest problems:[Analysis Critical Interest Problems](#trends-critical-problems)\n",
        "* Visualizatioins for critical interest features: [Visualization Critical Interest Problems](#problems-critical-visualizations)\n",
        "\n",
        "*Notes:*\n",
        "\n",
        "* Interest is measured on a scale of 0 to 100, reflecting the relative popularity of a search term compared to all other Google searches by location over a given week. A value of 100 indicates peak popularity for the selected timeframe (here data has been collected over 3 years) and location (here worldwide). For more detailed information, refer to the [Basics of Google Trends](https://newsinitiative.withgoogle.com/resources/trainings/google-trends/basics-of-google-trends/#:~:text=Indexing%3A%20Google%20Trends%20data%20is,the%20time%20and%20location%20selected.)\n",
        "* While the 'critical' keyword evaluated here has relatively low relevance to potential customers, it will still be included in further analysis to ensure comprehensive evaluation of all keyword groups. However, identifying alternative keywords with higher interest levels within this category would significantly enhance the value of subsequent analysis.\n",
        "\n",
        "\n",
        "\n",
        "\n",
        "\n",
        "\n",
        "\n",
        "\n"
      ],
      "metadata": {
        "id": "ni-i5klV6Mop"
      }
    },
    {
      "cell_type": "markdown",
      "source": [
        "#### Interest Trend Analysis Results for Needs\n",
        "* Visualize and summarize results found in trend analysis for needs."
      ],
      "metadata": {
        "id": "xdy30pQmOQrA"
      }
    },
    {
      "cell_type": "markdown",
      "source": [
        "**Visualization of Trends in all *Needs* Keywords**"
      ],
      "metadata": {
        "id": "Jx7GDZLoOf83"
      }
    },
    {
      "cell_type": "code",
      "source": [
        "create_heatmaps([moderate_relevance_df, high_relevance_df, critical_relevance_df_needs], ['Moderate', 'High', 'Critical'], ['Needs', 'Needs', 'Needs'])"
      ],
      "metadata": {
        "id": "T64DFa_yyJuJ"
      },
      "execution_count": null,
      "outputs": []
    },
    {
      "cell_type": "markdown",
      "source": [
        "**Insigths:**\n",
        "1. **Insights for 'Sustainable food production':**\n",
        "  * This need is classified as the only 'moderate' interest need in this group, with an average interest of 25 and a standard deviation of 10.\n",
        "  * Interest in 'Sustainable food production' has steadily increased at a rate of 5.85 units per year over the last 3 years.\n",
        "  * The average peak interest has more than doubled over the last 3 years.\n",
        "  * The lowest interest value (0) was observed in 2021; trough values have consistently increased since then and are now close to peak values.\n",
        "  * Currently, as of June 23, 2024, interest is at a moderate level of 25 and continues to grow.\n",
        "  * A seasonal pattern can be observed, with interest typically dropping in the summer months (July-September).\n",
        "2. **Insights for 'Educational AI':**\n",
        "  * This need is classified as the only 'high' relevance need in this category.\n",
        "  * Interest in 'Educational AI' has grown dramatically, increasing by 33.84 units over the last 3 years and continuing to grow.\n",
        "  * The highest peaks in interest have increased by the factor of 5 over the last 3 years.\n",
        "  * The observed rapid growth began in 2023, culminating in peak interest (100) in August 2024.\n",
        "  * Despite a slight decrease from 100 to 78 in the last two months (April and June), interest remains very high at 78 as of June 23, 2024.\n",
        "3. **Insights for 'Climate resilience':**\n",
        "  * This need is classified as the only need of 'critical' relevance in this group of keywords.\n",
        "  * Interest in 'Climate resilience' has grown consistently and rapidly at 18.02 units per year.\n",
        "  * Average yearly peak interest has more than doubled in the last three years (increase by 147%).\n",
        "  * The lowest observed interest (17 units) remians relatively high, and interest has increased throughout the entire measured period from June 2021 until June 2024.\n",
        "  * Both peak and baseline interest levels have increased, indicating sustained growth in interest.\n",
        "  * Currently, as of June 23, 2024, interest remains very high at 88 units and is still increasing.\n",
        "  * The absence of seasonal patterns suggests that overall increased awareness and concern are the primary drivers of interest, rather than external events.\n",
        "\n",
        "**Recommended next steps:**\n",
        "  1. **Customer Segmentation Analysis:**\n",
        "    * Features to consider for customer analysis, should either show sustained notable interest or a sustained growth in interest, needs to include in further analysis are:\n",
        "      * Sustainable food production: Consistently growing interest and moderate overall interest.\n",
        "      * Educational AI: Rapid growth and current very high interest.\n",
        "      * Climate resilience: Rapid growth, mature interest and currently very high interest.\n",
        "  2. **Prototype Development:**\n",
        "    * It is too early to definitively decide which needs to include in the prototype design. However, some needs that demonstrated particularly promising results in the trend analysis can be prioritized for consideration. These include:\n",
        "      * Educational AI: Rapidly growing interest and very high current interest.\n",
        "      * Climate resilience: Rapidly growing over the last 3 years, and very high current interest.\n",
        "  3. **Further Evaluation:**\n",
        "    * Educational AI: Evaluate the cause of rapid growth in interest in 'Educational AI', use this to predict if rapid growth is likely to continue.\n",
        "    * Climate resilience: Analyze the factors driving its rapid growth and predict future interest trends.\n",
        "\n",
        "**Links to Detailed Analysis:**\n",
        "* Trend analysis for moderate interest needs: [Analysis Moderate Interest Needs](#trends-moderate-needs)\n",
        "* Visualizations for moderate interest needs: [Visualization Moderate Interest Needs](#visualizations-moderate-needs)\n",
        "* Trend analysis for high interest needs: [Analysis High Interest Needs](#trends-high-needs)\n",
        "* Visualizations for high interest needs: [Visualization High Interest Needs](#visualizations-high-needs)\n",
        "* Trend analysis for critical interest needs: [Analysis Critical Interest Needs](#trends-critical-needs)\n",
        "* Visualizatioins for critical interest needs: [Visualization Critical Interest Needs](#visualizations-critical-needs)\n",
        "\n",
        "*Note:*\n",
        "\n",
        "Interest is measured on a scale of 0 to 100, reflecting the relative popularity of a search term compared to all other Google searches by location over a given week. A value of 100 indicates peak popularity for the selected timeframe (here data has been collected over 3 years) and location (here worldwide). For more detailed information, refer to the [Basics of Google Trends](https://newsinitiative.withgoogle.com/resources/trainings/google-trends/basics-of-google-trends/#:~:text=Indexing%3A%20Google%20Trends%20data%20is,the%20time%20and%20location%20selected.)\n"
      ],
      "metadata": {
        "id": "oBYhmJ-LWzX5"
      }
    },
    {
      "cell_type": "markdown",
      "source": [
        "<a name='contextual-exoloration-results'></a>\n",
        "### Contextual Exploration Results\n",
        "* Briefly evaluate how search suggestions for keywords relate to interest categories found.\n",
        "* Present broader interest categories that most relevant keywords fit into.\n",
        "* Visualize interest categories and their intersections, to determine overall most relevant interest category."
      ],
      "metadata": {
        "id": "f5PySXoiXQpR"
      }
    },
    {
      "cell_type": "markdown",
      "source": [
        "**Interactive Visualization of Keyword Relationships and Broader Categories**\n",
        "* Use a chord diagram to visualize relationships between keywords and broader interest categories.\n",
        "* Identify categories with many connections to determine key categories for customer segmentation analysis.\n",
        "* Identify clusters of related keywords that are associated with the same categories.\n",
        "* Visualize the areas of interest the prototype should address."
      ],
      "metadata": {
        "id": "tV-nvroTETwX"
      }
    },
    {
      "cell_type": "markdown",
      "source": [
        "**Data Preparation**\n",
        "* Create a representation of data that shows relationships between keywords and categories."
      ],
      "metadata": {
        "id": "Pg-s_2UxELG2"
      }
    },
    {
      "cell_type": "code",
      "source": [
        "# Annotate all dataframes with the related keyword and combine all into one dataframe\n",
        "keywords = ['Solar Powered', 'Plant Detection', 'Climate Resilience', 'Monoculture in Agriculture']\n",
        "dfs= [categories_solar_powered, categories_plant_detection, categories_climate_resilience, categories_monoculture_in_agriculture]\n",
        "\n",
        "# Add a new column to each of the dataframes indicating the associated keyword\n",
        "for i, (keyword, df) in enumerate(zip(keywords, dfs)):\n",
        "    df_copy = df.copy()  # Create a copy of the original dataframe\n",
        "    df_copy['keyword'] = keyword\n",
        "    dfs[i] = df_copy  # Update the dfs list with the modified DataFrame\n",
        "\n",
        "# Combine all dataframes into one\n",
        "combined_categories_df = pd.concat(dfs, ignore_index=True)\n",
        "combined_categories_df.head(3)\n"
      ],
      "metadata": {
        "id": "1L7Z2j3MMbx7"
      },
      "execution_count": null,
      "outputs": []
    },
    {
      "cell_type": "code",
      "source": [
        "# Create a dictionary to store node types\n",
        "node_types = {}\n",
        "\n",
        "# Extract all unique categories from the dataframes and mark them as 'Category'\n",
        "for category in combined_categories_df['category_name'].unique():\n",
        "    node_types[category] = 'Category'\n",
        "\n",
        "# Add parent categories to the node types dictionary and mark them as 'Category'\n",
        "for parent_categories in combined_categories_df['parent_categories']:\n",
        "    for parent in parent_categories:\n",
        "        node_types[parent] = 'Category'\n",
        "\n",
        "# Add the keywords to the node types dictionary and mark them as 'Keyword'\n",
        "for keyword in keywords:\n",
        "    node_types[keyword] = 'Keyword'\n",
        "node_types"
      ],
      "metadata": {
        "id": "vcPop9GiL7XV"
      },
      "execution_count": null,
      "outputs": []
    },
    {
      "cell_type": "code",
      "source": [
        "# Convert the node types dictionary to a DataFrame for easier processing\n",
        "node_types = pd.DataFrame(list(node_types.items()), columns=['Node', 'Type'])\n",
        "node_types.head(3)"
      ],
      "metadata": {
        "id": "QR4cutHbTgje"
      },
      "execution_count": null,
      "outputs": []
    },
    {
      "cell_type": "code",
      "source": [
        "# Create a list of node names for indexing\n",
        "node_names = node_types['Node'].tolist()\n",
        "node_names[:3]"
      ],
      "metadata": {
        "id": "iQU3qikOLjyn"
      },
      "execution_count": null,
      "outputs": []
    },
    {
      "cell_type": "code",
      "source": [
        "# Import numpy\n",
        "import numpy as np"
      ],
      "metadata": {
        "id": "KUkOtaEy1Wb5"
      },
      "execution_count": null,
      "outputs": []
    },
    {
      "cell_type": "code",
      "source": [
        "# Place all nodes in a square matrix to model relationships, initially all values are set to 0\n",
        "matrix_size = len(node_names)\n",
        "relation_matrix = pd.DataFrame(np.zeros((matrix_size, matrix_size)), index=node_names, columns=node_names)\n",
        "\n",
        "# Fill the matrix with relationships\n",
        "for index, row in combined_categories_df.iterrows():\n",
        "    category = row['category_name']\n",
        "    keyword = row['keyword']\n",
        "\n",
        "    # Ensure both category and keyword are present in nodes\n",
        "    if category in node_names and keyword in node_names:\n",
        "        relation_matrix.loc[category, keyword] = 1\n",
        "        relation_matrix.loc[keyword, category] = 1\n",
        "\n",
        "    # Link category to each parent category\n",
        "    for parent in row['parent_categories']:\n",
        "        if category in node_names and parent in node_names:\n",
        "            relation_matrix.loc[category, parent] = 1\n",
        "            relation_matrix.loc[parent, category] = 1\n",
        "relation_matrix.head(3)"
      ],
      "metadata": {
        "id": "1Kth7j0e0WfN"
      },
      "execution_count": null,
      "outputs": []
    },
    {
      "cell_type": "code",
      "source": [
        "# Import visualization libraries\n",
        "import holoviews as hv\n",
        "from holoviews import opts, dim"
      ],
      "metadata": {
        "id": "EiEPipJs3D4s"
      },
      "execution_count": null,
      "outputs": []
    },
    {
      "cell_type": "code",
      "source": [
        "# Initialize empty list to store relationships in\n",
        "edges = []"
      ],
      "metadata": {
        "id": "5xxw7dSB61if"
      },
      "execution_count": null,
      "outputs": []
    },
    {
      "cell_type": "code",
      "source": [
        "# Store all relationships as tuples of { source, target, weight, source_type, target_type } in a list\n",
        "for index, row in relation_matrix.iterrows():\n",
        "    for column, value in row.items():\n",
        "        if value == 1:\n",
        "          source_type = node_types.loc[node_types['Node'] == index, 'Type'].values[0]\n",
        "          target_type = node_types.loc[node_types['Node'] == column, 'Type'].values[0]\n",
        "          edges.append((index, column, value, source_type, target_type)) # Append a tuple of source, target and value(here boolean)\n",
        "\n",
        "# Convert to dataframe\n",
        "edges_df  = pd.DataFrame(edges, columns=['Source', 'Target', 'Link', 'SourceType', 'TargetType'])\n",
        "edges_df.tail(5)"
      ],
      "metadata": {
        "id": "Zm2dE_ls75Ai"
      },
      "execution_count": null,
      "outputs": []
    },
    {
      "cell_type": "markdown",
      "source": [
        "**Visualization**\n",
        "* Click on one of the nodes to see the categories and or keywords it is related to."
      ],
      "metadata": {
        "id": "pAK_V1dpLbPU"
      }
    },
    {
      "cell_type": "code",
      "source": [
        "# Enable rendering for holoview plots\n",
        "%env HV_DOC_HTML=true"
      ],
      "metadata": {
        "id": "kDpnNfSqAzPb"
      },
      "execution_count": null,
      "outputs": []
    },
    {
      "cell_type": "code",
      "source": [
        "# Create HoloViews Dataset for edges\n",
        "hv_data = hv.Dataset(edges_df, ['Source', 'Target'], 'Link')"
      ],
      "metadata": {
        "id": "wyDTNdWV8zjo"
      },
      "execution_count": null,
      "outputs": []
    },
    {
      "cell_type": "code",
      "source": [
        "# Create a HoloViews Dataset for nodes\n",
        "hv_nodes = hv.Dataset(node_types, 'Node', 'Type')"
      ],
      "metadata": {
        "id": "A2s5YEcBYmWG"
      },
      "execution_count": null,
      "outputs": []
    },
    {
      "cell_type": "code",
      "source": [
        "# Enable bokeh extention\n",
        "hv.extension('bokeh')\n",
        "\n",
        "# Define a color map for node types\n",
        "color_map = {'Keyword': '#d9b3ff', 'Category': '#a0d9d9'}\n",
        "\n",
        "# Create the chord diagram\n",
        "chord = hv.Chord((hv_data, hv_nodes)).opts(\n",
        "    opts.Chord(\n",
        "        labels='Node',\n",
        "        node_color=dim('Type').categorize(color_map),  # Color nodes based on their type\n",
        "        edge_color='Source',  # Color edges based on their source\n",
        "        edge_cmap='Sunset',\n",
        "        edge_alpha=0.7,  # Set edge transparency\n",
        "        node_alpha=1.0,  # Set node transparency\n",
        "        width=800,  # Width of the plot\n",
        "        height=800,  # Height of the plot\n",
        "        title='Keyword and Categories Relationships',\n",
        "        fontsize={'title': 16},  # Set title font size,\n",
        "        node_size=11,\n",
        "\n",
        "    )\n",
        ")\n",
        "\n",
        "\n",
        "# Display the chord diagram\n",
        "chord"
      ],
      "metadata": {
        "id": "MkRw0v1n-SI9"
      },
      "execution_count": null,
      "outputs": []
    },
    {
      "cell_type": "markdown",
      "source": [
        "**Insigths:**\n",
        "1. **Insights for 'Solar powered':**\n",
        "  * Google search suggestions for 'Solar powered' span both specific products and broader energy concepts, indicating a diverse audience with varied interests.\n",
        " * The most relevant categories for this proposed feature, 'Energy & Utilities', 'Renewable & Alternative Energy', and 'Nuclear Energy', suggest motivations ranging from product research to broader energy concerns and interests.\n",
        " * This diverse audience, ranging from those seeking practical solar-powered solutions to those interested in broader energy concepts, presents an opportunity to develop a solar-powered prototype with educational content. This content could address both practical needs (product operation) and informational needs (solar energy benefits, comparisons with other energy sources, and solar power conversion).\n",
        "\n",
        "**Recommended next steps:**\n",
        "1. **Customer Segmentation Analysis:**\n",
        "    * Keywords to consider for customer analysis, should have a broad audience and be searched within a context relevant to the prototype. Keywords that meet these requirements are:\n",
        "      * Solar powered: Potential customers show interest in both renewable energy solutions and specific solar-powered products.\n",
        "  2. **Prototype Development:**\n",
        "    * It is too early to definitively decide what to include in the prototype design process. However, some keywords that showed particularly promising results in the contextual analysis can be prioritized for consideration.\n",
        "      * Solar powered: High and broad demand and interest in solar-powered products as well as educational ressources.\n",
        "  3. **Further Evaluation:**\n",
        "  \n",
        "\n",
        "**Links to Detailed Analysis:**\n",
        "* Exploration of search suggestions and categorization : [Exploration of Interest Context](#categories)\n",
        "\n",
        "*Notes:*\n",
        "\n",
        "* Only the keywords classified as 'critical' out of the *features*, *problems* and *needs* analysis were considered for this exploration.\n",
        "* Suggestions were found by querying the Google Trends API, and correlate to the terms that would appear if you'd use the search-bar in the Google Search intereface (without the personalization). They are predictions that Google makes based on frequently searched terms. This provides insight into popular user queries and interests related to a search-term.\n",
        "* Categories listed here are the same categories that Google Search uses to categorize search-queries. Google uses a nested dictionary to classify search-terms into categories.\n",
        "* This is just an exploration of the context of searches, further contextual analysis for all relevant keywords is required to get more definitive insights about the target audience."
      ],
      "metadata": {
        "id": "w1Wgz6Sk-clD"
      }
    },
    {
      "cell_type": "code",
      "source": [],
      "metadata": {
        "id": "C0QiVL-HlRMr"
      },
      "execution_count": null,
      "outputs": []
    }
  ],
  "metadata": {
    "colab": {
      "provenance": [],
      "authorship_tag": "ABX9TyNAkM1iBnDkqviUknviyByz",
      "include_colab_link": true
    },
    "kernelspec": {
      "display_name": "Python 3",
      "name": "python3"
    },
    "language_info": {
      "name": "python"
    }
  },
  "nbformat": 4,
  "nbformat_minor": 0
}