{
  "nbformat": 4,
  "nbformat_minor": 0,
  "metadata": {
    "colab": {
      "provenance": [],
      "authorship_tag": "ABX9TyM0xCeEeomi6e/Z0ZuSt2vE",
      "include_colab_link": true
    },
    "kernelspec": {
      "name": "python3",
      "display_name": "Python 3"
    },
    "language_info": {
      "name": "python"
    }
  },
  "cells": [
    {
      "cell_type": "markdown",
      "metadata": {
        "id": "view-in-github",
        "colab_type": "text"
      },
      "source": [
        "<a href=\"https://colab.research.google.com/github/alexhosp/startup-viability-analysis/blob/main/customer-segmentation/01_data_collection.ipynb\" target=\"_parent\"><img src=\"https://colab.research.google.com/assets/colab-badge.svg\" alt=\"Open In Colab\"/></a>"
      ]
    },
    {
      "cell_type": "markdown",
      "source": [
        "# Data Collection for Customer Segmentation\n",
        "## Introduction\n",
        "This notebook focuses on collecting data to identify and segment potential customers for a proposed AI-driven gardening robot startup. We will use multiple APIs to gather data from sources such as Google Trends, Twitter, Reddit, Google Custom Search, Kaggle, Google Dataset Search, and UCI Machine Learning Repository. All raw data will be stored in Google Cloud Storage (GCS).\n",
        "## Steps\n",
        "1. [Setup and GCS Configuration](#setup-and-gcs-configuration)\n",
        "2. Definition of Initial Keywords\n",
        "3. API Authentication and Configuration\n",
        "4. Defining Data Collection Functions\n",
        "* Google Trends API\n",
        "* Twitter API\n",
        "* Reddit API\n",
        "* Google Custom Search API\n",
        "5. Executing Data Collection Functions\n",
        "6. Storing Data in GCS\n",
        "7. Semantic Expansion of Keywords\n",
        "8. Definition of Additional Keywords\n",
        "9. Defining Data Collection Functions for Structured Data\n",
        "* Kaggle API\n",
        "* Google Dataset Search API\n",
        "* UCI Machine Learning Repository API\n",
        "10. Executing Data Collection for Additional Data\n",
        "11. Iterative Data Collection\n"
      ],
      "metadata": {
        "id": "UtjStLqxuEAP"
      }
    },
    {
      "cell_type": "markdown",
      "source": [
        "<a name=\"setup-and-gcs-configuration\"></a>\n",
        "## Setup and GCS Configuration\n",
        "In this section, we will install necessary packages, import libraries, and configure Google Cloud Storage (GCS)."
      ],
      "metadata": {
        "id": "HVCo6X0txFoR"
      }
    },
    {
      "cell_type": "code",
      "source": [],
      "metadata": {
        "id": "UYICLjpbyj2v"
      },
      "execution_count": null,
      "outputs": []
    }
  ]
}